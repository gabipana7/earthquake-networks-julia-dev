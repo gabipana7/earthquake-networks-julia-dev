{
 "cells": [
  {
   "cell_type": "code",
   "execution_count": 1,
   "metadata": {},
   "outputs": [
    {
     "data": {
      "text/plain": [
       "add_properties (generic function with 1 method)"
      ]
     },
     "metadata": {},
     "output_type": "display_data"
    }
   ],
   "source": [
    "using CSV, DataFrames\n",
    "using FileIO, Dates\n",
    "using DelimitedFiles\n",
    "\n",
    "include(\"../region_cube_split/cubes.jl\")\n",
    "include(\"../region_network_create/network.jl\")"
   ]
  },
  {
   "cell_type": "code",
   "execution_count": 2,
   "metadata": {},
   "outputs": [],
   "source": [
    "romania_full = CSV.read(\"../data/romania.csv\", DataFrame);\n",
    "romania = romania_full[romania_full.Datetime .> DateTime(1976,1,1,0,0,0),:];\n",
    "\n",
    "vrancea = romania[(romania.Latitude .>= 45.20) .& (romania.Latitude .<= 46.0) .& \n",
    "                    (romania.Longitude .>= 26.0) .& (romania.Longitude .<= 27.0) .&\n",
    "                    (romania.Depth .>= 50.0) .& (romania.Depth .<= 200.0), :];"
   ]
  },
  {
   "cell_type": "code",
   "execution_count": 3,
   "metadata": {},
   "outputs": [],
   "source": [
    "vrancea, vrancea_cubes = region_cube_split(vrancea,side=5,energyRelease=true);"
   ]
  },
  {
   "cell_type": "code",
   "execution_count": 4,
   "metadata": {},
   "outputs": [
    {
     "data": {
      "text/plain": [
       "{1727, 7612} undirected Int64 metagraph with Float64 weights defined by :weight (default weight 1.0)"
      ]
     },
     "metadata": {},
     "output_type": "display_data"
    }
   ],
   "source": [
    "MG = create_network(vrancea, vrancea_cubes; edgeWeight=true)\n",
    "# MG = add_properties(MG, vrancea_cubes)"
   ]
  },
  {
   "cell_type": "code",
   "execution_count": 5,
   "metadata": {},
   "outputs": [
    {
     "data": {
      "text/plain": [
       "\"Triangle\""
      ]
     },
     "metadata": {},
     "output_type": "display_data"
    }
   ],
   "source": [
    "motif = \"Triangle\"\n",
    "# motif = \"Tetrahedron\""
   ]
  },
  {
   "cell_type": "code",
   "execution_count": 6,
   "metadata": {},
   "outputs": [
    {
     "data": {
      "text/plain": [
       "\"./motifsTriangle_vrancea_5km.csv\""
      ]
     },
     "metadata": {},
     "output_type": "display_data"
    }
   ],
   "source": [
    "filename= \"./motifs\" * motif * \"_vrancea_5km.csv\""
   ]
  },
  {
   "cell_type": "code",
   "execution_count": 7,
   "metadata": {},
   "outputs": [],
   "source": [
    "# motifs = CSV.read(filename, DataFrame;header=false)\n",
    "\n",
    "# Creates a matrix: number of motifs x motif nodes (3 for triangles, 4 for tetrahedrons)\n",
    "motifs = readdlm(filename, ',', Int64);\n",
    "motifs;\n"
   ]
  },
  {
   "cell_type": "code",
   "execution_count": 8,
   "metadata": {},
   "outputs": [],
   "source": [
    "# Calculate total energy and mean energy only for cubes that are part of motifs\n",
    "# This is done to reduce calculations. I do not need to calculate these for each motif\n",
    "# (because, nodes are repeated in motifs.)\n",
    "# (I calculate separately, then I just add them up for each motif)\n",
    "\n",
    "# Get all the cubes, uniquely\n",
    "vec_motifs = unique!(vec(motifs));\n",
    "\n",
    "# Will apend to a dictionary: cubeIndex => [totalEnergy, meanEnergy]\n",
    "cube_energy = Dict()\n",
    "for value in vec_motifs\n",
    "    # Get the cube from df_cubes\n",
    "    respective_cube = vrancea_cubes.cubeIndex[value]\n",
    "    # Use the cube to get all the quakes in that cube from df\n",
    "    quakesInNode = vrancea[vrancea.cubeIndex .== respective_cube,:];\n",
    "\n",
    "    # Calculate total energy and mean energy\n",
    "    totalEnergy = sum(quakesInNode.energyRelease)\n",
    "    meanEnergy = totalEnergy / length(quakesInNode.energyRelease)\n",
    "\n",
    "    # Push to dictionary\n",
    "    cube_energy[value] = [totalEnergy, meanEnergy]\n",
    "end"
   ]
  },
  {
   "cell_type": "code",
   "execution_count": 9,
   "metadata": {},
   "outputs": [],
   "source": [
    "# Caclulate total energy and mean energy per each motif\n",
    "motif_energy = Dict()\n",
    "for i=1:length(motifs[:,1])\n",
    "    # initialize with zero\n",
    "    total_energy_in_motif=0\n",
    "    mean_energy_in_motif=0\n",
    "    # parse each motif (3 elements for Triangles, 4 for Tetrahedrons)\n",
    "    for j=1:length(motifs[1,:])\n",
    "        # add to total energy and mean energy\n",
    "        total_energy_in_motif += cube_energy[motifs[i,j]][1] \n",
    "        mean_energy_in_motif += cube_energy[motifs[i,j]][2]  \n",
    "    end\n",
    "    # Add to dictionary\n",
    "    motif_energy[i] = [total_energy_in_motif,mean_energy_in_motif]\n",
    "end"
   ]
  },
  {
   "cell_type": "code",
   "execution_count": 10,
   "metadata": {},
   "outputs": [
    {
     "data": {
      "text/plain": [
       "Dict{Any, Any} with 2312 entries:\n",
       "  1144 => [1.06164e12, 4.3573e10]\n",
       "  2108 => [3.06265e12, 1.03199e11]\n",
       "  1175 => [3.11695e12, 1.12903e11]\n",
       "  1953 => [2.19417e12, 8.58461e10]\n",
       "  719  => [4.99602e11, 4.36058e10]\n",
       "  1546 => [1.3779e12, 6.83807e10]\n",
       "  1703 => [6.48054e12, 1.74651e11]\n",
       "  1956 => [2.49914e12, 1.37161e11]\n",
       "  2261 => [3.07928e12, 9.16835e10]\n",
       "  2288 => [6.98603e12, 1.94934e11]\n",
       "  1028 => [9.37478e11, 5.65458e10]\n",
       "  699  => [2.09455e12, 6.99485e10]\n",
       "  831  => [1.03681e12, 3.69834e10]\n",
       "  1299 => [1.29191e12, 8.8249e10]\n",
       "  1438 => [1.2565e12, 8.09358e10]\n",
       "  1074 => [1.58424e12, 5.54168e10]\n",
       "  319  => [4.62493e12, 1.27889e11]\n",
       "  687  => [1.14613e12, 1.0504e11]\n",
       "  1812 => [3.50642e12, 1.46098e11]\n",
       "  ⋮    => ⋮"
      ]
     },
     "metadata": {},
     "output_type": "display_data"
    }
   ],
   "source": [
    "motif_energy"
   ]
  },
  {
   "cell_type": "code",
   "execution_count": 11,
   "metadata": {},
   "outputs": [],
   "source": []
  },
  {
   "cell_type": "code",
   "execution_count": 12,
   "metadata": {},
   "outputs": [],
   "source": []
  },
  {
   "cell_type": "code",
   "execution_count": 13,
   "metadata": {},
   "outputs": [],
   "source": [
    "using Geodesy"
   ]
  },
  {
   "attachments": {},
   "cell_type": "markdown",
   "metadata": {},
   "source": [
    "## AREAS"
   ]
  },
  {
   "cell_type": "code",
   "execution_count": 14,
   "metadata": {},
   "outputs": [],
   "source": [
    "areas = Dict()\n",
    "zeros=[]\n",
    "for i=1:length(motifs[:,1])\n",
    "    x = Vector{Any}(undef,3)\n",
    "    for j=1:3\n",
    "\n",
    "        lat = vrancea_cubes.cubeLatitude[motifs[i,j]]\n",
    "        lon = vrancea_cubes.cubeLongitude[motifs[i,j]]\n",
    "        dep = vrancea_cubes.cubeDepth[motifs[i,j]]\n",
    "\n",
    "        x[j] = LLA(lat,lon,-1000*dep)\n",
    "\n",
    "    end\n",
    "\n",
    "    a = Geodesy.euclidean_distance(x[1],x[2]) / 1000\n",
    "    b = Geodesy.euclidean_distance(x[2],x[3]) / 1000\n",
    "    c = Geodesy.euclidean_distance(x[1],x[3]) / 1000;\n",
    "\n",
    "    # calculate semiperimeter\n",
    "    sp = (a+b+c)/2\n",
    "            \n",
    "    # Use Heron's formula Area = sqrt(semiperimeter(sp-a)(sp-b)(sp-c))\n",
    "    # We have the areas of the triangle, append them to lists ! \n",
    "\n",
    "    A = sqrt(abs(sp*(sp-a)*(sp-b)*(sp-c)))\n",
    "    if A == 0\n",
    "        push!(zeros,i)\n",
    "    end\n",
    "\n",
    "    areas[i] = A\n",
    "end"
   ]
  },
  {
   "cell_type": "code",
   "execution_count": null,
   "metadata": {},
   "outputs": [],
   "source": []
  },
  {
   "cell_type": "code",
   "execution_count": null,
   "metadata": {},
   "outputs": [],
   "source": []
  },
  {
   "attachments": {},
   "cell_type": "markdown",
   "metadata": {},
   "source": [
    "## VOLUMES"
   ]
  },
  {
   "cell_type": "code",
   "execution_count": 126,
   "metadata": {},
   "outputs": [
    {
     "data": {
      "text/plain": [
       "\"./motifsTetrahedron_vrancea_5km.csv\""
      ]
     },
     "metadata": {},
     "output_type": "display_data"
    }
   ],
   "source": [
    "filename=\"./motifsTetrahedron_vrancea_5km.csv\""
   ]
  },
  {
   "cell_type": "code",
   "execution_count": 128,
   "metadata": {},
   "outputs": [],
   "source": [
    "# motifs = CSV.read(filename, DataFrame;header=false)\n",
    "\n",
    "# Creates a matrix: number of motifs x motif nodes (3 for triangles, 4 for tetrahedrons)\n",
    "motifs = readdlm(filename, ',', Int64);\n",
    "motifs;\n"
   ]
  },
  {
   "attachments": {},
   "cell_type": "markdown",
   "metadata": {},
   "source": [
    "### Volumes"
   ]
  },
  {
   "cell_type": "code",
   "execution_count": 130,
   "metadata": {},
   "outputs": [],
   "source": [
    "volumes = Dict()\n",
    "for i=1:length(motifs[:,1])\n",
    "    x = Vector{Any}(undef,4)\n",
    "    for j=1:4\n",
    "\n",
    "        lat = vrancea_cubes.cubeLatitude[motifs[i,j]]\n",
    "        lon = vrancea_cubes.cubeLongitude[motifs[i,j]]\n",
    "        dep = vrancea_cubes.cubeDepth[motifs[i,j]]\n",
    "\n",
    "        x[j] = LLA(lat,lon,-dep)\n",
    "\n",
    "    end\n",
    "\n",
    "    W = Geodesy.euclidean_distance(x[1],x[2]) / 1000\n",
    "    V = Geodesy.euclidean_distance(x[2],x[3]) / 1000\n",
    "    U = Geodesy.euclidean_distance(x[1],x[3]) / 1000\n",
    "    u = Geodesy.euclidean_distance(x[2],x[4]) / 1000\n",
    "    v = Geodesy.euclidean_distance(x[1],x[4]) / 1000\n",
    "    w = Geodesy.euclidean_distance(x[3],x[4]) / 1000\n",
    "\n",
    "    # calculate elements that go into elements that go into Heron formula\n",
    "    A = (w-U+v)*(U+v+w)\n",
    "    B = (u-V+w)*(V+w+u)\n",
    "    C = (v-W+u)*(W+u+v)\n",
    "    \n",
    "    a = (U-v+w)*(v-w+U)\n",
    "    b = (V-w+u)*(w-u+V)\n",
    "    c = (W-u+v)*(u-v+W)\n",
    "\n",
    "    # elements that go into Heron formula\n",
    "    p = sqrt(abs(a*B*C))\n",
    "    q = sqrt(abs(b*C*A))\n",
    "    r = sqrt(abs(c*A*B))\n",
    "    s = sqrt(abs(a*b*c))\n",
    "            \n",
    "    # Use Heron's formula Area = sqrt(semiperimeter(sp-a)(sp-b)(sp-c))\n",
    "    # We have the areas of the triangle, append them to lists ! \n",
    "\n",
    "    V = sqrt(abs((-p+q+r+s)*(p-q+r+s)*(p+q-r+s)*(p+q+r-s)))/(192*u*v*w)\n",
    "\n",
    "    volumes[i] = V\n",
    "end"
   ]
  },
  {
   "cell_type": "code",
   "execution_count": 131,
   "metadata": {},
   "outputs": [
    {
     "data": {
      "text/plain": [
       "Dict{Any, Any} with 21977 entries:\n",
       "  11950 => 1.023\n",
       "  1703  => 1.07235\n",
       "  12427 => 1.54003\n",
       "  7685  => 0.225364\n",
       "  18374 => 0.159408\n",
       "  3406  => 0.247584\n",
       "  1090  => 0.588097\n",
       "  2015  => 0.54375\n",
       "  18139 => 1.53502\n",
       "  17088 => 0.174772\n",
       "  11280 => 0.139509\n",
       "  16805 => 1.13957\n",
       "  3220  => 0.661264\n",
       "  11251 => 0.614917\n",
       "  422   => 0.206537\n",
       "  15370 => 0.0909343\n",
       "  15859 => 0.255473\n",
       "  4030  => 0.231534\n",
       "  8060  => 0.156393\n",
       "  ⋮     => ⋮"
      ]
     },
     "metadata": {},
     "output_type": "display_data"
    }
   ],
   "source": [
    "volumes"
   ]
  },
  {
   "cell_type": "code",
   "execution_count": null,
   "metadata": {},
   "outputs": [],
   "source": []
  },
  {
   "cell_type": "code",
   "execution_count": 136,
   "metadata": {},
   "outputs": [
    {
     "data": {
      "text/plain": [
       "power_law (generic function with 1 method)"
      ]
     },
     "metadata": {},
     "output_type": "display_data"
    }
   ],
   "source": [
    "# Define the function to do the regression with \n",
    "function power_law(x, a, b)\n",
    "    return a*x^-b\n",
    "end"
   ]
  },
  {
   "cell_type": "code",
   "execution_count": null,
   "metadata": {},
   "outputs": [],
   "source": []
  }
 ],
 "metadata": {
  "kernelspec": {
   "display_name": "Julia 1.8.5",
   "language": "julia",
   "name": "julia-1.8"
  },
  "language_info": {
   "file_extension": ".jl",
   "mimetype": "application/julia",
   "name": "julia",
   "version": "1.8.5"
  },
  "orig_nbformat": 4,
  "vscode": {
   "interpreter": {
    "hash": "0f70a35dd2b85e0fbdf740964da3dda7ef418e2ba19e1da9e3dbc65ae5d9559a"
   }
  }
 },
 "nbformat": 4,
 "nbformat_minor": 2
}
