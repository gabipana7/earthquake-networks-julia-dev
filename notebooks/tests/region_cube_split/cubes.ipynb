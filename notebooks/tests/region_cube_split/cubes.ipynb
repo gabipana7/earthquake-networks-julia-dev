{
 "cells": [
  {
   "cell_type": "code",
   "execution_count": 1,
   "metadata": {},
   "outputs": [],
   "source": [
    "using CSV, DataFrames, Dates\n",
    "using FileIO\n",
    "using Geodesy"
   ]
  },
  {
   "cell_type": "code",
   "execution_count": 2,
   "metadata": {},
   "outputs": [
    {
     "data": {
      "text/html": [
       "<div><div style = \"float: left;\"><span>31383×5 DataFrame</span></div><div style = \"float: right;\"><span style = \"font-style: italic;\">31358 rows omitted</span></div><div style = \"clear: both;\"></div></div><div class = \"data-frame\" style = \"overflow-x: scroll;\"><table class = \"data-frame\" style = \"margin-bottom: 6px;\"><thead><tr class = \"header\"><th class = \"rowNumber\" style = \"font-weight: bold; text-align: right;\">Row</th><th style = \"text-align: left;\">Datetime</th><th style = \"text-align: left;\">Latitude</th><th style = \"text-align: left;\">Longitude</th><th style = \"text-align: left;\">Depth</th><th style = \"text-align: left;\">Magnitude</th></tr><tr class = \"subheader headerLastRow\"><th class = \"rowNumber\" style = \"font-weight: bold; text-align: right;\"></th><th title = \"DateTime\" style = \"text-align: left;\">DateTime</th><th title = \"Float64\" style = \"text-align: left;\">Float64</th><th title = \"Float64\" style = \"text-align: left;\">Float64</th><th title = \"Float64\" style = \"text-align: left;\">Float64</th><th title = \"Float64\" style = \"text-align: left;\">Float64</th></tr></thead><tbody><tr><td class = \"rowNumber\" style = \"font-weight: bold; text-align: right;\">1</td><td style = \"text-align: left;\">1976-02-03T13:29:16.400</td><td style = \"text-align: right;\">45.32</td><td style = \"text-align: right;\">25.99</td><td style = \"text-align: right;\">184.3</td><td style = \"text-align: right;\">2.6</td></tr><tr><td class = \"rowNumber\" style = \"font-weight: bold; text-align: right;\">2</td><td style = \"text-align: left;\">1976-08-19T19:03:00.800</td><td style = \"text-align: right;\">45.54</td><td style = \"text-align: right;\">26.37</td><td style = \"text-align: right;\">162.0</td><td style = \"text-align: right;\">2.3</td></tr><tr><td class = \"rowNumber\" style = \"font-weight: bold; text-align: right;\">3</td><td style = \"text-align: left;\">1976-09-07T17:38:08.200</td><td style = \"text-align: right;\">45.62</td><td style = \"text-align: right;\">26.5</td><td style = \"text-align: right;\">155.3</td><td style = \"text-align: right;\">3.6</td></tr><tr><td class = \"rowNumber\" style = \"font-weight: bold; text-align: right;\">4</td><td style = \"text-align: left;\">1976-10-01T17:50:43.200</td><td style = \"text-align: right;\">45.68</td><td style = \"text-align: right;\">26.49</td><td style = \"text-align: right;\">146.0</td><td style = \"text-align: right;\">6.0</td></tr><tr><td class = \"rowNumber\" style = \"font-weight: bold; text-align: right;\">5</td><td style = \"text-align: left;\">1976-10-15T10:54:48</td><td style = \"text-align: right;\">47.1</td><td style = \"text-align: right;\">25.6</td><td style = \"text-align: right;\">17.0</td><td style = \"text-align: right;\">3.9</td></tr><tr><td class = \"rowNumber\" style = \"font-weight: bold; text-align: right;\">6</td><td style = \"text-align: left;\">1977-03-04T19:21:54.100</td><td style = \"text-align: right;\">45.77</td><td style = \"text-align: right;\">26.76</td><td style = \"text-align: right;\">94.0</td><td style = \"text-align: right;\">7.4</td></tr><tr><td class = \"rowNumber\" style = \"font-weight: bold; text-align: right;\">7</td><td style = \"text-align: left;\">1977-03-04T21:21:01.100</td><td style = \"text-align: right;\">45.22</td><td style = \"text-align: right;\">26.65</td><td style = \"text-align: right;\">141.0</td><td style = \"text-align: right;\">3.0</td></tr><tr><td class = \"rowNumber\" style = \"font-weight: bold; text-align: right;\">8</td><td style = \"text-align: left;\">1977-03-04T21:28:07.400</td><td style = \"text-align: right;\">45.23</td><td style = \"text-align: right;\">26.87</td><td style = \"text-align: right;\">22.0</td><td style = \"text-align: right;\">1.5</td></tr><tr><td class = \"rowNumber\" style = \"font-weight: bold; text-align: right;\">9</td><td style = \"text-align: left;\">1977-03-04T23:17:14</td><td style = \"text-align: right;\">45.0</td><td style = \"text-align: right;\">27.2</td><td style = \"text-align: right;\">33.0</td><td style = \"text-align: right;\">2.5</td></tr><tr><td class = \"rowNumber\" style = \"font-weight: bold; text-align: right;\">10</td><td style = \"text-align: left;\">1977-03-05T00:00:45.900</td><td style = \"text-align: right;\">45.48</td><td style = \"text-align: right;\">27.09</td><td style = \"text-align: right;\">104.2</td><td style = \"text-align: right;\">4.2</td></tr><tr><td class = \"rowNumber\" style = \"font-weight: bold; text-align: right;\">11</td><td style = \"text-align: left;\">1977-03-05T00:08:37.700</td><td style = \"text-align: right;\">45.4</td><td style = \"text-align: right;\">27.16</td><td style = \"text-align: right;\">22.2</td><td style = \"text-align: right;\">3.0</td></tr><tr><td class = \"rowNumber\" style = \"font-weight: bold; text-align: right;\">12</td><td style = \"text-align: left;\">1977-03-05T00:13:04</td><td style = \"text-align: right;\">45.5</td><td style = \"text-align: right;\">27.2</td><td style = \"text-align: right;\">77.0</td><td style = \"text-align: right;\">3.2</td></tr><tr><td class = \"rowNumber\" style = \"font-weight: bold; text-align: right;\">13</td><td style = \"text-align: left;\">1977-03-05T00:47:55.100</td><td style = \"text-align: right;\">45.37</td><td style = \"text-align: right;\">27.31</td><td style = \"text-align: right;\">20.7</td><td style = \"text-align: right;\">2.3</td></tr><tr><td style = \"text-align: right;\">&vellip;</td><td style = \"text-align: right;\">&vellip;</td><td style = \"text-align: right;\">&vellip;</td><td style = \"text-align: right;\">&vellip;</td><td style = \"text-align: right;\">&vellip;</td><td style = \"text-align: right;\">&vellip;</td></tr><tr><td class = \"rowNumber\" style = \"font-weight: bold; text-align: right;\">31372</td><td style = \"text-align: left;\">2022-12-26T13:48:35.860</td><td style = \"text-align: right;\">47.28</td><td style = \"text-align: right;\">23.8104</td><td style = \"text-align: right;\">2.0</td><td style = \"text-align: right;\">2.0</td></tr><tr><td class = \"rowNumber\" style = \"font-weight: bold; text-align: right;\">31373</td><td style = \"text-align: left;\">2022-12-27T16:00:52.890</td><td style = \"text-align: right;\">45.5211</td><td style = \"text-align: right;\">26.4184</td><td style = \"text-align: right;\">110.2</td><td style = \"text-align: right;\">2.5</td></tr><tr><td class = \"rowNumber\" style = \"font-weight: bold; text-align: right;\">31374</td><td style = \"text-align: left;\">2022-12-28T07:38:54.270</td><td style = \"text-align: right;\">45.7505</td><td style = \"text-align: right;\">26.6086</td><td style = \"text-align: right;\">85.2</td><td style = \"text-align: right;\">2.9</td></tr><tr><td class = \"rowNumber\" style = \"font-weight: bold; text-align: right;\">31375</td><td style = \"text-align: left;\">2022-12-28T13:15:05.470</td><td style = \"text-align: right;\">46.3193</td><td style = \"text-align: right;\">23.1806</td><td style = \"text-align: right;\">2.0</td><td style = \"text-align: right;\">1.9</td></tr><tr><td class = \"rowNumber\" style = \"font-weight: bold; text-align: right;\">31376</td><td style = \"text-align: left;\">2022-12-29T02:06:28.320</td><td style = \"text-align: right;\">45.6714</td><td style = \"text-align: right;\">26.6291</td><td style = \"text-align: right;\">134.0</td><td style = \"text-align: right;\">2.8</td></tr><tr><td class = \"rowNumber\" style = \"font-weight: bold; text-align: right;\">31377</td><td style = \"text-align: left;\">2022-12-29T09:28:11.270</td><td style = \"text-align: right;\">45.2972</td><td style = \"text-align: right;\">25.093</td><td style = \"text-align: right;\">2.0</td><td style = \"text-align: right;\">1.5</td></tr><tr><td class = \"rowNumber\" style = \"font-weight: bold; text-align: right;\">31378</td><td style = \"text-align: left;\">2022-12-29T09:42:33.920</td><td style = \"text-align: right;\">45.9596</td><td style = \"text-align: right;\">22.6972</td><td style = \"text-align: right;\">3.3</td><td style = \"text-align: right;\">1.6</td></tr><tr><td class = \"rowNumber\" style = \"font-weight: bold; text-align: right;\">31379</td><td style = \"text-align: left;\">2022-12-29T12:16:03.080</td><td style = \"text-align: right;\">46.3226</td><td style = \"text-align: right;\">23.1438</td><td style = \"text-align: right;\">1.0</td><td style = \"text-align: right;\">1.7</td></tr><tr><td class = \"rowNumber\" style = \"font-weight: bold; text-align: right;\">31380</td><td style = \"text-align: left;\">2022-12-29T13:11:43.570</td><td style = \"text-align: right;\">45.4378</td><td style = \"text-align: right;\">24.1116</td><td style = \"text-align: right;\">11.7</td><td style = \"text-align: right;\">2.1</td></tr><tr><td class = \"rowNumber\" style = \"font-weight: bold; text-align: right;\">31381</td><td style = \"text-align: left;\">2022-12-30T14:23:49.390</td><td style = \"text-align: right;\">45.4639</td><td style = \"text-align: right;\">24.1433</td><td style = \"text-align: right;\">14.0</td><td style = \"text-align: right;\">1.7</td></tr><tr><td class = \"rowNumber\" style = \"font-weight: bold; text-align: right;\">31382</td><td style = \"text-align: left;\">2022-12-31T03:16:48.320</td><td style = \"text-align: right;\">45.4082</td><td style = \"text-align: right;\">24.134</td><td style = \"text-align: right;\">18.2</td><td style = \"text-align: right;\">1.7</td></tr><tr><td class = \"rowNumber\" style = \"font-weight: bold; text-align: right;\">31383</td><td style = \"text-align: left;\">2022-12-31T15:24:39.550</td><td style = \"text-align: right;\">45.0022</td><td style = \"text-align: right;\">22.6597</td><td style = \"text-align: right;\">4.5</td><td style = \"text-align: right;\">2.1</td></tr></tbody></table></div>"
      ],
      "text/latex": [
       "\\begin{tabular}{r|ccccc}\n",
       "\t& Datetime & Latitude & Longitude & Depth & Magnitude\\\\\n",
       "\t\\hline\n",
       "\t& DateTime & Float64 & Float64 & Float64 & Float64\\\\\n",
       "\t\\hline\n",
       "\t1 & 1976-02-03T13:29:16.400 & 45.32 & 25.99 & 184.3 & 2.6 \\\\\n",
       "\t2 & 1976-08-19T19:03:00.800 & 45.54 & 26.37 & 162.0 & 2.3 \\\\\n",
       "\t3 & 1976-09-07T17:38:08.200 & 45.62 & 26.5 & 155.3 & 3.6 \\\\\n",
       "\t4 & 1976-10-01T17:50:43.200 & 45.68 & 26.49 & 146.0 & 6.0 \\\\\n",
       "\t5 & 1976-10-15T10:54:48 & 47.1 & 25.6 & 17.0 & 3.9 \\\\\n",
       "\t6 & 1977-03-04T19:21:54.100 & 45.77 & 26.76 & 94.0 & 7.4 \\\\\n",
       "\t7 & 1977-03-04T21:21:01.100 & 45.22 & 26.65 & 141.0 & 3.0 \\\\\n",
       "\t8 & 1977-03-04T21:28:07.400 & 45.23 & 26.87 & 22.0 & 1.5 \\\\\n",
       "\t9 & 1977-03-04T23:17:14 & 45.0 & 27.2 & 33.0 & 2.5 \\\\\n",
       "\t10 & 1977-03-05T00:00:45.900 & 45.48 & 27.09 & 104.2 & 4.2 \\\\\n",
       "\t11 & 1977-03-05T00:08:37.700 & 45.4 & 27.16 & 22.2 & 3.0 \\\\\n",
       "\t12 & 1977-03-05T00:13:04 & 45.5 & 27.2 & 77.0 & 3.2 \\\\\n",
       "\t13 & 1977-03-05T00:47:55.100 & 45.37 & 27.31 & 20.7 & 2.3 \\\\\n",
       "\t14 & 1977-03-05T02:35:22 & 45.63 & 26.19 & 121.3 & 3.0 \\\\\n",
       "\t15 & 1977-03-05T05:50:13 & 45.19 & 27.2 & 33.0 & 2.6 \\\\\n",
       "\t16 & 1977-03-05T12:08:42 & 45.37 & 26.3 & 124.0 & 3.5 \\\\\n",
       "\t17 & 1977-03-06T13:27:06.300 & 45.83 & 26.63 & 112.3 & 2.6 \\\\\n",
       "\t18 & 1977-03-07T21:21:08.700 & 47.2 & 26.2 & 6.0 & 2.5 \\\\\n",
       "\t19 & 1977-03-07T21:27:16.400 & 47.1 & 26.3 & 2.0 & 2.9 \\\\\n",
       "\t20 & 1977-03-07T21:33:11.700 & 47.1 & 26.1 & 8.0 & 3.3 \\\\\n",
       "\t21 & 1977-03-08T18:44:56.500 & 45.96 & 26.44 & 80.4 & 1.9 \\\\\n",
       "\t22 & 1977-03-09T03:25:27.400 & 45.02 & 26.27 & 25.7 & 2.4 \\\\\n",
       "\t23 & 1977-03-09T03:52:50 & 45.07 & 26.31 & 35.6 & 1.2 \\\\\n",
       "\t24 & 1977-03-09T10:37:29.700 & 45.38 & 27.0 & 108.0 & 3.0 \\\\\n",
       "\t$\\dots$ & $\\dots$ & $\\dots$ & $\\dots$ & $\\dots$ & $\\dots$ \\\\\n",
       "\\end{tabular}\n"
      ],
      "text/plain": [
       "\u001b[1m31383×5 DataFrame\u001b[0m\n",
       "\u001b[1m   Row \u001b[0m│\u001b[1m Datetime                \u001b[0m\u001b[1m Latitude \u001b[0m\u001b[1m Longitude \u001b[0m\u001b[1m Depth   \u001b[0m\u001b[1m Magnitude \u001b[0m\n",
       "       │\u001b[90m DateTime                \u001b[0m\u001b[90m Float64  \u001b[0m\u001b[90m Float64   \u001b[0m\u001b[90m Float64 \u001b[0m\u001b[90m Float64   \u001b[0m\n",
       "───────┼──────────────────────────────────────────────────────────────────\n",
       "     1 │ 1976-02-03T13:29:16.400   45.32      25.99      184.3        2.6\n",
       "     2 │ 1976-08-19T19:03:00.800   45.54      26.37      162.0        2.3\n",
       "     3 │ 1976-09-07T17:38:08.200   45.62      26.5       155.3        3.6\n",
       "     4 │ 1976-10-01T17:50:43.200   45.68      26.49      146.0        6.0\n",
       "     5 │ 1976-10-15T10:54:48       47.1       25.6        17.0        3.9\n",
       "     6 │ 1977-03-04T19:21:54.100   45.77      26.76       94.0        7.4\n",
       "     7 │ 1977-03-04T21:21:01.100   45.22      26.65      141.0        3.0\n",
       "     8 │ 1977-03-04T21:28:07.400   45.23      26.87       22.0        1.5\n",
       "   ⋮   │            ⋮                ⋮          ⋮         ⋮         ⋮\n",
       " 31377 │ 2022-12-29T09:28:11.270   45.2972    25.093       2.0        1.5\n",
       " 31378 │ 2022-12-29T09:42:33.920   45.9596    22.6972      3.3        1.6\n",
       " 31379 │ 2022-12-29T12:16:03.080   46.3226    23.1438      1.0        1.7\n",
       " 31380 │ 2022-12-29T13:11:43.570   45.4378    24.1116     11.7        2.1\n",
       " 31381 │ 2022-12-30T14:23:49.390   45.4639    24.1433     14.0        1.7\n",
       " 31382 │ 2022-12-31T03:16:48.320   45.4082    24.134      18.2        1.7\n",
       " 31383 │ 2022-12-31T15:24:39.550   45.0022    22.6597      4.5        2.1\n",
       "\u001b[36m                                                        31368 rows omitted\u001b[0m"
      ]
     },
     "metadata": {},
     "output_type": "display_data"
    }
   ],
   "source": [
    "romania_full = CSV.read(\"../data/romania.csv\", DataFrame);\n",
    "romania = romania_full[romania_full.Datetime .> DateTime(1976,1,1,0,0,0),:]"
   ]
  },
  {
   "cell_type": "code",
   "execution_count": 3,
   "metadata": {},
   "outputs": [
    {
     "data": {
      "text/html": [
       "<div><div style = \"float: left;\"><span>7890×5 DataFrame</span></div><div style = \"float: right;\"><span style = \"font-style: italic;\">7865 rows omitted</span></div><div style = \"clear: both;\"></div></div><div class = \"data-frame\" style = \"overflow-x: scroll;\"><table class = \"data-frame\" style = \"margin-bottom: 6px;\"><thead><tr class = \"header\"><th class = \"rowNumber\" style = \"font-weight: bold; text-align: right;\">Row</th><th style = \"text-align: left;\">Datetime</th><th style = \"text-align: left;\">Latitude</th><th style = \"text-align: left;\">Longitude</th><th style = \"text-align: left;\">Depth</th><th style = \"text-align: left;\">Magnitude</th></tr><tr class = \"subheader headerLastRow\"><th class = \"rowNumber\" style = \"font-weight: bold; text-align: right;\"></th><th title = \"DateTime\" style = \"text-align: left;\">DateTime</th><th title = \"Float64\" style = \"text-align: left;\">Float64</th><th title = \"Float64\" style = \"text-align: left;\">Float64</th><th title = \"Float64\" style = \"text-align: left;\">Float64</th><th title = \"Float64\" style = \"text-align: left;\">Float64</th></tr></thead><tbody><tr><td class = \"rowNumber\" style = \"font-weight: bold; text-align: right;\">1</td><td style = \"text-align: left;\">1976-08-19T19:03:00.800</td><td style = \"text-align: right;\">45.54</td><td style = \"text-align: right;\">26.37</td><td style = \"text-align: right;\">162.0</td><td style = \"text-align: right;\">2.3</td></tr><tr><td class = \"rowNumber\" style = \"font-weight: bold; text-align: right;\">2</td><td style = \"text-align: left;\">1976-09-07T17:38:08.200</td><td style = \"text-align: right;\">45.62</td><td style = \"text-align: right;\">26.5</td><td style = \"text-align: right;\">155.3</td><td style = \"text-align: right;\">3.6</td></tr><tr><td class = \"rowNumber\" style = \"font-weight: bold; text-align: right;\">3</td><td style = \"text-align: left;\">1976-10-01T17:50:43.200</td><td style = \"text-align: right;\">45.68</td><td style = \"text-align: right;\">26.49</td><td style = \"text-align: right;\">146.0</td><td style = \"text-align: right;\">6.0</td></tr><tr><td class = \"rowNumber\" style = \"font-weight: bold; text-align: right;\">4</td><td style = \"text-align: left;\">1977-03-04T19:21:54.100</td><td style = \"text-align: right;\">45.77</td><td style = \"text-align: right;\">26.76</td><td style = \"text-align: right;\">94.0</td><td style = \"text-align: right;\">7.4</td></tr><tr><td class = \"rowNumber\" style = \"font-weight: bold; text-align: right;\">5</td><td style = \"text-align: left;\">1977-03-04T21:21:01.100</td><td style = \"text-align: right;\">45.22</td><td style = \"text-align: right;\">26.65</td><td style = \"text-align: right;\">141.0</td><td style = \"text-align: right;\">3.0</td></tr><tr><td class = \"rowNumber\" style = \"font-weight: bold; text-align: right;\">6</td><td style = \"text-align: left;\">1977-03-05T02:35:22</td><td style = \"text-align: right;\">45.63</td><td style = \"text-align: right;\">26.19</td><td style = \"text-align: right;\">121.3</td><td style = \"text-align: right;\">3.0</td></tr><tr><td class = \"rowNumber\" style = \"font-weight: bold; text-align: right;\">7</td><td style = \"text-align: left;\">1977-03-05T12:08:42</td><td style = \"text-align: right;\">45.37</td><td style = \"text-align: right;\">26.3</td><td style = \"text-align: right;\">124.0</td><td style = \"text-align: right;\">3.5</td></tr><tr><td class = \"rowNumber\" style = \"font-weight: bold; text-align: right;\">8</td><td style = \"text-align: left;\">1977-03-06T13:27:06.300</td><td style = \"text-align: right;\">45.83</td><td style = \"text-align: right;\">26.63</td><td style = \"text-align: right;\">112.3</td><td style = \"text-align: right;\">2.6</td></tr><tr><td class = \"rowNumber\" style = \"font-weight: bold; text-align: right;\">9</td><td style = \"text-align: left;\">1977-03-08T18:44:56.500</td><td style = \"text-align: right;\">45.96</td><td style = \"text-align: right;\">26.44</td><td style = \"text-align: right;\">80.4</td><td style = \"text-align: right;\">1.9</td></tr><tr><td class = \"rowNumber\" style = \"font-weight: bold; text-align: right;\">10</td><td style = \"text-align: left;\">1977-03-09T10:37:29.700</td><td style = \"text-align: right;\">45.38</td><td style = \"text-align: right;\">27.0</td><td style = \"text-align: right;\">108.0</td><td style = \"text-align: right;\">3.0</td></tr><tr><td class = \"rowNumber\" style = \"font-weight: bold; text-align: right;\">11</td><td style = \"text-align: left;\">1977-03-11T21:19:07.300</td><td style = \"text-align: right;\">45.49</td><td style = \"text-align: right;\">26.76</td><td style = \"text-align: right;\">87.1</td><td style = \"text-align: right;\">2.2</td></tr><tr><td class = \"rowNumber\" style = \"font-weight: bold; text-align: right;\">12</td><td style = \"text-align: left;\">1977-03-12T13:27:13.300</td><td style = \"text-align: right;\">45.74</td><td style = \"text-align: right;\">26.9</td><td style = \"text-align: right;\">99.9</td><td style = \"text-align: right;\">3.8</td></tr><tr><td class = \"rowNumber\" style = \"font-weight: bold; text-align: right;\">13</td><td style = \"text-align: left;\">1977-03-12T18:02:15.200</td><td style = \"text-align: right;\">45.79</td><td style = \"text-align: right;\">26.89</td><td style = \"text-align: right;\">100.0</td><td style = \"text-align: right;\">3.5</td></tr><tr><td style = \"text-align: right;\">&vellip;</td><td style = \"text-align: right;\">&vellip;</td><td style = \"text-align: right;\">&vellip;</td><td style = \"text-align: right;\">&vellip;</td><td style = \"text-align: right;\">&vellip;</td><td style = \"text-align: right;\">&vellip;</td></tr><tr><td class = \"rowNumber\" style = \"font-weight: bold; text-align: right;\">7879</td><td style = \"text-align: left;\">2022-12-09T00:52:37.880</td><td style = \"text-align: right;\">45.4519</td><td style = \"text-align: right;\">26.336</td><td style = \"text-align: right;\">129.6</td><td style = \"text-align: right;\">3.0</td></tr><tr><td class = \"rowNumber\" style = \"font-weight: bold; text-align: right;\">7880</td><td style = \"text-align: left;\">2022-12-09T15:36:01.740</td><td style = \"text-align: right;\">45.7038</td><td style = \"text-align: right;\">26.7097</td><td style = \"text-align: right;\">128.8</td><td style = \"text-align: right;\">3.2</td></tr><tr><td class = \"rowNumber\" style = \"font-weight: bold; text-align: right;\">7881</td><td style = \"text-align: left;\">2022-12-13T19:37:54.560</td><td style = \"text-align: right;\">45.4168</td><td style = \"text-align: right;\">26.338</td><td style = \"text-align: right;\">125.7</td><td style = \"text-align: right;\">2.8</td></tr><tr><td class = \"rowNumber\" style = \"font-weight: bold; text-align: right;\">7882</td><td style = \"text-align: left;\">2022-12-15T08:22:21.990</td><td style = \"text-align: right;\">45.7194</td><td style = \"text-align: right;\">26.4448</td><td style = \"text-align: right;\">142.2</td><td style = \"text-align: right;\">2.7</td></tr><tr><td class = \"rowNumber\" style = \"font-weight: bold; text-align: right;\">7883</td><td style = \"text-align: left;\">2022-12-15T23:47:13.400</td><td style = \"text-align: right;\">45.735</td><td style = \"text-align: right;\">26.6709</td><td style = \"text-align: right;\">87.7</td><td style = \"text-align: right;\">3.8</td></tr><tr><td class = \"rowNumber\" style = \"font-weight: bold; text-align: right;\">7884</td><td style = \"text-align: left;\">2022-12-17T05:42:58.120</td><td style = \"text-align: right;\">45.641</td><td style = \"text-align: right;\">26.487</td><td style = \"text-align: right;\">143.8</td><td style = \"text-align: right;\">4.1</td></tr><tr><td class = \"rowNumber\" style = \"font-weight: bold; text-align: right;\">7885</td><td style = \"text-align: left;\">2022-12-18T03:23:22.420</td><td style = \"text-align: right;\">45.7235</td><td style = \"text-align: right;\">26.6176</td><td style = \"text-align: right;\">138.4</td><td style = \"text-align: right;\">2.7</td></tr><tr><td class = \"rowNumber\" style = \"font-weight: bold; text-align: right;\">7886</td><td style = \"text-align: left;\">2022-12-19T19:32:11.030</td><td style = \"text-align: right;\">45.7157</td><td style = \"text-align: right;\">26.6342</td><td style = \"text-align: right;\">85.7</td><td style = \"text-align: right;\">2.7</td></tr><tr><td class = \"rowNumber\" style = \"font-weight: bold; text-align: right;\">7887</td><td style = \"text-align: left;\">2022-12-26T07:47:10.270</td><td style = \"text-align: right;\">45.5403</td><td style = \"text-align: right;\">26.5114</td><td style = \"text-align: right;\">105.9</td><td style = \"text-align: right;\">3.5</td></tr><tr><td class = \"rowNumber\" style = \"font-weight: bold; text-align: right;\">7888</td><td style = \"text-align: left;\">2022-12-27T16:00:52.890</td><td style = \"text-align: right;\">45.5211</td><td style = \"text-align: right;\">26.4184</td><td style = \"text-align: right;\">110.2</td><td style = \"text-align: right;\">2.5</td></tr><tr><td class = \"rowNumber\" style = \"font-weight: bold; text-align: right;\">7889</td><td style = \"text-align: left;\">2022-12-28T07:38:54.270</td><td style = \"text-align: right;\">45.7505</td><td style = \"text-align: right;\">26.6086</td><td style = \"text-align: right;\">85.2</td><td style = \"text-align: right;\">2.9</td></tr><tr><td class = \"rowNumber\" style = \"font-weight: bold; text-align: right;\">7890</td><td style = \"text-align: left;\">2022-12-29T02:06:28.320</td><td style = \"text-align: right;\">45.6714</td><td style = \"text-align: right;\">26.6291</td><td style = \"text-align: right;\">134.0</td><td style = \"text-align: right;\">2.8</td></tr></tbody></table></div>"
      ],
      "text/latex": [
       "\\begin{tabular}{r|ccccc}\n",
       "\t& Datetime & Latitude & Longitude & Depth & Magnitude\\\\\n",
       "\t\\hline\n",
       "\t& DateTime & Float64 & Float64 & Float64 & Float64\\\\\n",
       "\t\\hline\n",
       "\t1 & 1976-08-19T19:03:00.800 & 45.54 & 26.37 & 162.0 & 2.3 \\\\\n",
       "\t2 & 1976-09-07T17:38:08.200 & 45.62 & 26.5 & 155.3 & 3.6 \\\\\n",
       "\t3 & 1976-10-01T17:50:43.200 & 45.68 & 26.49 & 146.0 & 6.0 \\\\\n",
       "\t4 & 1977-03-04T19:21:54.100 & 45.77 & 26.76 & 94.0 & 7.4 \\\\\n",
       "\t5 & 1977-03-04T21:21:01.100 & 45.22 & 26.65 & 141.0 & 3.0 \\\\\n",
       "\t6 & 1977-03-05T02:35:22 & 45.63 & 26.19 & 121.3 & 3.0 \\\\\n",
       "\t7 & 1977-03-05T12:08:42 & 45.37 & 26.3 & 124.0 & 3.5 \\\\\n",
       "\t8 & 1977-03-06T13:27:06.300 & 45.83 & 26.63 & 112.3 & 2.6 \\\\\n",
       "\t9 & 1977-03-08T18:44:56.500 & 45.96 & 26.44 & 80.4 & 1.9 \\\\\n",
       "\t10 & 1977-03-09T10:37:29.700 & 45.38 & 27.0 & 108.0 & 3.0 \\\\\n",
       "\t11 & 1977-03-11T21:19:07.300 & 45.49 & 26.76 & 87.1 & 2.2 \\\\\n",
       "\t12 & 1977-03-12T13:27:13.300 & 45.74 & 26.9 & 99.9 & 3.8 \\\\\n",
       "\t13 & 1977-03-12T18:02:15.200 & 45.79 & 26.89 & 100.0 & 3.5 \\\\\n",
       "\t14 & 1977-03-12T22:03:44.400 & 45.73 & 26.8 & 97.9 & 2.6 \\\\\n",
       "\t15 & 1977-03-13T13:50:59 & 45.7 & 26.58 & 87.5 & 2.0 \\\\\n",
       "\t16 & 1977-03-21T00:35:54.600 & 45.75 & 26.72 & 69.7 & 2.7 \\\\\n",
       "\t17 & 1977-03-22T08:26:52.100 & 45.51 & 26.15 & 167.0 & 3.5 \\\\\n",
       "\t18 & 1977-03-26T06:54:16.700 & 45.77 & 26.4 & 123.6 & 1.9 \\\\\n",
       "\t19 & 1977-04-04T02:15:49.700 & 45.59 & 26.64 & 115.0 & 3.8 \\\\\n",
       "\t20 & 1977-04-13T21:07:22.500 & 45.34 & 26.24 & 91.2 & 1.5 \\\\\n",
       "\t21 & 1977-06-16T02:26:10.300 & 45.74 & 26.6 & 151.0 & 4.7 \\\\\n",
       "\t22 & 1977-06-16T02:42:00 & 45.7 & 26.6 & 120.0 & 3.2 \\\\\n",
       "\t23 & 1977-07-17T17:34:20.900 & 45.6 & 26.65 & 106.0 & 4.2 \\\\\n",
       "\t24 & 1977-07-24T05:57:00 & 45.7 & 26.6 & 130.0 & 3.4 \\\\\n",
       "\t$\\dots$ & $\\dots$ & $\\dots$ & $\\dots$ & $\\dots$ & $\\dots$ \\\\\n",
       "\\end{tabular}\n"
      ],
      "text/plain": [
       "\u001b[1m7890×5 DataFrame\u001b[0m\n",
       "\u001b[1m  Row \u001b[0m│\u001b[1m Datetime                \u001b[0m\u001b[1m Latitude \u001b[0m\u001b[1m Longitude \u001b[0m\u001b[1m Depth   \u001b[0m\u001b[1m Magnitude \u001b[0m\n",
       "      │\u001b[90m DateTime                \u001b[0m\u001b[90m Float64  \u001b[0m\u001b[90m Float64   \u001b[0m\u001b[90m Float64 \u001b[0m\u001b[90m Float64   \u001b[0m\n",
       "──────┼──────────────────────────────────────────────────────────────────\n",
       "    1 │ 1976-08-19T19:03:00.800   45.54      26.37      162.0        2.3\n",
       "    2 │ 1976-09-07T17:38:08.200   45.62      26.5       155.3        3.6\n",
       "    3 │ 1976-10-01T17:50:43.200   45.68      26.49      146.0        6.0\n",
       "    4 │ 1977-03-04T19:21:54.100   45.77      26.76       94.0        7.4\n",
       "    5 │ 1977-03-04T21:21:01.100   45.22      26.65      141.0        3.0\n",
       "    6 │ 1977-03-05T02:35:22       45.63      26.19      121.3        3.0\n",
       "    7 │ 1977-03-05T12:08:42       45.37      26.3       124.0        3.5\n",
       "    8 │ 1977-03-06T13:27:06.300   45.83      26.63      112.3        2.6\n",
       "  ⋮   │            ⋮                ⋮          ⋮         ⋮         ⋮\n",
       " 7884 │ 2022-12-17T05:42:58.120   45.641     26.487     143.8        4.1\n",
       " 7885 │ 2022-12-18T03:23:22.420   45.7235    26.6176    138.4        2.7\n",
       " 7886 │ 2022-12-19T19:32:11.030   45.7157    26.6342     85.7        2.7\n",
       " 7887 │ 2022-12-26T07:47:10.270   45.5403    26.5114    105.9        3.5\n",
       " 7888 │ 2022-12-27T16:00:52.890   45.5211    26.4184    110.2        2.5\n",
       " 7889 │ 2022-12-28T07:38:54.270   45.7505    26.6086     85.2        2.9\n",
       " 7890 │ 2022-12-29T02:06:28.320   45.6714    26.6291    134.0        2.8\n",
       "\u001b[36m                                                        7875 rows omitted\u001b[0m"
      ]
     },
     "metadata": {},
     "output_type": "display_data"
    }
   ],
   "source": [
    "vrancea = romania[(romania.Latitude .>= 45.20) .& (romania.Latitude .<= 46.0) .& \n",
    "                    (romania.Longitude .>= 26.0) .& (romania.Longitude .<= 27.0) .&\n",
    "                    (romania.Depth .>= 50.0) .& (romania.Depth .<= 200.0), :]"
   ]
  },
  {
   "cell_type": "code",
   "execution_count": 4,
   "metadata": {},
   "outputs": [
    {
     "data": {
      "text/plain": [
       "5"
      ]
     },
     "metadata": {},
     "output_type": "display_data"
    }
   ],
   "source": [
    "region = \"vrancea\"\n",
    "side = 5"
   ]
  },
  {
   "cell_type": "code",
   "execution_count": 5,
   "metadata": {},
   "outputs": [],
   "source": [
    "# mapcoords= Dict(\"minLat\"=>minimum(vrancea.Latitude),\n",
    "#             \"maxLat\"=>maximum(vrancea.Latitude),\n",
    "#             \"minLon\"=>minimum(vrancea.Longitude),\n",
    "#             \"maxLon\"=>maximum(vrancea.Longitude),\n",
    "#             \"minDepth\"=>minimum(vrancea.Depth),\n",
    "#             \"maxDepth\"=>maximum(vrancea.Depth),\n",
    "#             \"minMag\"=>minimum(vrancea.Magnitude),\n",
    "#             \"maxMag\"=>maximum(vrancea.Magnitude)\n",
    "# )"
   ]
  },
  {
   "cell_type": "code",
   "execution_count": 6,
   "metadata": {},
   "outputs": [
    {
     "ename": "UndefVarError",
     "evalue": "UndefVarError: mapcoords not defined",
     "output_type": "error",
     "traceback": [
      "UndefVarError: mapcoords not defined\n"
     ]
    }
   ],
   "source": [
    "mapcoords"
   ]
  },
  {
   "cell_type": "code",
   "execution_count": 7,
   "metadata": {},
   "outputs": [],
   "source": [
    "minLat=minimum(vrancea.Latitude)\n",
    "maxLat=maximum(vrancea.Latitude)\n",
    "minLon=minimum(vrancea.Longitude)\n",
    "maxLon=maximum(vrancea.Longitude)\n",
    "minDepth=minimum(vrancea.Depth)\n",
    "maxDepth=maximum(vrancea.Depth);"
   ]
  },
  {
   "cell_type": "code",
   "execution_count": 8,
   "metadata": {},
   "outputs": [],
   "source": [
    "# if region==\"vrancea\" || region==\"romania\"\n",
    "#     longitudeInKm = 79\n",
    "# end;"
   ]
  },
  {
   "cell_type": "code",
   "execution_count": 9,
   "metadata": {},
   "outputs": [],
   "source": [
    "# Number of cubes needed for each dimension\n",
    "# Use ceil() to round up to integer (in order to encompass whole region)\n",
    "# (some dimensions will not be perfectly divisible with the side chosen for cubes)"
   ]
  },
  {
   "cell_type": "code",
   "execution_count": 10,
   "metadata": {},
   "outputs": [
    {
     "name": "stdout",
     "output_type": "stream",
     "text": [
      "real value of split: 17.782676350109007\n",
      "int number of cubes on Latitude dim: 18\n"
     ]
    }
   ],
   "source": [
    "x0_lla = LLA(minLat,minLon,-minDepth)\n",
    "xf_lla = LLA(maxLat,minLon,-minDepth)\n",
    "lat_dist_in_km = Geodesy.euclidean_distance(xf_lla,x0_lla) / 1000 # eucl_dist returns in meters\n",
    "# xreal, without ceiling, used when assigning earthquakes to certain cubes\n",
    "xreal = lat_dist_in_km / 5\n",
    "\n",
    "# Actual number of cubes (integer) on Latitude distance to cover whole volume\n",
    "x = ceil(Int, lat_dist_in_km / 5)\n",
    "\n",
    "\n",
    "println(\"real value of split: \",xreal,\"\\nint number of cubes on Latitude dim: \",x)"
   ]
  },
  {
   "cell_type": "code",
   "execution_count": 11,
   "metadata": {},
   "outputs": [
    {
     "name": "stdout",
     "output_type": "stream",
     "text": [
      "real value of split: 15.714087371866526\n",
      "int number of cubes on Longitude dim: 16\n"
     ]
    }
   ],
   "source": [
    "y0_lla = LLA(minLat,minLon,-minDepth)\n",
    "yf_lla = LLA(minLat,maxLon,-minDepth)\n",
    "lon_dist_in_km = Geodesy.euclidean_distance(yf_lla,y0_lla) / 1000\n",
    "\n",
    "# yreal, without ceiling, used when assigning earthquakes to certain cubes\n",
    "yreal = lon_dist_in_km / 5\n",
    "\n",
    "# Actual number of cubes (integer) on Longitude distance to cover whole volume\n",
    "y = ceil(Int, lon_dist_in_km / 5)\n",
    "\n",
    "println(\"real value of split: \",yreal,\"\\nint number of cubes on Longitude dim: \",y)"
   ]
  },
  {
   "cell_type": "code",
   "execution_count": 12,
   "metadata": {},
   "outputs": [
    {
     "name": "stdout",
     "output_type": "stream",
     "text": [
      "real value of split: 29.2\n",
      "int number of cubes on Depth dim: 30\n"
     ]
    }
   ],
   "source": [
    "# Depth is already in km \n",
    "# Number of cubes on depth distance to cover whole volume\n",
    "\n",
    "# zreal, without ceiling, used when assigning earthquakes to certain cubes\n",
    "zreal = (maxDepth-minDepth) / side\n",
    "# Actual number of cubes (integer) on Depth distance to cover whole volume\n",
    "z = ceil(Int, (maxDepth-minDepth) / side)\n",
    "\n",
    "println(\"real value of split: \",zreal,\"\\nint number of cubes on Depth dim: \",z)"
   ]
  },
  {
   "cell_type": "code",
   "execution_count": 13,
   "metadata": {},
   "outputs": [
    {
     "name": "stdout",
     "output_type": "stream",
     "text": [
      "Number of cubes: 8640\n",
      "Longest dimension: 30\n"
     ]
    }
   ],
   "source": [
    "# How many cubes in this region\n",
    "number_of_cubes = x * y * z\n",
    "\n",
    "# The most numerous dimension (needed for later when calculating cubeIndex)\n",
    "maxDim = maximum((x,y,z))\n",
    "\n",
    "println(\"Number of cubes: \", number_of_cubes,\"\\nLongest dimension: \",maxDim)"
   ]
  },
  {
   "cell_type": "code",
   "execution_count": 14,
   "metadata": {},
   "outputs": [],
   "source": [
    "# xLatitude = [floor(Int,((i-minLat)*x/(maxLat-minLat))+1) for i in vrancea.Latitude]\n",
    "# Let this mistake in. Using x is wrong because i ceiled the value. \n",
    "# This results in mistake when calcualting cube because I use +1 after calculation then floor\n",
    "# Use xreal / yreal / zreal !\n",
    "\n",
    "xLatitude = [floor(Int,((i-minLat)*xreal/(maxLat-minLat))+1) for i in vrancea.Latitude];\n",
    "\n",
    "yLongitude = [floor(Int,((i-minLon)*yreal/(maxLon-minLon))+1) for i in vrancea.Longitude];\n",
    "\n",
    "zDepth = [floor(Int,((i-minDepth)*zreal/(maxDepth-minDepth))+1) for i in vrancea.Depth];"
   ]
  },
  {
   "cell_type": "code",
   "execution_count": 255,
   "metadata": {},
   "outputs": [],
   "source": []
  },
  {
   "cell_type": "code",
   "execution_count": 45,
   "metadata": {},
   "outputs": [
    {
     "data": {
      "text/plain": [
       "7890-element Vector{String}:\n",
       " \"6433\"\n",
       " \"6183\"\n",
       " \"5608\"\n",
       " \"2514\"\n",
       " \"5364\"\n",
       " \"4077\"\n",
       " \"4107\"\n",
       " \"3632\"\n",
       " \"1852\"\n",
       " \"3442\"\n",
       " ⋮\n",
       " \"5303\"\n",
       " \"2207\"\n",
       " \"5319\"\n",
       " \"5069\"\n",
       " \"2189\"\n",
       " \"3319\"\n",
       " \"3571\"\n",
       " \"2190\"\n",
       " \"4780\""
      ]
     },
     "metadata": {},
     "output_type": "display_data"
    }
   ],
   "source": [
    "cubeIndex = String[]\n",
    "for i in eachindex(xLatitude)\n",
    "    push!(cubeIndex, string(xLatitude[i]-1+x*(yLongitude[i]-1)+x*y*(zDepth[i]-1)))\n",
    "end\n",
    "cubeIndex"
   ]
  },
  {
   "cell_type": "code",
   "execution_count": 229,
   "metadata": {},
   "outputs": [
    {
     "data": {
      "text/plain": [
       "7890-element Vector{Int64}:\n",
       " 6433\n",
       " 6183\n",
       " 5608\n",
       " 2514\n",
       " 5364\n",
       " 4077\n",
       " 4107\n",
       " 3632\n",
       " 1852\n",
       " 3442\n",
       "    ⋮\n",
       " 5303\n",
       " 2207\n",
       " 5319\n",
       " 5069\n",
       " 2189\n",
       " 3319\n",
       " 3571\n",
       " 2190\n",
       " 4780"
      ]
     },
     "metadata": {},
     "output_type": "display_data"
    }
   ],
   "source": [
    "# vrancea.xLatitude = xLatitude\n",
    "# vrancea.yLongitude = yLongitude\n",
    "# vrancea.zDepth = zDepth\n",
    "vrancea.cubeIndex = cubeIndex"
   ]
  },
  {
   "cell_type": "code",
   "execution_count": 230,
   "metadata": {},
   "outputs": [
    {
     "data": {
      "text/html": [
       "<div><div style = \"float: left;\"><span>7890×6 DataFrame</span></div><div style = \"float: right;\"><span style = \"font-style: italic;\">7865 rows omitted</span></div><div style = \"clear: both;\"></div></div><div class = \"data-frame\" style = \"overflow-x: scroll;\"><table class = \"data-frame\" style = \"margin-bottom: 6px;\"><thead><tr class = \"header\"><th class = \"rowNumber\" style = \"font-weight: bold; text-align: right;\">Row</th><th style = \"text-align: left;\">Datetime</th><th style = \"text-align: left;\">Latitude</th><th style = \"text-align: left;\">Longitude</th><th style = \"text-align: left;\">Depth</th><th style = \"text-align: left;\">Magnitude</th><th style = \"text-align: left;\">cubeIndex</th></tr><tr class = \"subheader headerLastRow\"><th class = \"rowNumber\" style = \"font-weight: bold; text-align: right;\"></th><th title = \"DateTime\" style = \"text-align: left;\">DateTime</th><th title = \"Float64\" style = \"text-align: left;\">Float64</th><th title = \"Float64\" style = \"text-align: left;\">Float64</th><th title = \"Float64\" style = \"text-align: left;\">Float64</th><th title = \"Float64\" style = \"text-align: left;\">Float64</th><th title = \"Int64\" style = \"text-align: left;\">Int64</th></tr></thead><tbody><tr><td class = \"rowNumber\" style = \"font-weight: bold; text-align: right;\">1</td><td style = \"text-align: left;\">1976-08-19T19:03:00.800</td><td style = \"text-align: right;\">45.54</td><td style = \"text-align: right;\">26.37</td><td style = \"text-align: right;\">162.0</td><td style = \"text-align: right;\">2.3</td><td style = \"text-align: right;\">6433</td></tr><tr><td class = \"rowNumber\" style = \"font-weight: bold; text-align: right;\">2</td><td style = \"text-align: left;\">1976-09-07T17:38:08.200</td><td style = \"text-align: right;\">45.62</td><td style = \"text-align: right;\">26.5</td><td style = \"text-align: right;\">155.3</td><td style = \"text-align: right;\">3.6</td><td style = \"text-align: right;\">6183</td></tr><tr><td class = \"rowNumber\" style = \"font-weight: bold; text-align: right;\">3</td><td style = \"text-align: left;\">1976-10-01T17:50:43.200</td><td style = \"text-align: right;\">45.68</td><td style = \"text-align: right;\">26.49</td><td style = \"text-align: right;\">146.0</td><td style = \"text-align: right;\">6.0</td><td style = \"text-align: right;\">5608</td></tr><tr><td class = \"rowNumber\" style = \"font-weight: bold; text-align: right;\">4</td><td style = \"text-align: left;\">1977-03-04T19:21:54.100</td><td style = \"text-align: right;\">45.77</td><td style = \"text-align: right;\">26.76</td><td style = \"text-align: right;\">94.0</td><td style = \"text-align: right;\">7.4</td><td style = \"text-align: right;\">2514</td></tr><tr><td class = \"rowNumber\" style = \"font-weight: bold; text-align: right;\">5</td><td style = \"text-align: left;\">1977-03-04T21:21:01.100</td><td style = \"text-align: right;\">45.22</td><td style = \"text-align: right;\">26.65</td><td style = \"text-align: right;\">141.0</td><td style = \"text-align: right;\">3.0</td><td style = \"text-align: right;\">5364</td></tr><tr><td class = \"rowNumber\" style = \"font-weight: bold; text-align: right;\">6</td><td style = \"text-align: left;\">1977-03-05T02:35:22</td><td style = \"text-align: right;\">45.63</td><td style = \"text-align: right;\">26.19</td><td style = \"text-align: right;\">121.3</td><td style = \"text-align: right;\">3.0</td><td style = \"text-align: right;\">4077</td></tr><tr><td class = \"rowNumber\" style = \"font-weight: bold; text-align: right;\">7</td><td style = \"text-align: left;\">1977-03-05T12:08:42</td><td style = \"text-align: right;\">45.37</td><td style = \"text-align: right;\">26.3</td><td style = \"text-align: right;\">124.0</td><td style = \"text-align: right;\">3.5</td><td style = \"text-align: right;\">4107</td></tr><tr><td class = \"rowNumber\" style = \"font-weight: bold; text-align: right;\">8</td><td style = \"text-align: left;\">1977-03-06T13:27:06.300</td><td style = \"text-align: right;\">45.83</td><td style = \"text-align: right;\">26.63</td><td style = \"text-align: right;\">112.3</td><td style = \"text-align: right;\">2.6</td><td style = \"text-align: right;\">3632</td></tr><tr><td class = \"rowNumber\" style = \"font-weight: bold; text-align: right;\">9</td><td style = \"text-align: left;\">1977-03-08T18:44:56.500</td><td style = \"text-align: right;\">45.96</td><td style = \"text-align: right;\">26.44</td><td style = \"text-align: right;\">80.4</td><td style = \"text-align: right;\">1.9</td><td style = \"text-align: right;\">1852</td></tr><tr><td class = \"rowNumber\" style = \"font-weight: bold; text-align: right;\">10</td><td style = \"text-align: left;\">1977-03-09T10:37:29.700</td><td style = \"text-align: right;\">45.38</td><td style = \"text-align: right;\">27.0</td><td style = \"text-align: right;\">108.0</td><td style = \"text-align: right;\">3.0</td><td style = \"text-align: right;\">3442</td></tr><tr><td class = \"rowNumber\" style = \"font-weight: bold; text-align: right;\">11</td><td style = \"text-align: left;\">1977-03-11T21:19:07.300</td><td style = \"text-align: right;\">45.49</td><td style = \"text-align: right;\">26.76</td><td style = \"text-align: right;\">87.1</td><td style = \"text-align: right;\">2.2</td><td style = \"text-align: right;\">2220</td></tr><tr><td class = \"rowNumber\" style = \"font-weight: bold; text-align: right;\">12</td><td style = \"text-align: left;\">1977-03-12T13:27:13.300</td><td style = \"text-align: right;\">45.74</td><td style = \"text-align: right;\">26.9</td><td style = \"text-align: right;\">99.9</td><td style = \"text-align: right;\">3.8</td><td style = \"text-align: right;\">2856</td></tr><tr><td class = \"rowNumber\" style = \"font-weight: bold; text-align: right;\">13</td><td style = \"text-align: left;\">1977-03-12T18:02:15.200</td><td style = \"text-align: right;\">45.79</td><td style = \"text-align: right;\">26.89</td><td style = \"text-align: right;\">100.0</td><td style = \"text-align: right;\">3.5</td><td style = \"text-align: right;\">3127</td></tr><tr><td style = \"text-align: right;\">&vellip;</td><td style = \"text-align: right;\">&vellip;</td><td style = \"text-align: right;\">&vellip;</td><td style = \"text-align: right;\">&vellip;</td><td style = \"text-align: right;\">&vellip;</td><td style = \"text-align: right;\">&vellip;</td><td style = \"text-align: right;\">&vellip;</td></tr><tr><td class = \"rowNumber\" style = \"font-weight: bold; text-align: right;\">7879</td><td style = \"text-align: left;\">2022-12-09T00:52:37.880</td><td style = \"text-align: right;\">45.4519</td><td style = \"text-align: right;\">26.336</td><td style = \"text-align: right;\">129.6</td><td style = \"text-align: right;\">3.0</td><td style = \"text-align: right;\">4415</td></tr><tr><td class = \"rowNumber\" style = \"font-weight: bold; text-align: right;\">7880</td><td style = \"text-align: left;\">2022-12-09T15:36:01.740</td><td style = \"text-align: right;\">45.7038</td><td style = \"text-align: right;\">26.7097</td><td style = \"text-align: right;\">128.8</td><td style = \"text-align: right;\">3.2</td><td style = \"text-align: right;\">4529</td></tr><tr><td class = \"rowNumber\" style = \"font-weight: bold; text-align: right;\">7881</td><td style = \"text-align: left;\">2022-12-13T19:37:54.560</td><td style = \"text-align: right;\">45.4168</td><td style = \"text-align: right;\">26.338</td><td style = \"text-align: right;\">125.7</td><td style = \"text-align: right;\">2.8</td><td style = \"text-align: right;\">4414</td></tr><tr><td class = \"rowNumber\" style = \"font-weight: bold; text-align: right;\">7882</td><td style = \"text-align: left;\">2022-12-15T08:22:21.990</td><td style = \"text-align: right;\">45.7194</td><td style = \"text-align: right;\">26.4448</td><td style = \"text-align: right;\">142.2</td><td style = \"text-align: right;\">2.7</td><td style = \"text-align: right;\">5303</td></tr><tr><td class = \"rowNumber\" style = \"font-weight: bold; text-align: right;\">7883</td><td style = \"text-align: left;\">2022-12-15T23:47:13.400</td><td style = \"text-align: right;\">45.735</td><td style = \"text-align: right;\">26.6709</td><td style = \"text-align: right;\">87.7</td><td style = \"text-align: right;\">3.8</td><td style = \"text-align: right;\">2207</td></tr><tr><td class = \"rowNumber\" style = \"font-weight: bold; text-align: right;\">7884</td><td style = \"text-align: left;\">2022-12-17T05:42:58.120</td><td style = \"text-align: right;\">45.641</td><td style = \"text-align: right;\">26.487</td><td style = \"text-align: right;\">143.8</td><td style = \"text-align: right;\">4.1</td><td style = \"text-align: right;\">5319</td></tr><tr><td class = \"rowNumber\" style = \"font-weight: bold; text-align: right;\">7885</td><td style = \"text-align: left;\">2022-12-18T03:23:22.420</td><td style = \"text-align: right;\">45.7235</td><td style = \"text-align: right;\">26.6176</td><td style = \"text-align: right;\">138.4</td><td style = \"text-align: right;\">2.7</td><td style = \"text-align: right;\">5069</td></tr><tr><td class = \"rowNumber\" style = \"font-weight: bold; text-align: right;\">7886</td><td style = \"text-align: left;\">2022-12-19T19:32:11.030</td><td style = \"text-align: right;\">45.7157</td><td style = \"text-align: right;\">26.6342</td><td style = \"text-align: right;\">85.7</td><td style = \"text-align: right;\">2.7</td><td style = \"text-align: right;\">2189</td></tr><tr><td class = \"rowNumber\" style = \"font-weight: bold; text-align: right;\">7887</td><td style = \"text-align: left;\">2022-12-26T07:47:10.270</td><td style = \"text-align: right;\">45.5403</td><td style = \"text-align: right;\">26.5114</td><td style = \"text-align: right;\">105.9</td><td style = \"text-align: right;\">3.5</td><td style = \"text-align: right;\">3319</td></tr><tr><td class = \"rowNumber\" style = \"font-weight: bold; text-align: right;\">7888</td><td style = \"text-align: left;\">2022-12-27T16:00:52.890</td><td style = \"text-align: right;\">45.5211</td><td style = \"text-align: right;\">26.4184</td><td style = \"text-align: right;\">110.2</td><td style = \"text-align: right;\">2.5</td><td style = \"text-align: right;\">3571</td></tr><tr><td class = \"rowNumber\" style = \"font-weight: bold; text-align: right;\">7889</td><td style = \"text-align: left;\">2022-12-28T07:38:54.270</td><td style = \"text-align: right;\">45.7505</td><td style = \"text-align: right;\">26.6086</td><td style = \"text-align: right;\">85.2</td><td style = \"text-align: right;\">2.9</td><td style = \"text-align: right;\">2190</td></tr><tr><td class = \"rowNumber\" style = \"font-weight: bold; text-align: right;\">7890</td><td style = \"text-align: left;\">2022-12-29T02:06:28.320</td><td style = \"text-align: right;\">45.6714</td><td style = \"text-align: right;\">26.6291</td><td style = \"text-align: right;\">134.0</td><td style = \"text-align: right;\">2.8</td><td style = \"text-align: right;\">4780</td></tr></tbody></table></div>"
      ],
      "text/latex": [
       "\\begin{tabular}{r|cccccc}\n",
       "\t& Datetime & Latitude & Longitude & Depth & Magnitude & cubeIndex\\\\\n",
       "\t\\hline\n",
       "\t& DateTime & Float64 & Float64 & Float64 & Float64 & Int64\\\\\n",
       "\t\\hline\n",
       "\t1 & 1976-08-19T19:03:00.800 & 45.54 & 26.37 & 162.0 & 2.3 & 6433 \\\\\n",
       "\t2 & 1976-09-07T17:38:08.200 & 45.62 & 26.5 & 155.3 & 3.6 & 6183 \\\\\n",
       "\t3 & 1976-10-01T17:50:43.200 & 45.68 & 26.49 & 146.0 & 6.0 & 5608 \\\\\n",
       "\t4 & 1977-03-04T19:21:54.100 & 45.77 & 26.76 & 94.0 & 7.4 & 2514 \\\\\n",
       "\t5 & 1977-03-04T21:21:01.100 & 45.22 & 26.65 & 141.0 & 3.0 & 5364 \\\\\n",
       "\t6 & 1977-03-05T02:35:22 & 45.63 & 26.19 & 121.3 & 3.0 & 4077 \\\\\n",
       "\t7 & 1977-03-05T12:08:42 & 45.37 & 26.3 & 124.0 & 3.5 & 4107 \\\\\n",
       "\t8 & 1977-03-06T13:27:06.300 & 45.83 & 26.63 & 112.3 & 2.6 & 3632 \\\\\n",
       "\t9 & 1977-03-08T18:44:56.500 & 45.96 & 26.44 & 80.4 & 1.9 & 1852 \\\\\n",
       "\t10 & 1977-03-09T10:37:29.700 & 45.38 & 27.0 & 108.0 & 3.0 & 3442 \\\\\n",
       "\t11 & 1977-03-11T21:19:07.300 & 45.49 & 26.76 & 87.1 & 2.2 & 2220 \\\\\n",
       "\t12 & 1977-03-12T13:27:13.300 & 45.74 & 26.9 & 99.9 & 3.8 & 2856 \\\\\n",
       "\t13 & 1977-03-12T18:02:15.200 & 45.79 & 26.89 & 100.0 & 3.5 & 3127 \\\\\n",
       "\t14 & 1977-03-12T22:03:44.400 & 45.73 & 26.8 & 97.9 & 2.6 & 2819 \\\\\n",
       "\t15 & 1977-03-13T13:50:59 & 45.7 & 26.58 & 87.5 & 2.0 & 2189 \\\\\n",
       "\t16 & 1977-03-21T00:35:54.600 & 45.75 & 26.72 & 69.7 & 2.7 & 1074 \\\\\n",
       "\t17 & 1977-03-22T08:26:52.100 & 45.51 & 26.15 & 167.0 & 3.5 & 6666 \\\\\n",
       "\t18 & 1977-03-26T06:54:16.700 & 45.77 & 26.4 & 123.6 & 1.9 & 4152 \\\\\n",
       "\t19 & 1977-04-04T02:15:49.700 & 45.59 & 26.64 & 115.0 & 3.8 & 3932 \\\\\n",
       "\t20 & 1977-04-13T21:07:22.500 & 45.34 & 26.24 & 91.2 & 1.5 & 2361 \\\\\n",
       "\t21 & 1977-06-16T02:26:10.300 & 45.74 & 26.6 & 151.0 & 4.7 & 5934 \\\\\n",
       "\t22 & 1977-06-16T02:42:00 & 45.7 & 26.6 & 120.0 & 3.2 & 4205 \\\\\n",
       "\t23 & 1977-07-17T17:34:20.900 & 45.6 & 26.65 & 106.0 & 4.2 & 3356 \\\\\n",
       "\t24 & 1977-07-24T05:57:00 & 45.7 & 26.6 & 130.0 & 3.4 & 4781 \\\\\n",
       "\t$\\dots$ & $\\dots$ & $\\dots$ & $\\dots$ & $\\dots$ & $\\dots$ & $\\dots$ \\\\\n",
       "\\end{tabular}\n"
      ],
      "text/plain": [
       "\u001b[1m7890×6 DataFrame\u001b[0m\n",
       "\u001b[1m  Row \u001b[0m│\u001b[1m Datetime                \u001b[0m\u001b[1m Latitude \u001b[0m\u001b[1m Longitude \u001b[0m\u001b[1m Depth   \u001b[0m\u001b[1m Magnitude \u001b[0m\u001b[1m cube\u001b[0m ⋯\n",
       "      │\u001b[90m DateTime                \u001b[0m\u001b[90m Float64  \u001b[0m\u001b[90m Float64   \u001b[0m\u001b[90m Float64 \u001b[0m\u001b[90m Float64   \u001b[0m\u001b[90m Int6\u001b[0m ⋯\n",
       "──────┼─────────────────────────────────────────────────────────────────────────\n",
       "    1 │ 1976-08-19T19:03:00.800   45.54      26.37      162.0        2.3       ⋯\n",
       "    2 │ 1976-09-07T17:38:08.200   45.62      26.5       155.3        3.6\n",
       "    3 │ 1976-10-01T17:50:43.200   45.68      26.49      146.0        6.0\n",
       "    4 │ 1977-03-04T19:21:54.100   45.77      26.76       94.0        7.4\n",
       "    5 │ 1977-03-04T21:21:01.100   45.22      26.65      141.0        3.0       ⋯\n",
       "    6 │ 1977-03-05T02:35:22       45.63      26.19      121.3        3.0\n",
       "    7 │ 1977-03-05T12:08:42       45.37      26.3       124.0        3.5\n",
       "    8 │ 1977-03-06T13:27:06.300   45.83      26.63      112.3        2.6\n",
       "  ⋮   │            ⋮                ⋮          ⋮         ⋮         ⋮           ⋱\n",
       " 7884 │ 2022-12-17T05:42:58.120   45.641     26.487     143.8        4.1       ⋯\n",
       " 7885 │ 2022-12-18T03:23:22.420   45.7235    26.6176    138.4        2.7\n",
       " 7886 │ 2022-12-19T19:32:11.030   45.7157    26.6342     85.7        2.7\n",
       " 7887 │ 2022-12-26T07:47:10.270   45.5403    26.5114    105.9        3.5\n",
       " 7888 │ 2022-12-27T16:00:52.890   45.5211    26.4184    110.2        2.5       ⋯\n",
       " 7889 │ 2022-12-28T07:38:54.270   45.7505    26.6086     85.2        2.9\n",
       " 7890 │ 2022-12-29T02:06:28.320   45.6714    26.6291    134.0        2.8\n",
       "\u001b[36m                                                  1 column and 7875 rows omitted\u001b[0m"
      ]
     },
     "metadata": {},
     "output_type": "display_data"
    }
   ],
   "source": [
    "vrancea"
   ]
  },
  {
   "cell_type": "code",
   "execution_count": 231,
   "metadata": {},
   "outputs": [],
   "source": []
  },
  {
   "cell_type": "code",
   "execution_count": 232,
   "metadata": {},
   "outputs": [
    {
     "data": {
      "text/plain": [
       "2.5"
      ]
     },
     "metadata": {},
     "output_type": "display_data"
    }
   ],
   "source": [
    "# A half cube value in every direction\n",
    "x_half_cube = (maxLat-minLat)/(2*xreal)\n",
    "y_half_cube = (maxLon-minLon)/(2*yreal)\n",
    "# For z Should always be side/2 (side=5 => 2.5 km)\n",
    "z_half_cube = (maxDepth-minDepth)/(2*zreal)"
   ]
  },
  {
   "cell_type": "code",
   "execution_count": 234,
   "metadata": {},
   "outputs": [],
   "source": [
    "# Formula is: minimum + half value * (2n-1) where n is a cube index in that direction\n",
    "cubeLatitude=[round(minLat + x_half_cube*(2*i-1), digits = 4) for i in xLatitude]\n",
    "cubeLongitude=[round(minLon + y_half_cube*(2*n-1), digits = 4) for n in yLongitude]\n",
    "cubeDepth=[round(minDepth + z_half_cube*(2*n-1), digits = 4) for n in zDepth];"
   ]
  },
  {
   "cell_type": "code",
   "execution_count": null,
   "metadata": {},
   "outputs": [],
   "source": []
  },
  {
   "cell_type": "code",
   "execution_count": 235,
   "metadata": {},
   "outputs": [
    {
     "data": {
      "text/html": [
       "<div><div style = \"float: left;\"><span>7890×7 DataFrame</span></div><div style = \"float: right;\"><span style = \"font-style: italic;\">7865 rows omitted</span></div><div style = \"clear: both;\"></div></div><div class = \"data-frame\" style = \"overflow-x: scroll;\"><table class = \"data-frame\" style = \"margin-bottom: 6px;\"><thead><tr class = \"header\"><th class = \"rowNumber\" style = \"font-weight: bold; text-align: right;\">Row</th><th style = \"text-align: left;\">cubeIndex</th><th style = \"text-align: left;\">xLatitude</th><th style = \"text-align: left;\">yLongitude</th><th style = \"text-align: left;\">zDepth</th><th style = \"text-align: left;\">cubeLatitude</th><th style = \"text-align: left;\">cubeLongitude</th><th style = \"text-align: left;\">cubeDepth</th></tr><tr class = \"subheader headerLastRow\"><th class = \"rowNumber\" style = \"font-weight: bold; text-align: right;\"></th><th title = \"Int64\" style = \"text-align: left;\">Int64</th><th title = \"Int64\" style = \"text-align: left;\">Int64</th><th title = \"Int64\" style = \"text-align: left;\">Int64</th><th title = \"Int64\" style = \"text-align: left;\">Int64</th><th title = \"Float64\" style = \"text-align: left;\">Float64</th><th title = \"Float64\" style = \"text-align: left;\">Float64</th><th title = \"Float64\" style = \"text-align: left;\">Float64</th></tr></thead><tbody><tr><td class = \"rowNumber\" style = \"font-weight: bold; text-align: right;\">1</td><td style = \"text-align: right;\">6433</td><td style = \"text-align: right;\">8</td><td style = \"text-align: right;\">6</td><td style = \"text-align: right;\">23</td><td style = \"text-align: right;\">45.5374</td><td style = \"text-align: right;\">26.35</td><td style = \"text-align: right;\">162.5</td></tr><tr><td class = \"rowNumber\" style = \"font-weight: bold; text-align: right;\">2</td><td style = \"text-align: right;\">6183</td><td style = \"text-align: right;\">10</td><td style = \"text-align: right;\">8</td><td style = \"text-align: right;\">22</td><td style = \"text-align: right;\">45.6274</td><td style = \"text-align: right;\">26.4773</td><td style = \"text-align: right;\">157.5</td></tr><tr><td class = \"rowNumber\" style = \"font-weight: bold; text-align: right;\">3</td><td style = \"text-align: right;\">5608</td><td style = \"text-align: right;\">11</td><td style = \"text-align: right;\">8</td><td style = \"text-align: right;\">20</td><td style = \"text-align: right;\">45.6724</td><td style = \"text-align: right;\">26.4773</td><td style = \"text-align: right;\">147.5</td></tr><tr><td class = \"rowNumber\" style = \"font-weight: bold; text-align: right;\">4</td><td style = \"text-align: right;\">2514</td><td style = \"text-align: right;\">13</td><td style = \"text-align: right;\">12</td><td style = \"text-align: right;\">9</td><td style = \"text-align: right;\">45.7623</td><td style = \"text-align: right;\">26.7318</td><td style = \"text-align: right;\">92.5</td></tr><tr><td class = \"rowNumber\" style = \"font-weight: bold; text-align: right;\">5</td><td style = \"text-align: right;\">5364</td><td style = \"text-align: right;\">1</td><td style = \"text-align: right;\">11</td><td style = \"text-align: right;\">19</td><td style = \"text-align: right;\">45.2225</td><td style = \"text-align: right;\">26.6682</td><td style = \"text-align: right;\">142.5</td></tr><tr><td class = \"rowNumber\" style = \"font-weight: bold; text-align: right;\">6</td><td style = \"text-align: right;\">4077</td><td style = \"text-align: right;\">10</td><td style = \"text-align: right;\">3</td><td style = \"text-align: right;\">15</td><td style = \"text-align: right;\">45.6274</td><td style = \"text-align: right;\">26.1591</td><td style = \"text-align: right;\">122.5</td></tr><tr><td class = \"rowNumber\" style = \"font-weight: bold; text-align: right;\">7</td><td style = \"text-align: right;\">4107</td><td style = \"text-align: right;\">4</td><td style = \"text-align: right;\">5</td><td style = \"text-align: right;\">15</td><td style = \"text-align: right;\">45.3575</td><td style = \"text-align: right;\">26.2864</td><td style = \"text-align: right;\">122.5</td></tr><tr><td class = \"rowNumber\" style = \"font-weight: bold; text-align: right;\">8</td><td style = \"text-align: right;\">3632</td><td style = \"text-align: right;\">15</td><td style = \"text-align: right;\">10</td><td style = \"text-align: right;\">13</td><td style = \"text-align: right;\">45.8523</td><td style = \"text-align: right;\">26.6046</td><td style = \"text-align: right;\">112.5</td></tr><tr><td class = \"rowNumber\" style = \"font-weight: bold; text-align: right;\">9</td><td style = \"text-align: right;\">1852</td><td style = \"text-align: right;\">17</td><td style = \"text-align: right;\">7</td><td style = \"text-align: right;\">7</td><td style = \"text-align: right;\">45.9423</td><td style = \"text-align: right;\">26.4136</td><td style = \"text-align: right;\">82.5</td></tr><tr><td class = \"rowNumber\" style = \"font-weight: bold; text-align: right;\">10</td><td style = \"text-align: right;\">3442</td><td style = \"text-align: right;\">5</td><td style = \"text-align: right;\">16</td><td style = \"text-align: right;\">12</td><td style = \"text-align: right;\">45.4024</td><td style = \"text-align: right;\">26.9864</td><td style = \"text-align: right;\">107.5</td></tr><tr><td class = \"rowNumber\" style = \"font-weight: bold; text-align: right;\">11</td><td style = \"text-align: right;\">2220</td><td style = \"text-align: right;\">7</td><td style = \"text-align: right;\">12</td><td style = \"text-align: right;\">8</td><td style = \"text-align: right;\">45.4924</td><td style = \"text-align: right;\">26.7318</td><td style = \"text-align: right;\">87.5</td></tr><tr><td class = \"rowNumber\" style = \"font-weight: bold; text-align: right;\">12</td><td style = \"text-align: right;\">2856</td><td style = \"text-align: right;\">13</td><td style = \"text-align: right;\">15</td><td style = \"text-align: right;\">10</td><td style = \"text-align: right;\">45.7623</td><td style = \"text-align: right;\">26.9227</td><td style = \"text-align: right;\">97.5</td></tr><tr><td class = \"rowNumber\" style = \"font-weight: bold; text-align: right;\">13</td><td style = \"text-align: right;\">3127</td><td style = \"text-align: right;\">14</td><td style = \"text-align: right;\">14</td><td style = \"text-align: right;\">11</td><td style = \"text-align: right;\">45.8073</td><td style = \"text-align: right;\">26.8591</td><td style = \"text-align: right;\">102.5</td></tr><tr><td style = \"text-align: right;\">&vellip;</td><td style = \"text-align: right;\">&vellip;</td><td style = \"text-align: right;\">&vellip;</td><td style = \"text-align: right;\">&vellip;</td><td style = \"text-align: right;\">&vellip;</td><td style = \"text-align: right;\">&vellip;</td><td style = \"text-align: right;\">&vellip;</td><td style = \"text-align: right;\">&vellip;</td></tr><tr><td class = \"rowNumber\" style = \"font-weight: bold; text-align: right;\">7879</td><td style = \"text-align: right;\">4415</td><td style = \"text-align: right;\">6</td><td style = \"text-align: right;\">6</td><td style = \"text-align: right;\">16</td><td style = \"text-align: right;\">45.4474</td><td style = \"text-align: right;\">26.35</td><td style = \"text-align: right;\">127.5</td></tr><tr><td class = \"rowNumber\" style = \"font-weight: bold; text-align: right;\">7880</td><td style = \"text-align: right;\">4529</td><td style = \"text-align: right;\">12</td><td style = \"text-align: right;\">12</td><td style = \"text-align: right;\">16</td><td style = \"text-align: right;\">45.7174</td><td style = \"text-align: right;\">26.7318</td><td style = \"text-align: right;\">127.5</td></tr><tr><td class = \"rowNumber\" style = \"font-weight: bold; text-align: right;\">7881</td><td style = \"text-align: right;\">4414</td><td style = \"text-align: right;\">5</td><td style = \"text-align: right;\">6</td><td style = \"text-align: right;\">16</td><td style = \"text-align: right;\">45.4024</td><td style = \"text-align: right;\">26.35</td><td style = \"text-align: right;\">127.5</td></tr><tr><td class = \"rowNumber\" style = \"font-weight: bold; text-align: right;\">7882</td><td style = \"text-align: right;\">5303</td><td style = \"text-align: right;\">12</td><td style = \"text-align: right;\">7</td><td style = \"text-align: right;\">19</td><td style = \"text-align: right;\">45.7174</td><td style = \"text-align: right;\">26.4136</td><td style = \"text-align: right;\">142.5</td></tr><tr><td class = \"rowNumber\" style = \"font-weight: bold; text-align: right;\">7883</td><td style = \"text-align: right;\">2207</td><td style = \"text-align: right;\">12</td><td style = \"text-align: right;\">11</td><td style = \"text-align: right;\">8</td><td style = \"text-align: right;\">45.7174</td><td style = \"text-align: right;\">26.6682</td><td style = \"text-align: right;\">87.5</td></tr><tr><td class = \"rowNumber\" style = \"font-weight: bold; text-align: right;\">7884</td><td style = \"text-align: right;\">5319</td><td style = \"text-align: right;\">10</td><td style = \"text-align: right;\">8</td><td style = \"text-align: right;\">19</td><td style = \"text-align: right;\">45.6274</td><td style = \"text-align: right;\">26.4773</td><td style = \"text-align: right;\">142.5</td></tr><tr><td class = \"rowNumber\" style = \"font-weight: bold; text-align: right;\">7885</td><td style = \"text-align: right;\">5069</td><td style = \"text-align: right;\">12</td><td style = \"text-align: right;\">10</td><td style = \"text-align: right;\">18</td><td style = \"text-align: right;\">45.7174</td><td style = \"text-align: right;\">26.6046</td><td style = \"text-align: right;\">137.5</td></tr><tr><td class = \"rowNumber\" style = \"font-weight: bold; text-align: right;\">7886</td><td style = \"text-align: right;\">2189</td><td style = \"text-align: right;\">12</td><td style = \"text-align: right;\">10</td><td style = \"text-align: right;\">8</td><td style = \"text-align: right;\">45.7174</td><td style = \"text-align: right;\">26.6046</td><td style = \"text-align: right;\">87.5</td></tr><tr><td class = \"rowNumber\" style = \"font-weight: bold; text-align: right;\">7887</td><td style = \"text-align: right;\">3319</td><td style = \"text-align: right;\">8</td><td style = \"text-align: right;\">9</td><td style = \"text-align: right;\">12</td><td style = \"text-align: right;\">45.5374</td><td style = \"text-align: right;\">26.5409</td><td style = \"text-align: right;\">107.5</td></tr><tr><td class = \"rowNumber\" style = \"font-weight: bold; text-align: right;\">7888</td><td style = \"text-align: right;\">3571</td><td style = \"text-align: right;\">8</td><td style = \"text-align: right;\">7</td><td style = \"text-align: right;\">13</td><td style = \"text-align: right;\">45.5374</td><td style = \"text-align: right;\">26.4136</td><td style = \"text-align: right;\">112.5</td></tr><tr><td class = \"rowNumber\" style = \"font-weight: bold; text-align: right;\">7889</td><td style = \"text-align: right;\">2190</td><td style = \"text-align: right;\">13</td><td style = \"text-align: right;\">10</td><td style = \"text-align: right;\">8</td><td style = \"text-align: right;\">45.7623</td><td style = \"text-align: right;\">26.6046</td><td style = \"text-align: right;\">87.5</td></tr><tr><td class = \"rowNumber\" style = \"font-weight: bold; text-align: right;\">7890</td><td style = \"text-align: right;\">4780</td><td style = \"text-align: right;\">11</td><td style = \"text-align: right;\">10</td><td style = \"text-align: right;\">17</td><td style = \"text-align: right;\">45.6724</td><td style = \"text-align: right;\">26.6046</td><td style = \"text-align: right;\">132.5</td></tr></tbody></table></div>"
      ],
      "text/latex": [
       "\\begin{tabular}{r|ccccccc}\n",
       "\t& cubeIndex & xLatitude & yLongitude & zDepth & cubeLatitude & cubeLongitude & cubeDepth\\\\\n",
       "\t\\hline\n",
       "\t& Int64 & Int64 & Int64 & Int64 & Float64 & Float64 & Float64\\\\\n",
       "\t\\hline\n",
       "\t1 & 6433 & 8 & 6 & 23 & 45.5374 & 26.35 & 162.5 \\\\\n",
       "\t2 & 6183 & 10 & 8 & 22 & 45.6274 & 26.4773 & 157.5 \\\\\n",
       "\t3 & 5608 & 11 & 8 & 20 & 45.6724 & 26.4773 & 147.5 \\\\\n",
       "\t4 & 2514 & 13 & 12 & 9 & 45.7623 & 26.7318 & 92.5 \\\\\n",
       "\t5 & 5364 & 1 & 11 & 19 & 45.2225 & 26.6682 & 142.5 \\\\\n",
       "\t6 & 4077 & 10 & 3 & 15 & 45.6274 & 26.1591 & 122.5 \\\\\n",
       "\t7 & 4107 & 4 & 5 & 15 & 45.3575 & 26.2864 & 122.5 \\\\\n",
       "\t8 & 3632 & 15 & 10 & 13 & 45.8523 & 26.6046 & 112.5 \\\\\n",
       "\t9 & 1852 & 17 & 7 & 7 & 45.9423 & 26.4136 & 82.5 \\\\\n",
       "\t10 & 3442 & 5 & 16 & 12 & 45.4024 & 26.9864 & 107.5 \\\\\n",
       "\t11 & 2220 & 7 & 12 & 8 & 45.4924 & 26.7318 & 87.5 \\\\\n",
       "\t12 & 2856 & 13 & 15 & 10 & 45.7623 & 26.9227 & 97.5 \\\\\n",
       "\t13 & 3127 & 14 & 14 & 11 & 45.8073 & 26.8591 & 102.5 \\\\\n",
       "\t14 & 2819 & 12 & 13 & 10 & 45.7174 & 26.7955 & 97.5 \\\\\n",
       "\t15 & 2189 & 12 & 10 & 8 & 45.7174 & 26.6046 & 87.5 \\\\\n",
       "\t16 & 1074 & 13 & 12 & 4 & 45.7623 & 26.7318 & 67.5 \\\\\n",
       "\t17 & 6666 & 7 & 3 & 24 & 45.4924 & 26.1591 & 167.5 \\\\\n",
       "\t18 & 4152 & 13 & 7 & 15 & 45.7623 & 26.4136 & 122.5 \\\\\n",
       "\t19 & 3932 & 9 & 11 & 14 & 45.5824 & 26.6682 & 117.5 \\\\\n",
       "\t20 & 2361 & 4 & 4 & 9 & 45.3575 & 26.2227 & 92.5 \\\\\n",
       "\t21 & 5934 & 13 & 10 & 21 & 45.7623 & 26.6046 & 152.5 \\\\\n",
       "\t22 & 4205 & 12 & 10 & 15 & 45.7174 & 26.6046 & 122.5 \\\\\n",
       "\t23 & 3356 & 9 & 11 & 12 & 45.5824 & 26.6682 & 107.5 \\\\\n",
       "\t24 & 4781 & 12 & 10 & 17 & 45.7174 & 26.6046 & 132.5 \\\\\n",
       "\t$\\dots$ & $\\dots$ & $\\dots$ & $\\dots$ & $\\dots$ & $\\dots$ & $\\dots$ & $\\dots$ \\\\\n",
       "\\end{tabular}\n"
      ],
      "text/plain": [
       "\u001b[1m7890×7 DataFrame\u001b[0m\n",
       "\u001b[1m  Row \u001b[0m│\u001b[1m cubeIndex \u001b[0m\u001b[1m xLatitude \u001b[0m\u001b[1m yLongitude \u001b[0m\u001b[1m zDepth \u001b[0m\u001b[1m cubeLatitude \u001b[0m\u001b[1m cubeLongitude \u001b[0m\u001b[1m\u001b[0m ⋯\n",
       "      │\u001b[90m Int64     \u001b[0m\u001b[90m Int64     \u001b[0m\u001b[90m Int64      \u001b[0m\u001b[90m Int64  \u001b[0m\u001b[90m Float64      \u001b[0m\u001b[90m Float64       \u001b[0m\u001b[90m\u001b[0m ⋯\n",
       "──────┼─────────────────────────────────────────────────────────────────────────\n",
       "    1 │      6433          8           6      23       45.5374        26.35    ⋯\n",
       "    2 │      6183         10           8      22       45.6274        26.4773\n",
       "    3 │      5608         11           8      20       45.6724        26.4773\n",
       "    4 │      2514         13          12       9       45.7623        26.7318\n",
       "    5 │      5364          1          11      19       45.2225        26.6682  ⋯\n",
       "    6 │      4077         10           3      15       45.6274        26.1591\n",
       "    7 │      4107          4           5      15       45.3575        26.2864\n",
       "    8 │      3632         15          10      13       45.8523        26.6046\n",
       "  ⋮   │     ⋮          ⋮          ⋮         ⋮          ⋮              ⋮        ⋱\n",
       " 7884 │      5319         10           8      19       45.6274        26.4773  ⋯\n",
       " 7885 │      5069         12          10      18       45.7174        26.6046\n",
       " 7886 │      2189         12          10       8       45.7174        26.6046\n",
       " 7887 │      3319          8           9      12       45.5374        26.5409\n",
       " 7888 │      3571          8           7      13       45.5374        26.4136  ⋯\n",
       " 7889 │      2190         13          10       8       45.7623        26.6046\n",
       " 7890 │      4780         11          10      17       45.6724        26.6046\n",
       "\u001b[36m                                                  1 column and 7875 rows omitted\u001b[0m"
      ]
     },
     "metadata": {},
     "output_type": "display_data"
    }
   ],
   "source": [
    "vrancea_cubes = DataFrame(\n",
    "    # index of the cube\n",
    "    cubeIndex = cubeIndex,\n",
    "    # Index on each respective dimension\n",
    "    xLatitude = xLatitude,\n",
    "    yLongitude = yLongitude,\n",
    "    zDepth = zDepth,\n",
    "    # Position of cube center in every respective dimension\n",
    "    cubeLatitude = cubeLatitude,\n",
    "    cubeLongitude = cubeLongitude,\n",
    "    cubeDepth = cubeDepth\n",
    "    )"
   ]
  },
  {
   "cell_type": "code",
   "execution_count": 238,
   "metadata": {},
   "outputs": [
    {
     "data": {
      "text/html": [
       "<div><div style = \"float: left;\"><span>1727×7 DataFrame</span></div><div style = \"float: right;\"><span style = \"font-style: italic;\">1702 rows omitted</span></div><div style = \"clear: both;\"></div></div><div class = \"data-frame\" style = \"overflow-x: scroll;\"><table class = \"data-frame\" style = \"margin-bottom: 6px;\"><thead><tr class = \"header\"><th class = \"rowNumber\" style = \"font-weight: bold; text-align: right;\">Row</th><th style = \"text-align: left;\">cubeIndex</th><th style = \"text-align: left;\">xLatitude</th><th style = \"text-align: left;\">yLongitude</th><th style = \"text-align: left;\">zDepth</th><th style = \"text-align: left;\">cubeLatitude</th><th style = \"text-align: left;\">cubeLongitude</th><th style = \"text-align: left;\">cubeDepth</th></tr><tr class = \"subheader headerLastRow\"><th class = \"rowNumber\" style = \"font-weight: bold; text-align: right;\"></th><th title = \"Int64\" style = \"text-align: left;\">Int64</th><th title = \"Int64\" style = \"text-align: left;\">Int64</th><th title = \"Int64\" style = \"text-align: left;\">Int64</th><th title = \"Int64\" style = \"text-align: left;\">Int64</th><th title = \"Float64\" style = \"text-align: left;\">Float64</th><th title = \"Float64\" style = \"text-align: left;\">Float64</th><th title = \"Float64\" style = \"text-align: left;\">Float64</th></tr></thead><tbody><tr><td class = \"rowNumber\" style = \"font-weight: bold; text-align: right;\">1</td><td style = \"text-align: right;\">6433</td><td style = \"text-align: right;\">8</td><td style = \"text-align: right;\">6</td><td style = \"text-align: right;\">23</td><td style = \"text-align: right;\">45.5374</td><td style = \"text-align: right;\">26.35</td><td style = \"text-align: right;\">162.5</td></tr><tr><td class = \"rowNumber\" style = \"font-weight: bold; text-align: right;\">2</td><td style = \"text-align: right;\">6183</td><td style = \"text-align: right;\">10</td><td style = \"text-align: right;\">8</td><td style = \"text-align: right;\">22</td><td style = \"text-align: right;\">45.6274</td><td style = \"text-align: right;\">26.4773</td><td style = \"text-align: right;\">157.5</td></tr><tr><td class = \"rowNumber\" style = \"font-weight: bold; text-align: right;\">3</td><td style = \"text-align: right;\">5608</td><td style = \"text-align: right;\">11</td><td style = \"text-align: right;\">8</td><td style = \"text-align: right;\">20</td><td style = \"text-align: right;\">45.6724</td><td style = \"text-align: right;\">26.4773</td><td style = \"text-align: right;\">147.5</td></tr><tr><td class = \"rowNumber\" style = \"font-weight: bold; text-align: right;\">4</td><td style = \"text-align: right;\">2514</td><td style = \"text-align: right;\">13</td><td style = \"text-align: right;\">12</td><td style = \"text-align: right;\">9</td><td style = \"text-align: right;\">45.7623</td><td style = \"text-align: right;\">26.7318</td><td style = \"text-align: right;\">92.5</td></tr><tr><td class = \"rowNumber\" style = \"font-weight: bold; text-align: right;\">5</td><td style = \"text-align: right;\">5364</td><td style = \"text-align: right;\">1</td><td style = \"text-align: right;\">11</td><td style = \"text-align: right;\">19</td><td style = \"text-align: right;\">45.2225</td><td style = \"text-align: right;\">26.6682</td><td style = \"text-align: right;\">142.5</td></tr><tr><td class = \"rowNumber\" style = \"font-weight: bold; text-align: right;\">6</td><td style = \"text-align: right;\">4077</td><td style = \"text-align: right;\">10</td><td style = \"text-align: right;\">3</td><td style = \"text-align: right;\">15</td><td style = \"text-align: right;\">45.6274</td><td style = \"text-align: right;\">26.1591</td><td style = \"text-align: right;\">122.5</td></tr><tr><td class = \"rowNumber\" style = \"font-weight: bold; text-align: right;\">7</td><td style = \"text-align: right;\">4107</td><td style = \"text-align: right;\">4</td><td style = \"text-align: right;\">5</td><td style = \"text-align: right;\">15</td><td style = \"text-align: right;\">45.3575</td><td style = \"text-align: right;\">26.2864</td><td style = \"text-align: right;\">122.5</td></tr><tr><td class = \"rowNumber\" style = \"font-weight: bold; text-align: right;\">8</td><td style = \"text-align: right;\">3632</td><td style = \"text-align: right;\">15</td><td style = \"text-align: right;\">10</td><td style = \"text-align: right;\">13</td><td style = \"text-align: right;\">45.8523</td><td style = \"text-align: right;\">26.6046</td><td style = \"text-align: right;\">112.5</td></tr><tr><td class = \"rowNumber\" style = \"font-weight: bold; text-align: right;\">9</td><td style = \"text-align: right;\">1852</td><td style = \"text-align: right;\">17</td><td style = \"text-align: right;\">7</td><td style = \"text-align: right;\">7</td><td style = \"text-align: right;\">45.9423</td><td style = \"text-align: right;\">26.4136</td><td style = \"text-align: right;\">82.5</td></tr><tr><td class = \"rowNumber\" style = \"font-weight: bold; text-align: right;\">10</td><td style = \"text-align: right;\">3442</td><td style = \"text-align: right;\">5</td><td style = \"text-align: right;\">16</td><td style = \"text-align: right;\">12</td><td style = \"text-align: right;\">45.4024</td><td style = \"text-align: right;\">26.9864</td><td style = \"text-align: right;\">107.5</td></tr><tr><td class = \"rowNumber\" style = \"font-weight: bold; text-align: right;\">11</td><td style = \"text-align: right;\">2220</td><td style = \"text-align: right;\">7</td><td style = \"text-align: right;\">12</td><td style = \"text-align: right;\">8</td><td style = \"text-align: right;\">45.4924</td><td style = \"text-align: right;\">26.7318</td><td style = \"text-align: right;\">87.5</td></tr><tr><td class = \"rowNumber\" style = \"font-weight: bold; text-align: right;\">12</td><td style = \"text-align: right;\">2856</td><td style = \"text-align: right;\">13</td><td style = \"text-align: right;\">15</td><td style = \"text-align: right;\">10</td><td style = \"text-align: right;\">45.7623</td><td style = \"text-align: right;\">26.9227</td><td style = \"text-align: right;\">97.5</td></tr><tr><td class = \"rowNumber\" style = \"font-weight: bold; text-align: right;\">13</td><td style = \"text-align: right;\">3127</td><td style = \"text-align: right;\">14</td><td style = \"text-align: right;\">14</td><td style = \"text-align: right;\">11</td><td style = \"text-align: right;\">45.8073</td><td style = \"text-align: right;\">26.8591</td><td style = \"text-align: right;\">102.5</td></tr><tr><td style = \"text-align: right;\">&vellip;</td><td style = \"text-align: right;\">&vellip;</td><td style = \"text-align: right;\">&vellip;</td><td style = \"text-align: right;\">&vellip;</td><td style = \"text-align: right;\">&vellip;</td><td style = \"text-align: right;\">&vellip;</td><td style = \"text-align: right;\">&vellip;</td><td style = \"text-align: right;\">&vellip;</td></tr><tr><td class = \"rowNumber\" style = \"font-weight: bold; text-align: right;\">1716</td><td style = \"text-align: right;\">2956</td><td style = \"text-align: right;\">5</td><td style = \"text-align: right;\">5</td><td style = \"text-align: right;\">11</td><td style = \"text-align: right;\">45.4024</td><td style = \"text-align: right;\">26.2864</td><td style = \"text-align: right;\">102.5</td></tr><tr><td class = \"rowNumber\" style = \"font-weight: bold; text-align: right;\">1717</td><td style = \"text-align: right;\">1129</td><td style = \"text-align: right;\">14</td><td style = \"text-align: right;\">15</td><td style = \"text-align: right;\">4</td><td style = \"text-align: right;\">45.8073</td><td style = \"text-align: right;\">26.9227</td><td style = \"text-align: right;\">67.5</td></tr><tr><td class = \"rowNumber\" style = \"font-weight: bold; text-align: right;\">1718</td><td style = \"text-align: right;\">3656</td><td style = \"text-align: right;\">3</td><td style = \"text-align: right;\">12</td><td style = \"text-align: right;\">13</td><td style = \"text-align: right;\">45.3125</td><td style = \"text-align: right;\">26.7318</td><td style = \"text-align: right;\">112.5</td></tr><tr><td class = \"rowNumber\" style = \"font-weight: bold; text-align: right;\">1719</td><td style = \"text-align: right;\">2721</td><td style = \"text-align: right;\">4</td><td style = \"text-align: right;\">8</td><td style = \"text-align: right;\">10</td><td style = \"text-align: right;\">45.3575</td><td style = \"text-align: right;\">26.4773</td><td style = \"text-align: right;\">97.5</td></tr><tr><td class = \"rowNumber\" style = \"font-weight: bold; text-align: right;\">1720</td><td style = \"text-align: right;\">2401</td><td style = \"text-align: right;\">8</td><td style = \"text-align: right;\">6</td><td style = \"text-align: right;\">9</td><td style = \"text-align: right;\">45.5374</td><td style = \"text-align: right;\">26.35</td><td style = \"text-align: right;\">92.5</td></tr><tr><td class = \"rowNumber\" style = \"font-weight: bold; text-align: right;\">1721</td><td style = \"text-align: right;\">3270</td><td style = \"text-align: right;\">13</td><td style = \"text-align: right;\">6</td><td style = \"text-align: right;\">12</td><td style = \"text-align: right;\">45.7623</td><td style = \"text-align: right;\">26.35</td><td style = \"text-align: right;\">107.5</td></tr><tr><td class = \"rowNumber\" style = \"font-weight: bold; text-align: right;\">1722</td><td style = \"text-align: right;\">809</td><td style = \"text-align: right;\">18</td><td style = \"text-align: right;\">13</td><td style = \"text-align: right;\">3</td><td style = \"text-align: right;\">45.9873</td><td style = \"text-align: right;\">26.7955</td><td style = \"text-align: right;\">62.5</td></tr><tr><td class = \"rowNumber\" style = \"font-weight: bold; text-align: right;\">1723</td><td style = \"text-align: right;\">3198</td><td style = \"text-align: right;\">13</td><td style = \"text-align: right;\">2</td><td style = \"text-align: right;\">12</td><td style = \"text-align: right;\">45.7623</td><td style = \"text-align: right;\">26.0955</td><td style = \"text-align: right;\">107.5</td></tr><tr><td class = \"rowNumber\" style = \"font-weight: bold; text-align: right;\">1724</td><td style = \"text-align: right;\">4813</td><td style = \"text-align: right;\">8</td><td style = \"text-align: right;\">12</td><td style = \"text-align: right;\">17</td><td style = \"text-align: right;\">45.5374</td><td style = \"text-align: right;\">26.7318</td><td style = \"text-align: right;\">132.5</td></tr><tr><td class = \"rowNumber\" style = \"font-weight: bold; text-align: right;\">1725</td><td style = \"text-align: right;\">3824</td><td style = \"text-align: right;\">9</td><td style = \"text-align: right;\">5</td><td style = \"text-align: right;\">14</td><td style = \"text-align: right;\">45.5824</td><td style = \"text-align: right;\">26.2864</td><td style = \"text-align: right;\">117.5</td></tr><tr><td class = \"rowNumber\" style = \"font-weight: bold; text-align: right;\">1726</td><td style = \"text-align: right;\">601</td><td style = \"text-align: right;\">8</td><td style = \"text-align: right;\">2</td><td style = \"text-align: right;\">3</td><td style = \"text-align: right;\">45.5374</td><td style = \"text-align: right;\">26.0955</td><td style = \"text-align: right;\">62.5</td></tr><tr><td class = \"rowNumber\" style = \"font-weight: bold; text-align: right;\">1727</td><td style = \"text-align: right;\">265</td><td style = \"text-align: right;\">14</td><td style = \"text-align: right;\">15</td><td style = \"text-align: right;\">1</td><td style = \"text-align: right;\">45.8073</td><td style = \"text-align: right;\">26.9227</td><td style = \"text-align: right;\">52.5</td></tr></tbody></table></div>"
      ],
      "text/latex": [
       "\\begin{tabular}{r|ccccccc}\n",
       "\t& cubeIndex & xLatitude & yLongitude & zDepth & cubeLatitude & cubeLongitude & cubeDepth\\\\\n",
       "\t\\hline\n",
       "\t& Int64 & Int64 & Int64 & Int64 & Float64 & Float64 & Float64\\\\\n",
       "\t\\hline\n",
       "\t1 & 6433 & 8 & 6 & 23 & 45.5374 & 26.35 & 162.5 \\\\\n",
       "\t2 & 6183 & 10 & 8 & 22 & 45.6274 & 26.4773 & 157.5 \\\\\n",
       "\t3 & 5608 & 11 & 8 & 20 & 45.6724 & 26.4773 & 147.5 \\\\\n",
       "\t4 & 2514 & 13 & 12 & 9 & 45.7623 & 26.7318 & 92.5 \\\\\n",
       "\t5 & 5364 & 1 & 11 & 19 & 45.2225 & 26.6682 & 142.5 \\\\\n",
       "\t6 & 4077 & 10 & 3 & 15 & 45.6274 & 26.1591 & 122.5 \\\\\n",
       "\t7 & 4107 & 4 & 5 & 15 & 45.3575 & 26.2864 & 122.5 \\\\\n",
       "\t8 & 3632 & 15 & 10 & 13 & 45.8523 & 26.6046 & 112.5 \\\\\n",
       "\t9 & 1852 & 17 & 7 & 7 & 45.9423 & 26.4136 & 82.5 \\\\\n",
       "\t10 & 3442 & 5 & 16 & 12 & 45.4024 & 26.9864 & 107.5 \\\\\n",
       "\t11 & 2220 & 7 & 12 & 8 & 45.4924 & 26.7318 & 87.5 \\\\\n",
       "\t12 & 2856 & 13 & 15 & 10 & 45.7623 & 26.9227 & 97.5 \\\\\n",
       "\t13 & 3127 & 14 & 14 & 11 & 45.8073 & 26.8591 & 102.5 \\\\\n",
       "\t14 & 2819 & 12 & 13 & 10 & 45.7174 & 26.7955 & 97.5 \\\\\n",
       "\t15 & 2189 & 12 & 10 & 8 & 45.7174 & 26.6046 & 87.5 \\\\\n",
       "\t16 & 1074 & 13 & 12 & 4 & 45.7623 & 26.7318 & 67.5 \\\\\n",
       "\t17 & 6666 & 7 & 3 & 24 & 45.4924 & 26.1591 & 167.5 \\\\\n",
       "\t18 & 4152 & 13 & 7 & 15 & 45.7623 & 26.4136 & 122.5 \\\\\n",
       "\t19 & 3932 & 9 & 11 & 14 & 45.5824 & 26.6682 & 117.5 \\\\\n",
       "\t20 & 2361 & 4 & 4 & 9 & 45.3575 & 26.2227 & 92.5 \\\\\n",
       "\t21 & 5934 & 13 & 10 & 21 & 45.7623 & 26.6046 & 152.5 \\\\\n",
       "\t22 & 4205 & 12 & 10 & 15 & 45.7174 & 26.6046 & 122.5 \\\\\n",
       "\t23 & 3356 & 9 & 11 & 12 & 45.5824 & 26.6682 & 107.5 \\\\\n",
       "\t24 & 4781 & 12 & 10 & 17 & 45.7174 & 26.6046 & 132.5 \\\\\n",
       "\t$\\dots$ & $\\dots$ & $\\dots$ & $\\dots$ & $\\dots$ & $\\dots$ & $\\dots$ & $\\dots$ \\\\\n",
       "\\end{tabular}\n"
      ],
      "text/plain": [
       "\u001b[1m1727×7 DataFrame\u001b[0m\n",
       "\u001b[1m  Row \u001b[0m│\u001b[1m cubeIndex \u001b[0m\u001b[1m xLatitude \u001b[0m\u001b[1m yLongitude \u001b[0m\u001b[1m zDepth \u001b[0m\u001b[1m cubeLatitude \u001b[0m\u001b[1m cubeLongitude \u001b[0m\u001b[1m\u001b[0m ⋯\n",
       "      │\u001b[90m Int64     \u001b[0m\u001b[90m Int64     \u001b[0m\u001b[90m Int64      \u001b[0m\u001b[90m Int64  \u001b[0m\u001b[90m Float64      \u001b[0m\u001b[90m Float64       \u001b[0m\u001b[90m\u001b[0m ⋯\n",
       "──────┼─────────────────────────────────────────────────────────────────────────\n",
       "    1 │      6433          8           6      23       45.5374        26.35    ⋯\n",
       "    2 │      6183         10           8      22       45.6274        26.4773\n",
       "    3 │      5608         11           8      20       45.6724        26.4773\n",
       "    4 │      2514         13          12       9       45.7623        26.7318\n",
       "    5 │      5364          1          11      19       45.2225        26.6682  ⋯\n",
       "    6 │      4077         10           3      15       45.6274        26.1591\n",
       "    7 │      4107          4           5      15       45.3575        26.2864\n",
       "    8 │      3632         15          10      13       45.8523        26.6046\n",
       "  ⋮   │     ⋮          ⋮          ⋮         ⋮          ⋮              ⋮        ⋱\n",
       " 1721 │      3270         13           6      12       45.7623        26.35    ⋯\n",
       " 1722 │       809         18          13       3       45.9873        26.7955\n",
       " 1723 │      3198         13           2      12       45.7623        26.0955\n",
       " 1724 │      4813          8          12      17       45.5374        26.7318\n",
       " 1725 │      3824          9           5      14       45.5824        26.2864  ⋯\n",
       " 1726 │       601          8           2       3       45.5374        26.0955\n",
       " 1727 │       265         14          15       1       45.8073        26.9227\n",
       "\u001b[36m                                                  1 column and 1712 rows omitted\u001b[0m"
      ]
     },
     "metadata": {},
     "output_type": "display_data"
    }
   ],
   "source": [
    "unique!(vrancea_cubes)"
   ]
  },
  {
   "cell_type": "code",
   "execution_count": 240,
   "metadata": {},
   "outputs": [
    {
     "data": {
      "text/html": [
       "<div><div style = \"float: left;\"><span>7890×6 DataFrame</span></div><div style = \"float: right;\"><span style = \"font-style: italic;\">7865 rows omitted</span></div><div style = \"clear: both;\"></div></div><div class = \"data-frame\" style = \"overflow-x: scroll;\"><table class = \"data-frame\" style = \"margin-bottom: 6px;\"><thead><tr class = \"header\"><th class = \"rowNumber\" style = \"font-weight: bold; text-align: right;\">Row</th><th style = \"text-align: left;\">Datetime</th><th style = \"text-align: left;\">Latitude</th><th style = \"text-align: left;\">Longitude</th><th style = \"text-align: left;\">Depth</th><th style = \"text-align: left;\">Magnitude</th><th style = \"text-align: left;\">cubeIndex</th></tr><tr class = \"subheader headerLastRow\"><th class = \"rowNumber\" style = \"font-weight: bold; text-align: right;\"></th><th title = \"DateTime\" style = \"text-align: left;\">DateTime</th><th title = \"Float64\" style = \"text-align: left;\">Float64</th><th title = \"Float64\" style = \"text-align: left;\">Float64</th><th title = \"Float64\" style = \"text-align: left;\">Float64</th><th title = \"Float64\" style = \"text-align: left;\">Float64</th><th title = \"Int64\" style = \"text-align: left;\">Int64</th></tr></thead><tbody><tr><td class = \"rowNumber\" style = \"font-weight: bold; text-align: right;\">1</td><td style = \"text-align: left;\">1976-08-19T19:03:00.800</td><td style = \"text-align: right;\">45.54</td><td style = \"text-align: right;\">26.37</td><td style = \"text-align: right;\">162.0</td><td style = \"text-align: right;\">2.3</td><td style = \"text-align: right;\">6433</td></tr><tr><td class = \"rowNumber\" style = \"font-weight: bold; text-align: right;\">2</td><td style = \"text-align: left;\">1976-09-07T17:38:08.200</td><td style = \"text-align: right;\">45.62</td><td style = \"text-align: right;\">26.5</td><td style = \"text-align: right;\">155.3</td><td style = \"text-align: right;\">3.6</td><td style = \"text-align: right;\">6183</td></tr><tr><td class = \"rowNumber\" style = \"font-weight: bold; text-align: right;\">3</td><td style = \"text-align: left;\">1976-10-01T17:50:43.200</td><td style = \"text-align: right;\">45.68</td><td style = \"text-align: right;\">26.49</td><td style = \"text-align: right;\">146.0</td><td style = \"text-align: right;\">6.0</td><td style = \"text-align: right;\">5608</td></tr><tr><td class = \"rowNumber\" style = \"font-weight: bold; text-align: right;\">4</td><td style = \"text-align: left;\">1977-03-04T19:21:54.100</td><td style = \"text-align: right;\">45.77</td><td style = \"text-align: right;\">26.76</td><td style = \"text-align: right;\">94.0</td><td style = \"text-align: right;\">7.4</td><td style = \"text-align: right;\">2514</td></tr><tr><td class = \"rowNumber\" style = \"font-weight: bold; text-align: right;\">5</td><td style = \"text-align: left;\">1977-03-04T21:21:01.100</td><td style = \"text-align: right;\">45.22</td><td style = \"text-align: right;\">26.65</td><td style = \"text-align: right;\">141.0</td><td style = \"text-align: right;\">3.0</td><td style = \"text-align: right;\">5364</td></tr><tr><td class = \"rowNumber\" style = \"font-weight: bold; text-align: right;\">6</td><td style = \"text-align: left;\">1977-03-05T02:35:22</td><td style = \"text-align: right;\">45.63</td><td style = \"text-align: right;\">26.19</td><td style = \"text-align: right;\">121.3</td><td style = \"text-align: right;\">3.0</td><td style = \"text-align: right;\">4077</td></tr><tr><td class = \"rowNumber\" style = \"font-weight: bold; text-align: right;\">7</td><td style = \"text-align: left;\">1977-03-05T12:08:42</td><td style = \"text-align: right;\">45.37</td><td style = \"text-align: right;\">26.3</td><td style = \"text-align: right;\">124.0</td><td style = \"text-align: right;\">3.5</td><td style = \"text-align: right;\">4107</td></tr><tr><td class = \"rowNumber\" style = \"font-weight: bold; text-align: right;\">8</td><td style = \"text-align: left;\">1977-03-06T13:27:06.300</td><td style = \"text-align: right;\">45.83</td><td style = \"text-align: right;\">26.63</td><td style = \"text-align: right;\">112.3</td><td style = \"text-align: right;\">2.6</td><td style = \"text-align: right;\">3632</td></tr><tr><td class = \"rowNumber\" style = \"font-weight: bold; text-align: right;\">9</td><td style = \"text-align: left;\">1977-03-08T18:44:56.500</td><td style = \"text-align: right;\">45.96</td><td style = \"text-align: right;\">26.44</td><td style = \"text-align: right;\">80.4</td><td style = \"text-align: right;\">1.9</td><td style = \"text-align: right;\">1852</td></tr><tr><td class = \"rowNumber\" style = \"font-weight: bold; text-align: right;\">10</td><td style = \"text-align: left;\">1977-03-09T10:37:29.700</td><td style = \"text-align: right;\">45.38</td><td style = \"text-align: right;\">27.0</td><td style = \"text-align: right;\">108.0</td><td style = \"text-align: right;\">3.0</td><td style = \"text-align: right;\">3442</td></tr><tr><td class = \"rowNumber\" style = \"font-weight: bold; text-align: right;\">11</td><td style = \"text-align: left;\">1977-03-11T21:19:07.300</td><td style = \"text-align: right;\">45.49</td><td style = \"text-align: right;\">26.76</td><td style = \"text-align: right;\">87.1</td><td style = \"text-align: right;\">2.2</td><td style = \"text-align: right;\">2220</td></tr><tr><td class = \"rowNumber\" style = \"font-weight: bold; text-align: right;\">12</td><td style = \"text-align: left;\">1977-03-12T13:27:13.300</td><td style = \"text-align: right;\">45.74</td><td style = \"text-align: right;\">26.9</td><td style = \"text-align: right;\">99.9</td><td style = \"text-align: right;\">3.8</td><td style = \"text-align: right;\">2856</td></tr><tr><td class = \"rowNumber\" style = \"font-weight: bold; text-align: right;\">13</td><td style = \"text-align: left;\">1977-03-12T18:02:15.200</td><td style = \"text-align: right;\">45.79</td><td style = \"text-align: right;\">26.89</td><td style = \"text-align: right;\">100.0</td><td style = \"text-align: right;\">3.5</td><td style = \"text-align: right;\">3127</td></tr><tr><td style = \"text-align: right;\">&vellip;</td><td style = \"text-align: right;\">&vellip;</td><td style = \"text-align: right;\">&vellip;</td><td style = \"text-align: right;\">&vellip;</td><td style = \"text-align: right;\">&vellip;</td><td style = \"text-align: right;\">&vellip;</td><td style = \"text-align: right;\">&vellip;</td></tr><tr><td class = \"rowNumber\" style = \"font-weight: bold; text-align: right;\">7879</td><td style = \"text-align: left;\">2022-12-09T00:52:37.880</td><td style = \"text-align: right;\">45.4519</td><td style = \"text-align: right;\">26.336</td><td style = \"text-align: right;\">129.6</td><td style = \"text-align: right;\">3.0</td><td style = \"text-align: right;\">4415</td></tr><tr><td class = \"rowNumber\" style = \"font-weight: bold; text-align: right;\">7880</td><td style = \"text-align: left;\">2022-12-09T15:36:01.740</td><td style = \"text-align: right;\">45.7038</td><td style = \"text-align: right;\">26.7097</td><td style = \"text-align: right;\">128.8</td><td style = \"text-align: right;\">3.2</td><td style = \"text-align: right;\">4529</td></tr><tr><td class = \"rowNumber\" style = \"font-weight: bold; text-align: right;\">7881</td><td style = \"text-align: left;\">2022-12-13T19:37:54.560</td><td style = \"text-align: right;\">45.4168</td><td style = \"text-align: right;\">26.338</td><td style = \"text-align: right;\">125.7</td><td style = \"text-align: right;\">2.8</td><td style = \"text-align: right;\">4414</td></tr><tr><td class = \"rowNumber\" style = \"font-weight: bold; text-align: right;\">7882</td><td style = \"text-align: left;\">2022-12-15T08:22:21.990</td><td style = \"text-align: right;\">45.7194</td><td style = \"text-align: right;\">26.4448</td><td style = \"text-align: right;\">142.2</td><td style = \"text-align: right;\">2.7</td><td style = \"text-align: right;\">5303</td></tr><tr><td class = \"rowNumber\" style = \"font-weight: bold; text-align: right;\">7883</td><td style = \"text-align: left;\">2022-12-15T23:47:13.400</td><td style = \"text-align: right;\">45.735</td><td style = \"text-align: right;\">26.6709</td><td style = \"text-align: right;\">87.7</td><td style = \"text-align: right;\">3.8</td><td style = \"text-align: right;\">2207</td></tr><tr><td class = \"rowNumber\" style = \"font-weight: bold; text-align: right;\">7884</td><td style = \"text-align: left;\">2022-12-17T05:42:58.120</td><td style = \"text-align: right;\">45.641</td><td style = \"text-align: right;\">26.487</td><td style = \"text-align: right;\">143.8</td><td style = \"text-align: right;\">4.1</td><td style = \"text-align: right;\">5319</td></tr><tr><td class = \"rowNumber\" style = \"font-weight: bold; text-align: right;\">7885</td><td style = \"text-align: left;\">2022-12-18T03:23:22.420</td><td style = \"text-align: right;\">45.7235</td><td style = \"text-align: right;\">26.6176</td><td style = \"text-align: right;\">138.4</td><td style = \"text-align: right;\">2.7</td><td style = \"text-align: right;\">5069</td></tr><tr><td class = \"rowNumber\" style = \"font-weight: bold; text-align: right;\">7886</td><td style = \"text-align: left;\">2022-12-19T19:32:11.030</td><td style = \"text-align: right;\">45.7157</td><td style = \"text-align: right;\">26.6342</td><td style = \"text-align: right;\">85.7</td><td style = \"text-align: right;\">2.7</td><td style = \"text-align: right;\">2189</td></tr><tr><td class = \"rowNumber\" style = \"font-weight: bold; text-align: right;\">7887</td><td style = \"text-align: left;\">2022-12-26T07:47:10.270</td><td style = \"text-align: right;\">45.5403</td><td style = \"text-align: right;\">26.5114</td><td style = \"text-align: right;\">105.9</td><td style = \"text-align: right;\">3.5</td><td style = \"text-align: right;\">3319</td></tr><tr><td class = \"rowNumber\" style = \"font-weight: bold; text-align: right;\">7888</td><td style = \"text-align: left;\">2022-12-27T16:00:52.890</td><td style = \"text-align: right;\">45.5211</td><td style = \"text-align: right;\">26.4184</td><td style = \"text-align: right;\">110.2</td><td style = \"text-align: right;\">2.5</td><td style = \"text-align: right;\">3571</td></tr><tr><td class = \"rowNumber\" style = \"font-weight: bold; text-align: right;\">7889</td><td style = \"text-align: left;\">2022-12-28T07:38:54.270</td><td style = \"text-align: right;\">45.7505</td><td style = \"text-align: right;\">26.6086</td><td style = \"text-align: right;\">85.2</td><td style = \"text-align: right;\">2.9</td><td style = \"text-align: right;\">2190</td></tr><tr><td class = \"rowNumber\" style = \"font-weight: bold; text-align: right;\">7890</td><td style = \"text-align: left;\">2022-12-29T02:06:28.320</td><td style = \"text-align: right;\">45.6714</td><td style = \"text-align: right;\">26.6291</td><td style = \"text-align: right;\">134.0</td><td style = \"text-align: right;\">2.8</td><td style = \"text-align: right;\">4780</td></tr></tbody></table></div>"
      ],
      "text/latex": [
       "\\begin{tabular}{r|cccccc}\n",
       "\t& Datetime & Latitude & Longitude & Depth & Magnitude & cubeIndex\\\\\n",
       "\t\\hline\n",
       "\t& DateTime & Float64 & Float64 & Float64 & Float64 & Int64\\\\\n",
       "\t\\hline\n",
       "\t1 & 1976-08-19T19:03:00.800 & 45.54 & 26.37 & 162.0 & 2.3 & 6433 \\\\\n",
       "\t2 & 1976-09-07T17:38:08.200 & 45.62 & 26.5 & 155.3 & 3.6 & 6183 \\\\\n",
       "\t3 & 1976-10-01T17:50:43.200 & 45.68 & 26.49 & 146.0 & 6.0 & 5608 \\\\\n",
       "\t4 & 1977-03-04T19:21:54.100 & 45.77 & 26.76 & 94.0 & 7.4 & 2514 \\\\\n",
       "\t5 & 1977-03-04T21:21:01.100 & 45.22 & 26.65 & 141.0 & 3.0 & 5364 \\\\\n",
       "\t6 & 1977-03-05T02:35:22 & 45.63 & 26.19 & 121.3 & 3.0 & 4077 \\\\\n",
       "\t7 & 1977-03-05T12:08:42 & 45.37 & 26.3 & 124.0 & 3.5 & 4107 \\\\\n",
       "\t8 & 1977-03-06T13:27:06.300 & 45.83 & 26.63 & 112.3 & 2.6 & 3632 \\\\\n",
       "\t9 & 1977-03-08T18:44:56.500 & 45.96 & 26.44 & 80.4 & 1.9 & 1852 \\\\\n",
       "\t10 & 1977-03-09T10:37:29.700 & 45.38 & 27.0 & 108.0 & 3.0 & 3442 \\\\\n",
       "\t11 & 1977-03-11T21:19:07.300 & 45.49 & 26.76 & 87.1 & 2.2 & 2220 \\\\\n",
       "\t12 & 1977-03-12T13:27:13.300 & 45.74 & 26.9 & 99.9 & 3.8 & 2856 \\\\\n",
       "\t13 & 1977-03-12T18:02:15.200 & 45.79 & 26.89 & 100.0 & 3.5 & 3127 \\\\\n",
       "\t14 & 1977-03-12T22:03:44.400 & 45.73 & 26.8 & 97.9 & 2.6 & 2819 \\\\\n",
       "\t15 & 1977-03-13T13:50:59 & 45.7 & 26.58 & 87.5 & 2.0 & 2189 \\\\\n",
       "\t16 & 1977-03-21T00:35:54.600 & 45.75 & 26.72 & 69.7 & 2.7 & 1074 \\\\\n",
       "\t17 & 1977-03-22T08:26:52.100 & 45.51 & 26.15 & 167.0 & 3.5 & 6666 \\\\\n",
       "\t18 & 1977-03-26T06:54:16.700 & 45.77 & 26.4 & 123.6 & 1.9 & 4152 \\\\\n",
       "\t19 & 1977-04-04T02:15:49.700 & 45.59 & 26.64 & 115.0 & 3.8 & 3932 \\\\\n",
       "\t20 & 1977-04-13T21:07:22.500 & 45.34 & 26.24 & 91.2 & 1.5 & 2361 \\\\\n",
       "\t21 & 1977-06-16T02:26:10.300 & 45.74 & 26.6 & 151.0 & 4.7 & 5934 \\\\\n",
       "\t22 & 1977-06-16T02:42:00 & 45.7 & 26.6 & 120.0 & 3.2 & 4205 \\\\\n",
       "\t23 & 1977-07-17T17:34:20.900 & 45.6 & 26.65 & 106.0 & 4.2 & 3356 \\\\\n",
       "\t24 & 1977-07-24T05:57:00 & 45.7 & 26.6 & 130.0 & 3.4 & 4781 \\\\\n",
       "\t$\\dots$ & $\\dots$ & $\\dots$ & $\\dots$ & $\\dots$ & $\\dots$ & $\\dots$ \\\\\n",
       "\\end{tabular}\n"
      ],
      "text/plain": [
       "\u001b[1m7890×6 DataFrame\u001b[0m\n",
       "\u001b[1m  Row \u001b[0m│\u001b[1m Datetime                \u001b[0m\u001b[1m Latitude \u001b[0m\u001b[1m Longitude \u001b[0m\u001b[1m Depth   \u001b[0m\u001b[1m Magnitude \u001b[0m\u001b[1m cube\u001b[0m ⋯\n",
       "      │\u001b[90m DateTime                \u001b[0m\u001b[90m Float64  \u001b[0m\u001b[90m Float64   \u001b[0m\u001b[90m Float64 \u001b[0m\u001b[90m Float64   \u001b[0m\u001b[90m Int6\u001b[0m ⋯\n",
       "──────┼─────────────────────────────────────────────────────────────────────────\n",
       "    1 │ 1976-08-19T19:03:00.800   45.54      26.37      162.0        2.3       ⋯\n",
       "    2 │ 1976-09-07T17:38:08.200   45.62      26.5       155.3        3.6\n",
       "    3 │ 1976-10-01T17:50:43.200   45.68      26.49      146.0        6.0\n",
       "    4 │ 1977-03-04T19:21:54.100   45.77      26.76       94.0        7.4\n",
       "    5 │ 1977-03-04T21:21:01.100   45.22      26.65      141.0        3.0       ⋯\n",
       "    6 │ 1977-03-05T02:35:22       45.63      26.19      121.3        3.0\n",
       "    7 │ 1977-03-05T12:08:42       45.37      26.3       124.0        3.5\n",
       "    8 │ 1977-03-06T13:27:06.300   45.83      26.63      112.3        2.6\n",
       "  ⋮   │            ⋮                ⋮          ⋮         ⋮         ⋮           ⋱\n",
       " 7884 │ 2022-12-17T05:42:58.120   45.641     26.487     143.8        4.1       ⋯\n",
       " 7885 │ 2022-12-18T03:23:22.420   45.7235    26.6176    138.4        2.7\n",
       " 7886 │ 2022-12-19T19:32:11.030   45.7157    26.6342     85.7        2.7\n",
       " 7887 │ 2022-12-26T07:47:10.270   45.5403    26.5114    105.9        3.5\n",
       " 7888 │ 2022-12-27T16:00:52.890   45.5211    26.4184    110.2        2.5       ⋯\n",
       " 7889 │ 2022-12-28T07:38:54.270   45.7505    26.6086     85.2        2.9\n",
       " 7890 │ 2022-12-29T02:06:28.320   45.6714    26.6291    134.0        2.8\n",
       "\u001b[36m                                                  1 column and 7875 rows omitted\u001b[0m"
      ]
     },
     "metadata": {},
     "output_type": "display_data"
    }
   ],
   "source": [
    "vrancea"
   ]
  },
  {
   "cell_type": "code",
   "execution_count": 81,
   "metadata": {},
   "outputs": [
    {
     "data": {
      "text/plain": [
       "7890-element Vector{Float64}:\n",
       " 3.564511334262439e8\n",
       " 2.6546055619755363e10\n",
       " 7.585775750291852e13\n",
       " 7.870457896951001e15\n",
       " 3.6307805477010174e9\n",
       " 3.6307805477010174e9\n",
       " 1.9054607179632523e10\n",
       " 9.638290236239705e8\n",
       " 9.46237161365793e7\n",
       " 3.6307805477010174e9\n",
       " ⋮\n",
       " 1.342764961137864e9\n",
       " 5.152286445817561e10\n",
       " 1.393156802945298e11\n",
       " 1.342764961137864e9\n",
       " 1.342764961137864e9\n",
       " 1.9054607179632523e10\n",
       " 6.918309709189363e8\n",
       " 2.6061535499988976e9\n",
       " 1.8706821403658016e9"
      ]
     },
     "metadata": {},
     "output_type": "display_data"
    }
   ],
   "source": [
    "energyRelease=[10^(5.24 + 1.44*i) for i in vrancea.Magnitude];\n",
    "vrancea.energyRelease = energyRelease"
   ]
  },
  {
   "cell_type": "code",
   "execution_count": null,
   "metadata": {},
   "outputs": [],
   "source": []
  }
 ],
 "metadata": {
  "kernelspec": {
   "display_name": "Julia 1.8.5",
   "language": "julia",
   "name": "julia-1.8"
  },
  "language_info": {
   "file_extension": ".jl",
   "mimetype": "application/julia",
   "name": "julia",
   "version": "1.8.5"
  },
  "orig_nbformat": 4
 },
 "nbformat": 4,
 "nbformat_minor": 2
}
