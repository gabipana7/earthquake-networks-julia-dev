{
 "cells": [
  {
   "cell_type": "code",
   "execution_count": 7,
   "metadata": {},
   "outputs": [],
   "source": [
    "using Random\n",
    "using Plots"
   ]
  },
  {
   "cell_type": "code",
   "execution_count": 2,
   "metadata": {},
   "outputs": [
    {
     "data": {
      "text/plain": [
       "makeparetodata"
      ]
     },
     "metadata": {},
     "output_type": "display_data"
    }
   ],
   "source": [
    "\"\"\"\n",
    "    MyPareto(alpha::Float64,x0::Float64)\n",
    "Pareto distribution for sampling. This does not depend on Distributions and\n",
    "the RNG seed can be set. This may not be needed for future versions of Julia.\n",
    "\"\"\"\n",
    "struct MyPareto\n",
    "    alpha::Float64\n",
    "    x0::Float64\n",
    "end\n",
    "MyPareto(alpha=1.0) = MyPareto(alpha, 1.0)\n",
    "Random.rand(p::MyPareto) = p.x0 * Random.rand()^(-one(p.alpha) / p.alpha)\n",
    "\n",
    "\"\"\"\n",
    "    makeparetodata()\n",
    "Create a reproducible sorted array of Pareto distribution samples.\n",
    "\"\"\"\n",
    "function makeparetodata(alpha=0.5, seed=11)\n",
    "    Random.seed!(seed)\n",
    "    d = MyPareto(alpha)\n",
    "    return [Random.rand(d) for _=1:10^6] |> sort!\n",
    "end"
   ]
  },
  {
   "cell_type": "code",
   "execution_count": 6,
   "metadata": {},
   "outputs": [
    {
     "data": {
      "text/plain": [
       "1000000-element Vector{Float64}:\n",
       " 1.0000034706533443\n",
       " 1.0000044269735888\n",
       " 1.000004529069839\n",
       " 1.0000063311470986\n",
       " 1.0000099234855504\n",
       " 1.000010135250439\n",
       " 1.000010312514777\n",
       " 1.0000110212080233\n",
       " 1.0000116660498577\n",
       " 1.000013137685753\n",
       " ⋮\n",
       " 1.8348218245727932e10\n",
       " 1.9411457950249203e10\n",
       " 2.1142313167163147e10\n",
       " 5.416640437020348e10\n",
       " 2.0901535397641504e11\n",
       " 7.050519844314762e11\n",
       " 8.043460694209275e11\n",
       " 1.428306151633298e12\n",
       " 2.4684768886257246e12"
      ]
     },
     "metadata": {},
     "output_type": "display_data"
    }
   ],
   "source": [
    "data = makeparetodata(0.5,11)"
   ]
  },
  {
   "cell_type": "code",
   "execution_count": null,
   "metadata": {},
   "outputs": [],
   "source": [
    "alpha = 1 + n * "
   ]
  }
 ],
 "metadata": {
  "kernelspec": {
   "display_name": "Julia 1.8.5",
   "language": "julia",
   "name": "julia-1.8"
  },
  "language_info": {
   "file_extension": ".jl",
   "mimetype": "application/julia",
   "name": "julia",
   "version": "1.8.5"
  },
  "orig_nbformat": 4
 },
 "nbformat": 4,
 "nbformat_minor": 2
}
