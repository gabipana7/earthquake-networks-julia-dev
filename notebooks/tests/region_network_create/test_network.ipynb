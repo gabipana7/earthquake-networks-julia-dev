{
 "cells": [
  {
   "cell_type": "code",
   "execution_count": 1,
   "metadata": {},
   "outputs": [
    {
     "data": {
      "text/plain": [
       "add_properties (generic function with 1 method)"
      ]
     },
     "metadata": {},
     "output_type": "display_data"
    }
   ],
   "source": [
    "using CSV, DataFrames\n",
    "using FileIO, Dates\n",
    "using GraphIO\n",
    "\n",
    "include(\"../region_cube_split/cubes.jl\")\n",
    "include(\"./network.jl\")"
   ]
  },
  {
   "cell_type": "code",
   "execution_count": 2,
   "metadata": {},
   "outputs": [],
   "source": [
    "romania_full = CSV.read(\"../data/romania.csv\", DataFrame);\n",
    "romania = romania_full[romania_full.Datetime .> DateTime(1976,1,1,0,0,0),:];\n",
    "\n",
    "vrancea = romania[(romania.Latitude .>= 45.20) .& (romania.Latitude .<= 46.0) .& \n",
    "                    (romania.Longitude .>= 26.0) .& (romania.Longitude .<= 27.0) .&\n",
    "                    (romania.Depth .>= 50.0) .& (romania.Depth .<= 200.0), :];"
   ]
  },
  {
   "cell_type": "code",
   "execution_count": 3,
   "metadata": {},
   "outputs": [],
   "source": [
    "vrancea, vrancea_cubes = region_cube_split(vrancea,side=5);"
   ]
  },
  {
   "cell_type": "code",
   "execution_count": 4,
   "metadata": {},
   "outputs": [
    {
     "data": {
      "text/plain": [
       "{1727, 7612} undirected Int64 metagraph with Float64 weights defined by :weight (default weight 1.0)"
      ]
     },
     "metadata": {},
     "output_type": "display_data"
    }
   ],
   "source": [
    "MG = create_network(vrancea, vrancea_cubes; edgeWeight=true)"
   ]
  },
  {
   "cell_type": "code",
   "execution_count": 6,
   "metadata": {},
   "outputs": [
    {
     "data": {
      "text/plain": [
       "{1727, 7612} undirected Int64 metagraph with Float64 weights defined by :weight (default weight 1.0)"
      ]
     },
     "metadata": {},
     "output_type": "display_data"
    }
   ],
   "source": [
    "MG = add_properties(MG, vrancea_cubes)"
   ]
  },
  {
   "cell_type": "code",
   "execution_count": 10,
   "metadata": {},
   "outputs": [
    {
     "data": {
      "text/plain": [
       "Dict{Symbol, Any} with 4 entries:\n",
       "  :zDepth     => 22\n",
       "  :cubeIndex  => \"6183\"\n",
       "  :xLatitude  => 10\n",
       "  :yLongitude => 8"
      ]
     },
     "metadata": {},
     "output_type": "display_data"
    }
   ],
   "source": [
    "props(MG,2)"
   ]
  },
  {
   "cell_type": "code",
   "execution_count": 18,
   "metadata": {},
   "outputs": [
    {
     "data": {
      "text/plain": [
       "Dict{Symbol, Any} with 1 entry:\n",
       "  :weight => 1"
      ]
     },
     "metadata": {},
     "output_type": "display_data"
    }
   ],
   "source": [
    "props(MG,Edge(1,2))"
   ]
  },
  {
   "cell_type": "code",
   "execution_count": null,
   "metadata": {},
   "outputs": [],
   "source": []
  },
  {
   "cell_type": "code",
   "execution_count": 25,
   "metadata": {},
   "outputs": [],
   "source": [
    "vrancea_edge_list = collect(edges(MG)) |> DataFrame;\n",
    "CSV.write(\"./vrancea_5km.txt\",vrancea_edge_list, delim=\" \", header=false);"
   ]
  },
  {
   "cell_type": "code",
   "execution_count": null,
   "metadata": {},
   "outputs": [],
   "source": []
  },
  {
   "cell_type": "code",
   "execution_count": 14,
   "metadata": {},
   "outputs": [
    {
     "data": {
      "text/plain": [
       "1"
      ]
     },
     "metadata": {},
     "output_type": "display_data"
    }
   ],
   "source": [
    "savegraph(\"./vrancea_5km.txt\",MG, EdgeListFormat())"
   ]
  },
  {
   "cell_type": "code",
   "execution_count": null,
   "metadata": {},
   "outputs": [],
   "source": [
    "# GraphML does not keep the attributes. Why? I do not know\n",
    "\n",
    "# using EzXML\n",
    "# savegraph(\"./vrancea_5km.graphml\", MG, GraphMLFormat())"
   ]
  },
  {
   "cell_type": "code",
   "execution_count": null,
   "metadata": {},
   "outputs": [],
   "source": []
  }
 ],
 "metadata": {
  "kernelspec": {
   "display_name": "Julia 1.8.5",
   "language": "julia",
   "name": "julia-1.8"
  },
  "language_info": {
   "file_extension": ".jl",
   "mimetype": "application/julia",
   "name": "julia",
   "version": "1.8.5"
  },
  "orig_nbformat": 4,
  "vscode": {
   "interpreter": {
    "hash": "0f70a35dd2b85e0fbdf740964da3dda7ef418e2ba19e1da9e3dbc65ae5d9559a"
   }
  }
 },
 "nbformat": 4,
 "nbformat_minor": 2
}
