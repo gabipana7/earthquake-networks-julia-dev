{
 "cells": [
  {
   "cell_type": "code",
   "execution_count": 1,
   "metadata": {},
   "outputs": [
    {
     "data": {
      "text/plain": [
       "network_plot_gmt (generic function with 1 method)"
      ]
     },
     "metadata": {},
     "output_type": "display_data"
    }
   ],
   "source": [
    "include(\"./src/network_plot.jl\")"
   ]
  },
  {
   "cell_type": "code",
   "execution_count": 11,
   "metadata": {},
   "outputs": [
    {
     "name": "stderr",
     "output_type": "stream",
     "text": [
      "makecpt [WARNING]: Without inc in -T option, -Z has no effect (ignored)\n",
      "grdcut [WARNING]: (w - x_min) must equal (NX + eps) * x_inc), where NX is an integer and |eps| <= 0.0001.\n",
      "grdcut [WARNING]: w reset from -122.0947 to -122.1\n",
      "grdcut [WARNING]: (e - x_min) must equal (NX + eps) * x_inc), where NX is an integer and |eps| <= 0.0001.\n",
      "grdcut [WARNING]: e reset from -114.7888 to -114.783333333\n",
      "grdcut [WARNING]: (s - y_min) must equal (NY + eps) * y_inc), where NY is an integer and |eps| <= 0.0001.\n",
      "grdcut [WARNING]: s reset from 31.9085 to 31.9083333333\n",
      "grdcut [WARNING]: (n - y_min) must equal (NY + eps) * y_inc), where NY is an integer and |eps| <= 0.0001.\n",
      "grdcut [WARNING]: n reset from 37.1042 to 37.1083333333\n"
     ]
    }
   ],
   "source": [
    "# California \n",
    "# pos=(paper=(20,2.0), size=(8,0.5))\n",
    "region = \"California\"\n",
    "cell_size = 1.0\n",
    "ratio_for_z = 200\n",
    "marker_size = 0.2\n",
    "perspective = (175,20)\n",
    "\n",
    "minimum_magnitude = 4\n",
    "\n",
    "\n",
    "if minimum_magnitude == 4\n",
    "    colorbar_info = [(18.0,2.5),(10.0,0.5),2]\n",
    "elseif minimum_magnitude == 3\n",
    "    colorbar_info = [(18.0,2.5),(10.0,0.5),10]\n",
    "elseif minimum_magnitude == 2\n",
    "    colorbar_info = [(18.0,2.5),(10.0,0.5),24]\n",
    "end\n",
    "\n",
    "quality = 100\n",
    "\n",
    "network_plot_gmt(region, cell_size, minimum_magnitude, marker_size, ratio_for_z, perspective, quality,  colorbar_info)"
   ]
  },
  {
   "cell_type": "code",
   "execution_count": 3,
   "metadata": {},
   "outputs": [],
   "source": []
  },
  {
   "cell_type": "code",
   "execution_count": 4,
   "metadata": {},
   "outputs": [],
   "source": []
  },
  {
   "cell_type": "markdown",
   "metadata": {},
   "source": [
    "## FINAL DETAILS"
   ]
  },
  {
   "cell_type": "code",
   "execution_count": 5,
   "metadata": {},
   "outputs": [],
   "source": [
    "# quality = 1500\n",
    "# region = \"Italy\"\n",
    "# if region == \"Romania\"\n",
    "#     ratio_for_z = 20\n",
    "#     perspective = (155,20)\n",
    "#     for cell_size in [5.0, 10.0]\n",
    "#         if cell_size == 5.0\n",
    "#             marker_size = 0.1\n",
    "#         elseif cell_size == 10.0\n",
    "#             marker_size = 0.15\n",
    "#         end\n",
    "\n",
    "#         for minimum_magnitude in [4,3,2]\n",
    "#             if minimum_magnitude == 4\n",
    "#                 colorbar_info = [(19.0,1.5),(8.0,0.5),4]\n",
    "#             elseif minimum_magnitude == 3\n",
    "#                 colorbar_info = [(20.0,1.5),(8.0,0.5),10]\n",
    "#             elseif minimum_magnitude == 2\n",
    "#                 colorbar_info = [(20.0,1.5),(8.0,0.5),14]\n",
    "#             end\n",
    "#             network_plot_gmt(region, cell_size, minimum_magnitude, marker_size, perspective, quality,  colorbar_info)\n",
    "#         end\n",
    "#     end\n",
    "# elseif region == \"Italy\"\n",
    "#     ratio_for_z = 20\n",
    "#     perspective = (125,20)\n",
    "#     for cell_size in [5.0, 10.0]\n",
    "#         if cell_size == 5.0\n",
    "#             marker_size = 0.2\n",
    "#         elseif cell_size == 10.0\n",
    "#             marker_size = 0.25\n",
    "#         end\n",
    "\n",
    "#         for minimum_magnitude in [4,3,2]\n",
    "#             if minimum_magnitude == 4\n",
    "#                 colorbar_info = [(26.0,3.5),(12.0,0.5),2]\n",
    "#             elseif minimum_magnitude == 3\n",
    "#                 colorbar_info = [(26.0,3.5),(12.0,0.5),10]\n",
    "#             elseif minimum_magnitude == 2\n",
    "#                 colorbar_info = [(26.0,3.5),(12.0,0.5),24]\n",
    "#             end\n",
    "                    \n",
    "#             network_plot_gmt(region, cell_size, minimum_magnitude, marker_size, perspective, quality,  colorbar_info)\n",
    "#         end  \n",
    "#     end\n",
    "# end"
   ]
  },
  {
   "cell_type": "code",
   "execution_count": 6,
   "metadata": {},
   "outputs": [],
   "source": []
  }
 ],
 "metadata": {
  "kernelspec": {
   "display_name": "Julia 1.9.4",
   "language": "julia",
   "name": "julia-1.9"
  },
  "language_info": {
   "file_extension": ".jl",
   "mimetype": "application/julia",
   "name": "julia",
   "version": "1.9.4"
  }
 },
 "nbformat": 4,
 "nbformat_minor": 2
}
