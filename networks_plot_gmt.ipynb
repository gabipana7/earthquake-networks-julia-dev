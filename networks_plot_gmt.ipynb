{
 "cells": [
  {
   "cell_type": "code",
   "execution_count": 21,
   "metadata": {},
   "outputs": [
    {
     "data": {
      "text/plain": [
       "add_properties (generic function with 1 method)"
      ]
     },
     "metadata": {},
     "output_type": "display_data"
    }
   ],
   "source": [
    "using Graphs, GraphIO, FileIO\n",
    "using CSV, DataFrames\n",
    "\n",
    "using GMT\n",
    "\n",
    "include(\"./src/cubes.jl\")\n",
    "include(\"./src/network.jl\")"
   ]
  },
  {
   "cell_type": "code",
   "execution_count": 22,
   "metadata": {},
   "outputs": [],
   "source": [
    "## Get Vrancea subregion\n",
    "\n",
    "# Read data\n",
    "path = \"./data/\"\n",
    "region = \"Vrancea\"\n",
    "filepath = path * region * \".csv\"\n",
    "\n",
    "df = CSV.read(filepath, DataFrame);\n",
    "minlon_vrancea = minimum(df.Longitude)\n",
    "maxlon_vrancea = maximum(df.Longitude)\n",
    "minlat_vrancea = minimum(df.Latitude)\n",
    "maxlat_vrancea = maximum(df.Latitude)\n",
    "\n",
    "# Read data\n",
    "path = \"./data/\"\n",
    "region = \"Romania\"\n",
    "filepath = path * region * \".csv\"\n",
    "\n",
    "mkpath(\"./gmt/$region\")\n",
    "\n",
    "df = CSV.read(filepath, DataFrame);\n",
    "\n",
    "cell_size = 5.0\n",
    "minimum_magnitude = 4\n",
    "\n",
    "# graph_path = \"./networks/$region/cell_size_$(cell_size)km/$(region)_cell_size_$(cell_size)km_minmag_$(minimum_magnitude).txt\"\n",
    "\n",
    "region = \"Vrancea\"\n",
    "df = df[(df.Longitude .> minlon_vrancea) .& (df.Longitude .< maxlon_vrancea) .& \n",
    "        (df.Latitude .> minlat_vrancea) .& (df.Latitude .< maxlat_vrancea), :]\n",
    "\n",
    "df_filtered = df[df.Magnitude .> minimum_magnitude,:] \n",
    "\n",
    "# Split into cubes\n",
    "df_filtered, df_filtered_cubes = region_cube_split(df_filtered,cell_size=cell_size,energyRelease=true);\n",
    "\n",
    "# Create network\n",
    "MG = create_network(df_filtered, df_filtered_cubes)\n",
    "connectivity = degree(MG);\n",
    "\n",
    "# edgelist_array = Matrix(edgelist);\n",
    "edgelist = collect(edges(MG)) |> DataFrame;"
   ]
  },
  {
   "cell_type": "code",
   "execution_count": 23,
   "metadata": {},
   "outputs": [],
   "source": [
    "# # Read data\n",
    "# path = \"./data/\"\n",
    "# region = \"Romania\"\n",
    "# filepath = path * region * \".csv\"\n",
    "\n",
    "# mkpath(\"./gmt/$region\")\n",
    "\n",
    "# df = CSV.read(filepath, DataFrame);\n",
    "\n",
    "# cell_size = 5.0\n",
    "# minimum_magnitude = 4\n",
    "\n",
    "# # graph_path = \"./networks/$region/cell_size_$(cell_size)km/$(region)_cell_size_$(cell_size)km_minmag_$(minimum_magnitude).txt\"\n",
    "\n",
    "# df_filtered = df[df.Magnitude .> minimum_magnitude,:] \n",
    "\n",
    "# # Split into cubes\n",
    "# df_filtered, df_filtered_cubes = region_cube_split(df_filtered,cell_size=cell_size,energyRelease=true);\n",
    "# # Create network\n",
    "# MG = create_network(df_filtered, df_filtered_cubes)\n",
    "# connectivity = degree(MG);\n",
    "# # edgelist_array = Matrix(edgelist);\n",
    "# edgelist = collect(edges(MG)) |> DataFrame;"
   ]
  },
  {
   "cell_type": "code",
   "execution_count": 24,
   "metadata": {},
   "outputs": [
    {
     "name": "stderr",
     "output_type": "stream",
     "text": [
      "makecpt [WARNING]: Without inc in -T option, -Z has no effect (ignored)\n",
      "grdcut [WARNING]: (w - x_min) must equal (NX + eps) * x_inc), where NX is an integer and |eps| <= 0.0001.\n",
      "grdcut [WARNING]: w reset from 26.1219 to 26.1166666667\n",
      "grdcut [WARNING]: (e - x_min) must equal (NX + eps) * x_inc), where NX is an integer and |eps| <= 0.0001.\n",
      "grdcut [WARNING]: e reset from 27.0874 to 27.0916666667\n",
      "grdcut [WARNING]: (s - y_min) must equal (NY + eps) * y_inc), where NY is an integer and |eps| <= 0.0001.\n",
      "grdcut [WARNING]: s reset from 45.2625 to 45.2583333333\n",
      "grdcut [WARNING]: (n - y_min) must equal (NY + eps) * y_inc), where NY is an integer and |eps| <= 0.0001.\n",
      "grdcut [WARNING]: n reset from 46.0023 to 46.0083333333\n"
     ]
    }
   ],
   "source": [
    "# Get region's coordinates\n",
    "min_lon = minimum(df_filtered_cubes.cubeLongitude) -0.1\n",
    "max_lon = maximum(df_filtered_cubes.cubeLongitude) +0.1\n",
    "min_lat = minimum(df_filtered_cubes.cubeLatitude) -0.1\n",
    "max_lat = maximum(df_filtered_cubes.cubeLatitude) +0.1\n",
    "min_dep = minimum(df_filtered_cubes.cubeDepth);\n",
    "max_dep = maximum(df_filtered_cubes.cubeDepth);\n",
    "\n",
    "# Create the map coordinates\n",
    "map_coords = [min_lon,max_lon,min_lat,max_lat]\n",
    "map_coords_depth = [min_lon,max_lon,min_lat,max_lat,-max_dep,-min_dep]\n",
    "\n",
    "# Colormap for the region topography\n",
    "C_map = makecpt(cmap=:geo, range=(-8000,8000), continuous=true);\n",
    "# Relief map of the region\n",
    "relief_map = grdcut(\"@earth_relief_30s\", region=map_coords);"
   ]
  },
  {
   "cell_type": "code",
   "execution_count": 38,
   "metadata": {},
   "outputs": [
    {
     "data": {
      "text/plain": [
       "100"
      ]
     },
     "metadata": {},
     "output_type": "display_data"
    }
   ],
   "source": [
    "marker_size = connectivity ./10\n",
    "\n",
    "# control marker color by connectivity\n",
    "C_markers = makecpt(cmap=:seis, range=(minimum(connectivity),maximum(connectivity)), inverse=true);\n",
    "zcolor_control = connectivity;\n",
    "\n",
    "perspective = (135,25)\n",
    "quality = 100"
   ]
  },
  {
   "cell_type": "code",
   "execution_count": 58,
   "metadata": {},
   "outputs": [],
   "source": [
    "# Basemap to define the axes\n",
    "basemap(limits=map_coords_depth, proj=:merc, zsize=16, frame=\"SEnwZ1+b xafg yafg zaf+lDepth(km)\", par=(FONT_LABEL=\"24p,Palatino-Roman\",MAP_LABEL_OFFSET=0.8, FONT_ANNOT=\"20p\"), view=perspective)\n",
    "\n",
    "# basemap!(limits=map_coords_depth, proj=:merc, zsize=16,\n",
    "#         frame=(axes=(:left_full,:bottom_full,:right_full,:top_full), annot=200, ticks=100, xlabel=:horizontal, ylabel=:vertical),\n",
    "#         par=(FONT_ANNOT_PRIMARY=10, FONT_LABEL=16, MAP_ANNOT_ORTHO=:we), view=perspective)\n",
    "\n",
    "# Edges, plotted manually\n",
    "for i in range(1,nrow(edgelist))\n",
    "    line_coords = DataFrame(lats = [df_filtered_cubes.cubeLatitude[edgelist.src[i]],df_filtered_cubes.cubeLatitude[edgelist.dst[i]]],\n",
    "                    lons =[df_filtered_cubes.cubeLongitude[edgelist.src[i]],df_filtered_cubes.cubeLongitude[edgelist.dst[i]]],\n",
    "                    deps= [df_filtered_cubes.cubeDepth[edgelist.src[i]],df_filtered_cubes.cubeDepth[edgelist.dst[i]]])\n",
    "\n",
    "    plot3d!(line_coords.lons, line_coords.lats, -line_coords.deps, JZ=\"16c\", proj=:merc, pen=(:thinner,:black), alpha=50, view=perspective)\n",
    "end\n",
    "\n",
    "# Nodes\n",
    "scatter3!(df_filtered_cubes.cubeLongitude, df_filtered_cubes.cubeLatitude, -df_filtered_cubes.cubeDepth,\n",
    "limits=map_coords_depth,frame=\"SEnwZ1+b\",proj=:merc, marker=:cube,markersize=0.3, #markersize=marker_size,\n",
    "cmap=C_markers, zcolor=connectivity, \n",
    "alpha=50, view=perspective)\n",
    "\n",
    "# Colorbar\n",
    "colorbar!(limits=map_coords, pos=(paper=(24,10.0), size=(8,0.5)), shade=0.4, xaxis=(annot=2,), frame=(xlabel=\"Degree\",),par=(FONT_LABEL=\"24p,Palatino-Roman,black\",MAP_LABEL_OFFSET=0.6,FONT_ANNOT=\"20p\"),view=(180,90))\n",
    "\n",
    "# Relief map\n",
    "grdview!(relief_map, proj=:merc, surftype=(image=quality,), \n",
    "cmap=C_map, zsize=1.3, alpha=25 ,yshift=14.6, view=perspective,\n",
    "savefig=\"./gmt/$region/$(region)_cell_size_$(cell_size)km_minmag_$(minimum_magnitude).png\",)\n"
   ]
  },
  {
   "cell_type": "code",
   "execution_count": 23,
   "metadata": {},
   "outputs": [],
   "source": []
  },
  {
   "cell_type": "code",
   "execution_count": 32,
   "metadata": {},
   "outputs": [],
   "source": [
    "using Geodesy"
   ]
  },
  {
   "cell_type": "code",
   "execution_count": 33,
   "metadata": {},
   "outputs": [
    {
     "data": {
      "text/plain": [
       "26.2219"
      ]
     },
     "metadata": {},
     "output_type": "display_data"
    }
   ],
   "source": [
    "min_lon"
   ]
  },
  {
   "cell_type": "code",
   "execution_count": 37,
   "metadata": {},
   "outputs": [
    {
     "data": {
      "text/plain": [
       "76.7"
      ]
     },
     "metadata": {},
     "output_type": "display_data"
    }
   ],
   "source": [
    "min_dep"
   ]
  },
  {
   "cell_type": "code",
   "execution_count": 38,
   "metadata": {},
   "outputs": [
    {
     "data": {
      "text/plain": [
       "84.8137099094292"
      ]
     },
     "metadata": {},
     "output_type": "display_data"
    }
   ],
   "source": [
    "x0 = LLA(min_lon, min_lat, -min_dep)\n",
    "xf = LLA(max_lon, min_lat, -min_dep)\n",
    "lat_dist_in_km = Geodesy.euclidean_distance(xf,x0) / 1000"
   ]
  },
  {
   "cell_type": "code",
   "execution_count": null,
   "metadata": {},
   "outputs": [],
   "source": []
  },
  {
   "cell_type": "code",
   "execution_count": 24,
   "metadata": {},
   "outputs": [],
   "source": [
    "using DelimitedFiles"
   ]
  },
  {
   "attachments": {},
   "cell_type": "markdown",
   "metadata": {},
   "source": [
    "## Motifs plot polygons"
   ]
  },
  {
   "cell_type": "code",
   "execution_count": 25,
   "metadata": {},
   "outputs": [
    {
     "data": {
      "text/plain": [
       "\"motifTriangle_romania_side_5km_minmag_4.csv\""
      ]
     },
     "metadata": {},
     "output_type": "display_data"
    }
   ],
   "source": [
    "motif=\"Triangle\"\n",
    "network_target_path =\"./networks/$region/cell_size_$(cell_size)km/\"\n",
    "motif_filename = \"motif$(motif)_$(region)_cell_size_$(cell_size)km_minmag_$(minimum_magnitude).csv\""
   ]
  },
  {
   "cell_type": "code",
   "execution_count": 26,
   "metadata": {},
   "outputs": [],
   "source": [
    "motifs = readdlm(network_target_path * motif_filename, ',', Int64);"
   ]
  },
  {
   "cell_type": "code",
   "execution_count": 42,
   "metadata": {},
   "outputs": [],
   "source": [
    "# Basemap to define the axes\n",
    "basemap(limits=map_coords_depth, proj=:merc, zsize=6, frame=\"SEnwZ1+b xafg yafg zaf+lDepth(km)\", view=(135,20))\n",
    "\n",
    "# Edges, plotted manually\n",
    "for i in range(1,nrow(edgelist))\n",
    "    line = DataFrame(lats = [df_filtered_cubes.cubeLatitude[edgelist.src[i]],df_filtered_cubes.cubeLatitude[edgelist.dst[i]]],\n",
    "                    lons =[df_filtered_cubes.cubeLongitude[edgelist.src[i]],df_filtered_cubes.cubeLongitude[edgelist.dst[i]]],\n",
    "                    deps= [df_filtered_cubes.cubeDepth[edgelist.src[i]],df_filtered_cubes.cubeDepth[edgelist.dst[i]]])\n",
    "\n",
    "    plot3d!(line.lons,line.lats,-line.deps, JZ=\"6c\", proj=:merc, pen=(:thinner,:black), alpha=50, view=(135,20))\n",
    "end\n",
    "\n",
    "# Nodes\n",
    "scatter3!(df_filtered_cubes.cubeLongitude, df_filtered_cubes.cubeLatitude, -df_filtered_cubes.cubeDepth,\n",
    "limits=map_coords_depth, frame=\"SEnwZ1+b xafg yafg zaf\",proj=:merc, marker=:cube,markersize=0.1, #markersize=marker_size,\n",
    "cmap=C_markers, zcolor=connectivity, \n",
    "alpha=50, view=(135,20))\n",
    "\n",
    "# Motifs\n",
    "for i in range(1,size(motifs,1))\n",
    "    motif = DataFrame(lats = [df_filtered_cubes.cubeLatitude[motifs[i,1]], df_filtered_cubes.cubeLatitude[motifs[i,2]], df_filtered_cubes.cubeLatitude[motifs[i,3]]],\n",
    "                    lons =[df_filtered_cubes.cubeLongitude[motifs[i,1]], df_filtered_cubes.cubeLongitude[motifs[i,2]], df_filtered_cubes.cubeLongitude[motifs[i,3]]],\n",
    "                    deps= [df_filtered_cubes.cubeDepth[motifs[i,1]], df_filtered_cubes.cubeDepth[motifs[i,2]], df_filtered_cubes.cubeDepth[motifs[i,3]]])\n",
    "    plot3d!(motif.lons,motif.lats,-motif.deps, JZ=\"6c\", proj=:merc, L=true, G=:red, alpha=50, view=(135,20))\n",
    "end\n",
    "\n",
    "# Colorbar\n",
    "colorbar!(pos=(outcell_size=:BC, offset=(0,1.5)), shade=0.4, JZ=\"6c\", xaxis=(annot=:auto,), frame=(xlabel=\"Degree\",),par=(MAP_LABEL_OFFSET=0.8,))\n",
    "\n",
    "# Relief map\n",
    "grdview!(relief_map, proj=:merc, surftype=(image=2000,), \n",
    "cmap=C_map, zsize=0.05, alpha=10 ,yshift=5.6, view=(135,20),\n",
    "savefig=\"./networks/$region/cell_size_$(cell_size)km/$(region)_cell_size_$(cell_size)km_minmag_$(minimum_magnitude).png\", \n",
    "show=true)"
   ]
  },
  {
   "cell_type": "code",
   "execution_count": null,
   "metadata": {},
   "outputs": [],
   "source": []
  }
 ],
 "metadata": {
  "kernelspec": {
   "display_name": "Julia 1.9.4",
   "language": "julia",
   "name": "julia-1.9"
  },
  "language_info": {
   "file_extension": ".jl",
   "mimetype": "application/julia",
   "name": "julia",
   "version": "1.9.4"
  },
  "orig_nbformat": 4
 },
 "nbformat": 4,
 "nbformat_minor": 2
}
