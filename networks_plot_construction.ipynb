{
 "cells": [
  {
   "cell_type": "code",
   "execution_count": 2,
   "metadata": {},
   "outputs": [
    {
     "data": {
      "text/plain": [
       "add_properties (generic function with 1 method)"
      ]
     },
     "metadata": {},
     "output_type": "display_data"
    }
   ],
   "source": [
    "using CSV, DataFrames, GMT\n",
    "using Graphs, GraphIO, FileIO\n",
    "using Geodesy\n",
    "\n",
    "include(\"./src/cubes.jl\")\n",
    "include(\"./src/network.jl\")"
   ]
  },
  {
   "cell_type": "code",
   "execution_count": null,
   "metadata": {},
   "outputs": [],
   "source": [
    "function network_plot_gmt_Vrancea(region::String, cell_size::Float64, minimum_magnitude::Int64, marker_size::Float64, ratio_for_z::Int64, legend_info::Vector{Any}, perspective::Tuple{Int64,Int64}, quality::Int64, colorbar_info::Vector{Any})\n",
    "    \"\"\"\n",
    "    Description:\n",
    "    Takes in the region, cell_size and minimum_magnitude and plots with GMT\n",
    "        a 3D visualization of the earthquake network with the above specifications, \n",
    "        with a semi-3D relief map of the region.\n",
    "\n",
    "    Parameters:\n",
    "    - `region`: a string (capital letter) the seismic region under scrutiny.\n",
    "    - `cell_size`: discretization length of the cubes being split into.\n",
    "    - `minimum_magnitude`: minimum magnitude to filter the database\n",
    "    - `persepctive`: tuple (x,y) to set the view of the 3D plot\n",
    "    - `quality`: the quality of the relief map, higher is better (>1000), and computationally demanding\n",
    "\n",
    "    Returns:\n",
    "        Plots the GMT visualization.\n",
    "    \"\"\"\n",
    "    \n",
    "    ##################################### READ DATA #####################################\n",
    "    path = \"./data/\"\n",
    "    filepath = path * \"Romania\" * \".csv\"\n",
    "    mkpath(\"./gmt/$region\")\n",
    "    df = CSV.read(filepath, DataFrame);\n",
    "    \n",
    "    # Read Vrancea\n",
    "    # Read data\n",
    "    path = \"./data/\"\n",
    "    filepath_Vrancea = path * region * \".csv\"\n",
    "\n",
    "    df_Vrancea = CSV.read(filepath_Vrancea, DataFrame);\n",
    "    minlon_Vrancea = minimum(df_Vrancea.Longitude)\n",
    "    maxlon_Vrancea = maximum(df_Vrancea.Longitude)\n",
    "    minlat_Vrancea = minimum(df_Vrancea.Latitude)\n",
    "    maxlat_Vrancea = maximum(df_Vrancea.Latitude)\n",
    "\n",
    "    df = df[(df.Longitude .> minlon_Vrancea) .& (df.Longitude .< maxlon_Vrancea) .& \n",
    "        (df.Latitude .> minlat_Vrancea) .& (df.Latitude .< maxlat_Vrancea), :]\n",
    "\n",
    "    df_filtered = df[df.Magnitude .> minimum_magnitude,:] \n",
    "    #########################################################################################\n",
    "\n",
    "    ##################################### MAP OF REGION #####################################\n",
    "    #########################################################################################\n",
    "    # Split into cubes\n",
    "    df_filtered, df_filtered_cubes = region_cube_split(df_filtered,cell_size=cell_size,energyRelease=true);\n",
    "    # Region coords based on cubes\n",
    "    min_lon = minimum(df_filtered_cubes.cubeLongitude) -0.2\n",
    "    max_lon = maximum(df_filtered_cubes.cubeLongitude) +0.2\n",
    "    min_lat = minimum(df_filtered_cubes.cubeLatitude) -0.2\n",
    "    max_lat = maximum(df_filtered_cubes.cubeLatitude) +0.2\n",
    "    min_dep = minimum(df_filtered_cubes.cubeDepth);\n",
    "    max_dep = maximum(df_filtered_cubes.cubeDepth);\n",
    "    # Create the map coordinates\n",
    "    map_coords = [min_lon,max_lon,min_lat,max_lat]\n",
    "    map_coords_depth = [min_lon,max_lon,min_lat,max_lat,-max_dep,-min_dep]\n",
    "    # Colormap for the region topography\n",
    "    C_map = makecpt(cmap=:geo, range=(-8000,8000), continuous=true);\n",
    "    # Relief map of the region\n",
    "    relief_map = grdcut(\"@earth_relief_30s\", region=map_coords);\n",
    "\n",
    "    # z_ratio (ratio between longitude and depth, exaggerated by a factor of 2 for better vis)\n",
    "    x0_lla = LLA(min_lat,min_lon,-min_dep)\n",
    "    xf_lla = LLA(min_lat,max_lon,-min_dep)\n",
    "    lon_dist_in_km = Geodesy.euclidean_distance(xf_lla,x0_lla) / 1000\n",
    "    z_ratio = ratio_for_z * max_dep / lon_dist_in_km\n",
    "\n",
    "    #########################################################################################\n",
    "\n",
    "    ####################################### GMT PLOT ########################################\n",
    "    #########################################################################################\n",
    "    #Basemap to define the axes, annot and labels\n",
    "    basemap(limits=map_coords_depth, proj=:merc, zsize=z_ratio, frame=\"SEnwZ1+b xafg yafg zaf+lDepth(km)\", \n",
    "            par=(FONT_LABEL=\"20p,Palatino-Roman\",MAP_LABEL_OFFSET=0.8, FONT_ANNOT=\"18p,Palatino-Roman,black\"), view=perspective)\n",
    "    \n",
    "    \n",
    "    # Edges, plotted manually\n",
    "    # Create network\n",
    "    MG = create_network(df_filtered, df_filtered_cubes)\n",
    "    # edgelist_array = Matrix(edgelist); for edges \n",
    "    edgelist = collect(edges(MG)) |> DataFrame;\n",
    "    for i in range(1,nrow(edgelist))\n",
    "        line_coords = DataFrame(lats = [df_filtered_cubes.cubeLatitude[edgelist.src[i]],df_filtered_cubes.cubeLatitude[edgelist.dst[i]]],\n",
    "                        lons =[df_filtered_cubes.cubeLongitude[edgelist.src[i]],df_filtered_cubes.cubeLongitude[edgelist.dst[i]]],\n",
    "                        deps= [df_filtered_cubes.cubeDepth[edgelist.src[i]],df_filtered_cubes.cubeDepth[edgelist.dst[i]]])\n",
    "    \n",
    "        plot3d!(line_coords.lons, line_coords.lats, -line_coords.deps, JZ=string(z_ratio) * \"c\", proj=:merc, pen=(0.3,:black), alpha=65, view=perspective)\n",
    "    end\n",
    "    \n",
    "    # Nodes\n",
    "    # connectivity for nodes degree\n",
    "    connectivity = degree(MG);\n",
    "    # C_markers = makecpt(cmap=:berlin, range=(minimum(connectivity),maximum(connectivity)), inverse=true);\n",
    "    # C_markers = makecpt(cmap=:berlin, range=(minimum(connectivity),maximum(connectivity)));\n",
    "    C_markers = makecpt(cmap=:split, range=(minimum(connectivity),maximum(connectivity)));\n",
    "\n",
    "    scatter3!(df_filtered_cubes.cubeLongitude, df_filtered_cubes.cubeLatitude, -df_filtered_cubes.cubeDepth,\n",
    "                limits=map_coords_depth,frame=\"SEnwZ1+b\",proj=:merc, marker=:cube, markersize=marker_size,\n",
    "                cmap=C_markers, zcolor=connectivity, alpha=60, view=perspective)\n",
    "    \n",
    "    # Colorbar\n",
    "    colorbar!(limits=map_coords, pos=(paper=colorbar_info[1], size=colorbar_info[2]), shade=0.4, xaxis=(annot=colorbar_info[3]), frame=(xlabel=\"Degree\",),\n",
    "                par=(FONT_LABEL=\"22p,Palatino-Roman,black\",MAP_LABEL_OFFSET=0.6,FONT_ANNOT=\"18p,Palatino-Roman,black\"),view=(180,90))\n",
    "    \n",
    "    # Relief map\n",
    "    grdview!(relief_map, proj=:merc, surftype=(image=quality,), \n",
    "                cmap=C_map, zsize=1.0, alpha=25 ,yshift=z_ratio-0.6, view=perspective,\n",
    "                # savefig=\"./gmt/$region/$(region)_cell_size_$(cell_size)km_minmag_$(minimum_magnitude).png\",\n",
    "                )\n",
    "\n",
    "\n",
    "    legend!((label=(txt=\"L=$(cell_size) , M\"*subscript(min)*\"=$(minimum_magnitude) \", justify=:L, font=(20, \"Palatino-Roman\")),),\n",
    "                limits=map_coords, pos=(paper=legend_info[1], width=legend_info[2], justify=:BL, spacing=2.4),\n",
    "                clearance=(0.1,0.1), box=(pen=0.1, fill=:azure1),\n",
    "                figsize=10, proj=:Mercator, view = (180,90),\n",
    "                savefig=\"./gmt/$region/$(region)_cell_size_$(cell_size)km_minmag_$(minimum_magnitude).png\",)\n",
    "    #########################################################################################\n",
    "end\n",
    "#############################################################################################################################################"
   ]
  },
  {
   "cell_type": "code",
   "execution_count": null,
   "metadata": {},
   "outputs": [],
   "source": [
    "# quality = 1500\n",
    "# region = \"Vrancea\"\n",
    "# ratio_for_z = 8\n",
    "# perspective = (155,25)\n",
    "# for cell_size in [5.0, 10.0]\n",
    "#     if cell_size == 5.0\n",
    "#         marker_size = 0.4\n",
    "#         legend_info = [(-2.5,8.0),4.9]\n",
    "#     elseif cell_size == 10.0\n",
    "#         marker_size = 0.55\n",
    "#         legend_info = [(-2.5,8.0),5.1]\n",
    "#     end\n",
    "\n",
    "#     for minimum_magnitude in [4,3,2]\n",
    "#         if minimum_magnitude == 4\n",
    "#             colorbar_info = [(22.0,8.5),(12.0,0.5),2]\n",
    "#         elseif minimum_magnitude == 3\n",
    "#             colorbar_info = [(22.0,8.5),(12.0,0.5),10]\n",
    "\n",
    "#         elseif minimum_magnitude == 2\n",
    "#             colorbar_info = [(22.0,8.5),(12.0,0.5),14]\n",
    "\n",
    "#         end\n",
    "#         network_plot_gmt_Vrancea(region, cell_size, minimum_magnitude, marker_size, ratio_for_z, legend_info, perspective, quality,  colorbar_info)\n",
    "\n",
    "#     end\n",
    "\n",
    "# end"
   ]
  },
  {
   "cell_type": "code",
   "execution_count": 99,
   "metadata": {},
   "outputs": [
    {
     "data": {
      "text/plain": [
       "3-element Vector{Any}:\n",
       "   (22.0, 8.5)\n",
       "   (12.0, 0.5)\n",
       " 14"
      ]
     },
     "metadata": {},
     "output_type": "display_data"
    }
   ],
   "source": [
    "quality = 100\n",
    "region = \"Vrancea\"\n",
    "ratio_for_z = 8\n",
    "perspective = (155,25)\n",
    "cell_size = 10.0\n",
    "marker_size = 1.2\n",
    "minimum_magnitude = 2\n",
    "legend_info = [(-2.5,8.0),5.1]\n",
    "colorbar_info = [(22.0,8.5),(12.0,0.5),14]"
   ]
  },
  {
   "cell_type": "code",
   "execution_count": 100,
   "metadata": {},
   "outputs": [
    {
     "data": {
      "text/plain": [
       "350"
      ]
     },
     "metadata": {},
     "output_type": "display_data"
    }
   ],
   "source": [
    "iterations = 350"
   ]
  },
  {
   "cell_type": "code",
   "execution_count": 101,
   "metadata": {},
   "outputs": [
    {
     "name": "stderr",
     "output_type": "stream",
     "text": [
      "makecpt [WARNING]: Without inc in -T option, -Z has no effect (ignored)\n",
      "grdcut [WARNING]: (w - x_min) must equal (NX + eps) * x_inc), where NX is an integer and |eps| <= 0.0001.\n",
      "grdcut [WARNING]: w reset from 25.8666 to 25.8583333333\n",
      "grdcut [WARNING]: (e - x_min) must equal (NX + eps) * x_inc), where NX is an integer and |eps| <= 0.0001.\n",
      "grdcut [WARNING]: e reset from 27.1577 to 27.1583333333\n",
      "grdcut [WARNING]: (s - y_min) must equal (NY + eps) * y_inc), where NY is an integer and |eps| <= 0.0001.\n",
      "grdcut [WARNING]: s reset from 45.055 to 45.05\n",
      "grdcut [WARNING]: (n - y_min) must equal (NY + eps) * y_inc), where NY is an integer and |eps| <= 0.0001.\n",
      "grdcut [WARNING]: n reset from 46.1748 to 46.175\n"
     ]
    }
   ],
   "source": [
    "path = \"./data/\"\n",
    "filepath = path * \"Romania\" * \".csv\"\n",
    "mkpath(\"./gmt/$region\")\n",
    "df = CSV.read(filepath, DataFrame);\n",
    "\n",
    "# Read Vrancea\n",
    "# Read data\n",
    "path = \"./data/\"\n",
    "filepath_Vrancea = path * region * \".csv\"\n",
    "\n",
    "df_Vrancea = CSV.read(filepath_Vrancea, DataFrame);\n",
    "minlon_Vrancea = minimum(df_Vrancea.Longitude)\n",
    "maxlon_Vrancea = maximum(df_Vrancea.Longitude)\n",
    "minlat_Vrancea = minimum(df_Vrancea.Latitude)\n",
    "maxlat_Vrancea = maximum(df_Vrancea.Latitude)\n",
    "\n",
    "df = df[(df.Longitude .> minlon_Vrancea) .& (df.Longitude .< maxlon_Vrancea) .& \n",
    "    (df.Latitude .> minlat_Vrancea) .& (df.Latitude .< maxlat_Vrancea), :]\n",
    "\n",
    "df_filtered = df[df.Magnitude .> minimum_magnitude,:] \n",
    "\n",
    "#########################################################################################\n",
    "\n",
    "##################################### MAP OF REGION #####################################\n",
    "#########################################################################################\n",
    "# Split into cubes\n",
    "df_filtered, df_filtered_cubes = region_cube_split(df_filtered,cell_size=cell_size,energyRelease=true);\n",
    "# Region coords based on cubes\n",
    "min_lon = minimum(df_filtered_cubes.cubeLongitude) -0.2\n",
    "max_lon = maximum(df_filtered_cubes.cubeLongitude) +0.2\n",
    "min_lat = minimum(df_filtered_cubes.cubeLatitude) -0.2\n",
    "max_lat = maximum(df_filtered_cubes.cubeLatitude) +0.2\n",
    "min_dep = minimum(df_filtered_cubes.cubeDepth);\n",
    "max_dep = maximum(df_filtered_cubes.cubeDepth);\n",
    "# Create the map coordinates\n",
    "map_coords = [min_lon,max_lon,min_lat,max_lat]\n",
    "map_coords_depth = [min_lon,max_lon,min_lat,max_lat,-max_dep,-min_dep]\n",
    "# Colormap for the region topography\n",
    "C_map = makecpt(cmap=:geo, range=(-8000,8000), continuous=true);\n",
    "# Relief map of the region\n",
    "relief_map = grdcut(\"@earth_relief_30s\", region=map_coords);\n",
    "\n",
    "# z_ratio (ratio between longitude and depth, exaggerated by a factor of 2 for better vis)\n",
    "x0_lla = LLA(min_lat,min_lon,-min_dep)\n",
    "xf_lla = LLA(min_lat,max_lon,-min_dep)\n",
    "lon_dist_in_km = Geodesy.euclidean_distance(xf_lla,x0_lla) / 1000\n",
    "z_ratio = ratio_for_z * max_dep / lon_dist_in_km\n",
    "\n",
    "#########################################################################################\n",
    "\n",
    "####################################### GMT PLOT ########################################\n",
    "#########################################################################################\n",
    "#Basemap to define the axes, annot and labels\n",
    "basemap(limits=map_coords_depth, proj=:merc, zsize=z_ratio, frame=\"SEnwZ1+b xafg yafg zaf+lDepth(km)\", \n",
    "        par=(FONT_LABEL=\"20p,Palatino-Roman\",MAP_LABEL_OFFSET=0.8, FONT_ANNOT=\"18p,Palatino-Roman,black\"), view=perspective)\n",
    "\n",
    "\n",
    "# deleteat!(df_filtered, iterations+1:nrow(df_filtered))\n",
    "# df_filtered, df_filtered_cubes = region_cube_split(df_filtered,cell_size=cell_size,energyRelease=true);\n",
    "# Edges, plotted manually\n",
    "# Create network\n",
    "MG = create_network(df_filtered, df_filtered_cubes)\n",
    "# edgelist_array = Matrix(edgelist); for edges \n",
    "edgelist = collect(edges(MG)) |> DataFrame;\n",
    "for i in range(1,nrow(edgelist))\n",
    "    line_coords = DataFrame(lats = [df_filtered_cubes.cubeLatitude[edgelist.src[i]],df_filtered_cubes.cubeLatitude[edgelist.dst[i]]],\n",
    "                    lons =[df_filtered_cubes.cubeLongitude[edgelist.src[i]],df_filtered_cubes.cubeLongitude[edgelist.dst[i]]],\n",
    "                    deps= [df_filtered_cubes.cubeDepth[edgelist.src[i]],df_filtered_cubes.cubeDepth[edgelist.dst[i]]])\n",
    "\n",
    "    plot3d!(line_coords.lons, line_coords.lats, -line_coords.deps, JZ=string(z_ratio) * \"c\", proj=:merc, pen=(1.4,:black), alpha=65, view=perspective)\n",
    "end\n",
    "\n",
    "# Nodes\n",
    "# connectivity for nodes degree\n",
    "connectivity = degree(MG);\n",
    "# C_markers = makecpt(cmap=:berlin, range=(minimum(connectivity),maximum(connectivity)), inverse=true);\n",
    "# C_markers = makecpt(cmap=:berlin, range=(minimum(connectivity),maximum(connectivity)));\n",
    "C_markers = makecpt(cmap=:split, range=(minimum(connectivity),maximum(connectivity)));\n",
    "\n",
    "scatter3!(df_filtered_cubes.cubeLongitude, df_filtered_cubes.cubeLatitude, -df_filtered_cubes.cubeDepth,\n",
    "            limits=map_coords_depth,frame=\"SEnwZ1+b\",proj=:merc, marker=:cube, markersize=marker_size, cmap=C_markers, #cmap=:black,\n",
    "             zcolor=connectivity, alpha=60, view=perspective)\n",
    "\n",
    "# # Colorbar\n",
    "# colorbar!(limits=map_coords, pos=(paper=colorbar_info[1], size=colorbar_info[2]), shade=0.4, xaxis=(annot=colorbar_info[3]), frame=(xlabel=\"Degree\",),\n",
    "#             par=(FONT_LABEL=\"22p,Palatino-Roman,black\",MAP_LABEL_OFFSET=0.6,FONT_ANNOT=\"18p,Palatino-Roman,black\"),view=(180,90))\n",
    "\n",
    "# Relief map\n",
    "grdview!(relief_map, proj=:merc, surftype=(image=quality,), \n",
    "            cmap=C_map, zsize=0.2, alpha=25 ,yshift=z_ratio-0.6, view=perspective,\n",
    "            # savefig=\"./gmt/$region/$(region)_cell_size_$(cell_size)km_minmag_$(minimum_magnitude).png\",\n",
    "            )\n",
    "\n",
    "\n",
    "legend!((label=(txt=\"L=$(cell_size) , M\"*subscript(min)*\"=$(minimum_magnitude) \", justify=:L, font=(20, \"Palatino-Roman\")),),\n",
    "            limits=map_coords, pos=(paper=legend_info[1], width=legend_info[2], justify=:BL, spacing=2.4),\n",
    "            clearance=(0.1,0.1), box=(pen=0.1, fill=:azure1),\n",
    "            figsize=10, proj=:Mercator, view = (180,90),\n",
    "            savefig=\"./gmt/$(region)_cell_size_$(cell_size)km_minmag_$(minimum_magnitude)_$(iterations).png\",)"
   ]
  },
  {
   "cell_type": "code",
   "execution_count": 61,
   "metadata": {},
   "outputs": [
    {
     "data": {
      "text/html": [
       "<div><div style = \"float: left;\"><span>1×2 DataFrame</span></div><div style = \"clear: both;\"></div></div><div class = \"data-frame\" style = \"overflow-x: scroll;\"><table class = \"data-frame\" style = \"margin-bottom: 6px;\"><thead><tr class = \"header\"><th class = \"rowNumber\" style = \"font-weight: bold; text-align: right;\">Row</th><th style = \"text-align: left;\">src</th><th style = \"text-align: left;\">dst</th></tr><tr class = \"subheader headerLastRow\"><th class = \"rowNumber\" style = \"font-weight: bold; text-align: right;\"></th><th title = \"Int64\" style = \"text-align: left;\">Int64</th><th title = \"Int64\" style = \"text-align: left;\">Int64</th></tr></thead><tbody><tr><td class = \"rowNumber\" style = \"font-weight: bold; text-align: right;\">1</td><td style = \"text-align: right;\">1</td><td style = \"text-align: right;\">2</td></tr></tbody></table></div>"
      ],
      "text/latex": [
       "\\begin{tabular}{r|cc}\n",
       "\t& src & dst\\\\\n",
       "\t\\hline\n",
       "\t& Int64 & Int64\\\\\n",
       "\t\\hline\n",
       "\t1 & 1 & 2 \\\\\n",
       "\\end{tabular}\n"
      ],
      "text/plain": [
       "\u001b[1m1×2 DataFrame\u001b[0m\n",
       "\u001b[1m Row \u001b[0m│\u001b[1m src   \u001b[0m\u001b[1m dst   \u001b[0m\n",
       "     │\u001b[90m Int64 \u001b[0m\u001b[90m Int64 \u001b[0m\n",
       "─────┼──────────────\n",
       "   1 │     1      2"
      ]
     },
     "metadata": {},
     "output_type": "display_data"
    }
   ],
   "source": [
    "edgelist"
   ]
  },
  {
   "cell_type": "code",
   "execution_count": 102,
   "metadata": {},
   "outputs": [
    {
     "data": {
      "text/html": [
       "<div><div style = \"float: left;\"><span>9008×7 DataFrame</span></div><div style = \"float: right;\"><span style = \"font-style: italic;\">8983 rows omitted</span></div><div style = \"clear: both;\"></div></div><div class = \"data-frame\" style = \"overflow-x: scroll;\"><table class = \"data-frame\" style = \"margin-bottom: 6px;\"><thead><tr class = \"header\"><th class = \"rowNumber\" style = \"font-weight: bold; text-align: right;\">Row</th><th style = \"text-align: left;\">Datetime</th><th style = \"text-align: left;\">Latitude</th><th style = \"text-align: left;\">Longitude</th><th style = \"text-align: left;\">Depth</th><th style = \"text-align: left;\">Magnitude</th><th style = \"text-align: left;\">cubeIndex</th><th style = \"text-align: left;\">energyRelease</th></tr><tr class = \"subheader headerLastRow\"><th class = \"rowNumber\" style = \"font-weight: bold; text-align: right;\"></th><th title = \"Dates.DateTime\" style = \"text-align: left;\">DateTime</th><th title = \"Float64\" style = \"text-align: left;\">Float64</th><th title = \"Float64\" style = \"text-align: left;\">Float64</th><th title = \"Float64\" style = \"text-align: left;\">Float64</th><th title = \"Float64\" style = \"text-align: left;\">Float64</th><th title = \"String\" style = \"text-align: left;\">String</th><th title = \"Float64\" style = \"text-align: left;\">Float64</th></tr></thead><tbody><tr><td class = \"rowNumber\" style = \"font-weight: bold; text-align: right;\">1</td><td style = \"text-align: left;\">1977-03-04T19:21:54.100</td><td style = \"text-align: right;\">45.77</td><td style = \"text-align: right;\">26.76</td><td style = \"text-align: right;\">94.0</td><td style = \"text-align: right;\">7.4</td><td style = \"text-align: left;\">699</td><td style = \"text-align: right;\">3.16228e9</td></tr><tr><td class = \"rowNumber\" style = \"font-weight: bold; text-align: right;\">2</td><td style = \"text-align: left;\">1977-03-04T21:21:01.100</td><td style = \"text-align: right;\">45.22</td><td style = \"text-align: right;\">26.65</td><td style = \"text-align: right;\">141.0</td><td style = \"text-align: right;\">3.0</td><td style = \"text-align: left;\">1053</td><td style = \"text-align: right;\">794.328</td></tr><tr><td class = \"rowNumber\" style = \"font-weight: bold; text-align: right;\">3</td><td style = \"text-align: left;\">1977-03-05T02:35:22</td><td style = \"text-align: right;\">45.63</td><td style = \"text-align: right;\">26.19</td><td style = \"text-align: right;\">121.3</td><td style = \"text-align: right;\">3.0</td><td style = \"text-align: left;\">877</td><td style = \"text-align: right;\">794.328</td></tr><tr><td class = \"rowNumber\" style = \"font-weight: bold; text-align: right;\">4</td><td style = \"text-align: left;\">1977-03-05T12:08:42</td><td style = \"text-align: right;\">45.37</td><td style = \"text-align: right;\">26.3</td><td style = \"text-align: right;\">124.0</td><td style = \"text-align: right;\">3.5</td><td style = \"text-align: left;\">883</td><td style = \"text-align: right;\">4466.84</td></tr><tr><td class = \"rowNumber\" style = \"font-weight: bold; text-align: right;\">5</td><td style = \"text-align: left;\">1977-03-06T13:27:06.300</td><td style = \"text-align: right;\">45.83</td><td style = \"text-align: right;\">26.63</td><td style = \"text-align: right;\">112.3</td><td style = \"text-align: right;\">2.6</td><td style = \"text-align: left;\">834</td><td style = \"text-align: right;\">199.526</td></tr><tr><td class = \"rowNumber\" style = \"font-weight: bold; text-align: right;\">6</td><td style = \"text-align: left;\">1977-03-11T21:19:07.300</td><td style = \"text-align: right;\">45.49</td><td style = \"text-align: right;\">26.76</td><td style = \"text-align: right;\">87.1</td><td style = \"text-align: right;\">2.2</td><td style = \"text-align: left;\">624</td><td style = \"text-align: right;\">50.1187</td></tr><tr><td class = \"rowNumber\" style = \"font-weight: bold; text-align: right;\">7</td><td style = \"text-align: left;\">1977-03-12T13:27:13.300</td><td style = \"text-align: right;\">45.74</td><td style = \"text-align: right;\">26.9</td><td style = \"text-align: right;\">99.9</td><td style = \"text-align: right;\">3.8</td><td style = \"text-align: left;\">716</td><td style = \"text-align: right;\">12589.3</td></tr><tr><td class = \"rowNumber\" style = \"font-weight: bold; text-align: right;\">8</td><td style = \"text-align: left;\">1977-03-12T18:02:15.200</td><td style = \"text-align: right;\">45.79</td><td style = \"text-align: right;\">26.89</td><td style = \"text-align: right;\">100.0</td><td style = \"text-align: right;\">3.5</td><td style = \"text-align: left;\">780</td><td style = \"text-align: right;\">4466.84</td></tr><tr><td class = \"rowNumber\" style = \"font-weight: bold; text-align: right;\">9</td><td style = \"text-align: left;\">1977-03-12T22:03:44.400</td><td style = \"text-align: right;\">45.73</td><td style = \"text-align: right;\">26.8</td><td style = \"text-align: right;\">97.9</td><td style = \"text-align: right;\">2.6</td><td style = \"text-align: left;\">707</td><td style = \"text-align: right;\">199.526</td></tr><tr><td class = \"rowNumber\" style = \"font-weight: bold; text-align: right;\">10</td><td style = \"text-align: left;\">1977-03-13T05:46:02</td><td style = \"text-align: right;\">45.28</td><td style = \"text-align: right;\">26.46</td><td style = \"text-align: right;\">19.9</td><td style = \"text-align: right;\">2.3</td><td style = \"text-align: left;\">99</td><td style = \"text-align: right;\">70.7946</td></tr><tr><td class = \"rowNumber\" style = \"font-weight: bold; text-align: right;\">11</td><td style = \"text-align: left;\">1977-03-14T12:49:11.600</td><td style = \"text-align: right;\">45.49</td><td style = \"text-align: right;\">26.9</td><td style = \"text-align: right;\">23.1</td><td style = \"text-align: right;\">2.6</td><td style = \"text-align: left;\">210</td><td style = \"text-align: right;\">199.526</td></tr><tr><td class = \"rowNumber\" style = \"font-weight: bold; text-align: right;\">12</td><td style = \"text-align: left;\">1977-03-21T00:35:54.600</td><td style = \"text-align: right;\">45.75</td><td style = \"text-align: right;\">26.72</td><td style = \"text-align: right;\">69.7</td><td style = \"text-align: right;\">2.7</td><td style = \"text-align: left;\">483</td><td style = \"text-align: right;\">281.838</td></tr><tr><td class = \"rowNumber\" style = \"font-weight: bold; text-align: right;\">13</td><td style = \"text-align: left;\">1977-03-22T08:26:52.100</td><td style = \"text-align: right;\">45.51</td><td style = \"text-align: right;\">26.15</td><td style = \"text-align: right;\">167.0</td><td style = \"text-align: right;\">3.5</td><td style = \"text-align: left;\">1164</td><td style = \"text-align: right;\">4466.84</td></tr><tr><td style = \"text-align: right;\">&vellip;</td><td style = \"text-align: right;\">&vellip;</td><td style = \"text-align: right;\">&vellip;</td><td style = \"text-align: right;\">&vellip;</td><td style = \"text-align: right;\">&vellip;</td><td style = \"text-align: right;\">&vellip;</td><td style = \"text-align: right;\">&vellip;</td><td style = \"text-align: right;\">&vellip;</td></tr><tr><td class = \"rowNumber\" style = \"font-weight: bold; text-align: right;\">8997</td><td style = \"text-align: left;\">2022-12-09T00:52:37.880</td><td style = \"text-align: right;\">45.4519</td><td style = \"text-align: right;\">26.336</td><td style = \"text-align: right;\">129.6</td><td style = \"text-align: right;\">3.0</td><td style = \"text-align: left;\">884</td><td style = \"text-align: right;\">794.328</td></tr><tr><td class = \"rowNumber\" style = \"font-weight: bold; text-align: right;\">8998</td><td style = \"text-align: left;\">2022-12-09T15:36:01.740</td><td style = \"text-align: right;\">45.7038</td><td style = \"text-align: right;\">26.7097</td><td style = \"text-align: right;\">128.8</td><td style = \"text-align: right;\">3.2</td><td style = \"text-align: left;\">914</td><td style = \"text-align: right;\">1584.89</td></tr><tr><td class = \"rowNumber\" style = \"font-weight: bold; text-align: right;\">8999</td><td style = \"text-align: left;\">2022-12-13T19:37:54.560</td><td style = \"text-align: right;\">45.4168</td><td style = \"text-align: right;\">26.338</td><td style = \"text-align: right;\">125.7</td><td style = \"text-align: right;\">2.8</td><td style = \"text-align: left;\">884</td><td style = \"text-align: right;\">398.107</td></tr><tr><td class = \"rowNumber\" style = \"font-weight: bold; text-align: right;\">9000</td><td style = \"text-align: left;\">2022-12-15T08:22:21.990</td><td style = \"text-align: right;\">45.7194</td><td style = \"text-align: right;\">26.4448</td><td style = \"text-align: right;\">142.2</td><td style = \"text-align: right;\">2.7</td><td style = \"text-align: left;\">1040</td><td style = \"text-align: right;\">281.838</td></tr><tr><td class = \"rowNumber\" style = \"font-weight: bold; text-align: right;\">9001</td><td style = \"text-align: left;\">2022-12-15T23:47:13.400</td><td style = \"text-align: right;\">45.735</td><td style = \"text-align: right;\">26.6709</td><td style = \"text-align: right;\">87.7</td><td style = \"text-align: right;\">3.8</td><td style = \"text-align: left;\">626</td><td style = \"text-align: right;\">12589.3</td></tr><tr><td class = \"rowNumber\" style = \"font-weight: bold; text-align: right;\">9002</td><td style = \"text-align: left;\">2022-12-17T05:42:58.120</td><td style = \"text-align: right;\">45.641</td><td style = \"text-align: right;\">26.487</td><td style = \"text-align: right;\">143.8</td><td style = \"text-align: right;\">4.1</td><td style = \"text-align: left;\">1039</td><td style = \"text-align: right;\">35481.3</td></tr><tr><td class = \"rowNumber\" style = \"font-weight: bold; text-align: right;\">9003</td><td style = \"text-align: left;\">2022-12-18T03:23:22.420</td><td style = \"text-align: right;\">45.7235</td><td style = \"text-align: right;\">26.6176</td><td style = \"text-align: right;\">138.4</td><td style = \"text-align: right;\">2.7</td><td style = \"text-align: left;\">977</td><td style = \"text-align: right;\">281.838</td></tr><tr><td class = \"rowNumber\" style = \"font-weight: bold; text-align: right;\">9004</td><td style = \"text-align: left;\">2022-12-19T19:32:11.030</td><td style = \"text-align: right;\">45.7157</td><td style = \"text-align: right;\">26.6342</td><td style = \"text-align: right;\">85.7</td><td style = \"text-align: right;\">2.7</td><td style = \"text-align: left;\">617</td><td style = \"text-align: right;\">281.838</td></tr><tr><td class = \"rowNumber\" style = \"font-weight: bold; text-align: right;\">9005</td><td style = \"text-align: left;\">2022-12-26T07:47:10.270</td><td style = \"text-align: right;\">45.5403</td><td style = \"text-align: right;\">26.5114</td><td style = \"text-align: right;\">105.9</td><td style = \"text-align: right;\">3.5</td><td style = \"text-align: left;\">750</td><td style = \"text-align: right;\">4466.84</td></tr><tr><td class = \"rowNumber\" style = \"font-weight: bold; text-align: right;\">9006</td><td style = \"text-align: left;\">2022-12-27T16:00:52.890</td><td style = \"text-align: right;\">45.5211</td><td style = \"text-align: right;\">26.4184</td><td style = \"text-align: right;\">110.2</td><td style = \"text-align: right;\">2.5</td><td style = \"text-align: left;\">822</td><td style = \"text-align: right;\">141.254</td></tr><tr><td class = \"rowNumber\" style = \"font-weight: bold; text-align: right;\">9007</td><td style = \"text-align: left;\">2022-12-28T07:38:54.270</td><td style = \"text-align: right;\">45.7505</td><td style = \"text-align: right;\">26.6086</td><td style = \"text-align: right;\">85.2</td><td style = \"text-align: right;\">2.9</td><td style = \"text-align: left;\">618</td><td style = \"text-align: right;\">562.341</td></tr><tr><td class = \"rowNumber\" style = \"font-weight: bold; text-align: right;\">9008</td><td style = \"text-align: left;\">2022-12-29T02:06:28.320</td><td style = \"text-align: right;\">45.6714</td><td style = \"text-align: right;\">26.6291</td><td style = \"text-align: right;\">134.0</td><td style = \"text-align: right;\">2.8</td><td style = \"text-align: left;\">977</td><td style = \"text-align: right;\">398.107</td></tr></tbody></table></div>"
      ],
      "text/latex": [
       "\\begin{tabular}{r|ccccccc}\n",
       "\t& Datetime & Latitude & Longitude & Depth & Magnitude & cubeIndex & energyRelease\\\\\n",
       "\t\\hline\n",
       "\t& DateTime & Float64 & Float64 & Float64 & Float64 & String & Float64\\\\\n",
       "\t\\hline\n",
       "\t1 & 1977-03-04T19:21:54.100 & 45.77 & 26.76 & 94.0 & 7.4 & 699 & 3.16228e9 \\\\\n",
       "\t2 & 1977-03-04T21:21:01.100 & 45.22 & 26.65 & 141.0 & 3.0 & 1053 & 794.328 \\\\\n",
       "\t3 & 1977-03-05T02:35:22 & 45.63 & 26.19 & 121.3 & 3.0 & 877 & 794.328 \\\\\n",
       "\t4 & 1977-03-05T12:08:42 & 45.37 & 26.3 & 124.0 & 3.5 & 883 & 4466.84 \\\\\n",
       "\t5 & 1977-03-06T13:27:06.300 & 45.83 & 26.63 & 112.3 & 2.6 & 834 & 199.526 \\\\\n",
       "\t6 & 1977-03-11T21:19:07.300 & 45.49 & 26.76 & 87.1 & 2.2 & 624 & 50.1187 \\\\\n",
       "\t7 & 1977-03-12T13:27:13.300 & 45.74 & 26.9 & 99.9 & 3.8 & 716 & 12589.3 \\\\\n",
       "\t8 & 1977-03-12T18:02:15.200 & 45.79 & 26.89 & 100.0 & 3.5 & 780 & 4466.84 \\\\\n",
       "\t9 & 1977-03-12T22:03:44.400 & 45.73 & 26.8 & 97.9 & 2.6 & 707 & 199.526 \\\\\n",
       "\t10 & 1977-03-13T05:46:02 & 45.28 & 26.46 & 19.9 & 2.3 & 99 & 70.7946 \\\\\n",
       "\t11 & 1977-03-14T12:49:11.600 & 45.49 & 26.9 & 23.1 & 2.6 & 210 & 199.526 \\\\\n",
       "\t12 & 1977-03-21T00:35:54.600 & 45.75 & 26.72 & 69.7 & 2.7 & 483 & 281.838 \\\\\n",
       "\t13 & 1977-03-22T08:26:52.100 & 45.51 & 26.15 & 167.0 & 3.5 & 1164 & 4466.84 \\\\\n",
       "\t14 & 1977-04-04T02:15:49.700 & 45.59 & 26.64 & 115.0 & 3.8 & 841 & 12589.3 \\\\\n",
       "\t15 & 1977-05-25T11:59:23.200 & 45.34 & 26.02 & 38.0 & 3.3 & 217 & 2238.72 \\\\\n",
       "\t16 & 1977-06-16T02:26:10.300 & 45.74 & 26.6 & 151.0 & 4.7 & 1121 & 2.81838e5 \\\\\n",
       "\t17 & 1977-06-16T02:42:00 & 45.7 & 26.6 & 120.0 & 3.2 & 905 & 1584.89 \\\\\n",
       "\t18 & 1977-07-17T17:34:20.900 & 45.6 & 26.65 & 106.0 & 4.2 & 769 & 50118.7 \\\\\n",
       "\t19 & 1977-07-24T05:57:00 & 45.7 & 26.6 & 130.0 & 3.4 & 905 & 3162.28 \\\\\n",
       "\t20 & 1977-07-24T17:07:00 & 45.7 & 26.6 & 130.0 & 3.1 & 905 & 1122.02 \\\\\n",
       "\t21 & 1977-07-28T06:24:45.800 & 45.64 & 26.71 & 139.0 & 3.8 & 985 & 12589.3 \\\\\n",
       "\t22 & 1977-08-02T04:24:00 & 45.7 & 26.6 & 60.0 & 2.9 & 473 & 562.341 \\\\\n",
       "\t23 & 1977-08-04T22:32:02.100 & 45.68 & 26.62 & 146.0 & 4.8 & 1049 & 3.98107e5 \\\\\n",
       "\t24 & 1977-08-06T12:54:07 & 45.6 & 26.2 & 0.0 & 2.4 & 13 & 100.0 \\\\\n",
       "\t$\\dots$ & $\\dots$ & $\\dots$ & $\\dots$ & $\\dots$ & $\\dots$ & $\\dots$ & $\\dots$ \\\\\n",
       "\\end{tabular}\n"
      ],
      "text/plain": [
       "\u001b[1m9008×7 DataFrame\u001b[0m\n",
       "\u001b[1m  Row \u001b[0m│\u001b[1m Datetime                \u001b[0m\u001b[1m Latitude \u001b[0m\u001b[1m Longitude \u001b[0m\u001b[1m Depth   \u001b[0m\u001b[1m Magnitude \u001b[0m\u001b[1m cube\u001b[0m ⋯\n",
       "      │\u001b[90m DateTime                \u001b[0m\u001b[90m Float64  \u001b[0m\u001b[90m Float64   \u001b[0m\u001b[90m Float64 \u001b[0m\u001b[90m Float64   \u001b[0m\u001b[90m Stri\u001b[0m ⋯\n",
       "──────┼─────────────────────────────────────────────────────────────────────────\n",
       "    1 │ 1977-03-04T19:21:54.100   45.77      26.76       94.0        7.4  699  ⋯\n",
       "    2 │ 1977-03-04T21:21:01.100   45.22      26.65      141.0        3.0  1053\n",
       "    3 │ 1977-03-05T02:35:22       45.63      26.19      121.3        3.0  877\n",
       "    4 │ 1977-03-05T12:08:42       45.37      26.3       124.0        3.5  883\n",
       "    5 │ 1977-03-06T13:27:06.300   45.83      26.63      112.3        2.6  834  ⋯\n",
       "    6 │ 1977-03-11T21:19:07.300   45.49      26.76       87.1        2.2  624\n",
       "    7 │ 1977-03-12T13:27:13.300   45.74      26.9        99.9        3.8  716\n",
       "    8 │ 1977-03-12T18:02:15.200   45.79      26.89      100.0        3.5  780\n",
       "  ⋮   │            ⋮                ⋮          ⋮         ⋮         ⋮           ⋱\n",
       " 9002 │ 2022-12-17T05:42:58.120   45.641     26.487     143.8        4.1  1039 ⋯\n",
       " 9003 │ 2022-12-18T03:23:22.420   45.7235    26.6176    138.4        2.7  977\n",
       " 9004 │ 2022-12-19T19:32:11.030   45.7157    26.6342     85.7        2.7  617\n",
       " 9005 │ 2022-12-26T07:47:10.270   45.5403    26.5114    105.9        3.5  750\n",
       " 9006 │ 2022-12-27T16:00:52.890   45.5211    26.4184    110.2        2.5  822  ⋯\n",
       " 9007 │ 2022-12-28T07:38:54.270   45.7505    26.6086     85.2        2.9  618\n",
       " 9008 │ 2022-12-29T02:06:28.320   45.6714    26.6291    134.0        2.8  977\n",
       "\u001b[36m                                                 2 columns and 8993 rows omitted\u001b[0m"
      ]
     },
     "metadata": {},
     "output_type": "display_data"
    }
   ],
   "source": [
    "df_filtered"
   ]
  },
  {
   "cell_type": "code",
   "execution_count": 76,
   "metadata": {},
   "outputs": [
    {
     "data": {
      "text/html": [
       "<div><div style = \"float: left;\"><span>2×7 DataFrame</span></div><div style = \"clear: both;\"></div></div><div class = \"data-frame\" style = \"overflow-x: scroll;\"><table class = \"data-frame\" style = \"margin-bottom: 6px;\"><thead><tr class = \"header\"><th class = \"rowNumber\" style = \"font-weight: bold; text-align: right;\">Row</th><th style = \"text-align: left;\">cubeIndex</th><th style = \"text-align: left;\">xLatitude</th><th style = \"text-align: left;\">yLongitude</th><th style = \"text-align: left;\">zDepth</th><th style = \"text-align: left;\">cubeLatitude</th><th style = \"text-align: left;\">cubeLongitude</th><th style = \"text-align: left;\">cubeDepth</th></tr><tr class = \"subheader headerLastRow\"><th class = \"rowNumber\" style = \"font-weight: bold; text-align: right;\"></th><th title = \"String\" style = \"text-align: left;\">String</th><th title = \"Int64\" style = \"text-align: left;\">Int64</th><th title = \"Int64\" style = \"text-align: left;\">Int64</th><th title = \"Int64\" style = \"text-align: left;\">Int64</th><th title = \"Float64\" style = \"text-align: left;\">Float64</th><th title = \"Float64\" style = \"text-align: left;\">Float64</th><th title = \"Float64\" style = \"text-align: left;\">Float64</th></tr></thead><tbody><tr><td class = \"rowNumber\" style = \"font-weight: bold; text-align: right;\">1</td><td style = \"text-align: left;\">6</td><td style = \"text-align: right;\">7</td><td style = \"text-align: right;\">1</td><td style = \"text-align: right;\">1</td><td style = \"text-align: right;\">45.8049</td><td style = \"text-align: right;\">26.7137</td><td style = \"text-align: right;\">99.0</td></tr><tr><td class = \"rowNumber\" style = \"font-weight: bold; text-align: right;\">2</td><td style = \"text-align: left;\">28</td><td style = \"text-align: right;\">1</td><td style = \"text-align: right;\">1</td><td style = \"text-align: right;\">5</td><td style = \"text-align: right;\">45.265</td><td style = \"text-align: right;\">26.7137</td><td style = \"text-align: right;\">139.0</td></tr></tbody></table></div>"
      ],
      "text/latex": [
       "\\begin{tabular}{r|ccccccc}\n",
       "\t& cubeIndex & xLatitude & yLongitude & zDepth & cubeLatitude & cubeLongitude & cubeDepth\\\\\n",
       "\t\\hline\n",
       "\t& String & Int64 & Int64 & Int64 & Float64 & Float64 & Float64\\\\\n",
       "\t\\hline\n",
       "\t1 & 6 & 7 & 1 & 1 & 45.8049 & 26.7137 & 99.0 \\\\\n",
       "\t2 & 28 & 1 & 1 & 5 & 45.265 & 26.7137 & 139.0 \\\\\n",
       "\\end{tabular}\n"
      ],
      "text/plain": [
       "\u001b[1m2×7 DataFrame\u001b[0m\n",
       "\u001b[1m Row \u001b[0m│\u001b[1m cubeIndex \u001b[0m\u001b[1m xLatitude \u001b[0m\u001b[1m yLongitude \u001b[0m\u001b[1m zDepth \u001b[0m\u001b[1m cubeLatitude \u001b[0m\u001b[1m cubeLongitude \u001b[0m\u001b[1m \u001b[0m ⋯\n",
       "     │\u001b[90m String    \u001b[0m\u001b[90m Int64     \u001b[0m\u001b[90m Int64      \u001b[0m\u001b[90m Int64  \u001b[0m\u001b[90m Float64      \u001b[0m\u001b[90m Float64       \u001b[0m\u001b[90m \u001b[0m ⋯\n",
       "─────┼──────────────────────────────────────────────────────────────────────────\n",
       "   1 │ 6                  7           1       1       45.8049        26.7137   ⋯\n",
       "   2 │ 28                 1           1       5       45.265         26.7137\n",
       "\u001b[36m                                                                1 column omitted\u001b[0m"
      ]
     },
     "metadata": {},
     "output_type": "display_data"
    }
   ],
   "source": [
    "df_filtered_cubes"
   ]
  },
  {
   "cell_type": "code",
   "execution_count": 77,
   "metadata": {},
   "outputs": [
    {
     "data": {
      "text/plain": [
       "2-element Vector{Int64}:\n",
       " 1\n",
       " 1"
      ]
     },
     "metadata": {},
     "output_type": "display_data"
    }
   ],
   "source": [
    "connectivity"
   ]
  },
  {
   "cell_type": "code",
   "execution_count": null,
   "metadata": {},
   "outputs": [],
   "source": []
  }
 ],
 "metadata": {
  "kernelspec": {
   "display_name": "Julia 1.9.4",
   "language": "julia",
   "name": "julia-1.9"
  },
  "language_info": {
   "file_extension": ".jl",
   "mimetype": "application/julia",
   "name": "julia",
   "version": "1.9.4"
  }
 },
 "nbformat": 4,
 "nbformat_minor": 2
}
