{
 "cells": [
  {
   "cell_type": "code",
   "execution_count": 103,
   "metadata": {},
   "outputs": [
    {
     "data": {
      "text/plain": [
       "region_cube_split (generic function with 1 method)"
      ]
     },
     "metadata": {},
     "output_type": "display_data"
    }
   ],
   "source": [
    "using CSV, DataFrames\n",
    "using FileIO, Dates\n",
    "using Graphs, MetaGraphs\n",
    "using DataStructures\n",
    "using Plots\n",
    "\n",
    "include(\"../region_cube_split/cubes.jl\")"
   ]
  },
  {
   "cell_type": "code",
   "execution_count": 104,
   "metadata": {},
   "outputs": [],
   "source": [
    "romania_full = CSV.read(\"../data/romania.csv\", DataFrame);\n",
    "romania = romania_full[romania_full.Datetime .> DateTime(1980,1,1,0,0,0),:];\n",
    "\n",
    "vrancea = romania[(romania.Latitude .>= 45.20) .& (romania.Latitude .<= 46.0) .& \n",
    "                    (romania.Longitude .>= 26.0) .& (romania.Longitude .<= 27.0) .&\n",
    "                    (romania.Depth .>= 50.0) .& (romania.Depth .<= 200.0), :];"
   ]
  },
  {
   "cell_type": "code",
   "execution_count": 105,
   "metadata": {},
   "outputs": [],
   "source": [
    "vrancea = vrancea[vrancea.Magnitude .> 2.0,:];"
   ]
  },
  {
   "cell_type": "code",
   "execution_count": 106,
   "metadata": {},
   "outputs": [],
   "source": [
    "vrancea, vrancea_cubes = region_cube_split(vrancea,side=5);"
   ]
  },
  {
   "cell_type": "code",
   "execution_count": 107,
   "metadata": {},
   "outputs": [
    {
     "data": {
      "text/plain": [
       "Set{Symbol} with 1 element:\n",
       "  :cubeIndex"
      ]
     },
     "metadata": {},
     "output_type": "display_data"
    }
   ],
   "source": [
    "G = Graphs.Graph(length(vrancea_cubes.cubeIndex))\n",
    "MG = MetaGraph(G)\n",
    "\n",
    "for i in 1:nv(MG)\n",
    "    set_prop!(MG, i, :cubeIndex, vrancea_cubes.cubeIndex[i])\n",
    "    set_prop!(MG, i, :degree, 0)\n",
    "end\n",
    "\n",
    "set_indexing_prop!(MG, :cubeIndex)"
   ]
  },
  {
   "cell_type": "code",
   "execution_count": 108,
   "metadata": {},
   "outputs": [
    {
     "data": {
      "text/plain": [
       "true"
      ]
     },
     "metadata": {},
     "output_type": "display_data"
    }
   ],
   "source": [
    "edgeWeight=true"
   ]
  },
  {
   "cell_type": "code",
   "execution_count": 109,
   "metadata": {},
   "outputs": [
    {
     "data": {
      "text/plain": [
       "7526"
      ]
     },
     "metadata": {},
     "output_type": "display_data"
    }
   ],
   "source": [
    "length(vrancea.cubeIndex)"
   ]
  },
  {
   "cell_type": "code",
   "execution_count": 110,
   "metadata": {},
   "outputs": [
    {
     "data": {
      "text/plain": [
       "{1643, 7334} undirected Int64 metagraph with Float64 weights defined by :weight (default weight 1.0)"
      ]
     },
     "metadata": {},
     "output_type": "display_data"
    }
   ],
   "source": [
    "i=0\n",
    "while i < length(vrancea.cubeIndex)-1\n",
    "\n",
    "    i+=1\n",
    "    current_node = MG[vrancea.cubeIndex[i],:cubeIndex]\n",
    "    target_node = MG[vrancea.cubeIndex[i+1],:cubeIndex]\n",
    "\n",
    "    \n",
    "    if edgeWeight == false\n",
    "        add_edge!(MG,current_node,target_node)\n",
    "    else\n",
    "        if has_edge(MG, current_node, target_node)\n",
    "            set_prop!(MG,current_node,target_node,\n",
    "                    :weight, get_prop(MG,Edge(current_node,target_node),:weight)+1)\n",
    "\n",
    "            set_prop!(MG, current_node, :degree, get_prop(MG,current_node,:degree)+1)\n",
    "            set_prop!(MG, target_node, :degree, get_prop(MG,target_node,:degree)+1)\n",
    "\n",
    "            continue\n",
    "\n",
    "        else\n",
    "            add_edge!(MG,current_node,target_node,:weight,1)\n",
    "            set_prop!(MG, current_node, :degree, get_prop(MG,current_node,:degree)+1)\n",
    "            set_prop!(MG, target_node, :degree, get_prop(MG,target_node,:degree)+1)\n",
    "        end\n",
    "    end\n",
    "\n",
    "end\n",
    "MG"
   ]
  },
  {
   "cell_type": "code",
   "execution_count": 111,
   "metadata": {},
   "outputs": [],
   "source": [
    "degrees=[]\n",
    "for i=1:nv(MG)\n",
    "    push!(degrees,get_prop(MG,i,:degree))\n",
    "end"
   ]
  },
  {
   "cell_type": "code",
   "execution_count": 112,
   "metadata": {},
   "outputs": [
    {
     "data": {
      "image/png": "[encoded data removed]",
      "image/svg+xml": "<?xml version=\"1.0\" encoding=\"utf-8\"?>\n<svg xmlns=\"http://www.w3.org/2000/svg\" xmlns:xlink=\"http://www.w3.org/1999/xlink\" width=\"600\" height=\"400\" viewBox=\"0 0 2400 1600\">\n<defs>\n  <clipPath id=\"clip180\">\n    <rect x=\"0\" y=\"0\" width=\"2400\" height=\"1600\"/>\n  </clipPath>\n</defs>\n<path clip-path=\"url(#clip180)\" d=\"\nM0 1600 L2400 1600 L2400 0 L0 0  Z\n  \" fill=\"#ffffff\" fill-rule=\"evenodd\" fill-opacity=\"1\"/>\n<defs>\n  <clipPath id=\"clip181\">\n    <rect x=\"480\" y=\"0\" width=\"1681\" height=\"1600\"/>\n  </clipPath>\n</defs>\n<path clip-path=\"url(#clip180)\" d=\"\nM158.369 1474.16 L2352.76 1474.16 L2352.76 47.2441 L158.369 47.2441  Z\n  \" fill=\"#ffffff\" fill-rule=\"evenodd\" fill-opacity=\"1\"/>\n<defs>\n  <clipPath id=\"clip182\">\n    <rect x=\"158\" y=\"47\" width=\"2195\" height=\"1428\"/>\n  </clipPath>\n</defs>\n<polyline clip-path=\"url(#clip182)\" style=\"stroke:#000000; stroke-linecap:round; stroke-linejoin:round; stroke-width:2; stroke-opacity:0.1; fill:none\" points=\"\n  220.474,1474.16 220.474,47.2441 \n  \"/>\n<polyline clip-path=\"url(#clip182)\" style=\"stroke:#000000; stroke-linecap:round; stroke-linejoin:round; stroke-width:2; stroke-opacity:0.1; fill:none\" points=\"\n  1305.2,1474.16 1305.2,47.2441 \n  \"/>\n<polyline clip-path=\"url(#clip180)\" style=\"stroke:#000000; stroke-linecap:round; stroke-linejoin:round; stroke-width:4; stroke-opacity:1; fill:none\" points=\"\n  158.369,1474.16 2352.76,1474.16 \n  \"/>\n<polyline clip-path=\"url(#clip180)\" style=\"stroke:#000000; stroke-linecap:round; stroke-linejoin:round; stroke-width:4; stroke-opacity:1; fill:none\" points=\"\n  220.474,1474.16 220.474,1455.27 \n  \"/>\n<polyline clip-path=\"url(#clip180)\" style=\"stroke:#000000; stroke-linecap:round; stroke-linejoin:round; stroke-width:4; stroke-opacity:1; fill:none\" points=\"\n  1305.2,1474.16 1305.2,1455.27 \n  \"/>\n<path clip-path=\"url(#clip180)\" d=\"M185.457 1548.29 L193.096 1548.29 L193.096 1521.92 L184.786 1523.59 L184.786 1519.33 L193.05 1517.66 L197.726 1517.66 L197.726 1548.29 L205.364 1548.29 L205.364 1552.22 L185.457 1552.22 L185.457 1548.29 Z\" fill=\"#000000\" fill-rule=\"evenodd\" fill-opacity=\"1\" /><path clip-path=\"url(#clip180)\" d=\"M224.809 1520.74 Q221.198 1520.74 219.369 1524.31 Q217.563 1527.85 217.563 1534.98 Q217.563 1542.09 219.369 1545.65 Q221.198 1549.19 224.809 1549.19 Q228.443 1549.19 230.249 1545.65 Q232.077 1542.09 232.077 1534.98 Q232.077 1527.85 230.249 1524.31 Q228.443 1520.74 224.809 1520.74 M224.809 1517.04 Q230.619 1517.04 233.675 1521.65 Q236.753 1526.23 236.753 1534.98 Q236.753 1543.71 233.675 1548.31 Q230.619 1552.9 224.809 1552.9 Q218.999 1552.9 215.92 1548.31 Q212.864 1543.71 212.864 1534.98 Q212.864 1526.23 215.92 1521.65 Q218.999 1517.04 224.809 1517.04 Z\" fill=\"#000000\" fill-rule=\"evenodd\" fill-opacity=\"1\" /><path clip-path=\"url(#clip180)\" d=\"M246.458 1499.24 Q243.524 1499.24 242.038 1502.13 Q240.571 1505.01 240.571 1510.8 Q240.571 1516.58 242.038 1519.47 Q243.524 1522.35 246.458 1522.35 Q249.411 1522.35 250.878 1519.47 Q252.364 1516.58 252.364 1510.8 Q252.364 1505.01 250.878 1502.13 Q249.411 1499.24 246.458 1499.24 M246.458 1496.23 Q251.179 1496.23 253.661 1499.97 Q256.163 1503.69 256.163 1510.8 Q256.163 1517.89 253.661 1521.64 Q251.179 1525.36 246.458 1525.36 Q241.737 1525.36 239.236 1521.64 Q236.753 1517.89 236.753 1510.8 Q236.753 1503.69 239.236 1499.97 Q241.737 1496.23 246.458 1496.23 Z\" fill=\"#000000\" fill-rule=\"evenodd\" fill-opacity=\"1\" /><path clip-path=\"url(#clip180)\" d=\"M1271.52 1548.29 L1279.16 1548.29 L1279.16 1521.92 L1270.85 1523.59 L1270.85 1519.33 L1279.12 1517.66 L1283.79 1517.66 L1283.79 1548.29 L1291.43 1548.29 L1291.43 1552.22 L1271.52 1552.22 L1271.52 1548.29 Z\" fill=\"#000000\" fill-rule=\"evenodd\" fill-opacity=\"1\" /><path clip-path=\"url(#clip180)\" d=\"M1310.88 1520.74 Q1307.26 1520.74 1305.44 1524.31 Q1303.63 1527.85 1303.63 1534.98 Q1303.63 1542.09 1305.44 1545.65 Q1307.26 1549.19 1310.88 1549.19 Q1314.51 1549.19 1316.32 1545.65 Q1318.14 1542.09 1318.14 1534.98 Q1318.14 1527.85 1316.32 1524.31 Q1314.51 1520.74 1310.88 1520.74 M1310.88 1517.04 Q1316.69 1517.04 1319.74 1521.65 Q1322.82 1526.23 1322.82 1534.98 Q1322.82 1543.71 1319.74 1548.31 Q1316.69 1552.9 1310.88 1552.9 Q1305.07 1552.9 1301.99 1548.31 Q1298.93 1543.71 1298.93 1534.98 Q1298.93 1526.23 1301.99 1521.65 Q1305.07 1517.04 1310.88 1517.04 Z\" fill=\"#000000\" fill-rule=\"evenodd\" fill-opacity=\"1\" /><path clip-path=\"url(#clip180)\" d=\"M1323.37 1521.62 L1329.57 1521.62 L1329.57 1500.19 L1322.82 1501.55 L1322.82 1498.09 L1329.53 1496.73 L1333.33 1496.73 L1333.33 1521.62 L1339.54 1521.62 L1339.54 1524.81 L1323.37 1524.81 L1323.37 1521.62 Z\" fill=\"#000000\" fill-rule=\"evenodd\" fill-opacity=\"1\" /><polyline clip-path=\"url(#clip182)\" style=\"stroke:#000000; stroke-linecap:round; stroke-linejoin:round; stroke-width:2; stroke-opacity:0.1; fill:none\" points=\"\n  158.369,1433.78 2352.76,1433.78 \n  \"/>\n<polyline clip-path=\"url(#clip182)\" style=\"stroke:#000000; stroke-linecap:round; stroke-linejoin:round; stroke-width:2; stroke-opacity:0.1; fill:none\" points=\"\n  158.369,961.756 2352.76,961.756 \n  \"/>\n<polyline clip-path=\"url(#clip182)\" style=\"stroke:#000000; stroke-linecap:round; stroke-linejoin:round; stroke-width:2; stroke-opacity:0.1; fill:none\" points=\"\n  158.369,489.732 2352.76,489.732 \n  \"/>\n<polyline clip-path=\"url(#clip180)\" style=\"stroke:#000000; stroke-linecap:round; stroke-linejoin:round; stroke-width:4; stroke-opacity:1; fill:none\" points=\"\n  158.369,1474.16 158.369,47.2441 \n  \"/>\n<polyline clip-path=\"url(#clip180)\" style=\"stroke:#000000; stroke-linecap:round; stroke-linejoin:round; stroke-width:4; stroke-opacity:1; fill:none\" points=\"\n  158.369,1433.78 177.267,1433.78 \n  \"/>\n<polyline clip-path=\"url(#clip180)\" style=\"stroke:#000000; stroke-linecap:round; stroke-linejoin:round; stroke-width:4; stroke-opacity:1; fill:none\" points=\"\n  158.369,961.756 177.267,961.756 \n  \"/>\n<polyline clip-path=\"url(#clip180)\" style=\"stroke:#000000; stroke-linecap:round; stroke-linejoin:round; stroke-width:4; stroke-opacity:1; fill:none\" points=\"\n  158.369,489.732 177.267,489.732 \n  \"/>\n<path clip-path=\"url(#clip180)\" d=\"M51.6634 1453.57 L59.3023 1453.57 L59.3023 1427.21 L50.9921 1428.87 L50.9921 1424.61 L59.256 1422.95 L63.9319 1422.95 L63.9319 1453.57 L71.5707 1453.57 L71.5707 1457.51 L51.6634 1457.51 L51.6634 1453.57 Z\" fill=\"#000000\" fill-rule=\"evenodd\" fill-opacity=\"1\" /><path clip-path=\"url(#clip180)\" d=\"M91.0151 1426.03 Q87.404 1426.03 85.5753 1429.59 Q83.7697 1433.13 83.7697 1440.26 Q83.7697 1447.37 85.5753 1450.93 Q87.404 1454.48 91.0151 1454.48 Q94.6493 1454.48 96.4548 1450.93 Q98.2835 1447.37 98.2835 1440.26 Q98.2835 1433.13 96.4548 1429.59 Q94.6493 1426.03 91.0151 1426.03 M91.0151 1422.32 Q96.8252 1422.32 99.8808 1426.93 Q102.959 1431.51 102.959 1440.26 Q102.959 1448.99 99.8808 1453.6 Q96.8252 1458.18 91.0151 1458.18 Q85.2049 1458.18 82.1262 1453.6 Q79.0707 1448.99 79.0707 1440.26 Q79.0707 1431.51 82.1262 1426.93 Q85.2049 1422.32 91.0151 1422.32 Z\" fill=\"#000000\" fill-rule=\"evenodd\" fill-opacity=\"1\" /><path clip-path=\"url(#clip180)\" d=\"M112.664 1404.52 Q109.73 1404.52 108.244 1407.42 Q106.777 1410.29 106.777 1416.09 Q106.777 1421.86 108.244 1424.76 Q109.73 1427.63 112.664 1427.63 Q115.617 1427.63 117.084 1424.76 Q118.57 1421.86 118.57 1416.09 Q118.57 1410.29 117.084 1407.42 Q115.617 1404.52 112.664 1404.52 M112.664 1401.51 Q117.385 1401.51 119.868 1405.25 Q122.369 1408.98 122.369 1416.09 Q122.369 1423.18 119.868 1426.92 Q117.385 1430.64 112.664 1430.64 Q107.943 1430.64 105.442 1426.92 Q102.959 1423.18 102.959 1416.09 Q102.959 1408.98 105.442 1405.25 Q107.943 1401.51 112.664 1401.51 Z\" fill=\"#000000\" fill-rule=\"evenodd\" fill-opacity=\"1\" /><path clip-path=\"url(#clip180)\" d=\"M54.3529 981.548 L61.9918 981.548 L61.9918 955.183 L53.6816 956.849 L53.6816 952.59 L61.9455 950.924 L66.6214 950.924 L66.6214 981.548 L74.2602 981.548 L74.2602 985.484 L54.3529 985.484 L54.3529 981.548 Z\" fill=\"#000000\" fill-rule=\"evenodd\" fill-opacity=\"1\" /><path clip-path=\"url(#clip180)\" d=\"M93.7046 954.002 Q90.0935 954.002 88.2648 957.567 Q86.4592 961.109 86.4592 968.238 Q86.4592 975.345 88.2648 978.909 Q90.0935 982.451 93.7046 982.451 Q97.3388 982.451 99.1444 978.909 Q100.973 975.345 100.973 968.238 Q100.973 961.109 99.1444 957.567 Q97.3388 954.002 93.7046 954.002 M93.7046 950.299 Q99.5147 950.299 102.57 954.905 Q105.649 959.488 105.649 968.238 Q105.649 976.965 102.57 981.572 Q99.5147 986.155 93.7046 986.155 Q87.8944 986.155 84.8157 981.572 Q81.7602 976.965 81.7602 968.238 Q81.7602 959.488 84.8157 954.905 Q87.8944 950.299 93.7046 950.299 Z\" fill=\"#000000\" fill-rule=\"evenodd\" fill-opacity=\"1\" /><path clip-path=\"url(#clip180)\" d=\"M106.194 954.876 L112.401 954.876 L112.401 933.454 L105.649 934.808 L105.649 931.347 L112.363 929.993 L116.162 929.993 L116.162 954.876 L122.369 954.876 L122.369 958.073 L106.194 958.073 L106.194 954.876 Z\" fill=\"#000000\" fill-rule=\"evenodd\" fill-opacity=\"1\" /><path clip-path=\"url(#clip180)\" d=\"M53.2433 509.524 L60.8821 509.524 L60.8821 483.159 L52.572 484.825 L52.572 480.566 L60.8358 478.899 L65.5117 478.899 L65.5117 509.524 L73.1506 509.524 L73.1506 513.459 L53.2433 513.459 L53.2433 509.524 Z\" fill=\"#000000\" fill-rule=\"evenodd\" fill-opacity=\"1\" /><path clip-path=\"url(#clip180)\" d=\"M92.5949 481.978 Q88.9838 481.978 87.1551 485.543 Q85.3496 489.084 85.3496 496.214 Q85.3496 503.32 87.1551 506.885 Q88.9838 510.427 92.5949 510.427 Q96.2292 510.427 98.0347 506.885 Q99.8634 503.32 99.8634 496.214 Q99.8634 489.084 98.0347 485.543 Q96.2292 481.978 92.5949 481.978 M92.5949 478.274 Q98.4051 478.274 101.461 482.881 Q104.539 487.464 104.539 496.214 Q104.539 504.941 101.461 509.547 Q98.4051 514.131 92.5949 514.131 Q86.7848 514.131 83.7061 509.547 Q80.6505 504.941 80.6505 496.214 Q80.6505 487.464 83.7061 482.881 Q86.7848 478.274 92.5949 478.274 Z\" fill=\"#000000\" fill-rule=\"evenodd\" fill-opacity=\"1\" /><path clip-path=\"url(#clip180)\" d=\"M109.11 482.852 L122.369 482.852 L122.369 486.049 L104.539 486.049 L104.539 482.852 Q106.702 480.613 110.426 476.852 Q114.169 473.072 115.128 471.981 Q116.952 469.931 117.667 468.52 Q118.401 467.091 118.401 465.718 Q118.401 463.48 116.821 462.069 Q115.26 460.658 112.739 460.658 Q110.953 460.658 108.959 461.279 Q106.984 461.9 104.727 463.16 L104.727 459.323 Q107.022 458.401 109.016 457.931 Q111.009 457.461 112.664 457.461 Q117.028 457.461 119.623 459.643 Q122.219 461.825 122.219 465.473 Q122.219 467.204 121.56 468.765 Q120.921 470.307 119.209 472.413 Q118.739 472.959 116.219 475.573 Q113.699 478.168 109.11 482.852 Z\" fill=\"#000000\" fill-rule=\"evenodd\" fill-opacity=\"1\" /><circle clip-path=\"url(#clip182)\" cx=\"978.663\" cy=\"1103.85\" r=\"14.4\" fill=\"#009af9\" fill-rule=\"evenodd\" fill-opacity=\"1\" stroke=\"#000000\" stroke-opacity=\"1\" stroke-width=\"3.2\"/>\n<circle clip-path=\"url(#clip182)\" cx=\"1895.36\" cy=\"1103.85\" r=\"14.4\" fill=\"#009af9\" fill-rule=\"evenodd\" fill-opacity=\"1\" stroke=\"#000000\" stroke-opacity=\"1\" stroke-width=\"3.2\"/>\n<circle clip-path=\"url(#clip182)\" cx=\"2108.28\" cy=\"1291.69\" r=\"14.4\" fill=\"#009af9\" fill-rule=\"evenodd\" fill-opacity=\"1\" stroke=\"#000000\" stroke-opacity=\"1\" stroke-width=\"3.2\"/>\n<circle clip-path=\"url(#clip182)\" cx=\"1822.74\" cy=\"1149.59\" r=\"14.4\" fill=\"#009af9\" fill-rule=\"evenodd\" fill-opacity=\"1\" stroke=\"#000000\" stroke-opacity=\"1\" stroke-width=\"3.2\"/>\n<circle clip-path=\"url(#clip182)\" cx=\"1853.14\" cy=\"1149.59\" r=\"14.4\" fill=\"#009af9\" fill-rule=\"evenodd\" fill-opacity=\"1\" stroke=\"#000000\" stroke-opacity=\"1\" stroke-width=\"3.2\"/>\n<circle clip-path=\"url(#clip182)\" cx=\"1064.55\" cy=\"434.377\" r=\"14.4\" fill=\"#009af9\" fill-rule=\"evenodd\" fill-opacity=\"1\" stroke=\"#000000\" stroke-opacity=\"1\" stroke-width=\"3.2\"/>\n<circle clip-path=\"url(#clip182)\" cx=\"2201.26\" cy=\"1433.78\" r=\"14.4\" fill=\"#009af9\" fill-rule=\"evenodd\" fill-opacity=\"1\" stroke=\"#000000\" stroke-opacity=\"1\" stroke-width=\"3.2\"/>\n<circle clip-path=\"url(#clip182)\" cx=\"2013.75\" cy=\"1291.69\" r=\"14.4\" fill=\"#009af9\" fill-rule=\"evenodd\" fill-opacity=\"1\" stroke=\"#000000\" stroke-opacity=\"1\" stroke-width=\"3.2\"/>\n<circle clip-path=\"url(#clip182)\" cx=\"2241.66\" cy=\"1433.78\" r=\"14.4\" fill=\"#009af9\" fill-rule=\"evenodd\" fill-opacity=\"1\" stroke=\"#000000\" stroke-opacity=\"1\" stroke-width=\"3.2\"/>\n<circle clip-path=\"url(#clip182)\" cx=\"2179.68\" cy=\"1291.69\" r=\"14.4\" fill=\"#009af9\" fill-rule=\"evenodd\" fill-opacity=\"1\" stroke=\"#000000\" stroke-opacity=\"1\" stroke-width=\"3.2\"/>\n<circle clip-path=\"url(#clip182)\" cx=\"873.542\" cy=\"314.579\" r=\"14.4\" fill=\"#009af9\" fill-rule=\"evenodd\" fill-opacity=\"1\" stroke=\"#000000\" stroke-opacity=\"1\" stroke-width=\"3.2\"/>\n<circle clip-path=\"url(#clip182)\" cx=\"1428.79\" cy=\"924.38\" r=\"14.4\" fill=\"#009af9\" fill-rule=\"evenodd\" fill-opacity=\"1\" stroke=\"#000000\" stroke-opacity=\"1\" stroke-width=\"3.2\"/>\n<circle clip-path=\"url(#clip182)\" cx=\"2099.64\" cy=\"1208.57\" r=\"14.4\" fill=\"#009af9\" fill-rule=\"evenodd\" fill-opacity=\"1\" stroke=\"#000000\" stroke-opacity=\"1\" stroke-width=\"3.2\"/>\n<circle clip-path=\"url(#clip182)\" cx=\"2172.26\" cy=\"1433.78\" r=\"14.4\" fill=\"#009af9\" fill-rule=\"evenodd\" fill-opacity=\"1\" stroke=\"#000000\" stroke-opacity=\"1\" stroke-width=\"3.2\"/>\n<circle clip-path=\"url(#clip182)\" cx=\"2164.72\" cy=\"1433.78\" r=\"14.4\" fill=\"#009af9\" fill-rule=\"evenodd\" fill-opacity=\"1\" stroke=\"#000000\" stroke-opacity=\"1\" stroke-width=\"3.2\"/>\n<circle clip-path=\"url(#clip182)\" cx=\"2133.3\" cy=\"1034.87\" r=\"14.4\" fill=\"#009af9\" fill-rule=\"evenodd\" fill-opacity=\"1\" stroke=\"#000000\" stroke-opacity=\"1\" stroke-width=\"3.2\"/>\n<circle clip-path=\"url(#clip182)\" cx=\"2081.86\" cy=\"1433.78\" r=\"14.4\" fill=\"#009af9\" fill-rule=\"evenodd\" fill-opacity=\"1\" stroke=\"#000000\" stroke-opacity=\"1\" stroke-width=\"3.2\"/>\n<circle clip-path=\"url(#clip182)\" cx=\"1391.09\" cy=\"653.424\" r=\"14.4\" fill=\"#009af9\" fill-rule=\"evenodd\" fill-opacity=\"1\" stroke=\"#000000\" stroke-opacity=\"1\" stroke-width=\"3.2\"/>\n<circle clip-path=\"url(#clip182)\" cx=\"1790.24\" cy=\"1007.5\" r=\"14.4\" fill=\"#009af9\" fill-rule=\"evenodd\" fill-opacity=\"1\" stroke=\"#000000\" stroke-opacity=\"1\" stroke-width=\"3.2\"/>\n<circle clip-path=\"url(#clip182)\" cx=\"1697.57\" cy=\"1007.5\" r=\"14.4\" fill=\"#009af9\" fill-rule=\"evenodd\" fill-opacity=\"1\" stroke=\"#000000\" stroke-opacity=\"1\" stroke-width=\"3.2\"/>\n<circle clip-path=\"url(#clip182)\" cx=\"1992.33\" cy=\"1149.59\" r=\"14.4\" fill=\"#009af9\" fill-rule=\"evenodd\" fill-opacity=\"1\" stroke=\"#000000\" stroke-opacity=\"1\" stroke-width=\"3.2\"/>\n<circle clip-path=\"url(#clip182)\" cx=\"1350.1\" cy=\"942.218\" r=\"14.4\" fill=\"#009af9\" fill-rule=\"evenodd\" fill-opacity=\"1\" stroke=\"#000000\" stroke-opacity=\"1\" stroke-width=\"3.2\"/>\n<circle clip-path=\"url(#clip182)\" cx=\"1908.63\" cy=\"1208.57\" r=\"14.4\" fill=\"#009af9\" fill-rule=\"evenodd\" fill-opacity=\"1\" stroke=\"#000000\" stroke-opacity=\"1\" stroke-width=\"3.2\"/>\n<circle clip-path=\"url(#clip182)\" cx=\"1946.34\" cy=\"1066.47\" r=\"14.4\" fill=\"#009af9\" fill-rule=\"evenodd\" fill-opacity=\"1\" stroke=\"#000000\" stroke-opacity=\"1\" stroke-width=\"3.2\"/>\n<circle clip-path=\"url(#clip182)\" cx=\"1137.17\" cy=\"1034.87\" r=\"14.4\" fill=\"#009af9\" fill-rule=\"evenodd\" fill-opacity=\"1\" stroke=\"#000000\" stroke-opacity=\"1\" stroke-width=\"3.2\"/>\n<circle clip-path=\"url(#clip182)\" cx=\"1736.85\" cy=\"1103.85\" r=\"14.4\" fill=\"#009af9\" fill-rule=\"evenodd\" fill-opacity=\"1\" stroke=\"#000000\" stroke-opacity=\"1\" stroke-width=\"3.2\"/>\n<circle clip-path=\"url(#clip182)\" cx=\"2141.36\" cy=\"1291.69\" r=\"14.4\" fill=\"#009af9\" fill-rule=\"evenodd\" fill-opacity=\"1\" stroke=\"#000000\" stroke-opacity=\"1\" stroke-width=\"3.2\"/>\n<circle clip-path=\"url(#clip182)\" cx=\"2063.39\" cy=\"1208.57\" r=\"14.4\" fill=\"#009af9\" fill-rule=\"evenodd\" fill-opacity=\"1\" stroke=\"#000000\" stroke-opacity=\"1\" stroke-width=\"3.2\"/>\n<circle clip-path=\"url(#clip182)\" cx=\"1881.7\" cy=\"1066.47\" r=\"14.4\" fill=\"#009af9\" fill-rule=\"evenodd\" fill-opacity=\"1\" stroke=\"#000000\" stroke-opacity=\"1\" stroke-width=\"3.2\"/>\n<circle clip-path=\"url(#clip182)\" cx=\"547.008\" cy=\"87.6286\" r=\"14.4\" fill=\"#009af9\" fill-rule=\"evenodd\" fill-opacity=\"1\" stroke=\"#000000\" stroke-opacity=\"1\" stroke-width=\"3.2\"/>\n<circle clip-path=\"url(#clip182)\" cx=\"1305.2\" cy=\"557.074\" r=\"14.4\" fill=\"#009af9\" fill-rule=\"evenodd\" fill-opacity=\"1\" stroke=\"#000000\" stroke-opacity=\"1\" stroke-width=\"3.2\"/>\n<circle clip-path=\"url(#clip182)\" cx=\"1582.1\" cy=\"743.493\" r=\"14.4\" fill=\"#009af9\" fill-rule=\"evenodd\" fill-opacity=\"1\" stroke=\"#000000\" stroke-opacity=\"1\" stroke-width=\"3.2\"/>\n<circle clip-path=\"url(#clip182)\" cx=\"1755.33\" cy=\"924.38\" r=\"14.4\" fill=\"#009af9\" fill-rule=\"evenodd\" fill-opacity=\"1\" stroke=\"#000000\" stroke-opacity=\"1\" stroke-width=\"3.2\"/>\n<circle clip-path=\"url(#clip182)\" cx=\"1773.11\" cy=\"1149.59\" r=\"14.4\" fill=\"#009af9\" fill-rule=\"evenodd\" fill-opacity=\"1\" stroke=\"#000000\" stroke-opacity=\"1\" stroke-width=\"3.2\"/>\n<circle clip-path=\"url(#clip182)\" cx=\"1981.25\" cy=\"1103.85\" r=\"14.4\" fill=\"#009af9\" fill-rule=\"evenodd\" fill-opacity=\"1\" stroke=\"#000000\" stroke-opacity=\"1\" stroke-width=\"3.2\"/>\n<circle clip-path=\"url(#clip182)\" cx=\"1526.61\" cy=\"717.005\" r=\"14.4\" fill=\"#009af9\" fill-rule=\"evenodd\" fill-opacity=\"1\" stroke=\"#000000\" stroke-opacity=\"1\" stroke-width=\"3.2\"/>\n<circle clip-path=\"url(#clip182)\" cx=\"1631.73\" cy=\"819.662\" r=\"14.4\" fill=\"#009af9\" fill-rule=\"evenodd\" fill-opacity=\"1\" stroke=\"#000000\" stroke-opacity=\"1\" stroke-width=\"3.2\"/>\n<circle clip-path=\"url(#clip182)\" cx=\"2290.65\" cy=\"1433.78\" r=\"14.4\" fill=\"#009af9\" fill-rule=\"evenodd\" fill-opacity=\"1\" stroke=\"#000000\" stroke-opacity=\"1\" stroke-width=\"3.2\"/>\n<circle clip-path=\"url(#clip182)\" cx=\"1607.57\" cy=\"942.218\" r=\"14.4\" fill=\"#009af9\" fill-rule=\"evenodd\" fill-opacity=\"1\" stroke=\"#000000\" stroke-opacity=\"1\" stroke-width=\"3.2\"/>\n<circle clip-path=\"url(#clip182)\" cx=\"2003.16\" cy=\"1034.87\" r=\"14.4\" fill=\"#009af9\" fill-rule=\"evenodd\" fill-opacity=\"1\" stroke=\"#000000\" stroke-opacity=\"1\" stroke-width=\"3.2\"/>\n<circle clip-path=\"url(#clip182)\" cx=\"1255.56\" cy=\"942.218\" r=\"14.4\" fill=\"#009af9\" fill-rule=\"evenodd\" fill-opacity=\"1\" stroke=\"#000000\" stroke-opacity=\"1\" stroke-width=\"3.2\"/>\n<circle clip-path=\"url(#clip182)\" cx=\"1838.19\" cy=\"1291.69\" r=\"14.4\" fill=\"#009af9\" fill-rule=\"evenodd\" fill-opacity=\"1\" stroke=\"#000000\" stroke-opacity=\"1\" stroke-width=\"3.2\"/>\n<circle clip-path=\"url(#clip182)\" cx=\"1806.77\" cy=\"1007.5\" r=\"14.4\" fill=\"#009af9\" fill-rule=\"evenodd\" fill-opacity=\"1\" stroke=\"#000000\" stroke-opacity=\"1\" stroke-width=\"3.2\"/>\n<circle clip-path=\"url(#clip182)\" cx=\"2024.1\" cy=\"1149.59\" r=\"14.4\" fill=\"#009af9\" fill-rule=\"evenodd\" fill-opacity=\"1\" stroke=\"#000000\" stroke-opacity=\"1\" stroke-width=\"3.2\"/>\n<circle clip-path=\"url(#clip182)\" cx=\"2125.11\" cy=\"1433.78\" r=\"14.4\" fill=\"#009af9\" fill-rule=\"evenodd\" fill-opacity=\"1\" stroke=\"#000000\" stroke-opacity=\"1\" stroke-width=\"3.2\"/>\n<circle clip-path=\"url(#clip182)\" cx=\"1654.72\" cy=\"1007.5\" r=\"14.4\" fill=\"#009af9\" fill-rule=\"evenodd\" fill-opacity=\"1\" stroke=\"#000000\" stroke-opacity=\"1\" stroke-width=\"3.2\"/>\n<circle clip-path=\"url(#clip182)\" cx=\"1934.1\" cy=\"1034.87\" r=\"14.4\" fill=\"#009af9\" fill-rule=\"evenodd\" fill-opacity=\"1\" stroke=\"#000000\" stroke-opacity=\"1\" stroke-width=\"3.2\"/>\n<circle clip-path=\"url(#clip182)\" cx=\"2235.16\" cy=\"1433.78\" r=\"14.4\" fill=\"#009af9\" fill-rule=\"evenodd\" fill-opacity=\"1\" stroke=\"#000000\" stroke-opacity=\"1\" stroke-width=\"3.2\"/>\n<circle clip-path=\"url(#clip182)\" cx=\"1717.62\" cy=\"841.261\" r=\"14.4\" fill=\"#009af9\" fill-rule=\"evenodd\" fill-opacity=\"1\" stroke=\"#000000\" stroke-opacity=\"1\" stroke-width=\"3.2\"/>\n<circle clip-path=\"url(#clip182)\" cx=\"1200.08\" cy=\"543.311\" r=\"14.4\" fill=\"#009af9\" fill-rule=\"evenodd\" fill-opacity=\"1\" stroke=\"#000000\" stroke-opacity=\"1\" stroke-width=\"3.2\"/>\n<circle clip-path=\"url(#clip182)\" cx=\"1555.17\" cy=\"1007.5\" r=\"14.4\" fill=\"#009af9\" fill-rule=\"evenodd\" fill-opacity=\"1\" stroke=\"#000000\" stroke-opacity=\"1\" stroke-width=\"3.2\"/>\n<circle clip-path=\"url(#clip182)\" cx=\"1921.54\" cy=\"1208.57\" r=\"14.4\" fill=\"#009af9\" fill-rule=\"evenodd\" fill-opacity=\"1\" stroke=\"#000000\" stroke-opacity=\"1\" stroke-width=\"3.2\"/>\n<circle clip-path=\"url(#clip182)\" cx=\"220.474\" cy=\"1208.57\" r=\"14.4\" fill=\"#009af9\" fill-rule=\"evenodd\" fill-opacity=\"1\" stroke=\"#000000\" stroke-opacity=\"1\" stroke-width=\"3.2\"/>\n<circle clip-path=\"url(#clip182)\" cx=\"2090.83\" cy=\"1433.78\" r=\"14.4\" fill=\"#009af9\" fill-rule=\"evenodd\" fill-opacity=\"1\" stroke=\"#000000\" stroke-opacity=\"1\" stroke-width=\"3.2\"/>\n<circle clip-path=\"url(#clip182)\" cx=\"1676.63\" cy=\"878.637\" r=\"14.4\" fill=\"#009af9\" fill-rule=\"evenodd\" fill-opacity=\"1\" stroke=\"#000000\" stroke-opacity=\"1\" stroke-width=\"3.2\"/>\n<circle clip-path=\"url(#clip182)\" cx=\"2034.24\" cy=\"1103.85\" r=\"14.4\" fill=\"#009af9\" fill-rule=\"evenodd\" fill-opacity=\"1\" stroke=\"#000000\" stroke-opacity=\"1\" stroke-width=\"3.2\"/>\n<circle clip-path=\"url(#clip182)\" cx=\"1463.7\" cy=\"729.821\" r=\"14.4\" fill=\"#009af9\" fill-rule=\"evenodd\" fill-opacity=\"1\" stroke=\"#000000\" stroke-opacity=\"1\" stroke-width=\"3.2\"/>\n<circle clip-path=\"url(#clip182)\" cx=\"738.018\" cy=\"1149.59\" r=\"14.4\" fill=\"#009af9\" fill-rule=\"evenodd\" fill-opacity=\"1\" stroke=\"#000000\" stroke-opacity=\"1\" stroke-width=\"3.2\"/>\n<circle clip-path=\"url(#clip182)\" cx=\"2284.8\" cy=\"1433.78\" r=\"14.4\" fill=\"#009af9\" fill-rule=\"evenodd\" fill-opacity=\"1\" stroke=\"#000000\" stroke-opacity=\"1\" stroke-width=\"3.2\"/>\n<circle clip-path=\"url(#clip182)\" cx=\"2072.71\" cy=\"1291.69\" r=\"14.4\" fill=\"#009af9\" fill-rule=\"evenodd\" fill-opacity=\"1\" stroke=\"#000000\" stroke-opacity=\"1\" stroke-width=\"3.2\"/>\n<circle clip-path=\"url(#clip182)\" cx=\"1867.64\" cy=\"1149.59\" r=\"14.4\" fill=\"#009af9\" fill-rule=\"evenodd\" fill-opacity=\"1\" stroke=\"#000000\" stroke-opacity=\"1\" stroke-width=\"3.2\"/>\n<circle clip-path=\"url(#clip182)\" cx=\"1958.26\" cy=\"1007.5\" r=\"14.4\" fill=\"#009af9\" fill-rule=\"evenodd\" fill-opacity=\"1\" stroke=\"#000000\" stroke-opacity=\"1\" stroke-width=\"3.2\"/>\n<circle clip-path=\"url(#clip182)\" cx=\"2044.15\" cy=\"1433.78\" r=\"14.4\" fill=\"#009af9\" fill-rule=\"evenodd\" fill-opacity=\"1\" stroke=\"#000000\" stroke-opacity=\"1\" stroke-width=\"3.2\"/>\n<circle clip-path=\"url(#clip182)\" cx=\"2186.98\" cy=\"1433.78\" r=\"14.4\" fill=\"#009af9\" fill-rule=\"evenodd\" fill-opacity=\"1\" stroke=\"#000000\" stroke-opacity=\"1\" stroke-width=\"3.2\"/>\n<circle clip-path=\"url(#clip182)\" cx=\"1496.21\" cy=\"1149.59\" r=\"14.4\" fill=\"#009af9\" fill-rule=\"evenodd\" fill-opacity=\"1\" stroke=\"#000000\" stroke-opacity=\"1\" stroke-width=\"3.2\"/>\n<path clip-path=\"url(#clip180)\" d=\"\nM2007.74 198.488 L2279.61 198.488 L2279.61 94.8081 L2007.74 94.8081  Z\n  \" fill=\"#ffffff\" fill-rule=\"evenodd\" fill-opacity=\"1\"/>\n<polyline clip-path=\"url(#clip180)\" style=\"stroke:#000000; stroke-linecap:round; stroke-linejoin:round; stroke-width:4; stroke-opacity:1; fill:none\" points=\"\n  2007.74,198.488 2279.61,198.488 2279.61,94.8081 2007.74,94.8081 2007.74,198.488 \n  \"/>\n<circle clip-path=\"url(#clip180)\" cx=\"2105.27\" cy=\"146.648\" r=\"23.04\" fill=\"#009af9\" fill-rule=\"evenodd\" fill-opacity=\"1\" stroke=\"#000000\" stroke-opacity=\"1\" stroke-width=\"5.12\"/>\n<path clip-path=\"url(#clip180)\" d=\"M2216.64 166.336 Q2214.83 170.965 2213.12 172.377 Q2211.41 173.789 2208.54 173.789 L2205.14 173.789 L2205.14 170.224 L2207.64 170.224 Q2209.39 170.224 2210.37 169.391 Q2211.34 168.558 2212.52 165.456 L2213.28 163.511 L2202.8 138.002 L2207.31 138.002 L2215.41 158.28 L2223.51 138.002 L2228.03 138.002 L2216.64 166.336 Z\" fill=\"#000000\" fill-rule=\"evenodd\" fill-opacity=\"1\" /><path clip-path=\"url(#clip180)\" d=\"M2235.32 159.993 L2242.96 159.993 L2242.96 133.627 L2234.65 135.294 L2234.65 131.035 L2242.91 129.368 L2247.59 129.368 L2247.59 159.993 L2255.23 159.993 L2255.23 163.928 L2235.32 163.928 L2235.32 159.993 Z\" fill=\"#000000\" fill-rule=\"evenodd\" fill-opacity=\"1\" /></svg>\n",
      "text/html": [
       "<?xml version=\"1.0\" encoding=\"utf-8\"?>\n",
       "<svg xmlns=\"http://www.w3.org/2000/svg\" xmlns:xlink=\"http://www.w3.org/1999/xlink\" width=\"600\" height=\"400\" viewBox=\"0 0 2400 1600\">\n",
       "<defs>\n",
       "  <clipPath id=\"clip230\">\n",
       "    <rect x=\"0\" y=\"0\" width=\"2400\" height=\"1600\"/>\n",
       "  </clipPath>\n",
       "</defs>\n",
       "<path clip-path=\"url(#clip230)\" d=\"\n",
       "M0 1600 L2400 1600 L2400 0 L0 0  Z\n",
       "  \" fill=\"#ffffff\" fill-rule=\"evenodd\" fill-opacity=\"1\"/>\n",
       "<defs>\n",
       "  <clipPath id=\"clip231\">\n",
       "    <rect x=\"480\" y=\"0\" width=\"1681\" height=\"1600\"/>\n",
       "  </clipPath>\n",
       "</defs>\n",
       "<path clip-path=\"url(#clip230)\" d=\"\n",
       "M158.369 1474.16 L2352.76 1474.16 L2352.76 47.2441 L158.369 47.2441  Z\n",
       "  \" fill=\"#ffffff\" fill-rule=\"evenodd\" fill-opacity=\"1\"/>\n",
       "<defs>\n",
       "  <clipPath id=\"clip232\">\n",
       "    <rect x=\"158\" y=\"47\" width=\"2195\" height=\"1428\"/>\n",
       "  </clipPath>\n",
       "</defs>\n",
       "<polyline clip-path=\"url(#clip232)\" style=\"stroke:#000000; stroke-linecap:round; stroke-linejoin:round; stroke-width:2; stroke-opacity:0.1; fill:none\" points=\"\n",
       "  220.474,1474.16 220.474,47.2441 \n",
       "  \"/>\n",
       "<polyline clip-path=\"url(#clip232)\" style=\"stroke:#000000; stroke-linecap:round; stroke-linejoin:round; stroke-width:2; stroke-opacity:0.1; fill:none\" points=\"\n",
       "  1305.2,1474.16 1305.2,47.2441 \n",
       "  \"/>\n",
       "<polyline clip-path=\"url(#clip230)\" style=\"stroke:#000000; stroke-linecap:round; stroke-linejoin:round; stroke-width:4; stroke-opacity:1; fill:none\" points=\"\n",
       "  158.369,1474.16 2352.76,1474.16 \n",
       "  \"/>\n",
       "<polyline clip-path=\"url(#clip230)\" style=\"stroke:#000000; stroke-linecap:round; stroke-linejoin:round; stroke-width:4; stroke-opacity:1; fill:none\" points=\"\n",
       "  220.474,1474.16 220.474,1455.27 \n",
       "  \"/>\n",
       "<polyline clip-path=\"url(#clip230)\" style=\"stroke:#000000; stroke-linecap:round; stroke-linejoin:round; stroke-width:4; stroke-opacity:1; fill:none\" points=\"\n",
       "  1305.2,1474.16 1305.2,1455.27 \n",
       "  \"/>\n",
       "<path clip-path=\"url(#clip230)\" d=\"M185.457 1548.29 L193.096 1548.29 L193.096 1521.92 L184.786 1523.59 L184.786 1519.33 L193.05 1517.66 L197.726 1517.66 L197.726 1548.29 L205.364 1548.29 L205.364 1552.22 L185.457 1552.22 L185.457 1548.29 Z\" fill=\"#000000\" fill-rule=\"evenodd\" fill-opacity=\"1\" /><path clip-path=\"url(#clip230)\" d=\"M224.809 1520.74 Q221.198 1520.74 219.369 1524.31 Q217.563 1527.85 217.563 1534.98 Q217.563 1542.09 219.369 1545.65 Q221.198 1549.19 224.809 1549.19 Q228.443 1549.19 230.249 1545.65 Q232.077 1542.09 232.077 1534.98 Q232.077 1527.85 230.249 1524.31 Q228.443 1520.74 224.809 1520.74 M224.809 1517.04 Q230.619 1517.04 233.675 1521.65 Q236.753 1526.23 236.753 1534.98 Q236.753 1543.71 233.675 1548.31 Q230.619 1552.9 224.809 1552.9 Q218.999 1552.9 215.92 1548.31 Q212.864 1543.71 212.864 1534.98 Q212.864 1526.23 215.92 1521.65 Q218.999 1517.04 224.809 1517.04 Z\" fill=\"#000000\" fill-rule=\"evenodd\" fill-opacity=\"1\" /><path clip-path=\"url(#clip230)\" d=\"M246.458 1499.24 Q243.524 1499.24 242.038 1502.13 Q240.571 1505.01 240.571 1510.8 Q240.571 1516.58 242.038 1519.47 Q243.524 1522.35 246.458 1522.35 Q249.411 1522.35 250.878 1519.47 Q252.364 1516.58 252.364 1510.8 Q252.364 1505.01 250.878 1502.13 Q249.411 1499.24 246.458 1499.24 M246.458 1496.23 Q251.179 1496.23 253.661 1499.97 Q256.163 1503.69 256.163 1510.8 Q256.163 1517.89 253.661 1521.64 Q251.179 1525.36 246.458 1525.36 Q241.737 1525.36 239.236 1521.64 Q236.753 1517.89 236.753 1510.8 Q236.753 1503.69 239.236 1499.97 Q241.737 1496.23 246.458 1496.23 Z\" fill=\"#000000\" fill-rule=\"evenodd\" fill-opacity=\"1\" /><path clip-path=\"url(#clip230)\" d=\"M1271.52 1548.29 L1279.16 1548.29 L1279.16 1521.92 L1270.85 1523.59 L1270.85 1519.33 L1279.12 1517.66 L1283.79 1517.66 L1283.79 1548.29 L1291.43 1548.29 L1291.43 1552.22 L1271.52 1552.22 L1271.52 1548.29 Z\" fill=\"#000000\" fill-rule=\"evenodd\" fill-opacity=\"1\" /><path clip-path=\"url(#clip230)\" d=\"M1310.88 1520.74 Q1307.26 1520.74 1305.44 1524.31 Q1303.63 1527.85 1303.63 1534.98 Q1303.63 1542.09 1305.44 1545.65 Q1307.26 1549.19 1310.88 1549.19 Q1314.51 1549.19 1316.32 1545.65 Q1318.14 1542.09 1318.14 1534.98 Q1318.14 1527.85 1316.32 1524.31 Q1314.51 1520.74 1310.88 1520.74 M1310.88 1517.04 Q1316.69 1517.04 1319.74 1521.65 Q1322.82 1526.23 1322.82 1534.98 Q1322.82 1543.71 1319.74 1548.31 Q1316.69 1552.9 1310.88 1552.9 Q1305.07 1552.9 1301.99 1548.31 Q1298.93 1543.71 1298.93 1534.98 Q1298.93 1526.23 1301.99 1521.65 Q1305.07 1517.04 1310.88 1517.04 Z\" fill=\"#000000\" fill-rule=\"evenodd\" fill-opacity=\"1\" /><path clip-path=\"url(#clip230)\" d=\"M1323.37 1521.62 L1329.57 1521.62 L1329.57 1500.19 L1322.82 1501.55 L1322.82 1498.09 L1329.53 1496.73 L1333.33 1496.73 L1333.33 1521.62 L1339.54 1521.62 L1339.54 1524.81 L1323.37 1524.81 L1323.37 1521.62 Z\" fill=\"#000000\" fill-rule=\"evenodd\" fill-opacity=\"1\" /><polyline clip-path=\"url(#clip232)\" style=\"stroke:#000000; stroke-linecap:round; stroke-linejoin:round; stroke-width:2; stroke-opacity:0.1; fill:none\" points=\"\n",
       "  158.369,1433.78 2352.76,1433.78 \n",
       "  \"/>\n",
       "<polyline clip-path=\"url(#clip232)\" style=\"stroke:#000000; stroke-linecap:round; stroke-linejoin:round; stroke-width:2; stroke-opacity:0.1; fill:none\" points=\"\n",
       "  158.369,961.756 2352.76,961.756 \n",
       "  \"/>\n",
       "<polyline clip-path=\"url(#clip232)\" style=\"stroke:#000000; stroke-linecap:round; stroke-linejoin:round; stroke-width:2; stroke-opacity:0.1; fill:none\" points=\"\n",
       "  158.369,489.732 2352.76,489.732 \n",
       "  \"/>\n",
       "<polyline clip-path=\"url(#clip230)\" style=\"stroke:#000000; stroke-linecap:round; stroke-linejoin:round; stroke-width:4; stroke-opacity:1; fill:none\" points=\"\n",
       "  158.369,1474.16 158.369,47.2441 \n",
       "  \"/>\n",
       "<polyline clip-path=\"url(#clip230)\" style=\"stroke:#000000; stroke-linecap:round; stroke-linejoin:round; stroke-width:4; stroke-opacity:1; fill:none\" points=\"\n",
       "  158.369,1433.78 177.267,1433.78 \n",
       "  \"/>\n",
       "<polyline clip-path=\"url(#clip230)\" style=\"stroke:#000000; stroke-linecap:round; stroke-linejoin:round; stroke-width:4; stroke-opacity:1; fill:none\" points=\"\n",
       "  158.369,961.756 177.267,961.756 \n",
       "  \"/>\n",
       "<polyline clip-path=\"url(#clip230)\" style=\"stroke:#000000; stroke-linecap:round; stroke-linejoin:round; stroke-width:4; stroke-opacity:1; fill:none\" points=\"\n",
       "  158.369,489.732 177.267,489.732 \n",
       "  \"/>\n",
       "<path clip-path=\"url(#clip230)\" d=\"M51.6634 1453.57 L59.3023 1453.57 L59.3023 1427.21 L50.9921 1428.87 L50.9921 1424.61 L59.256 1422.95 L63.9319 1422.95 L63.9319 1453.57 L71.5707 1453.57 L71.5707 1457.51 L51.6634 1457.51 L51.6634 1453.57 Z\" fill=\"#000000\" fill-rule=\"evenodd\" fill-opacity=\"1\" /><path clip-path=\"url(#clip230)\" d=\"M91.0151 1426.03 Q87.404 1426.03 85.5753 1429.59 Q83.7697 1433.13 83.7697 1440.26 Q83.7697 1447.37 85.5753 1450.93 Q87.404 1454.48 91.0151 1454.48 Q94.6493 1454.48 96.4548 1450.93 Q98.2835 1447.37 98.2835 1440.26 Q98.2835 1433.13 96.4548 1429.59 Q94.6493 1426.03 91.0151 1426.03 M91.0151 1422.32 Q96.8252 1422.32 99.8808 1426.93 Q102.959 1431.51 102.959 1440.26 Q102.959 1448.99 99.8808 1453.6 Q96.8252 1458.18 91.0151 1458.18 Q85.2049 1458.18 82.1262 1453.6 Q79.0707 1448.99 79.0707 1440.26 Q79.0707 1431.51 82.1262 1426.93 Q85.2049 1422.32 91.0151 1422.32 Z\" fill=\"#000000\" fill-rule=\"evenodd\" fill-opacity=\"1\" /><path clip-path=\"url(#clip230)\" d=\"M112.664 1404.52 Q109.73 1404.52 108.244 1407.42 Q106.777 1410.29 106.777 1416.09 Q106.777 1421.86 108.244 1424.76 Q109.73 1427.63 112.664 1427.63 Q115.617 1427.63 117.084 1424.76 Q118.57 1421.86 118.57 1416.09 Q118.57 1410.29 117.084 1407.42 Q115.617 1404.52 112.664 1404.52 M112.664 1401.51 Q117.385 1401.51 119.868 1405.25 Q122.369 1408.98 122.369 1416.09 Q122.369 1423.18 119.868 1426.92 Q117.385 1430.64 112.664 1430.64 Q107.943 1430.64 105.442 1426.92 Q102.959 1423.18 102.959 1416.09 Q102.959 1408.98 105.442 1405.25 Q107.943 1401.51 112.664 1401.51 Z\" fill=\"#000000\" fill-rule=\"evenodd\" fill-opacity=\"1\" /><path clip-path=\"url(#clip230)\" d=\"M54.3529 981.548 L61.9918 981.548 L61.9918 955.183 L53.6816 956.849 L53.6816 952.59 L61.9455 950.924 L66.6214 950.924 L66.6214 981.548 L74.2602 981.548 L74.2602 985.484 L54.3529 985.484 L54.3529 981.548 Z\" fill=\"#000000\" fill-rule=\"evenodd\" fill-opacity=\"1\" /><path clip-path=\"url(#clip230)\" d=\"M93.7046 954.002 Q90.0935 954.002 88.2648 957.567 Q86.4592 961.109 86.4592 968.238 Q86.4592 975.345 88.2648 978.909 Q90.0935 982.451 93.7046 982.451 Q97.3388 982.451 99.1444 978.909 Q100.973 975.345 100.973 968.238 Q100.973 961.109 99.1444 957.567 Q97.3388 954.002 93.7046 954.002 M93.7046 950.299 Q99.5147 950.299 102.57 954.905 Q105.649 959.488 105.649 968.238 Q105.649 976.965 102.57 981.572 Q99.5147 986.155 93.7046 986.155 Q87.8944 986.155 84.8157 981.572 Q81.7602 976.965 81.7602 968.238 Q81.7602 959.488 84.8157 954.905 Q87.8944 950.299 93.7046 950.299 Z\" fill=\"#000000\" fill-rule=\"evenodd\" fill-opacity=\"1\" /><path clip-path=\"url(#clip230)\" d=\"M106.194 954.876 L112.401 954.876 L112.401 933.454 L105.649 934.808 L105.649 931.347 L112.363 929.993 L116.162 929.993 L116.162 954.876 L122.369 954.876 L122.369 958.073 L106.194 958.073 L106.194 954.876 Z\" fill=\"#000000\" fill-rule=\"evenodd\" fill-opacity=\"1\" /><path clip-path=\"url(#clip230)\" d=\"M53.2433 509.524 L60.8821 509.524 L60.8821 483.159 L52.572 484.825 L52.572 480.566 L60.8358 478.899 L65.5117 478.899 L65.5117 509.524 L73.1506 509.524 L73.1506 513.459 L53.2433 513.459 L53.2433 509.524 Z\" fill=\"#000000\" fill-rule=\"evenodd\" fill-opacity=\"1\" /><path clip-path=\"url(#clip230)\" d=\"M92.5949 481.978 Q88.9838 481.978 87.1551 485.543 Q85.3496 489.084 85.3496 496.214 Q85.3496 503.32 87.1551 506.885 Q88.9838 510.427 92.5949 510.427 Q96.2292 510.427 98.0347 506.885 Q99.8634 503.32 99.8634 496.214 Q99.8634 489.084 98.0347 485.543 Q96.2292 481.978 92.5949 481.978 M92.5949 478.274 Q98.4051 478.274 101.461 482.881 Q104.539 487.464 104.539 496.214 Q104.539 504.941 101.461 509.547 Q98.4051 514.131 92.5949 514.131 Q86.7848 514.131 83.7061 509.547 Q80.6505 504.941 80.6505 496.214 Q80.6505 487.464 83.7061 482.881 Q86.7848 478.274 92.5949 478.274 Z\" fill=\"#000000\" fill-rule=\"evenodd\" fill-opacity=\"1\" /><path clip-path=\"url(#clip230)\" d=\"M109.11 482.852 L122.369 482.852 L122.369 486.049 L104.539 486.049 L104.539 482.852 Q106.702 480.613 110.426 476.852 Q114.169 473.072 115.128 471.981 Q116.952 469.931 117.667 468.52 Q118.401 467.091 118.401 465.718 Q118.401 463.48 116.821 462.069 Q115.26 460.658 112.739 460.658 Q110.953 460.658 108.959 461.279 Q106.984 461.9 104.727 463.16 L104.727 459.323 Q107.022 458.401 109.016 457.931 Q111.009 457.461 112.664 457.461 Q117.028 457.461 119.623 459.643 Q122.219 461.825 122.219 465.473 Q122.219 467.204 121.56 468.765 Q120.921 470.307 119.209 472.413 Q118.739 472.959 116.219 475.573 Q113.699 478.168 109.11 482.852 Z\" fill=\"#000000\" fill-rule=\"evenodd\" fill-opacity=\"1\" /><circle clip-path=\"url(#clip232)\" cx=\"978.663\" cy=\"1103.85\" r=\"14.4\" fill=\"#009af9\" fill-rule=\"evenodd\" fill-opacity=\"1\" stroke=\"#000000\" stroke-opacity=\"1\" stroke-width=\"3.2\"/>\n",
       "<circle clip-path=\"url(#clip232)\" cx=\"1895.36\" cy=\"1103.85\" r=\"14.4\" fill=\"#009af9\" fill-rule=\"evenodd\" fill-opacity=\"1\" stroke=\"#000000\" stroke-opacity=\"1\" stroke-width=\"3.2\"/>\n",
       "<circle clip-path=\"url(#clip232)\" cx=\"2108.28\" cy=\"1291.69\" r=\"14.4\" fill=\"#009af9\" fill-rule=\"evenodd\" fill-opacity=\"1\" stroke=\"#000000\" stroke-opacity=\"1\" stroke-width=\"3.2\"/>\n",
       "<circle clip-path=\"url(#clip232)\" cx=\"1822.74\" cy=\"1149.59\" r=\"14.4\" fill=\"#009af9\" fill-rule=\"evenodd\" fill-opacity=\"1\" stroke=\"#000000\" stroke-opacity=\"1\" stroke-width=\"3.2\"/>\n",
       "<circle clip-path=\"url(#clip232)\" cx=\"1853.14\" cy=\"1149.59\" r=\"14.4\" fill=\"#009af9\" fill-rule=\"evenodd\" fill-opacity=\"1\" stroke=\"#000000\" stroke-opacity=\"1\" stroke-width=\"3.2\"/>\n",
       "<circle clip-path=\"url(#clip232)\" cx=\"1064.55\" cy=\"434.377\" r=\"14.4\" fill=\"#009af9\" fill-rule=\"evenodd\" fill-opacity=\"1\" stroke=\"#000000\" stroke-opacity=\"1\" stroke-width=\"3.2\"/>\n",
       "<circle clip-path=\"url(#clip232)\" cx=\"2201.26\" cy=\"1433.78\" r=\"14.4\" fill=\"#009af9\" fill-rule=\"evenodd\" fill-opacity=\"1\" stroke=\"#000000\" stroke-opacity=\"1\" stroke-width=\"3.2\"/>\n",
       "<circle clip-path=\"url(#clip232)\" cx=\"2013.75\" cy=\"1291.69\" r=\"14.4\" fill=\"#009af9\" fill-rule=\"evenodd\" fill-opacity=\"1\" stroke=\"#000000\" stroke-opacity=\"1\" stroke-width=\"3.2\"/>\n",
       "<circle clip-path=\"url(#clip232)\" cx=\"2241.66\" cy=\"1433.78\" r=\"14.4\" fill=\"#009af9\" fill-rule=\"evenodd\" fill-opacity=\"1\" stroke=\"#000000\" stroke-opacity=\"1\" stroke-width=\"3.2\"/>\n",
       "<circle clip-path=\"url(#clip232)\" cx=\"2179.68\" cy=\"1291.69\" r=\"14.4\" fill=\"#009af9\" fill-rule=\"evenodd\" fill-opacity=\"1\" stroke=\"#000000\" stroke-opacity=\"1\" stroke-width=\"3.2\"/>\n",
       "<circle clip-path=\"url(#clip232)\" cx=\"873.542\" cy=\"314.579\" r=\"14.4\" fill=\"#009af9\" fill-rule=\"evenodd\" fill-opacity=\"1\" stroke=\"#000000\" stroke-opacity=\"1\" stroke-width=\"3.2\"/>\n",
       "<circle clip-path=\"url(#clip232)\" cx=\"1428.79\" cy=\"924.38\" r=\"14.4\" fill=\"#009af9\" fill-rule=\"evenodd\" fill-opacity=\"1\" stroke=\"#000000\" stroke-opacity=\"1\" stroke-width=\"3.2\"/>\n",
       "<circle clip-path=\"url(#clip232)\" cx=\"2099.64\" cy=\"1208.57\" r=\"14.4\" fill=\"#009af9\" fill-rule=\"evenodd\" fill-opacity=\"1\" stroke=\"#000000\" stroke-opacity=\"1\" stroke-width=\"3.2\"/>\n",
       "<circle clip-path=\"url(#clip232)\" cx=\"2172.26\" cy=\"1433.78\" r=\"14.4\" fill=\"#009af9\" fill-rule=\"evenodd\" fill-opacity=\"1\" stroke=\"#000000\" stroke-opacity=\"1\" stroke-width=\"3.2\"/>\n",
       "<circle clip-path=\"url(#clip232)\" cx=\"2164.72\" cy=\"1433.78\" r=\"14.4\" fill=\"#009af9\" fill-rule=\"evenodd\" fill-opacity=\"1\" stroke=\"#000000\" stroke-opacity=\"1\" stroke-width=\"3.2\"/>\n",
       "<circle clip-path=\"url(#clip232)\" cx=\"2133.3\" cy=\"1034.87\" r=\"14.4\" fill=\"#009af9\" fill-rule=\"evenodd\" fill-opacity=\"1\" stroke=\"#000000\" stroke-opacity=\"1\" stroke-width=\"3.2\"/>\n",
       "<circle clip-path=\"url(#clip232)\" cx=\"2081.86\" cy=\"1433.78\" r=\"14.4\" fill=\"#009af9\" fill-rule=\"evenodd\" fill-opacity=\"1\" stroke=\"#000000\" stroke-opacity=\"1\" stroke-width=\"3.2\"/>\n",
       "<circle clip-path=\"url(#clip232)\" cx=\"1391.09\" cy=\"653.424\" r=\"14.4\" fill=\"#009af9\" fill-rule=\"evenodd\" fill-opacity=\"1\" stroke=\"#000000\" stroke-opacity=\"1\" stroke-width=\"3.2\"/>\n",
       "<circle clip-path=\"url(#clip232)\" cx=\"1790.24\" cy=\"1007.5\" r=\"14.4\" fill=\"#009af9\" fill-rule=\"evenodd\" fill-opacity=\"1\" stroke=\"#000000\" stroke-opacity=\"1\" stroke-width=\"3.2\"/>\n",
       "<circle clip-path=\"url(#clip232)\" cx=\"1697.57\" cy=\"1007.5\" r=\"14.4\" fill=\"#009af9\" fill-rule=\"evenodd\" fill-opacity=\"1\" stroke=\"#000000\" stroke-opacity=\"1\" stroke-width=\"3.2\"/>\n",
       "<circle clip-path=\"url(#clip232)\" cx=\"1992.33\" cy=\"1149.59\" r=\"14.4\" fill=\"#009af9\" fill-rule=\"evenodd\" fill-opacity=\"1\" stroke=\"#000000\" stroke-opacity=\"1\" stroke-width=\"3.2\"/>\n",
       "<circle clip-path=\"url(#clip232)\" cx=\"1350.1\" cy=\"942.218\" r=\"14.4\" fill=\"#009af9\" fill-rule=\"evenodd\" fill-opacity=\"1\" stroke=\"#000000\" stroke-opacity=\"1\" stroke-width=\"3.2\"/>\n",
       "<circle clip-path=\"url(#clip232)\" cx=\"1908.63\" cy=\"1208.57\" r=\"14.4\" fill=\"#009af9\" fill-rule=\"evenodd\" fill-opacity=\"1\" stroke=\"#000000\" stroke-opacity=\"1\" stroke-width=\"3.2\"/>\n",
       "<circle clip-path=\"url(#clip232)\" cx=\"1946.34\" cy=\"1066.47\" r=\"14.4\" fill=\"#009af9\" fill-rule=\"evenodd\" fill-opacity=\"1\" stroke=\"#000000\" stroke-opacity=\"1\" stroke-width=\"3.2\"/>\n",
       "<circle clip-path=\"url(#clip232)\" cx=\"1137.17\" cy=\"1034.87\" r=\"14.4\" fill=\"#009af9\" fill-rule=\"evenodd\" fill-opacity=\"1\" stroke=\"#000000\" stroke-opacity=\"1\" stroke-width=\"3.2\"/>\n",
       "<circle clip-path=\"url(#clip232)\" cx=\"1736.85\" cy=\"1103.85\" r=\"14.4\" fill=\"#009af9\" fill-rule=\"evenodd\" fill-opacity=\"1\" stroke=\"#000000\" stroke-opacity=\"1\" stroke-width=\"3.2\"/>\n",
       "<circle clip-path=\"url(#clip232)\" cx=\"2141.36\" cy=\"1291.69\" r=\"14.4\" fill=\"#009af9\" fill-rule=\"evenodd\" fill-opacity=\"1\" stroke=\"#000000\" stroke-opacity=\"1\" stroke-width=\"3.2\"/>\n",
       "<circle clip-path=\"url(#clip232)\" cx=\"2063.39\" cy=\"1208.57\" r=\"14.4\" fill=\"#009af9\" fill-rule=\"evenodd\" fill-opacity=\"1\" stroke=\"#000000\" stroke-opacity=\"1\" stroke-width=\"3.2\"/>\n",
       "<circle clip-path=\"url(#clip232)\" cx=\"1881.7\" cy=\"1066.47\" r=\"14.4\" fill=\"#009af9\" fill-rule=\"evenodd\" fill-opacity=\"1\" stroke=\"#000000\" stroke-opacity=\"1\" stroke-width=\"3.2\"/>\n",
       "<circle clip-path=\"url(#clip232)\" cx=\"547.008\" cy=\"87.6286\" r=\"14.4\" fill=\"#009af9\" fill-rule=\"evenodd\" fill-opacity=\"1\" stroke=\"#000000\" stroke-opacity=\"1\" stroke-width=\"3.2\"/>\n",
       "<circle clip-path=\"url(#clip232)\" cx=\"1305.2\" cy=\"557.074\" r=\"14.4\" fill=\"#009af9\" fill-rule=\"evenodd\" fill-opacity=\"1\" stroke=\"#000000\" stroke-opacity=\"1\" stroke-width=\"3.2\"/>\n",
       "<circle clip-path=\"url(#clip232)\" cx=\"1582.1\" cy=\"743.493\" r=\"14.4\" fill=\"#009af9\" fill-rule=\"evenodd\" fill-opacity=\"1\" stroke=\"#000000\" stroke-opacity=\"1\" stroke-width=\"3.2\"/>\n",
       "<circle clip-path=\"url(#clip232)\" cx=\"1755.33\" cy=\"924.38\" r=\"14.4\" fill=\"#009af9\" fill-rule=\"evenodd\" fill-opacity=\"1\" stroke=\"#000000\" stroke-opacity=\"1\" stroke-width=\"3.2\"/>\n",
       "<circle clip-path=\"url(#clip232)\" cx=\"1773.11\" cy=\"1149.59\" r=\"14.4\" fill=\"#009af9\" fill-rule=\"evenodd\" fill-opacity=\"1\" stroke=\"#000000\" stroke-opacity=\"1\" stroke-width=\"3.2\"/>\n",
       "<circle clip-path=\"url(#clip232)\" cx=\"1981.25\" cy=\"1103.85\" r=\"14.4\" fill=\"#009af9\" fill-rule=\"evenodd\" fill-opacity=\"1\" stroke=\"#000000\" stroke-opacity=\"1\" stroke-width=\"3.2\"/>\n",
       "<circle clip-path=\"url(#clip232)\" cx=\"1526.61\" cy=\"717.005\" r=\"14.4\" fill=\"#009af9\" fill-rule=\"evenodd\" fill-opacity=\"1\" stroke=\"#000000\" stroke-opacity=\"1\" stroke-width=\"3.2\"/>\n",
       "<circle clip-path=\"url(#clip232)\" cx=\"1631.73\" cy=\"819.662\" r=\"14.4\" fill=\"#009af9\" fill-rule=\"evenodd\" fill-opacity=\"1\" stroke=\"#000000\" stroke-opacity=\"1\" stroke-width=\"3.2\"/>\n",
       "<circle clip-path=\"url(#clip232)\" cx=\"2290.65\" cy=\"1433.78\" r=\"14.4\" fill=\"#009af9\" fill-rule=\"evenodd\" fill-opacity=\"1\" stroke=\"#000000\" stroke-opacity=\"1\" stroke-width=\"3.2\"/>\n",
       "<circle clip-path=\"url(#clip232)\" cx=\"1607.57\" cy=\"942.218\" r=\"14.4\" fill=\"#009af9\" fill-rule=\"evenodd\" fill-opacity=\"1\" stroke=\"#000000\" stroke-opacity=\"1\" stroke-width=\"3.2\"/>\n",
       "<circle clip-path=\"url(#clip232)\" cx=\"2003.16\" cy=\"1034.87\" r=\"14.4\" fill=\"#009af9\" fill-rule=\"evenodd\" fill-opacity=\"1\" stroke=\"#000000\" stroke-opacity=\"1\" stroke-width=\"3.2\"/>\n",
       "<circle clip-path=\"url(#clip232)\" cx=\"1255.56\" cy=\"942.218\" r=\"14.4\" fill=\"#009af9\" fill-rule=\"evenodd\" fill-opacity=\"1\" stroke=\"#000000\" stroke-opacity=\"1\" stroke-width=\"3.2\"/>\n",
       "<circle clip-path=\"url(#clip232)\" cx=\"1838.19\" cy=\"1291.69\" r=\"14.4\" fill=\"#009af9\" fill-rule=\"evenodd\" fill-opacity=\"1\" stroke=\"#000000\" stroke-opacity=\"1\" stroke-width=\"3.2\"/>\n",
       "<circle clip-path=\"url(#clip232)\" cx=\"1806.77\" cy=\"1007.5\" r=\"14.4\" fill=\"#009af9\" fill-rule=\"evenodd\" fill-opacity=\"1\" stroke=\"#000000\" stroke-opacity=\"1\" stroke-width=\"3.2\"/>\n",
       "<circle clip-path=\"url(#clip232)\" cx=\"2024.1\" cy=\"1149.59\" r=\"14.4\" fill=\"#009af9\" fill-rule=\"evenodd\" fill-opacity=\"1\" stroke=\"#000000\" stroke-opacity=\"1\" stroke-width=\"3.2\"/>\n",
       "<circle clip-path=\"url(#clip232)\" cx=\"2125.11\" cy=\"1433.78\" r=\"14.4\" fill=\"#009af9\" fill-rule=\"evenodd\" fill-opacity=\"1\" stroke=\"#000000\" stroke-opacity=\"1\" stroke-width=\"3.2\"/>\n",
       "<circle clip-path=\"url(#clip232)\" cx=\"1654.72\" cy=\"1007.5\" r=\"14.4\" fill=\"#009af9\" fill-rule=\"evenodd\" fill-opacity=\"1\" stroke=\"#000000\" stroke-opacity=\"1\" stroke-width=\"3.2\"/>\n",
       "<circle clip-path=\"url(#clip232)\" cx=\"1934.1\" cy=\"1034.87\" r=\"14.4\" fill=\"#009af9\" fill-rule=\"evenodd\" fill-opacity=\"1\" stroke=\"#000000\" stroke-opacity=\"1\" stroke-width=\"3.2\"/>\n",
       "<circle clip-path=\"url(#clip232)\" cx=\"2235.16\" cy=\"1433.78\" r=\"14.4\" fill=\"#009af9\" fill-rule=\"evenodd\" fill-opacity=\"1\" stroke=\"#000000\" stroke-opacity=\"1\" stroke-width=\"3.2\"/>\n",
       "<circle clip-path=\"url(#clip232)\" cx=\"1717.62\" cy=\"841.261\" r=\"14.4\" fill=\"#009af9\" fill-rule=\"evenodd\" fill-opacity=\"1\" stroke=\"#000000\" stroke-opacity=\"1\" stroke-width=\"3.2\"/>\n",
       "<circle clip-path=\"url(#clip232)\" cx=\"1200.08\" cy=\"543.311\" r=\"14.4\" fill=\"#009af9\" fill-rule=\"evenodd\" fill-opacity=\"1\" stroke=\"#000000\" stroke-opacity=\"1\" stroke-width=\"3.2\"/>\n",
       "<circle clip-path=\"url(#clip232)\" cx=\"1555.17\" cy=\"1007.5\" r=\"14.4\" fill=\"#009af9\" fill-rule=\"evenodd\" fill-opacity=\"1\" stroke=\"#000000\" stroke-opacity=\"1\" stroke-width=\"3.2\"/>\n",
       "<circle clip-path=\"url(#clip232)\" cx=\"1921.54\" cy=\"1208.57\" r=\"14.4\" fill=\"#009af9\" fill-rule=\"evenodd\" fill-opacity=\"1\" stroke=\"#000000\" stroke-opacity=\"1\" stroke-width=\"3.2\"/>\n",
       "<circle clip-path=\"url(#clip232)\" cx=\"220.474\" cy=\"1208.57\" r=\"14.4\" fill=\"#009af9\" fill-rule=\"evenodd\" fill-opacity=\"1\" stroke=\"#000000\" stroke-opacity=\"1\" stroke-width=\"3.2\"/>\n",
       "<circle clip-path=\"url(#clip232)\" cx=\"2090.83\" cy=\"1433.78\" r=\"14.4\" fill=\"#009af9\" fill-rule=\"evenodd\" fill-opacity=\"1\" stroke=\"#000000\" stroke-opacity=\"1\" stroke-width=\"3.2\"/>\n",
       "<circle clip-path=\"url(#clip232)\" cx=\"1676.63\" cy=\"878.637\" r=\"14.4\" fill=\"#009af9\" fill-rule=\"evenodd\" fill-opacity=\"1\" stroke=\"#000000\" stroke-opacity=\"1\" stroke-width=\"3.2\"/>\n",
       "<circle clip-path=\"url(#clip232)\" cx=\"2034.24\" cy=\"1103.85\" r=\"14.4\" fill=\"#009af9\" fill-rule=\"evenodd\" fill-opacity=\"1\" stroke=\"#000000\" stroke-opacity=\"1\" stroke-width=\"3.2\"/>\n",
       "<circle clip-path=\"url(#clip232)\" cx=\"1463.7\" cy=\"729.821\" r=\"14.4\" fill=\"#009af9\" fill-rule=\"evenodd\" fill-opacity=\"1\" stroke=\"#000000\" stroke-opacity=\"1\" stroke-width=\"3.2\"/>\n",
       "<circle clip-path=\"url(#clip232)\" cx=\"738.018\" cy=\"1149.59\" r=\"14.4\" fill=\"#009af9\" fill-rule=\"evenodd\" fill-opacity=\"1\" stroke=\"#000000\" stroke-opacity=\"1\" stroke-width=\"3.2\"/>\n",
       "<circle clip-path=\"url(#clip232)\" cx=\"2284.8\" cy=\"1433.78\" r=\"14.4\" fill=\"#009af9\" fill-rule=\"evenodd\" fill-opacity=\"1\" stroke=\"#000000\" stroke-opacity=\"1\" stroke-width=\"3.2\"/>\n",
       "<circle clip-path=\"url(#clip232)\" cx=\"2072.71\" cy=\"1291.69\" r=\"14.4\" fill=\"#009af9\" fill-rule=\"evenodd\" fill-opacity=\"1\" stroke=\"#000000\" stroke-opacity=\"1\" stroke-width=\"3.2\"/>\n",
       "<circle clip-path=\"url(#clip232)\" cx=\"1867.64\" cy=\"1149.59\" r=\"14.4\" fill=\"#009af9\" fill-rule=\"evenodd\" fill-opacity=\"1\" stroke=\"#000000\" stroke-opacity=\"1\" stroke-width=\"3.2\"/>\n",
       "<circle clip-path=\"url(#clip232)\" cx=\"1958.26\" cy=\"1007.5\" r=\"14.4\" fill=\"#009af9\" fill-rule=\"evenodd\" fill-opacity=\"1\" stroke=\"#000000\" stroke-opacity=\"1\" stroke-width=\"3.2\"/>\n",
       "<circle clip-path=\"url(#clip232)\" cx=\"2044.15\" cy=\"1433.78\" r=\"14.4\" fill=\"#009af9\" fill-rule=\"evenodd\" fill-opacity=\"1\" stroke=\"#000000\" stroke-opacity=\"1\" stroke-width=\"3.2\"/>\n",
       "<circle clip-path=\"url(#clip232)\" cx=\"2186.98\" cy=\"1433.78\" r=\"14.4\" fill=\"#009af9\" fill-rule=\"evenodd\" fill-opacity=\"1\" stroke=\"#000000\" stroke-opacity=\"1\" stroke-width=\"3.2\"/>\n",
       "<circle clip-path=\"url(#clip232)\" cx=\"1496.21\" cy=\"1149.59\" r=\"14.4\" fill=\"#009af9\" fill-rule=\"evenodd\" fill-opacity=\"1\" stroke=\"#000000\" stroke-opacity=\"1\" stroke-width=\"3.2\"/>\n",
       "<path clip-path=\"url(#clip230)\" d=\"\n",
       "M2007.74 198.488 L2279.61 198.488 L2279.61 94.8081 L2007.74 94.8081  Z\n",
       "  \" fill=\"#ffffff\" fill-rule=\"evenodd\" fill-opacity=\"1\"/>\n",
       "<polyline clip-path=\"url(#clip230)\" style=\"stroke:#000000; stroke-linecap:round; stroke-linejoin:round; stroke-width:4; stroke-opacity:1; fill:none\" points=\"\n",
       "  2007.74,198.488 2279.61,198.488 2279.61,94.8081 2007.74,94.8081 2007.74,198.488 \n",
       "  \"/>\n",
       "<circle clip-path=\"url(#clip230)\" cx=\"2105.27\" cy=\"146.648\" r=\"23.04\" fill=\"#009af9\" fill-rule=\"evenodd\" fill-opacity=\"1\" stroke=\"#000000\" stroke-opacity=\"1\" stroke-width=\"5.12\"/>\n",
       "<path clip-path=\"url(#clip230)\" d=\"M2216.64 166.336 Q2214.83 170.965 2213.12 172.377 Q2211.41 173.789 2208.54 173.789 L2205.14 173.789 L2205.14 170.224 L2207.64 170.224 Q2209.39 170.224 2210.37 169.391 Q2211.34 168.558 2212.52 165.456 L2213.28 163.511 L2202.8 138.002 L2207.31 138.002 L2215.41 158.28 L2223.51 138.002 L2228.03 138.002 L2216.64 166.336 Z\" fill=\"#000000\" fill-rule=\"evenodd\" fill-opacity=\"1\" /><path clip-path=\"url(#clip230)\" d=\"M2235.32 159.993 L2242.96 159.993 L2242.96 133.627 L2234.65 135.294 L2234.65 131.035 L2242.91 129.368 L2247.59 129.368 L2247.59 159.993 L2255.23 159.993 L2255.23 163.928 L2235.32 163.928 L2235.32 159.993 Z\" fill=\"#000000\" fill-rule=\"evenodd\" fill-opacity=\"1\" /></svg>\n"
      ]
     },
     "metadata": {},
     "output_type": "display_data"
    }
   ],
   "source": [
    "c = counter(connectivity)\n",
    "Plots.scatter(collect(keys(c)),collect(values(c)),xscale=:log10, yscale=:log10)"
   ]
  },
  {
   "cell_type": "code",
   "execution_count": 113,
   "metadata": {},
   "outputs": [
    {
     "data": {
      "image/png": "[encoded data removed]",
      "image/svg+xml": "<?xml version=\"1.0\" encoding=\"utf-8\"?>\n<svg xmlns=\"http://www.w3.org/2000/svg\" xmlns:xlink=\"http://www.w3.org/1999/xlink\" width=\"600\" height=\"400\" viewBox=\"0 0 2400 1600\">\n<defs>\n  <clipPath id=\"clip270\">\n    <rect x=\"0\" y=\"0\" width=\"2400\" height=\"1600\"/>\n  </clipPath>\n</defs>\n<path clip-path=\"url(#clip270)\" d=\"\nM0 1600 L2400 1600 L2400 0 L0 0  Z\n  \" fill=\"#ffffff\" fill-rule=\"evenodd\" fill-opacity=\"1\"/>\n<defs>\n  <clipPath id=\"clip271\">\n    <rect x=\"480\" y=\"0\" width=\"1681\" height=\"1600\"/>\n  </clipPath>\n</defs>\n<path clip-path=\"url(#clip270)\" d=\"\nM158.369 1474.16 L2352.76 1474.16 L2352.76 47.2441 L158.369 47.2441  Z\n  \" fill=\"#ffffff\" fill-rule=\"evenodd\" fill-opacity=\"1\"/>\n<defs>\n  <clipPath id=\"clip272\">\n    <rect x=\"158\" y=\"47\" width=\"2195\" height=\"1428\"/>\n  </clipPath>\n</defs>\n<polyline clip-path=\"url(#clip272)\" style=\"stroke:#000000; stroke-linecap:round; stroke-linejoin:round; stroke-width:2; stroke-opacity:0.1; fill:none\" points=\"\n  471.107,1474.16 471.107,47.2441 \n  \"/>\n<polyline clip-path=\"url(#clip272)\" style=\"stroke:#000000; stroke-linecap:round; stroke-linejoin:round; stroke-width:2; stroke-opacity:0.1; fill:none\" points=\"\n  1100.93,1474.16 1100.93,47.2441 \n  \"/>\n<polyline clip-path=\"url(#clip272)\" style=\"stroke:#000000; stroke-linecap:round; stroke-linejoin:round; stroke-width:2; stroke-opacity:0.1; fill:none\" points=\"\n  1730.76,1474.16 1730.76,47.2441 \n  \"/>\n<polyline clip-path=\"url(#clip270)\" style=\"stroke:#000000; stroke-linecap:round; stroke-linejoin:round; stroke-width:4; stroke-opacity:1; fill:none\" points=\"\n  158.369,1474.16 2352.76,1474.16 \n  \"/>\n<polyline clip-path=\"url(#clip270)\" style=\"stroke:#000000; stroke-linecap:round; stroke-linejoin:round; stroke-width:4; stroke-opacity:1; fill:none\" points=\"\n  471.107,1474.16 471.107,1455.27 \n  \"/>\n<polyline clip-path=\"url(#clip270)\" style=\"stroke:#000000; stroke-linecap:round; stroke-linejoin:round; stroke-width:4; stroke-opacity:1; fill:none\" points=\"\n  1100.93,1474.16 1100.93,1455.27 \n  \"/>\n<polyline clip-path=\"url(#clip270)\" style=\"stroke:#000000; stroke-linecap:round; stroke-linejoin:round; stroke-width:4; stroke-opacity:1; fill:none\" points=\"\n  1730.76,1474.16 1730.76,1455.27 \n  \"/>\n<path clip-path=\"url(#clip270)\" d=\"M418.119 1548.29 L425.758 1548.29 L425.758 1521.92 L417.448 1523.59 L417.448 1519.33 L425.712 1517.66 L430.388 1517.66 L430.388 1548.29 L438.026 1548.29 L438.026 1552.22 L418.119 1552.22 L418.119 1548.29 Z\" fill=\"#000000\" fill-rule=\"evenodd\" fill-opacity=\"1\" /><path clip-path=\"url(#clip270)\" d=\"M457.471 1520.74 Q453.86 1520.74 452.031 1524.31 Q450.225 1527.85 450.225 1534.98 Q450.225 1542.09 452.031 1545.65 Q453.86 1549.19 457.471 1549.19 Q461.105 1549.19 462.91 1545.65 Q464.739 1542.09 464.739 1534.98 Q464.739 1527.85 462.91 1524.31 Q461.105 1520.74 457.471 1520.74 M457.471 1517.04 Q463.281 1517.04 466.336 1521.65 Q469.415 1526.23 469.415 1534.98 Q469.415 1543.71 466.336 1548.31 Q463.281 1552.9 457.471 1552.9 Q451.661 1552.9 448.582 1548.31 Q445.526 1543.71 445.526 1534.98 Q445.526 1526.23 448.582 1521.65 Q451.661 1517.04 457.471 1517.04 Z\" fill=\"#000000\" fill-rule=\"evenodd\" fill-opacity=\"1\" /><path clip-path=\"url(#clip270)\" d=\"M479.12 1499.24 Q476.186 1499.24 474.7 1502.13 Q473.233 1505.01 473.233 1510.8 Q473.233 1516.58 474.7 1519.47 Q476.186 1522.35 479.12 1522.35 Q482.073 1522.35 483.54 1519.47 Q485.026 1516.58 485.026 1510.8 Q485.026 1505.01 483.54 1502.13 Q482.073 1499.24 479.12 1499.24 M479.12 1496.23 Q483.841 1496.23 486.323 1499.97 Q488.825 1503.69 488.825 1510.8 Q488.825 1517.89 486.323 1521.64 Q483.841 1525.36 479.12 1525.36 Q474.399 1525.36 471.898 1521.64 Q469.415 1517.89 469.415 1510.8 Q469.415 1503.69 471.898 1499.97 Q474.399 1496.23 479.12 1496.23 Z\" fill=\"#000000\" fill-rule=\"evenodd\" fill-opacity=\"1\" /><path clip-path=\"url(#clip270)\" d=\"M495.501 1520.04 L499.47 1520.04 L499.47 1524.81 L495.501 1524.81 L495.501 1520.04 Z\" fill=\"#000000\" fill-rule=\"evenodd\" fill-opacity=\"1\" /><path clip-path=\"url(#clip270)\" d=\"M507.783 1496.73 L522.697 1496.73 L522.697 1499.93 L511.262 1499.93 L511.262 1506.82 Q512.09 1506.53 512.917 1506.4 Q513.745 1506.25 514.573 1506.25 Q519.274 1506.25 522.02 1508.83 Q524.766 1511.4 524.766 1515.81 Q524.766 1520.34 521.945 1522.86 Q519.124 1525.36 513.989 1525.36 Q512.222 1525.36 510.378 1525.06 Q508.554 1524.76 506.598 1524.16 L506.598 1520.34 Q508.291 1521.26 510.096 1521.71 Q511.902 1522.16 513.914 1522.16 Q517.168 1522.16 519.068 1520.45 Q520.967 1518.74 520.967 1515.81 Q520.967 1512.87 519.068 1511.16 Q517.168 1509.45 513.914 1509.45 Q512.391 1509.45 510.867 1509.79 Q509.363 1510.13 507.783 1510.84 L507.783 1496.73 Z\" fill=\"#000000\" fill-rule=\"evenodd\" fill-opacity=\"1\" /><path clip-path=\"url(#clip270)\" d=\"M1048.39 1548.29 L1056.03 1548.29 L1056.03 1521.92 L1047.72 1523.59 L1047.72 1519.33 L1055.98 1517.66 L1060.65 1517.66 L1060.65 1548.29 L1068.29 1548.29 L1068.29 1552.22 L1048.39 1552.22 L1048.39 1548.29 Z\" fill=\"#000000\" fill-rule=\"evenodd\" fill-opacity=\"1\" /><path clip-path=\"url(#clip270)\" d=\"M1087.74 1520.74 Q1084.13 1520.74 1082.3 1524.31 Q1080.49 1527.85 1080.49 1534.98 Q1080.49 1542.09 1082.3 1545.65 Q1084.13 1549.19 1087.74 1549.19 Q1091.37 1549.19 1093.18 1545.65 Q1095.01 1542.09 1095.01 1534.98 Q1095.01 1527.85 1093.18 1524.31 Q1091.37 1520.74 1087.74 1520.74 M1087.74 1517.04 Q1093.55 1517.04 1096.6 1521.65 Q1099.68 1526.23 1099.68 1534.98 Q1099.68 1543.71 1096.6 1548.31 Q1093.55 1552.9 1087.74 1552.9 Q1081.93 1552.9 1078.85 1548.31 Q1075.79 1543.71 1075.79 1534.98 Q1075.79 1526.23 1078.85 1521.65 Q1081.93 1517.04 1087.74 1517.04 Z\" fill=\"#000000\" fill-rule=\"evenodd\" fill-opacity=\"1\" /><path clip-path=\"url(#clip270)\" d=\"M1100.23 1521.62 L1106.43 1521.62 L1106.43 1500.19 L1099.68 1501.55 L1099.68 1498.09 L1106.4 1496.73 L1110.2 1496.73 L1110.2 1521.62 L1116.4 1521.62 L1116.4 1524.81 L1100.23 1524.81 L1100.23 1521.62 Z\" fill=\"#000000\" fill-rule=\"evenodd\" fill-opacity=\"1\" /><path clip-path=\"url(#clip270)\" d=\"M1124.08 1520.04 L1128.04 1520.04 L1128.04 1524.81 L1124.08 1524.81 L1124.08 1520.04 Z\" fill=\"#000000\" fill-rule=\"evenodd\" fill-opacity=\"1\" /><path clip-path=\"url(#clip270)\" d=\"M1144.44 1499.24 Q1141.51 1499.24 1140.03 1502.13 Q1138.56 1505.01 1138.56 1510.8 Q1138.56 1516.58 1140.03 1519.47 Q1141.51 1522.35 1144.44 1522.35 Q1147.4 1522.35 1148.86 1519.47 Q1150.35 1516.58 1150.35 1510.8 Q1150.35 1505.01 1148.86 1502.13 Q1147.4 1499.24 1144.44 1499.24 M1144.44 1496.23 Q1149.17 1496.23 1151.65 1499.97 Q1154.15 1503.69 1154.15 1510.8 Q1154.15 1517.89 1151.65 1521.64 Q1149.17 1525.36 1144.44 1525.36 Q1139.72 1525.36 1137.22 1521.64 Q1134.74 1517.89 1134.74 1510.8 Q1134.74 1503.69 1137.22 1499.97 Q1139.72 1496.23 1144.44 1496.23 Z\" fill=\"#000000\" fill-rule=\"evenodd\" fill-opacity=\"1\" /><path clip-path=\"url(#clip270)\" d=\"M1678.62 1548.29 L1686.25 1548.29 L1686.25 1521.92 L1677.94 1523.59 L1677.94 1519.33 L1686.21 1517.66 L1690.88 1517.66 L1690.88 1548.29 L1698.52 1548.29 L1698.52 1552.22 L1678.62 1552.22 L1678.62 1548.29 Z\" fill=\"#000000\" fill-rule=\"evenodd\" fill-opacity=\"1\" /><path clip-path=\"url(#clip270)\" d=\"M1717.97 1520.74 Q1714.36 1520.74 1712.53 1524.31 Q1710.72 1527.85 1710.72 1534.98 Q1710.72 1542.09 1712.53 1545.65 Q1714.36 1549.19 1717.97 1549.19 Q1721.6 1549.19 1723.41 1545.65 Q1725.24 1542.09 1725.24 1534.98 Q1725.24 1527.85 1723.41 1524.31 Q1721.6 1520.74 1717.97 1520.74 M1717.97 1517.04 Q1723.78 1517.04 1726.83 1521.65 Q1729.91 1526.23 1729.91 1534.98 Q1729.91 1543.71 1726.83 1548.31 Q1723.78 1552.9 1717.97 1552.9 Q1712.16 1552.9 1709.08 1548.31 Q1706.02 1543.71 1706.02 1534.98 Q1706.02 1526.23 1709.08 1521.65 Q1712.16 1517.04 1717.97 1517.04 Z\" fill=\"#000000\" fill-rule=\"evenodd\" fill-opacity=\"1\" /><path clip-path=\"url(#clip270)\" d=\"M1730.46 1521.62 L1736.66 1521.62 L1736.66 1500.19 L1729.91 1501.55 L1729.91 1498.09 L1736.63 1496.73 L1740.43 1496.73 L1740.43 1521.62 L1746.63 1521.62 L1746.63 1524.81 L1730.46 1524.81 L1730.46 1521.62 Z\" fill=\"#000000\" fill-rule=\"evenodd\" fill-opacity=\"1\" /><path clip-path=\"url(#clip270)\" d=\"M1754.31 1520.04 L1758.27 1520.04 L1758.27 1524.81 L1754.31 1524.81 L1754.31 1520.04 Z\" fill=\"#000000\" fill-rule=\"evenodd\" fill-opacity=\"1\" /><path clip-path=\"url(#clip270)\" d=\"M1766.59 1496.73 L1781.5 1496.73 L1781.5 1499.93 L1770.07 1499.93 L1770.07 1506.82 Q1770.89 1506.53 1771.72 1506.4 Q1772.55 1506.25 1773.38 1506.25 Q1778.08 1506.25 1780.82 1508.83 Q1783.57 1511.4 1783.57 1515.81 Q1783.57 1520.34 1780.75 1522.86 Q1777.93 1525.36 1772.79 1525.36 Q1771.03 1525.36 1769.18 1525.06 Q1767.36 1524.76 1765.4 1524.16 L1765.4 1520.34 Q1767.1 1521.26 1768.9 1521.71 Q1770.71 1522.16 1772.72 1522.16 Q1775.97 1522.16 1777.87 1520.45 Q1779.77 1518.74 1779.77 1515.81 Q1779.77 1512.87 1777.87 1511.16 Q1775.97 1509.45 1772.72 1509.45 Q1771.2 1509.45 1769.67 1509.79 Q1768.17 1510.13 1766.59 1510.84 L1766.59 1496.73 Z\" fill=\"#000000\" fill-rule=\"evenodd\" fill-opacity=\"1\" /><polyline clip-path=\"url(#clip272)\" style=\"stroke:#000000; stroke-linecap:round; stroke-linejoin:round; stroke-width:2; stroke-opacity:0.1; fill:none\" points=\"\n  158.369,1433.78 2352.76,1433.78 \n  \"/>\n<polyline clip-path=\"url(#clip272)\" style=\"stroke:#000000; stroke-linecap:round; stroke-linejoin:round; stroke-width:2; stroke-opacity:0.1; fill:none\" points=\"\n  158.369,961.248 2352.76,961.248 \n  \"/>\n<polyline clip-path=\"url(#clip272)\" style=\"stroke:#000000; stroke-linecap:round; stroke-linejoin:round; stroke-width:2; stroke-opacity:0.1; fill:none\" points=\"\n  158.369,488.716 2352.76,488.716 \n  \"/>\n<polyline clip-path=\"url(#clip270)\" style=\"stroke:#000000; stroke-linecap:round; stroke-linejoin:round; stroke-width:4; stroke-opacity:1; fill:none\" points=\"\n  158.369,1474.16 158.369,47.2441 \n  \"/>\n<polyline clip-path=\"url(#clip270)\" style=\"stroke:#000000; stroke-linecap:round; stroke-linejoin:round; stroke-width:4; stroke-opacity:1; fill:none\" points=\"\n  158.369,1433.78 177.267,1433.78 \n  \"/>\n<polyline clip-path=\"url(#clip270)\" style=\"stroke:#000000; stroke-linecap:round; stroke-linejoin:round; stroke-width:4; stroke-opacity:1; fill:none\" points=\"\n  158.369,961.248 177.267,961.248 \n  \"/>\n<polyline clip-path=\"url(#clip270)\" style=\"stroke:#000000; stroke-linecap:round; stroke-linejoin:round; stroke-width:4; stroke-opacity:1; fill:none\" points=\"\n  158.369,488.716 177.267,488.716 \n  \"/>\n<path clip-path=\"url(#clip270)\" d=\"M51.6634 1453.57 L59.3023 1453.57 L59.3023 1427.21 L50.9921 1428.87 L50.9921 1424.61 L59.256 1422.95 L63.9319 1422.95 L63.9319 1453.57 L71.5707 1453.57 L71.5707 1457.51 L51.6634 1457.51 L51.6634 1453.57 Z\" fill=\"#000000\" fill-rule=\"evenodd\" fill-opacity=\"1\" /><path clip-path=\"url(#clip270)\" d=\"M91.0151 1426.03 Q87.404 1426.03 85.5753 1429.59 Q83.7697 1433.13 83.7697 1440.26 Q83.7697 1447.37 85.5753 1450.93 Q87.404 1454.48 91.0151 1454.48 Q94.6493 1454.48 96.4548 1450.93 Q98.2835 1447.37 98.2835 1440.26 Q98.2835 1433.13 96.4548 1429.59 Q94.6493 1426.03 91.0151 1426.03 M91.0151 1422.32 Q96.8252 1422.32 99.8808 1426.93 Q102.959 1431.51 102.959 1440.26 Q102.959 1448.99 99.8808 1453.6 Q96.8252 1458.18 91.0151 1458.18 Q85.2049 1458.18 82.1262 1453.6 Q79.0707 1448.99 79.0707 1440.26 Q79.0707 1431.51 82.1262 1426.93 Q85.2049 1422.32 91.0151 1422.32 Z\" fill=\"#000000\" fill-rule=\"evenodd\" fill-opacity=\"1\" /><path clip-path=\"url(#clip270)\" d=\"M112.664 1404.52 Q109.73 1404.52 108.244 1407.42 Q106.777 1410.29 106.777 1416.09 Q106.777 1421.86 108.244 1424.76 Q109.73 1427.63 112.664 1427.63 Q115.617 1427.63 117.084 1424.76 Q118.57 1421.86 118.57 1416.09 Q118.57 1410.29 117.084 1407.42 Q115.617 1404.52 112.664 1404.52 M112.664 1401.51 Q117.385 1401.51 119.868 1405.25 Q122.369 1408.98 122.369 1416.09 Q122.369 1423.18 119.868 1426.92 Q117.385 1430.64 112.664 1430.64 Q107.943 1430.64 105.442 1426.92 Q102.959 1423.18 102.959 1416.09 Q102.959 1408.98 105.442 1405.25 Q107.943 1401.51 112.664 1401.51 Z\" fill=\"#000000\" fill-rule=\"evenodd\" fill-opacity=\"1\" /><path clip-path=\"url(#clip270)\" d=\"M54.3529 981.041 L61.9918 981.041 L61.9918 954.675 L53.6816 956.342 L53.6816 952.082 L61.9455 950.416 L66.6214 950.416 L66.6214 981.041 L74.2602 981.041 L74.2602 984.976 L54.3529 984.976 L54.3529 981.041 Z\" fill=\"#000000\" fill-rule=\"evenodd\" fill-opacity=\"1\" /><path clip-path=\"url(#clip270)\" d=\"M93.7046 953.494 Q90.0935 953.494 88.2648 957.059 Q86.4592 960.601 86.4592 967.73 Q86.4592 974.837 88.2648 978.402 Q90.0935 981.943 93.7046 981.943 Q97.3388 981.943 99.1444 978.402 Q100.973 974.837 100.973 967.73 Q100.973 960.601 99.1444 957.059 Q97.3388 953.494 93.7046 953.494 M93.7046 949.791 Q99.5147 949.791 102.57 954.397 Q105.649 958.98 105.649 967.73 Q105.649 976.457 102.57 981.064 Q99.5147 985.647 93.7046 985.647 Q87.8944 985.647 84.8157 981.064 Q81.7602 976.457 81.7602 967.73 Q81.7602 958.98 84.8157 954.397 Q87.8944 949.791 93.7046 949.791 Z\" fill=\"#000000\" fill-rule=\"evenodd\" fill-opacity=\"1\" /><path clip-path=\"url(#clip270)\" d=\"M106.194 954.368 L112.401 954.368 L112.401 932.946 L105.649 934.3 L105.649 930.839 L112.363 929.485 L116.162 929.485 L116.162 954.368 L122.369 954.368 L122.369 957.565 L106.194 957.565 L106.194 954.368 Z\" fill=\"#000000\" fill-rule=\"evenodd\" fill-opacity=\"1\" /><path clip-path=\"url(#clip270)\" d=\"M53.2433 508.508 L60.8821 508.508 L60.8821 482.143 L52.572 483.81 L52.572 479.55 L60.8358 477.884 L65.5117 477.884 L65.5117 508.508 L73.1506 508.508 L73.1506 512.444 L53.2433 512.444 L53.2433 508.508 Z\" fill=\"#000000\" fill-rule=\"evenodd\" fill-opacity=\"1\" /><path clip-path=\"url(#clip270)\" d=\"M92.5949 480.962 Q88.9838 480.962 87.1551 484.527 Q85.3496 488.069 85.3496 495.198 Q85.3496 502.305 87.1551 505.87 Q88.9838 509.411 92.5949 509.411 Q96.2292 509.411 98.0347 505.87 Q99.8634 502.305 99.8634 495.198 Q99.8634 488.069 98.0347 484.527 Q96.2292 480.962 92.5949 480.962 M92.5949 477.259 Q98.4051 477.259 101.461 481.865 Q104.539 486.448 104.539 495.198 Q104.539 503.925 101.461 508.532 Q98.4051 513.115 92.5949 513.115 Q86.7848 513.115 83.7061 508.532 Q80.6505 503.925 80.6505 495.198 Q80.6505 486.448 83.7061 481.865 Q86.7848 477.259 92.5949 477.259 Z\" fill=\"#000000\" fill-rule=\"evenodd\" fill-opacity=\"1\" /><path clip-path=\"url(#clip270)\" d=\"M109.11 481.836 L122.369 481.836 L122.369 485.033 L104.539 485.033 L104.539 481.836 Q106.702 479.598 110.426 475.836 Q114.169 472.056 115.128 470.965 Q116.952 468.915 117.667 467.504 Q118.401 466.075 118.401 464.702 Q118.401 462.464 116.821 461.053 Q115.26 459.643 112.739 459.643 Q110.953 459.643 108.959 460.263 Q106.984 460.884 104.727 462.144 L104.727 458.307 Q107.022 457.386 109.016 456.916 Q111.009 456.445 112.664 456.445 Q117.028 456.445 119.623 458.627 Q122.219 460.809 122.219 464.458 Q122.219 466.188 121.56 467.749 Q120.921 469.291 119.209 471.398 Q118.739 471.943 116.219 474.557 Q113.699 477.153 109.11 481.836 Z\" fill=\"#000000\" fill-rule=\"evenodd\" fill-opacity=\"1\" /><circle clip-path=\"url(#clip272)\" cx=\"2043.39\" cy=\"1291.53\" r=\"14.4\" fill=\"#009af9\" fill-rule=\"evenodd\" fill-opacity=\"1\" stroke=\"#000000\" stroke-opacity=\"1\" stroke-width=\"3.2\"/>\n<circle clip-path=\"url(#clip272)\" cx=\"2033.53\" cy=\"1433.78\" r=\"14.4\" fill=\"#009af9\" fill-rule=\"evenodd\" fill-opacity=\"1\" stroke=\"#000000\" stroke-opacity=\"1\" stroke-width=\"3.2\"/>\n<circle clip-path=\"url(#clip272)\" cx=\"1480.13\" cy=\"757.415\" r=\"14.4\" fill=\"#009af9\" fill-rule=\"evenodd\" fill-opacity=\"1\" stroke=\"#000000\" stroke-opacity=\"1\" stroke-width=\"3.2\"/>\n<circle clip-path=\"url(#clip272)\" cx=\"1358.05\" cy=\"692.755\" r=\"14.4\" fill=\"#009af9\" fill-rule=\"evenodd\" fill-opacity=\"1\" stroke=\"#000000\" stroke-opacity=\"1\" stroke-width=\"3.2\"/>\n<circle clip-path=\"url(#clip272)\" cx=\"2062.58\" cy=\"1208.33\" r=\"14.4\" fill=\"#009af9\" fill-rule=\"evenodd\" fill-opacity=\"1\" stroke=\"#000000\" stroke-opacity=\"1\" stroke-width=\"3.2\"/>\n<circle clip-path=\"url(#clip272)\" cx=\"2002.85\" cy=\"1291.53\" r=\"14.4\" fill=\"#009af9\" fill-rule=\"evenodd\" fill-opacity=\"1\" stroke=\"#000000\" stroke-opacity=\"1\" stroke-width=\"3.2\"/>\n<circle clip-path=\"url(#clip272)\" cx=\"2081.13\" cy=\"1103.49\" r=\"14.4\" fill=\"#009af9\" fill-rule=\"evenodd\" fill-opacity=\"1\" stroke=\"#000000\" stroke-opacity=\"1\" stroke-width=\"3.2\"/>\n<circle clip-path=\"url(#clip272)\" cx=\"1200.67\" cy=\"622.914\" r=\"14.4\" fill=\"#009af9\" fill-rule=\"evenodd\" fill-opacity=\"1\" stroke=\"#000000\" stroke-opacity=\"1\" stroke-width=\"3.2\"/>\n<circle clip-path=\"url(#clip272)\" cx=\"1701.94\" cy=\"961.248\" r=\"14.4\" fill=\"#009af9\" fill-rule=\"evenodd\" fill-opacity=\"1\" stroke=\"#000000\" stroke-opacity=\"1\" stroke-width=\"3.2\"/>\n<circle clip-path=\"url(#clip272)\" cx=\"1664.2\" cy=\"878.039\" r=\"14.4\" fill=\"#009af9\" fill-rule=\"evenodd\" fill-opacity=\"1\" stroke=\"#000000\" stroke-opacity=\"1\" stroke-width=\"3.2\"/>\n<circle clip-path=\"url(#clip272)\" cx=\"978.86\" cy=\"522.068\" r=\"14.4\" fill=\"#009af9\" fill-rule=\"evenodd\" fill-opacity=\"1\" stroke=\"#000000\" stroke-opacity=\"1\" stroke-width=\"3.2\"/>\n<circle clip-path=\"url(#clip272)\" cx=\"1579.87\" cy=\"790.32\" r=\"14.4\" fill=\"#009af9\" fill-rule=\"evenodd\" fill-opacity=\"1\" stroke=\"#000000\" stroke-opacity=\"1\" stroke-width=\"3.2\"/>\n<circle clip-path=\"url(#clip272)\" cx=\"1737.24\" cy=\"1103.49\" r=\"14.4\" fill=\"#009af9\" fill-rule=\"evenodd\" fill-opacity=\"1\" stroke=\"#000000\" stroke-opacity=\"1\" stroke-width=\"3.2\"/>\n<circle clip-path=\"url(#clip272)\" cx=\"1532.27\" cy=\"773.209\" r=\"14.4\" fill=\"#009af9\" fill-rule=\"evenodd\" fill-opacity=\"1\" stroke=\"#000000\" stroke-opacity=\"1\" stroke-width=\"3.2\"/>\n<circle clip-path=\"url(#clip272)\" cx=\"821.48\" cy=\"419.666\" r=\"14.4\" fill=\"#009af9\" fill-rule=\"evenodd\" fill-opacity=\"1\" stroke=\"#000000\" stroke-opacity=\"1\" stroke-width=\"3.2\"/>\n<circle clip-path=\"url(#clip272)\" cx=\"1153.07\" cy=\"1433.78\" r=\"14.4\" fill=\"#009af9\" fill-rule=\"evenodd\" fill-opacity=\"1\" stroke=\"#000000\" stroke-opacity=\"1\" stroke-width=\"3.2\"/>\n<circle clip-path=\"url(#clip272)\" cx=\"1801.68\" cy=\"941.689\" r=\"14.4\" fill=\"#009af9\" fill-rule=\"evenodd\" fill-opacity=\"1\" stroke=\"#000000\" stroke-opacity=\"1\" stroke-width=\"3.2\"/>\n<circle clip-path=\"url(#clip272)\" cx=\"1911.46\" cy=\"1034.44\" r=\"14.4\" fill=\"#009af9\" fill-rule=\"evenodd\" fill-opacity=\"1\" stroke=\"#000000\" stroke-opacity=\"1\" stroke-width=\"3.2\"/>\n<circle clip-path=\"url(#clip272)\" cx=\"2149.6\" cy=\"1208.33\" r=\"14.4\" fill=\"#009af9\" fill-rule=\"evenodd\" fill-opacity=\"1\" stroke=\"#000000\" stroke-opacity=\"1\" stroke-width=\"3.2\"/>\n<circle clip-path=\"url(#clip272)\" cx=\"1285\" cy=\"648.074\" r=\"14.4\" fill=\"#009af9\" fill-rule=\"evenodd\" fill-opacity=\"1\" stroke=\"#000000\" stroke-opacity=\"1\" stroke-width=\"3.2\"/>\n<circle clip-path=\"url(#clip272)\" cx=\"2195.86\" cy=\"1433.78\" r=\"14.4\" fill=\"#009af9\" fill-rule=\"evenodd\" fill-opacity=\"1\" stroke=\"#000000\" stroke-opacity=\"1\" stroke-width=\"3.2\"/>\n<circle clip-path=\"url(#clip272)\" cx=\"2238.51\" cy=\"1433.78\" r=\"14.4\" fill=\"#009af9\" fill-rule=\"evenodd\" fill-opacity=\"1\" stroke=\"#000000\" stroke-opacity=\"1\" stroke-width=\"3.2\"/>\n<circle clip-path=\"url(#clip272)\" cx=\"2265.2\" cy=\"1433.78\" r=\"14.4\" fill=\"#009af9\" fill-rule=\"evenodd\" fill-opacity=\"1\" stroke=\"#000000\" stroke-opacity=\"1\" stroke-width=\"3.2\"/>\n<circle clip-path=\"url(#clip272)\" cx=\"2116.44\" cy=\"1433.78\" r=\"14.4\" fill=\"#009af9\" fill-rule=\"evenodd\" fill-opacity=\"1\" stroke=\"#000000\" stroke-opacity=\"1\" stroke-width=\"3.2\"/>\n<circle clip-path=\"url(#clip272)\" cx=\"1935.78\" cy=\"941.689\" r=\"14.4\" fill=\"#009af9\" fill-rule=\"evenodd\" fill-opacity=\"1\" stroke=\"#000000\" stroke-opacity=\"1\" stroke-width=\"3.2\"/>\n<circle clip-path=\"url(#clip272)\" cx=\"2133.27\" cy=\"1433.78\" r=\"14.4\" fill=\"#009af9\" fill-rule=\"evenodd\" fill-opacity=\"1\" stroke=\"#000000\" stroke-opacity=\"1\" stroke-width=\"3.2\"/>\n<circle clip-path=\"url(#clip272)\" cx=\"1859.32\" cy=\"892.198\" r=\"14.4\" fill=\"#009af9\" fill-rule=\"evenodd\" fill-opacity=\"1\" stroke=\"#000000\" stroke-opacity=\"1\" stroke-width=\"3.2\"/>\n<circle clip-path=\"url(#clip272)\" cx=\"1959.06\" cy=\"982.87\" r=\"14.4\" fill=\"#009af9\" fill-rule=\"evenodd\" fill-opacity=\"1\" stroke=\"#000000\" stroke-opacity=\"1\" stroke-width=\"3.2\"/>\n<circle clip-path=\"url(#clip272)\" cx=\"1770.41\" cy=\"961.248\" r=\"14.4\" fill=\"#009af9\" fill-rule=\"evenodd\" fill-opacity=\"1\" stroke=\"#000000\" stroke-opacity=\"1\" stroke-width=\"3.2\"/>\n<circle clip-path=\"url(#clip272)\" cx=\"599.667\" cy=\"312.503\" r=\"14.4\" fill=\"#009af9\" fill-rule=\"evenodd\" fill-opacity=\"1\" stroke=\"#000000\" stroke-opacity=\"1\" stroke-width=\"3.2\"/>\n<circle clip-path=\"url(#clip272)\" cx=\"1981.39\" cy=\"1291.53\" r=\"14.4\" fill=\"#009af9\" fill-rule=\"evenodd\" fill-opacity=\"1\" stroke=\"#000000\" stroke-opacity=\"1\" stroke-width=\"3.2\"/>\n<circle clip-path=\"url(#clip272)\" cx=\"2023.49\" cy=\"1291.53\" r=\"14.4\" fill=\"#009af9\" fill-rule=\"evenodd\" fill-opacity=\"1\" stroke=\"#000000\" stroke-opacity=\"1\" stroke-width=\"3.2\"/>\n<circle clip-path=\"url(#clip272)\" cx=\"220.474\" cy=\"87.6286\" r=\"14.4\" fill=\"#009af9\" fill-rule=\"evenodd\" fill-opacity=\"1\" stroke=\"#000000\" stroke-opacity=\"1\" stroke-width=\"3.2\"/>\n<circle clip-path=\"url(#clip272)\" cx=\"1100.93\" cy=\"537.091\" r=\"14.4\" fill=\"#009af9\" fill-rule=\"evenodd\" fill-opacity=\"1\" stroke=\"#000000\" stroke-opacity=\"1\" stroke-width=\"3.2\"/>\n<circle clip-path=\"url(#clip272)\" cx=\"1422.49\" cy=\"704.159\" r=\"14.4\" fill=\"#009af9\" fill-rule=\"evenodd\" fill-opacity=\"1\" stroke=\"#000000\" stroke-opacity=\"1\" stroke-width=\"3.2\"/>\n<circle clip-path=\"url(#clip272)\" cx=\"1623.65\" cy=\"852.354\" r=\"14.4\" fill=\"#009af9\" fill-rule=\"evenodd\" fill-opacity=\"1\" stroke=\"#000000\" stroke-opacity=\"1\" stroke-width=\"3.2\"/>\n<circle clip-path=\"url(#clip272)\" cx=\"1831.26\" cy=\"1034.44\" r=\"14.4\" fill=\"#009af9\" fill-rule=\"evenodd\" fill-opacity=\"1\" stroke=\"#000000\" stroke-opacity=\"1\" stroke-width=\"3.2\"/>\n<circle clip-path=\"url(#clip272)\" cx=\"2290.65\" cy=\"1433.78\" r=\"14.4\" fill=\"#009af9\" fill-rule=\"evenodd\" fill-opacity=\"1\" stroke=\"#000000\" stroke-opacity=\"1\" stroke-width=\"3.2\"/>\n<circle clip-path=\"url(#clip272)\" cx=\"2099.07\" cy=\"1066.08\" r=\"14.4\" fill=\"#009af9\" fill-rule=\"evenodd\" fill-opacity=\"1\" stroke=\"#000000\" stroke-opacity=\"1\" stroke-width=\"3.2\"/>\n<circle clip-path=\"url(#clip272)\" cx=\"1886.01\" cy=\"1208.33\" r=\"14.4\" fill=\"#009af9\" fill-rule=\"evenodd\" fill-opacity=\"1\" stroke=\"#000000\" stroke-opacity=\"1\" stroke-width=\"3.2\"/>\n<path clip-path=\"url(#clip270)\" d=\"\nM2007.74 198.488 L2279.61 198.488 L2279.61 94.8081 L2007.74 94.8081  Z\n  \" fill=\"#ffffff\" fill-rule=\"evenodd\" fill-opacity=\"1\"/>\n<polyline clip-path=\"url(#clip270)\" style=\"stroke:#000000; stroke-linecap:round; stroke-linejoin:round; stroke-width:4; stroke-opacity:1; fill:none\" points=\"\n  2007.74,198.488 2279.61,198.488 2279.61,94.8081 2007.74,94.8081 2007.74,198.488 \n  \"/>\n<circle clip-path=\"url(#clip270)\" cx=\"2105.27\" cy=\"146.648\" r=\"23.04\" fill=\"#009af9\" fill-rule=\"evenodd\" fill-opacity=\"1\" stroke=\"#000000\" stroke-opacity=\"1\" stroke-width=\"5.12\"/>\n<path clip-path=\"url(#clip270)\" d=\"M2216.64 166.336 Q2214.83 170.965 2213.12 172.377 Q2211.41 173.789 2208.54 173.789 L2205.14 173.789 L2205.14 170.224 L2207.64 170.224 Q2209.39 170.224 2210.37 169.391 Q2211.34 168.558 2212.52 165.456 L2213.28 163.511 L2202.8 138.002 L2207.31 138.002 L2215.41 158.28 L2223.51 138.002 L2228.03 138.002 L2216.64 166.336 Z\" fill=\"#000000\" fill-rule=\"evenodd\" fill-opacity=\"1\" /><path clip-path=\"url(#clip270)\" d=\"M2235.32 159.993 L2242.96 159.993 L2242.96 133.627 L2234.65 135.294 L2234.65 131.035 L2242.91 129.368 L2247.59 129.368 L2247.59 159.993 L2255.23 159.993 L2255.23 163.928 L2235.32 163.928 L2235.32 159.993 Z\" fill=\"#000000\" fill-rule=\"evenodd\" fill-opacity=\"1\" /></svg>\n",
      "text/html": [
       "<?xml version=\"1.0\" encoding=\"utf-8\"?>\n",
       "<svg xmlns=\"http://www.w3.org/2000/svg\" xmlns:xlink=\"http://www.w3.org/1999/xlink\" width=\"600\" height=\"400\" viewBox=\"0 0 2400 1600\">\n",
       "<defs>\n",
       "  <clipPath id=\"clip320\">\n",
       "    <rect x=\"0\" y=\"0\" width=\"2400\" height=\"1600\"/>\n",
       "  </clipPath>\n",
       "</defs>\n",
       "<path clip-path=\"url(#clip320)\" d=\"\n",
       "M0 1600 L2400 1600 L2400 0 L0 0  Z\n",
       "  \" fill=\"#ffffff\" fill-rule=\"evenodd\" fill-opacity=\"1\"/>\n",
       "<defs>\n",
       "  <clipPath id=\"clip321\">\n",
       "    <rect x=\"480\" y=\"0\" width=\"1681\" height=\"1600\"/>\n",
       "  </clipPath>\n",
       "</defs>\n",
       "<path clip-path=\"url(#clip320)\" d=\"\n",
       "M158.369 1474.16 L2352.76 1474.16 L2352.76 47.2441 L158.369 47.2441  Z\n",
       "  \" fill=\"#ffffff\" fill-rule=\"evenodd\" fill-opacity=\"1\"/>\n",
       "<defs>\n",
       "  <clipPath id=\"clip322\">\n",
       "    <rect x=\"158\" y=\"47\" width=\"2195\" height=\"1428\"/>\n",
       "  </clipPath>\n",
       "</defs>\n",
       "<polyline clip-path=\"url(#clip322)\" style=\"stroke:#000000; stroke-linecap:round; stroke-linejoin:round; stroke-width:2; stroke-opacity:0.1; fill:none\" points=\"\n",
       "  471.107,1474.16 471.107,47.2441 \n",
       "  \"/>\n",
       "<polyline clip-path=\"url(#clip322)\" style=\"stroke:#000000; stroke-linecap:round; stroke-linejoin:round; stroke-width:2; stroke-opacity:0.1; fill:none\" points=\"\n",
       "  1100.93,1474.16 1100.93,47.2441 \n",
       "  \"/>\n",
       "<polyline clip-path=\"url(#clip322)\" style=\"stroke:#000000; stroke-linecap:round; stroke-linejoin:round; stroke-width:2; stroke-opacity:0.1; fill:none\" points=\"\n",
       "  1730.76,1474.16 1730.76,47.2441 \n",
       "  \"/>\n",
       "<polyline clip-path=\"url(#clip320)\" style=\"stroke:#000000; stroke-linecap:round; stroke-linejoin:round; stroke-width:4; stroke-opacity:1; fill:none\" points=\"\n",
       "  158.369,1474.16 2352.76,1474.16 \n",
       "  \"/>\n",
       "<polyline clip-path=\"url(#clip320)\" style=\"stroke:#000000; stroke-linecap:round; stroke-linejoin:round; stroke-width:4; stroke-opacity:1; fill:none\" points=\"\n",
       "  471.107,1474.16 471.107,1455.27 \n",
       "  \"/>\n",
       "<polyline clip-path=\"url(#clip320)\" style=\"stroke:#000000; stroke-linecap:round; stroke-linejoin:round; stroke-width:4; stroke-opacity:1; fill:none\" points=\"\n",
       "  1100.93,1474.16 1100.93,1455.27 \n",
       "  \"/>\n",
       "<polyline clip-path=\"url(#clip320)\" style=\"stroke:#000000; stroke-linecap:round; stroke-linejoin:round; stroke-width:4; stroke-opacity:1; fill:none\" points=\"\n",
       "  1730.76,1474.16 1730.76,1455.27 \n",
       "  \"/>\n",
       "<path clip-path=\"url(#clip320)\" d=\"M418.119 1548.29 L425.758 1548.29 L425.758 1521.92 L417.448 1523.59 L417.448 1519.33 L425.712 1517.66 L430.388 1517.66 L430.388 1548.29 L438.026 1548.29 L438.026 1552.22 L418.119 1552.22 L418.119 1548.29 Z\" fill=\"#000000\" fill-rule=\"evenodd\" fill-opacity=\"1\" /><path clip-path=\"url(#clip320)\" d=\"M457.471 1520.74 Q453.86 1520.74 452.031 1524.31 Q450.225 1527.85 450.225 1534.98 Q450.225 1542.09 452.031 1545.65 Q453.86 1549.19 457.471 1549.19 Q461.105 1549.19 462.91 1545.65 Q464.739 1542.09 464.739 1534.98 Q464.739 1527.85 462.91 1524.31 Q461.105 1520.74 457.471 1520.74 M457.471 1517.04 Q463.281 1517.04 466.336 1521.65 Q469.415 1526.23 469.415 1534.98 Q469.415 1543.71 466.336 1548.31 Q463.281 1552.9 457.471 1552.9 Q451.661 1552.9 448.582 1548.31 Q445.526 1543.71 445.526 1534.98 Q445.526 1526.23 448.582 1521.65 Q451.661 1517.04 457.471 1517.04 Z\" fill=\"#000000\" fill-rule=\"evenodd\" fill-opacity=\"1\" /><path clip-path=\"url(#clip320)\" d=\"M479.12 1499.24 Q476.186 1499.24 474.7 1502.13 Q473.233 1505.01 473.233 1510.8 Q473.233 1516.58 474.7 1519.47 Q476.186 1522.35 479.12 1522.35 Q482.073 1522.35 483.54 1519.47 Q485.026 1516.58 485.026 1510.8 Q485.026 1505.01 483.54 1502.13 Q482.073 1499.24 479.12 1499.24 M479.12 1496.23 Q483.841 1496.23 486.323 1499.97 Q488.825 1503.69 488.825 1510.8 Q488.825 1517.89 486.323 1521.64 Q483.841 1525.36 479.12 1525.36 Q474.399 1525.36 471.898 1521.64 Q469.415 1517.89 469.415 1510.8 Q469.415 1503.69 471.898 1499.97 Q474.399 1496.23 479.12 1496.23 Z\" fill=\"#000000\" fill-rule=\"evenodd\" fill-opacity=\"1\" /><path clip-path=\"url(#clip320)\" d=\"M495.501 1520.04 L499.47 1520.04 L499.47 1524.81 L495.501 1524.81 L495.501 1520.04 Z\" fill=\"#000000\" fill-rule=\"evenodd\" fill-opacity=\"1\" /><path clip-path=\"url(#clip320)\" d=\"M507.783 1496.73 L522.697 1496.73 L522.697 1499.93 L511.262 1499.93 L511.262 1506.82 Q512.09 1506.53 512.917 1506.4 Q513.745 1506.25 514.573 1506.25 Q519.274 1506.25 522.02 1508.83 Q524.766 1511.4 524.766 1515.81 Q524.766 1520.34 521.945 1522.86 Q519.124 1525.36 513.989 1525.36 Q512.222 1525.36 510.378 1525.06 Q508.554 1524.76 506.598 1524.16 L506.598 1520.34 Q508.291 1521.26 510.096 1521.71 Q511.902 1522.16 513.914 1522.16 Q517.168 1522.16 519.068 1520.45 Q520.967 1518.74 520.967 1515.81 Q520.967 1512.87 519.068 1511.16 Q517.168 1509.45 513.914 1509.45 Q512.391 1509.45 510.867 1509.79 Q509.363 1510.13 507.783 1510.84 L507.783 1496.73 Z\" fill=\"#000000\" fill-rule=\"evenodd\" fill-opacity=\"1\" /><path clip-path=\"url(#clip320)\" d=\"M1048.39 1548.29 L1056.03 1548.29 L1056.03 1521.92 L1047.72 1523.59 L1047.72 1519.33 L1055.98 1517.66 L1060.65 1517.66 L1060.65 1548.29 L1068.29 1548.29 L1068.29 1552.22 L1048.39 1552.22 L1048.39 1548.29 Z\" fill=\"#000000\" fill-rule=\"evenodd\" fill-opacity=\"1\" /><path clip-path=\"url(#clip320)\" d=\"M1087.74 1520.74 Q1084.13 1520.74 1082.3 1524.31 Q1080.49 1527.85 1080.49 1534.98 Q1080.49 1542.09 1082.3 1545.65 Q1084.13 1549.19 1087.74 1549.19 Q1091.37 1549.19 1093.18 1545.65 Q1095.01 1542.09 1095.01 1534.98 Q1095.01 1527.85 1093.18 1524.31 Q1091.37 1520.74 1087.74 1520.74 M1087.74 1517.04 Q1093.55 1517.04 1096.6 1521.65 Q1099.68 1526.23 1099.68 1534.98 Q1099.68 1543.71 1096.6 1548.31 Q1093.55 1552.9 1087.74 1552.9 Q1081.93 1552.9 1078.85 1548.31 Q1075.79 1543.71 1075.79 1534.98 Q1075.79 1526.23 1078.85 1521.65 Q1081.93 1517.04 1087.74 1517.04 Z\" fill=\"#000000\" fill-rule=\"evenodd\" fill-opacity=\"1\" /><path clip-path=\"url(#clip320)\" d=\"M1100.23 1521.62 L1106.43 1521.62 L1106.43 1500.19 L1099.68 1501.55 L1099.68 1498.09 L1106.4 1496.73 L1110.2 1496.73 L1110.2 1521.62 L1116.4 1521.62 L1116.4 1524.81 L1100.23 1524.81 L1100.23 1521.62 Z\" fill=\"#000000\" fill-rule=\"evenodd\" fill-opacity=\"1\" /><path clip-path=\"url(#clip320)\" d=\"M1124.08 1520.04 L1128.04 1520.04 L1128.04 1524.81 L1124.08 1524.81 L1124.08 1520.04 Z\" fill=\"#000000\" fill-rule=\"evenodd\" fill-opacity=\"1\" /><path clip-path=\"url(#clip320)\" d=\"M1144.44 1499.24 Q1141.51 1499.24 1140.03 1502.13 Q1138.56 1505.01 1138.56 1510.8 Q1138.56 1516.58 1140.03 1519.47 Q1141.51 1522.35 1144.44 1522.35 Q1147.4 1522.35 1148.86 1519.47 Q1150.35 1516.58 1150.35 1510.8 Q1150.35 1505.01 1148.86 1502.13 Q1147.4 1499.24 1144.44 1499.24 M1144.44 1496.23 Q1149.17 1496.23 1151.65 1499.97 Q1154.15 1503.69 1154.15 1510.8 Q1154.15 1517.89 1151.65 1521.64 Q1149.17 1525.36 1144.44 1525.36 Q1139.72 1525.36 1137.22 1521.64 Q1134.74 1517.89 1134.74 1510.8 Q1134.74 1503.69 1137.22 1499.97 Q1139.72 1496.23 1144.44 1496.23 Z\" fill=\"#000000\" fill-rule=\"evenodd\" fill-opacity=\"1\" /><path clip-path=\"url(#clip320)\" d=\"M1678.62 1548.29 L1686.25 1548.29 L1686.25 1521.92 L1677.94 1523.59 L1677.94 1519.33 L1686.21 1517.66 L1690.88 1517.66 L1690.88 1548.29 L1698.52 1548.29 L1698.52 1552.22 L1678.62 1552.22 L1678.62 1548.29 Z\" fill=\"#000000\" fill-rule=\"evenodd\" fill-opacity=\"1\" /><path clip-path=\"url(#clip320)\" d=\"M1717.97 1520.74 Q1714.36 1520.74 1712.53 1524.31 Q1710.72 1527.85 1710.72 1534.98 Q1710.72 1542.09 1712.53 1545.65 Q1714.36 1549.19 1717.97 1549.19 Q1721.6 1549.19 1723.41 1545.65 Q1725.24 1542.09 1725.24 1534.98 Q1725.24 1527.85 1723.41 1524.31 Q1721.6 1520.74 1717.97 1520.74 M1717.97 1517.04 Q1723.78 1517.04 1726.83 1521.65 Q1729.91 1526.23 1729.91 1534.98 Q1729.91 1543.71 1726.83 1548.31 Q1723.78 1552.9 1717.97 1552.9 Q1712.16 1552.9 1709.08 1548.31 Q1706.02 1543.71 1706.02 1534.98 Q1706.02 1526.23 1709.08 1521.65 Q1712.16 1517.04 1717.97 1517.04 Z\" fill=\"#000000\" fill-rule=\"evenodd\" fill-opacity=\"1\" /><path clip-path=\"url(#clip320)\" d=\"M1730.46 1521.62 L1736.66 1521.62 L1736.66 1500.19 L1729.91 1501.55 L1729.91 1498.09 L1736.63 1496.73 L1740.43 1496.73 L1740.43 1521.62 L1746.63 1521.62 L1746.63 1524.81 L1730.46 1524.81 L1730.46 1521.62 Z\" fill=\"#000000\" fill-rule=\"evenodd\" fill-opacity=\"1\" /><path clip-path=\"url(#clip320)\" d=\"M1754.31 1520.04 L1758.27 1520.04 L1758.27 1524.81 L1754.31 1524.81 L1754.31 1520.04 Z\" fill=\"#000000\" fill-rule=\"evenodd\" fill-opacity=\"1\" /><path clip-path=\"url(#clip320)\" d=\"M1766.59 1496.73 L1781.5 1496.73 L1781.5 1499.93 L1770.07 1499.93 L1770.07 1506.82 Q1770.89 1506.53 1771.72 1506.4 Q1772.55 1506.25 1773.38 1506.25 Q1778.08 1506.25 1780.82 1508.83 Q1783.57 1511.4 1783.57 1515.81 Q1783.57 1520.34 1780.75 1522.86 Q1777.93 1525.36 1772.79 1525.36 Q1771.03 1525.36 1769.18 1525.06 Q1767.36 1524.76 1765.4 1524.16 L1765.4 1520.34 Q1767.1 1521.26 1768.9 1521.71 Q1770.71 1522.16 1772.72 1522.16 Q1775.97 1522.16 1777.87 1520.45 Q1779.77 1518.74 1779.77 1515.81 Q1779.77 1512.87 1777.87 1511.16 Q1775.97 1509.45 1772.72 1509.45 Q1771.2 1509.45 1769.67 1509.79 Q1768.17 1510.13 1766.59 1510.84 L1766.59 1496.73 Z\" fill=\"#000000\" fill-rule=\"evenodd\" fill-opacity=\"1\" /><polyline clip-path=\"url(#clip322)\" style=\"stroke:#000000; stroke-linecap:round; stroke-linejoin:round; stroke-width:2; stroke-opacity:0.1; fill:none\" points=\"\n",
       "  158.369,1433.78 2352.76,1433.78 \n",
       "  \"/>\n",
       "<polyline clip-path=\"url(#clip322)\" style=\"stroke:#000000; stroke-linecap:round; stroke-linejoin:round; stroke-width:2; stroke-opacity:0.1; fill:none\" points=\"\n",
       "  158.369,961.248 2352.76,961.248 \n",
       "  \"/>\n",
       "<polyline clip-path=\"url(#clip322)\" style=\"stroke:#000000; stroke-linecap:round; stroke-linejoin:round; stroke-width:2; stroke-opacity:0.1; fill:none\" points=\"\n",
       "  158.369,488.716 2352.76,488.716 \n",
       "  \"/>\n",
       "<polyline clip-path=\"url(#clip320)\" style=\"stroke:#000000; stroke-linecap:round; stroke-linejoin:round; stroke-width:4; stroke-opacity:1; fill:none\" points=\"\n",
       "  158.369,1474.16 158.369,47.2441 \n",
       "  \"/>\n",
       "<polyline clip-path=\"url(#clip320)\" style=\"stroke:#000000; stroke-linecap:round; stroke-linejoin:round; stroke-width:4; stroke-opacity:1; fill:none\" points=\"\n",
       "  158.369,1433.78 177.267,1433.78 \n",
       "  \"/>\n",
       "<polyline clip-path=\"url(#clip320)\" style=\"stroke:#000000; stroke-linecap:round; stroke-linejoin:round; stroke-width:4; stroke-opacity:1; fill:none\" points=\"\n",
       "  158.369,961.248 177.267,961.248 \n",
       "  \"/>\n",
       "<polyline clip-path=\"url(#clip320)\" style=\"stroke:#000000; stroke-linecap:round; stroke-linejoin:round; stroke-width:4; stroke-opacity:1; fill:none\" points=\"\n",
       "  158.369,488.716 177.267,488.716 \n",
       "  \"/>\n",
       "<path clip-path=\"url(#clip320)\" d=\"M51.6634 1453.57 L59.3023 1453.57 L59.3023 1427.21 L50.9921 1428.87 L50.9921 1424.61 L59.256 1422.95 L63.9319 1422.95 L63.9319 1453.57 L71.5707 1453.57 L71.5707 1457.51 L51.6634 1457.51 L51.6634 1453.57 Z\" fill=\"#000000\" fill-rule=\"evenodd\" fill-opacity=\"1\" /><path clip-path=\"url(#clip320)\" d=\"M91.0151 1426.03 Q87.404 1426.03 85.5753 1429.59 Q83.7697 1433.13 83.7697 1440.26 Q83.7697 1447.37 85.5753 1450.93 Q87.404 1454.48 91.0151 1454.48 Q94.6493 1454.48 96.4548 1450.93 Q98.2835 1447.37 98.2835 1440.26 Q98.2835 1433.13 96.4548 1429.59 Q94.6493 1426.03 91.0151 1426.03 M91.0151 1422.32 Q96.8252 1422.32 99.8808 1426.93 Q102.959 1431.51 102.959 1440.26 Q102.959 1448.99 99.8808 1453.6 Q96.8252 1458.18 91.0151 1458.18 Q85.2049 1458.18 82.1262 1453.6 Q79.0707 1448.99 79.0707 1440.26 Q79.0707 1431.51 82.1262 1426.93 Q85.2049 1422.32 91.0151 1422.32 Z\" fill=\"#000000\" fill-rule=\"evenodd\" fill-opacity=\"1\" /><path clip-path=\"url(#clip320)\" d=\"M112.664 1404.52 Q109.73 1404.52 108.244 1407.42 Q106.777 1410.29 106.777 1416.09 Q106.777 1421.86 108.244 1424.76 Q109.73 1427.63 112.664 1427.63 Q115.617 1427.63 117.084 1424.76 Q118.57 1421.86 118.57 1416.09 Q118.57 1410.29 117.084 1407.42 Q115.617 1404.52 112.664 1404.52 M112.664 1401.51 Q117.385 1401.51 119.868 1405.25 Q122.369 1408.98 122.369 1416.09 Q122.369 1423.18 119.868 1426.92 Q117.385 1430.64 112.664 1430.64 Q107.943 1430.64 105.442 1426.92 Q102.959 1423.18 102.959 1416.09 Q102.959 1408.98 105.442 1405.25 Q107.943 1401.51 112.664 1401.51 Z\" fill=\"#000000\" fill-rule=\"evenodd\" fill-opacity=\"1\" /><path clip-path=\"url(#clip320)\" d=\"M54.3529 981.041 L61.9918 981.041 L61.9918 954.675 L53.6816 956.342 L53.6816 952.082 L61.9455 950.416 L66.6214 950.416 L66.6214 981.041 L74.2602 981.041 L74.2602 984.976 L54.3529 984.976 L54.3529 981.041 Z\" fill=\"#000000\" fill-rule=\"evenodd\" fill-opacity=\"1\" /><path clip-path=\"url(#clip320)\" d=\"M93.7046 953.494 Q90.0935 953.494 88.2648 957.059 Q86.4592 960.601 86.4592 967.73 Q86.4592 974.837 88.2648 978.402 Q90.0935 981.943 93.7046 981.943 Q97.3388 981.943 99.1444 978.402 Q100.973 974.837 100.973 967.73 Q100.973 960.601 99.1444 957.059 Q97.3388 953.494 93.7046 953.494 M93.7046 949.791 Q99.5147 949.791 102.57 954.397 Q105.649 958.98 105.649 967.73 Q105.649 976.457 102.57 981.064 Q99.5147 985.647 93.7046 985.647 Q87.8944 985.647 84.8157 981.064 Q81.7602 976.457 81.7602 967.73 Q81.7602 958.98 84.8157 954.397 Q87.8944 949.791 93.7046 949.791 Z\" fill=\"#000000\" fill-rule=\"evenodd\" fill-opacity=\"1\" /><path clip-path=\"url(#clip320)\" d=\"M106.194 954.368 L112.401 954.368 L112.401 932.946 L105.649 934.3 L105.649 930.839 L112.363 929.485 L116.162 929.485 L116.162 954.368 L122.369 954.368 L122.369 957.565 L106.194 957.565 L106.194 954.368 Z\" fill=\"#000000\" fill-rule=\"evenodd\" fill-opacity=\"1\" /><path clip-path=\"url(#clip320)\" d=\"M53.2433 508.508 L60.8821 508.508 L60.8821 482.143 L52.572 483.81 L52.572 479.55 L60.8358 477.884 L65.5117 477.884 L65.5117 508.508 L73.1506 508.508 L73.1506 512.444 L53.2433 512.444 L53.2433 508.508 Z\" fill=\"#000000\" fill-rule=\"evenodd\" fill-opacity=\"1\" /><path clip-path=\"url(#clip320)\" d=\"M92.5949 480.962 Q88.9838 480.962 87.1551 484.527 Q85.3496 488.069 85.3496 495.198 Q85.3496 502.305 87.1551 505.87 Q88.9838 509.411 92.5949 509.411 Q96.2292 509.411 98.0347 505.87 Q99.8634 502.305 99.8634 495.198 Q99.8634 488.069 98.0347 484.527 Q96.2292 480.962 92.5949 480.962 M92.5949 477.259 Q98.4051 477.259 101.461 481.865 Q104.539 486.448 104.539 495.198 Q104.539 503.925 101.461 508.532 Q98.4051 513.115 92.5949 513.115 Q86.7848 513.115 83.7061 508.532 Q80.6505 503.925 80.6505 495.198 Q80.6505 486.448 83.7061 481.865 Q86.7848 477.259 92.5949 477.259 Z\" fill=\"#000000\" fill-rule=\"evenodd\" fill-opacity=\"1\" /><path clip-path=\"url(#clip320)\" d=\"M109.11 481.836 L122.369 481.836 L122.369 485.033 L104.539 485.033 L104.539 481.836 Q106.702 479.598 110.426 475.836 Q114.169 472.056 115.128 470.965 Q116.952 468.915 117.667 467.504 Q118.401 466.075 118.401 464.702 Q118.401 462.464 116.821 461.053 Q115.26 459.643 112.739 459.643 Q110.953 459.643 108.959 460.263 Q106.984 460.884 104.727 462.144 L104.727 458.307 Q107.022 457.386 109.016 456.916 Q111.009 456.445 112.664 456.445 Q117.028 456.445 119.623 458.627 Q122.219 460.809 122.219 464.458 Q122.219 466.188 121.56 467.749 Q120.921 469.291 119.209 471.398 Q118.739 471.943 116.219 474.557 Q113.699 477.153 109.11 481.836 Z\" fill=\"#000000\" fill-rule=\"evenodd\" fill-opacity=\"1\" /><circle clip-path=\"url(#clip322)\" cx=\"2043.39\" cy=\"1291.53\" r=\"14.4\" fill=\"#009af9\" fill-rule=\"evenodd\" fill-opacity=\"1\" stroke=\"#000000\" stroke-opacity=\"1\" stroke-width=\"3.2\"/>\n",
       "<circle clip-path=\"url(#clip322)\" cx=\"2033.53\" cy=\"1433.78\" r=\"14.4\" fill=\"#009af9\" fill-rule=\"evenodd\" fill-opacity=\"1\" stroke=\"#000000\" stroke-opacity=\"1\" stroke-width=\"3.2\"/>\n",
       "<circle clip-path=\"url(#clip322)\" cx=\"1480.13\" cy=\"757.415\" r=\"14.4\" fill=\"#009af9\" fill-rule=\"evenodd\" fill-opacity=\"1\" stroke=\"#000000\" stroke-opacity=\"1\" stroke-width=\"3.2\"/>\n",
       "<circle clip-path=\"url(#clip322)\" cx=\"1358.05\" cy=\"692.755\" r=\"14.4\" fill=\"#009af9\" fill-rule=\"evenodd\" fill-opacity=\"1\" stroke=\"#000000\" stroke-opacity=\"1\" stroke-width=\"3.2\"/>\n",
       "<circle clip-path=\"url(#clip322)\" cx=\"2062.58\" cy=\"1208.33\" r=\"14.4\" fill=\"#009af9\" fill-rule=\"evenodd\" fill-opacity=\"1\" stroke=\"#000000\" stroke-opacity=\"1\" stroke-width=\"3.2\"/>\n",
       "<circle clip-path=\"url(#clip322)\" cx=\"2002.85\" cy=\"1291.53\" r=\"14.4\" fill=\"#009af9\" fill-rule=\"evenodd\" fill-opacity=\"1\" stroke=\"#000000\" stroke-opacity=\"1\" stroke-width=\"3.2\"/>\n",
       "<circle clip-path=\"url(#clip322)\" cx=\"2081.13\" cy=\"1103.49\" r=\"14.4\" fill=\"#009af9\" fill-rule=\"evenodd\" fill-opacity=\"1\" stroke=\"#000000\" stroke-opacity=\"1\" stroke-width=\"3.2\"/>\n",
       "<circle clip-path=\"url(#clip322)\" cx=\"1200.67\" cy=\"622.914\" r=\"14.4\" fill=\"#009af9\" fill-rule=\"evenodd\" fill-opacity=\"1\" stroke=\"#000000\" stroke-opacity=\"1\" stroke-width=\"3.2\"/>\n",
       "<circle clip-path=\"url(#clip322)\" cx=\"1701.94\" cy=\"961.248\" r=\"14.4\" fill=\"#009af9\" fill-rule=\"evenodd\" fill-opacity=\"1\" stroke=\"#000000\" stroke-opacity=\"1\" stroke-width=\"3.2\"/>\n",
       "<circle clip-path=\"url(#clip322)\" cx=\"1664.2\" cy=\"878.039\" r=\"14.4\" fill=\"#009af9\" fill-rule=\"evenodd\" fill-opacity=\"1\" stroke=\"#000000\" stroke-opacity=\"1\" stroke-width=\"3.2\"/>\n",
       "<circle clip-path=\"url(#clip322)\" cx=\"978.86\" cy=\"522.068\" r=\"14.4\" fill=\"#009af9\" fill-rule=\"evenodd\" fill-opacity=\"1\" stroke=\"#000000\" stroke-opacity=\"1\" stroke-width=\"3.2\"/>\n",
       "<circle clip-path=\"url(#clip322)\" cx=\"1579.87\" cy=\"790.32\" r=\"14.4\" fill=\"#009af9\" fill-rule=\"evenodd\" fill-opacity=\"1\" stroke=\"#000000\" stroke-opacity=\"1\" stroke-width=\"3.2\"/>\n",
       "<circle clip-path=\"url(#clip322)\" cx=\"1737.24\" cy=\"1103.49\" r=\"14.4\" fill=\"#009af9\" fill-rule=\"evenodd\" fill-opacity=\"1\" stroke=\"#000000\" stroke-opacity=\"1\" stroke-width=\"3.2\"/>\n",
       "<circle clip-path=\"url(#clip322)\" cx=\"1532.27\" cy=\"773.209\" r=\"14.4\" fill=\"#009af9\" fill-rule=\"evenodd\" fill-opacity=\"1\" stroke=\"#000000\" stroke-opacity=\"1\" stroke-width=\"3.2\"/>\n",
       "<circle clip-path=\"url(#clip322)\" cx=\"821.48\" cy=\"419.666\" r=\"14.4\" fill=\"#009af9\" fill-rule=\"evenodd\" fill-opacity=\"1\" stroke=\"#000000\" stroke-opacity=\"1\" stroke-width=\"3.2\"/>\n",
       "<circle clip-path=\"url(#clip322)\" cx=\"1153.07\" cy=\"1433.78\" r=\"14.4\" fill=\"#009af9\" fill-rule=\"evenodd\" fill-opacity=\"1\" stroke=\"#000000\" stroke-opacity=\"1\" stroke-width=\"3.2\"/>\n",
       "<circle clip-path=\"url(#clip322)\" cx=\"1801.68\" cy=\"941.689\" r=\"14.4\" fill=\"#009af9\" fill-rule=\"evenodd\" fill-opacity=\"1\" stroke=\"#000000\" stroke-opacity=\"1\" stroke-width=\"3.2\"/>\n",
       "<circle clip-path=\"url(#clip322)\" cx=\"1911.46\" cy=\"1034.44\" r=\"14.4\" fill=\"#009af9\" fill-rule=\"evenodd\" fill-opacity=\"1\" stroke=\"#000000\" stroke-opacity=\"1\" stroke-width=\"3.2\"/>\n",
       "<circle clip-path=\"url(#clip322)\" cx=\"2149.6\" cy=\"1208.33\" r=\"14.4\" fill=\"#009af9\" fill-rule=\"evenodd\" fill-opacity=\"1\" stroke=\"#000000\" stroke-opacity=\"1\" stroke-width=\"3.2\"/>\n",
       "<circle clip-path=\"url(#clip322)\" cx=\"1285\" cy=\"648.074\" r=\"14.4\" fill=\"#009af9\" fill-rule=\"evenodd\" fill-opacity=\"1\" stroke=\"#000000\" stroke-opacity=\"1\" stroke-width=\"3.2\"/>\n",
       "<circle clip-path=\"url(#clip322)\" cx=\"2195.86\" cy=\"1433.78\" r=\"14.4\" fill=\"#009af9\" fill-rule=\"evenodd\" fill-opacity=\"1\" stroke=\"#000000\" stroke-opacity=\"1\" stroke-width=\"3.2\"/>\n",
       "<circle clip-path=\"url(#clip322)\" cx=\"2238.51\" cy=\"1433.78\" r=\"14.4\" fill=\"#009af9\" fill-rule=\"evenodd\" fill-opacity=\"1\" stroke=\"#000000\" stroke-opacity=\"1\" stroke-width=\"3.2\"/>\n",
       "<circle clip-path=\"url(#clip322)\" cx=\"2265.2\" cy=\"1433.78\" r=\"14.4\" fill=\"#009af9\" fill-rule=\"evenodd\" fill-opacity=\"1\" stroke=\"#000000\" stroke-opacity=\"1\" stroke-width=\"3.2\"/>\n",
       "<circle clip-path=\"url(#clip322)\" cx=\"2116.44\" cy=\"1433.78\" r=\"14.4\" fill=\"#009af9\" fill-rule=\"evenodd\" fill-opacity=\"1\" stroke=\"#000000\" stroke-opacity=\"1\" stroke-width=\"3.2\"/>\n",
       "<circle clip-path=\"url(#clip322)\" cx=\"1935.78\" cy=\"941.689\" r=\"14.4\" fill=\"#009af9\" fill-rule=\"evenodd\" fill-opacity=\"1\" stroke=\"#000000\" stroke-opacity=\"1\" stroke-width=\"3.2\"/>\n",
       "<circle clip-path=\"url(#clip322)\" cx=\"2133.27\" cy=\"1433.78\" r=\"14.4\" fill=\"#009af9\" fill-rule=\"evenodd\" fill-opacity=\"1\" stroke=\"#000000\" stroke-opacity=\"1\" stroke-width=\"3.2\"/>\n",
       "<circle clip-path=\"url(#clip322)\" cx=\"1859.32\" cy=\"892.198\" r=\"14.4\" fill=\"#009af9\" fill-rule=\"evenodd\" fill-opacity=\"1\" stroke=\"#000000\" stroke-opacity=\"1\" stroke-width=\"3.2\"/>\n",
       "<circle clip-path=\"url(#clip322)\" cx=\"1959.06\" cy=\"982.87\" r=\"14.4\" fill=\"#009af9\" fill-rule=\"evenodd\" fill-opacity=\"1\" stroke=\"#000000\" stroke-opacity=\"1\" stroke-width=\"3.2\"/>\n",
       "<circle clip-path=\"url(#clip322)\" cx=\"1770.41\" cy=\"961.248\" r=\"14.4\" fill=\"#009af9\" fill-rule=\"evenodd\" fill-opacity=\"1\" stroke=\"#000000\" stroke-opacity=\"1\" stroke-width=\"3.2\"/>\n",
       "<circle clip-path=\"url(#clip322)\" cx=\"599.667\" cy=\"312.503\" r=\"14.4\" fill=\"#009af9\" fill-rule=\"evenodd\" fill-opacity=\"1\" stroke=\"#000000\" stroke-opacity=\"1\" stroke-width=\"3.2\"/>\n",
       "<circle clip-path=\"url(#clip322)\" cx=\"1981.39\" cy=\"1291.53\" r=\"14.4\" fill=\"#009af9\" fill-rule=\"evenodd\" fill-opacity=\"1\" stroke=\"#000000\" stroke-opacity=\"1\" stroke-width=\"3.2\"/>\n",
       "<circle clip-path=\"url(#clip322)\" cx=\"2023.49\" cy=\"1291.53\" r=\"14.4\" fill=\"#009af9\" fill-rule=\"evenodd\" fill-opacity=\"1\" stroke=\"#000000\" stroke-opacity=\"1\" stroke-width=\"3.2\"/>\n",
       "<circle clip-path=\"url(#clip322)\" cx=\"220.474\" cy=\"87.6286\" r=\"14.4\" fill=\"#009af9\" fill-rule=\"evenodd\" fill-opacity=\"1\" stroke=\"#000000\" stroke-opacity=\"1\" stroke-width=\"3.2\"/>\n",
       "<circle clip-path=\"url(#clip322)\" cx=\"1100.93\" cy=\"537.091\" r=\"14.4\" fill=\"#009af9\" fill-rule=\"evenodd\" fill-opacity=\"1\" stroke=\"#000000\" stroke-opacity=\"1\" stroke-width=\"3.2\"/>\n",
       "<circle clip-path=\"url(#clip322)\" cx=\"1422.49\" cy=\"704.159\" r=\"14.4\" fill=\"#009af9\" fill-rule=\"evenodd\" fill-opacity=\"1\" stroke=\"#000000\" stroke-opacity=\"1\" stroke-width=\"3.2\"/>\n",
       "<circle clip-path=\"url(#clip322)\" cx=\"1623.65\" cy=\"852.354\" r=\"14.4\" fill=\"#009af9\" fill-rule=\"evenodd\" fill-opacity=\"1\" stroke=\"#000000\" stroke-opacity=\"1\" stroke-width=\"3.2\"/>\n",
       "<circle clip-path=\"url(#clip322)\" cx=\"1831.26\" cy=\"1034.44\" r=\"14.4\" fill=\"#009af9\" fill-rule=\"evenodd\" fill-opacity=\"1\" stroke=\"#000000\" stroke-opacity=\"1\" stroke-width=\"3.2\"/>\n",
       "<circle clip-path=\"url(#clip322)\" cx=\"2290.65\" cy=\"1433.78\" r=\"14.4\" fill=\"#009af9\" fill-rule=\"evenodd\" fill-opacity=\"1\" stroke=\"#000000\" stroke-opacity=\"1\" stroke-width=\"3.2\"/>\n",
       "<circle clip-path=\"url(#clip322)\" cx=\"2099.07\" cy=\"1066.08\" r=\"14.4\" fill=\"#009af9\" fill-rule=\"evenodd\" fill-opacity=\"1\" stroke=\"#000000\" stroke-opacity=\"1\" stroke-width=\"3.2\"/>\n",
       "<circle clip-path=\"url(#clip322)\" cx=\"1886.01\" cy=\"1208.33\" r=\"14.4\" fill=\"#009af9\" fill-rule=\"evenodd\" fill-opacity=\"1\" stroke=\"#000000\" stroke-opacity=\"1\" stroke-width=\"3.2\"/>\n",
       "<path clip-path=\"url(#clip320)\" d=\"\n",
       "M2007.74 198.488 L2279.61 198.488 L2279.61 94.8081 L2007.74 94.8081  Z\n",
       "  \" fill=\"#ffffff\" fill-rule=\"evenodd\" fill-opacity=\"1\"/>\n",
       "<polyline clip-path=\"url(#clip320)\" style=\"stroke:#000000; stroke-linecap:round; stroke-linejoin:round; stroke-width:4; stroke-opacity:1; fill:none\" points=\"\n",
       "  2007.74,198.488 2279.61,198.488 2279.61,94.8081 2007.74,94.8081 2007.74,198.488 \n",
       "  \"/>\n",
       "<circle clip-path=\"url(#clip320)\" cx=\"2105.27\" cy=\"146.648\" r=\"23.04\" fill=\"#009af9\" fill-rule=\"evenodd\" fill-opacity=\"1\" stroke=\"#000000\" stroke-opacity=\"1\" stroke-width=\"5.12\"/>\n",
       "<path clip-path=\"url(#clip320)\" d=\"M2216.64 166.336 Q2214.83 170.965 2213.12 172.377 Q2211.41 173.789 2208.54 173.789 L2205.14 173.789 L2205.14 170.224 L2207.64 170.224 Q2209.39 170.224 2210.37 169.391 Q2211.34 168.558 2212.52 165.456 L2213.28 163.511 L2202.8 138.002 L2207.31 138.002 L2215.41 158.28 L2223.51 138.002 L2228.03 138.002 L2216.64 166.336 Z\" fill=\"#000000\" fill-rule=\"evenodd\" fill-opacity=\"1\" /><path clip-path=\"url(#clip320)\" d=\"M2235.32 159.993 L2242.96 159.993 L2242.96 133.627 L2234.65 135.294 L2234.65 131.035 L2242.91 129.368 L2247.59 129.368 L2247.59 159.993 L2255.23 159.993 L2255.23 163.928 L2235.32 163.928 L2235.32 159.993 Z\" fill=\"#000000\" fill-rule=\"evenodd\" fill-opacity=\"1\" /></svg>\n"
      ]
     },
     "metadata": {},
     "output_type": "display_data"
    }
   ],
   "source": [
    "d = counter(degrees)\n",
    "Plots.scatter(collect(keys(d)),collect(values(d)),xscale=:log10, yscale=:log10)"
   ]
  },
  {
   "cell_type": "code",
   "execution_count": 114,
   "metadata": {},
   "outputs": [
    {
     "data": {
      "text/plain": [
       "40-element Vector{Pair{Any, Int64}}:\n",
       "  2 => 706\n",
       "  4 => 236\n",
       "  6 => 140\n",
       "  8 => 85\n",
       " 10 => 79\n",
       " 11 => 1\n",
       " 12 => 52\n",
       " 14 => 46\n",
       " 16 => 37\n",
       " 18 => 35\n",
       "    ⋮\n",
       " 60 => 5\n",
       " 62 => 6\n",
       " 64 => 1\n",
       " 66 => 1\n",
       " 68 => 3\n",
       " 74 => 1\n",
       " 80 => 1\n",
       " 84 => 1\n",
       " 88 => 1"
      ]
     },
     "metadata": {},
     "output_type": "display_data"
    }
   ],
   "source": [
    "sort(collect(d), by = x->x[1])"
   ]
  },
  {
   "cell_type": "code",
   "execution_count": null,
   "metadata": {},
   "outputs": [],
   "source": []
  },
  {
   "cell_type": "code",
   "execution_count": 76,
   "metadata": {},
   "outputs": [
    {
     "name": "stdout",
     "output_type": "stream",
     "text": [
      "158\n",
      "1\n"
     ]
    }
   ],
   "source": [
    "degrees=[]\n",
    "k=0\n",
    "for i=1:nv(MG)\n",
    "    # push!(degrees,get_prop(MG,i,:degree))\n",
    "    if get_prop(MG,i,:degree) == 9\n",
    "        println(i)\n",
    "        k+=1\n",
    "    end\n",
    "end\n",
    "println(k)"
   ]
  },
  {
   "cell_type": "code",
   "execution_count": 77,
   "metadata": {},
   "outputs": [
    {
     "data": {
      "text/plain": [
       "9-element Vector{Int64}:\n",
       "  15\n",
       " 157\n",
       " 159\n",
       " 170\n",
       " 213\n",
       " 310\n",
       " 508\n",
       " 714\n",
       " 777"
      ]
     },
     "metadata": {},
     "output_type": "display_data"
    }
   ],
   "source": [
    "neighbors(MG, 158)"
   ]
  },
  {
   "cell_type": "code",
   "execution_count": 78,
   "metadata": {},
   "outputs": [
    {
     "data": {
      "text/plain": [
       "\"1670\""
      ]
     },
     "metadata": {},
     "output_type": "display_data"
    }
   ],
   "source": [
    "get_prop(MG,158,:cubeIndex)"
   ]
  },
  {
   "cell_type": "code",
   "execution_count": 79,
   "metadata": {},
   "outputs": [
    {
     "data": {
      "text/html": [
       "<div><div style = \"float: left;\"><span>5×6 DataFrame</span></div><div style = \"clear: both;\"></div></div><div class = \"data-frame\" style = \"overflow-x: scroll;\"><table class = \"data-frame\" style = \"margin-bottom: 6px;\"><thead><tr class = \"header\"><th class = \"rowNumber\" style = \"font-weight: bold; text-align: right;\">Row</th><th style = \"text-align: left;\">Datetime</th><th style = \"text-align: left;\">Latitude</th><th style = \"text-align: left;\">Longitude</th><th style = \"text-align: left;\">Depth</th><th style = \"text-align: left;\">Magnitude</th><th style = \"text-align: left;\">cubeIndex</th></tr><tr class = \"subheader headerLastRow\"><th class = \"rowNumber\" style = \"font-weight: bold; text-align: right;\"></th><th title = \"DateTime\" style = \"text-align: left;\">DateTime</th><th title = \"Float64\" style = \"text-align: left;\">Float64</th><th title = \"Float64\" style = \"text-align: left;\">Float64</th><th title = \"Float64\" style = \"text-align: left;\">Float64</th><th title = \"Float64\" style = \"text-align: left;\">Float64</th><th title = \"String\" style = \"text-align: left;\">String</th></tr></thead><tbody><tr><td class = \"rowNumber\" style = \"font-weight: bold; text-align: right;\">1</td><td style = \"text-align: left;\">1990-11-27T11:42:24.300</td><td style = \"text-align: right;\">45.83</td><td style = \"text-align: right;\">26.82</td><td style = \"text-align: right;\">78.9</td><td style = \"text-align: right;\">3.3</td><td style = \"text-align: left;\">1670</td></tr><tr><td class = \"rowNumber\" style = \"font-weight: bold; text-align: right;\">2</td><td style = \"text-align: left;\">2003-07-23T05:37:53.200</td><td style = \"text-align: right;\">45.83</td><td style = \"text-align: right;\">26.79</td><td style = \"text-align: right;\">76.5</td><td style = \"text-align: right;\">3.2</td><td style = \"text-align: left;\">1670</td></tr><tr><td class = \"rowNumber\" style = \"font-weight: bold; text-align: right;\">3</td><td style = \"text-align: left;\">2015-02-01T13:08:51.420</td><td style = \"text-align: right;\">45.8377</td><td style = \"text-align: right;\">26.8137</td><td style = \"text-align: right;\">76.8</td><td style = \"text-align: right;\">2.8</td><td style = \"text-align: left;\">1670</td></tr><tr><td class = \"rowNumber\" style = \"font-weight: bold; text-align: right;\">4</td><td style = \"text-align: left;\">2021-12-30T14:57:00.520</td><td style = \"text-align: right;\">45.836</td><td style = \"text-align: right;\">26.7793</td><td style = \"text-align: right;\">75.6</td><td style = \"text-align: right;\">3.8</td><td style = \"text-align: left;\">1670</td></tr><tr><td class = \"rowNumber\" style = \"font-weight: bold; text-align: right;\">5</td><td style = \"text-align: left;\">2023-01-29T13:01:50.490</td><td style = \"text-align: right;\">45.8417</td><td style = \"text-align: right;\">26.8085</td><td style = \"text-align: right;\">79.3</td><td style = \"text-align: right;\">2.7</td><td style = \"text-align: left;\">1670</td></tr></tbody></table></div>"
      ],
      "text/latex": [
       "\\begin{tabular}{r|cccccc}\n",
       "\t& Datetime & Latitude & Longitude & Depth & Magnitude & cubeIndex\\\\\n",
       "\t\\hline\n",
       "\t& DateTime & Float64 & Float64 & Float64 & Float64 & String\\\\\n",
       "\t\\hline\n",
       "\t1 & 1990-11-27T11:42:24.300 & 45.83 & 26.82 & 78.9 & 3.3 & 1670 \\\\\n",
       "\t2 & 2003-07-23T05:37:53.200 & 45.83 & 26.79 & 76.5 & 3.2 & 1670 \\\\\n",
       "\t3 & 2015-02-01T13:08:51.420 & 45.8377 & 26.8137 & 76.8 & 2.8 & 1670 \\\\\n",
       "\t4 & 2021-12-30T14:57:00.520 & 45.836 & 26.7793 & 75.6 & 3.8 & 1670 \\\\\n",
       "\t5 & 2023-01-29T13:01:50.490 & 45.8417 & 26.8085 & 79.3 & 2.7 & 1670 \\\\\n",
       "\\end{tabular}\n"
      ],
      "text/plain": [
       "\u001b[1m5×6 DataFrame\u001b[0m\n",
       "\u001b[1m Row \u001b[0m│\u001b[1m Datetime                \u001b[0m\u001b[1m Latitude \u001b[0m\u001b[1m Longitude \u001b[0m\u001b[1m Depth   \u001b[0m\u001b[1m Magnitude \u001b[0m\u001b[1m cubeI\u001b[0m ⋯\n",
       "     │\u001b[90m DateTime                \u001b[0m\u001b[90m Float64  \u001b[0m\u001b[90m Float64   \u001b[0m\u001b[90m Float64 \u001b[0m\u001b[90m Float64   \u001b[0m\u001b[90m Strin\u001b[0m ⋯\n",
       "─────┼──────────────────────────────────────────────────────────────────────────\n",
       "   1 │ 1990-11-27T11:42:24.300   45.83      26.82       78.9        3.3  1670  ⋯\n",
       "   2 │ 2003-07-23T05:37:53.200   45.83      26.79       76.5        3.2  1670\n",
       "   3 │ 2015-02-01T13:08:51.420   45.8377    26.8137     76.8        2.8  1670\n",
       "   4 │ 2021-12-30T14:57:00.520   45.836     26.7793     75.6        3.8  1670\n",
       "   5 │ 2023-01-29T13:01:50.490   45.8417    26.8085     79.3        2.7  1670  ⋯\n",
       "\u001b[36m                                                                1 column omitted\u001b[0m"
      ]
     },
     "metadata": {},
     "output_type": "display_data"
    }
   ],
   "source": [
    "vrancea[vrancea.cubeIndex .== get_prop(MG,158,:cubeIndex),:]"
   ]
  },
  {
   "cell_type": "code",
   "execution_count": 80,
   "metadata": {},
   "outputs": [
    {
     "data": {
      "text/html": [
       "<div><div style = \"float: left;\"><span>2×6 DataFrame</span></div><div style = \"clear: both;\"></div></div><div class = \"data-frame\" style = \"overflow-x: scroll;\"><table class = \"data-frame\" style = \"margin-bottom: 6px;\"><thead><tr class = \"header\"><th class = \"rowNumber\" style = \"font-weight: bold; text-align: right;\">Row</th><th style = \"text-align: left;\">Datetime</th><th style = \"text-align: left;\">Latitude</th><th style = \"text-align: left;\">Longitude</th><th style = \"text-align: left;\">Depth</th><th style = \"text-align: left;\">Magnitude</th><th style = \"text-align: left;\">cubeIndex</th></tr><tr class = \"subheader headerLastRow\"><th class = \"rowNumber\" style = \"font-weight: bold; text-align: right;\"></th><th title = \"DateTime\" style = \"text-align: left;\">DateTime</th><th title = \"Float64\" style = \"text-align: left;\">Float64</th><th title = \"Float64\" style = \"text-align: left;\">Float64</th><th title = \"Float64\" style = \"text-align: left;\">Float64</th><th title = \"Float64\" style = \"text-align: left;\">Float64</th><th title = \"String\" style = \"text-align: left;\">String</th></tr></thead><tbody><tr><td class = \"rowNumber\" style = \"font-weight: bold; text-align: right;\">1</td><td style = \"text-align: left;\">1990-11-23T23:31:21.500</td><td style = \"text-align: right;\">45.61</td><td style = \"text-align: right;\">26.33</td><td style = \"text-align: right;\">148.9</td><td style = \"text-align: right;\">3.6</td><td style = \"text-align: left;\">5571</td></tr><tr><td class = \"rowNumber\" style = \"font-weight: bold; text-align: right;\">2</td><td style = \"text-align: left;\">2007-06-18T02:55:37.500</td><td style = \"text-align: right;\">45.62</td><td style = \"text-align: right;\">26.36</td><td style = \"text-align: right;\">145.4</td><td style = \"text-align: right;\">2.9</td><td style = \"text-align: left;\">5571</td></tr></tbody></table></div>"
      ],
      "text/latex": [
       "\\begin{tabular}{r|cccccc}\n",
       "\t& Datetime & Latitude & Longitude & Depth & Magnitude & cubeIndex\\\\\n",
       "\t\\hline\n",
       "\t& DateTime & Float64 & Float64 & Float64 & Float64 & String\\\\\n",
       "\t\\hline\n",
       "\t1 & 1990-11-23T23:31:21.500 & 45.61 & 26.33 & 148.9 & 3.6 & 5571 \\\\\n",
       "\t2 & 2007-06-18T02:55:37.500 & 45.62 & 26.36 & 145.4 & 2.9 & 5571 \\\\\n",
       "\\end{tabular}\n"
      ],
      "text/plain": [
       "\u001b[1m2×6 DataFrame\u001b[0m\n",
       "\u001b[1m Row \u001b[0m│\u001b[1m Datetime                \u001b[0m\u001b[1m Latitude \u001b[0m\u001b[1m Longitude \u001b[0m\u001b[1m Depth   \u001b[0m\u001b[1m Magnitude \u001b[0m\u001b[1m cubeI\u001b[0m ⋯\n",
       "     │\u001b[90m DateTime                \u001b[0m\u001b[90m Float64  \u001b[0m\u001b[90m Float64   \u001b[0m\u001b[90m Float64 \u001b[0m\u001b[90m Float64   \u001b[0m\u001b[90m Strin\u001b[0m ⋯\n",
       "─────┼──────────────────────────────────────────────────────────────────────────\n",
       "   1 │ 1990-11-23T23:31:21.500     45.61      26.33    148.9        3.6  5571  ⋯\n",
       "   2 │ 2007-06-18T02:55:37.500     45.62      26.36    145.4        2.9  5571\n",
       "\u001b[36m                                                                1 column omitted\u001b[0m"
      ]
     },
     "metadata": {},
     "output_type": "display_data"
    }
   ],
   "source": [
    "vrancea[vrancea.cubeIndex .== get_prop(MG,157,:cubeIndex),:]"
   ]
  },
  {
   "cell_type": "code",
   "execution_count": 58,
   "metadata": {},
   "outputs": [
    {
     "name": "stdout",
     "output_type": "stream",
     "text": [
      "1\n",
      "165\n"
     ]
    }
   ],
   "source": [
    "for i=1:nv(MG)\n",
    "    # push!(degrees,get_prop(MG,i,:degree))\n",
    "    if isodd(get_prop(MG,i,:degree))\n",
    "        println(i)\n",
    "\n",
    "    end\n",
    "end"
   ]
  },
  {
   "cell_type": "code",
   "execution_count": 59,
   "metadata": {},
   "outputs": [
    {
     "data": {
      "text/plain": [
       "1-element Vector{Int64}:\n",
       " 2"
      ]
     },
     "metadata": {},
     "output_type": "display_data"
    }
   ],
   "source": [
    "neighbors(MG, 1)"
   ]
  },
  {
   "cell_type": "code",
   "execution_count": 60,
   "metadata": {},
   "outputs": [
    {
     "data": {
      "text/plain": [
       "11-element Vector{Int64}:\n",
       "   19\n",
       "   27\n",
       "   64\n",
       "  142\n",
       "  182\n",
       "  303\n",
       "  349\n",
       "  760\n",
       "  849\n",
       "  905\n",
       " 1180"
      ]
     },
     "metadata": {},
     "output_type": "display_data"
    }
   ],
   "source": [
    "neighbors(MG, 165)"
   ]
  },
  {
   "cell_type": "code",
   "execution_count": null,
   "metadata": {},
   "outputs": [],
   "source": []
  },
  {
   "cell_type": "code",
   "execution_count": 62,
   "metadata": {},
   "outputs": [
    {
     "data": {
      "text/plain": [
       "\"6433\""
      ]
     },
     "metadata": {},
     "output_type": "display_data"
    }
   ],
   "source": [
    "get_prop(MG,1,:cubeIndex)"
   ]
  },
  {
   "cell_type": "code",
   "execution_count": 106,
   "metadata": {},
   "outputs": [
    {
     "data": {
      "text/plain": [
       "35"
      ]
     },
     "metadata": {},
     "output_type": "display_data"
    }
   ],
   "source": [
    "get_prop(MG,188,:degree)"
   ]
  },
  {
   "cell_type": "code",
   "execution_count": 99,
   "metadata": {},
   "outputs": [
    {
     "data": {
      "text/plain": [
       "\"5839\""
      ]
     },
     "metadata": {},
     "output_type": "display_data"
    }
   ],
   "source": []
  },
  {
   "cell_type": "code",
   "execution_count": 63,
   "metadata": {},
   "outputs": [
    {
     "data": {
      "text/html": [
       "<div><div style = \"float: left;\"><span>1×6 DataFrame</span></div><div style = \"clear: both;\"></div></div><div class = \"data-frame\" style = \"overflow-x: scroll;\"><table class = \"data-frame\" style = \"margin-bottom: 6px;\"><thead><tr class = \"header\"><th class = \"rowNumber\" style = \"font-weight: bold; text-align: right;\">Row</th><th style = \"text-align: left;\">Datetime</th><th style = \"text-align: left;\">Latitude</th><th style = \"text-align: left;\">Longitude</th><th style = \"text-align: left;\">Depth</th><th style = \"text-align: left;\">Magnitude</th><th style = \"text-align: left;\">cubeIndex</th></tr><tr class = \"subheader headerLastRow\"><th class = \"rowNumber\" style = \"font-weight: bold; text-align: right;\"></th><th title = \"DateTime\" style = \"text-align: left;\">DateTime</th><th title = \"Float64\" style = \"text-align: left;\">Float64</th><th title = \"Float64\" style = \"text-align: left;\">Float64</th><th title = \"Float64\" style = \"text-align: left;\">Float64</th><th title = \"Float64\" style = \"text-align: left;\">Float64</th><th title = \"String\" style = \"text-align: left;\">String</th></tr></thead><tbody><tr><td class = \"rowNumber\" style = \"font-weight: bold; text-align: right;\">1</td><td style = \"text-align: left;\">1976-08-19T19:03:00.800</td><td style = \"text-align: right;\">45.54</td><td style = \"text-align: right;\">26.37</td><td style = \"text-align: right;\">162.0</td><td style = \"text-align: right;\">2.3</td><td style = \"text-align: left;\">6433</td></tr></tbody></table></div>"
      ],
      "text/latex": [
       "\\begin{tabular}{r|cccccc}\n",
       "\t& Datetime & Latitude & Longitude & Depth & Magnitude & cubeIndex\\\\\n",
       "\t\\hline\n",
       "\t& DateTime & Float64 & Float64 & Float64 & Float64 & String\\\\\n",
       "\t\\hline\n",
       "\t1 & 1976-08-19T19:03:00.800 & 45.54 & 26.37 & 162.0 & 2.3 & 6433 \\\\\n",
       "\\end{tabular}\n"
      ],
      "text/plain": [
       "\u001b[1m1×6 DataFrame\u001b[0m\n",
       "\u001b[1m Row \u001b[0m│\u001b[1m Datetime                \u001b[0m\u001b[1m Latitude \u001b[0m\u001b[1m Longitude \u001b[0m\u001b[1m Depth   \u001b[0m\u001b[1m Magnitude \u001b[0m\u001b[1m cubeI\u001b[0m ⋯\n",
       "     │\u001b[90m DateTime                \u001b[0m\u001b[90m Float64  \u001b[0m\u001b[90m Float64   \u001b[0m\u001b[90m Float64 \u001b[0m\u001b[90m Float64   \u001b[0m\u001b[90m Strin\u001b[0m ⋯\n",
       "─────┼──────────────────────────────────────────────────────────────────────────\n",
       "   1 │ 1976-08-19T19:03:00.800     45.54      26.37    162.0        2.3  6433  ⋯\n",
       "\u001b[36m                                                                1 column omitted\u001b[0m"
      ]
     },
     "metadata": {},
     "output_type": "display_data"
    }
   ],
   "source": []
  },
  {
   "cell_type": "code",
   "execution_count": 101,
   "metadata": {},
   "outputs": [
    {
     "data": {
      "text/html": [
       "<div><div style = \"float: left;\"><span>3345×6 DataFrame</span></div><div style = \"float: right;\"><span style = \"font-style: italic;\">3320 rows omitted</span></div><div style = \"clear: both;\"></div></div><div class = \"data-frame\" style = \"overflow-x: scroll;\"><table class = \"data-frame\" style = \"margin-bottom: 6px;\"><thead><tr class = \"header\"><th class = \"rowNumber\" style = \"font-weight: bold; text-align: right;\">Row</th><th style = \"text-align: left;\">Datetime</th><th style = \"text-align: left;\">Latitude</th><th style = \"text-align: left;\">Longitude</th><th style = \"text-align: left;\">Depth</th><th style = \"text-align: left;\">Magnitude</th><th style = \"text-align: left;\">cubeIndex</th></tr><tr class = \"subheader headerLastRow\"><th class = \"rowNumber\" style = \"font-weight: bold; text-align: right;\"></th><th title = \"DateTime\" style = \"text-align: left;\">DateTime</th><th title = \"Float64\" style = \"text-align: left;\">Float64</th><th title = \"Float64\" style = \"text-align: left;\">Float64</th><th title = \"Float64\" style = \"text-align: left;\">Float64</th><th title = \"Float64\" style = \"text-align: left;\">Float64</th><th title = \"String\" style = \"text-align: left;\">String</th></tr></thead><tbody><tr><td class = \"rowNumber\" style = \"font-weight: bold; text-align: right;\">1</td><td style = \"text-align: left;\">1976-09-07T17:38:08.200</td><td style = \"text-align: right;\">45.62</td><td style = \"text-align: right;\">26.5</td><td style = \"text-align: right;\">155.3</td><td style = \"text-align: right;\">3.6</td><td style = \"text-align: left;\">5839</td></tr><tr><td class = \"rowNumber\" style = \"font-weight: bold; text-align: right;\">2</td><td style = \"text-align: left;\">1976-10-01T17:50:43.200</td><td style = \"text-align: right;\">45.68</td><td style = \"text-align: right;\">26.49</td><td style = \"text-align: right;\">146.0</td><td style = \"text-align: right;\">6.0</td><td style = \"text-align: left;\">5296</td></tr><tr><td class = \"rowNumber\" style = \"font-weight: bold; text-align: right;\">3</td><td style = \"text-align: left;\">1977-03-04T19:21:54.100</td><td style = \"text-align: right;\">45.77</td><td style = \"text-align: right;\">26.76</td><td style = \"text-align: right;\">94.0</td><td style = \"text-align: right;\">7.4</td><td style = \"text-align: left;\">2374</td></tr><tr><td class = \"rowNumber\" style = \"font-weight: bold; text-align: right;\">4</td><td style = \"text-align: left;\">1977-03-05T12:08:42</td><td style = \"text-align: right;\">45.37</td><td style = \"text-align: right;\">26.3</td><td style = \"text-align: right;\">124.0</td><td style = \"text-align: right;\">3.5</td><td style = \"text-align: left;\">3878</td></tr><tr><td class = \"rowNumber\" style = \"font-weight: bold; text-align: right;\">5</td><td style = \"text-align: left;\">1977-03-12T13:27:13.300</td><td style = \"text-align: right;\">45.74</td><td style = \"text-align: right;\">26.9</td><td style = \"text-align: right;\">99.9</td><td style = \"text-align: right;\">3.8</td><td style = \"text-align: left;\">2680</td></tr><tr><td class = \"rowNumber\" style = \"font-weight: bold; text-align: right;\">6</td><td style = \"text-align: left;\">1977-03-12T18:02:15.200</td><td style = \"text-align: right;\">45.79</td><td style = \"text-align: right;\">26.89</td><td style = \"text-align: right;\">100.0</td><td style = \"text-align: right;\">3.5</td><td style = \"text-align: left;\">2953</td></tr><tr><td class = \"rowNumber\" style = \"font-weight: bold; text-align: right;\">7</td><td style = \"text-align: left;\">1977-03-22T08:26:52.100</td><td style = \"text-align: right;\">45.51</td><td style = \"text-align: right;\">26.15</td><td style = \"text-align: right;\">167.0</td><td style = \"text-align: right;\">3.5</td><td style = \"text-align: left;\">6279</td></tr><tr><td class = \"rowNumber\" style = \"font-weight: bold; text-align: right;\">8</td><td style = \"text-align: left;\">1977-04-04T02:15:49.700</td><td style = \"text-align: right;\">45.59</td><td style = \"text-align: right;\">26.64</td><td style = \"text-align: right;\">115.0</td><td style = \"text-align: right;\">3.8</td><td style = \"text-align: left;\">3696</td></tr><tr><td class = \"rowNumber\" style = \"font-weight: bold; text-align: right;\">9</td><td style = \"text-align: left;\">1977-06-16T02:26:10.300</td><td style = \"text-align: right;\">45.74</td><td style = \"text-align: right;\">26.6</td><td style = \"text-align: right;\">151.0</td><td style = \"text-align: right;\">4.7</td><td style = \"text-align: left;\">5587</td></tr><tr><td class = \"rowNumber\" style = \"font-weight: bold; text-align: right;\">10</td><td style = \"text-align: left;\">1977-06-16T02:42:00</td><td style = \"text-align: right;\">45.7</td><td style = \"text-align: right;\">26.6</td><td style = \"text-align: right;\">120.0</td><td style = \"text-align: right;\">3.2</td><td style = \"text-align: left;\">3954</td></tr><tr><td class = \"rowNumber\" style = \"font-weight: bold; text-align: right;\">11</td><td style = \"text-align: left;\">1977-07-17T17:34:20.900</td><td style = \"text-align: right;\">45.6</td><td style = \"text-align: right;\">26.65</td><td style = \"text-align: right;\">106.0</td><td style = \"text-align: right;\">4.2</td><td style = \"text-align: left;\">3153</td></tr><tr><td class = \"rowNumber\" style = \"font-weight: bold; text-align: right;\">12</td><td style = \"text-align: left;\">1977-07-24T05:57:00</td><td style = \"text-align: right;\">45.7</td><td style = \"text-align: right;\">26.6</td><td style = \"text-align: right;\">130.0</td><td style = \"text-align: right;\">3.4</td><td style = \"text-align: left;\">4498</td></tr><tr><td class = \"rowNumber\" style = \"font-weight: bold; text-align: right;\">13</td><td style = \"text-align: left;\">1977-07-24T17:07:00</td><td style = \"text-align: right;\">45.7</td><td style = \"text-align: right;\">26.6</td><td style = \"text-align: right;\">130.0</td><td style = \"text-align: right;\">3.1</td><td style = \"text-align: left;\">4498</td></tr><tr><td style = \"text-align: right;\">&vellip;</td><td style = \"text-align: right;\">&vellip;</td><td style = \"text-align: right;\">&vellip;</td><td style = \"text-align: right;\">&vellip;</td><td style = \"text-align: right;\">&vellip;</td><td style = \"text-align: right;\">&vellip;</td><td style = \"text-align: right;\">&vellip;</td></tr><tr><td class = \"rowNumber\" style = \"font-weight: bold; text-align: right;\">3334</td><td style = \"text-align: left;\">2022-11-07T08:02:55.710</td><td style = \"text-align: right;\">45.6417</td><td style = \"text-align: right;\">26.6166</td><td style = \"text-align: right;\">131.2</td><td style = \"text-align: right;\">3.1</td><td style = \"text-align: left;\">4513</td></tr><tr><td class = \"rowNumber\" style = \"font-weight: bold; text-align: right;\">3335</td><td style = \"text-align: left;\">2022-11-25T05:31:37.830</td><td style = \"text-align: right;\">45.5323</td><td style = \"text-align: right;\">26.0906</td><td style = \"text-align: right;\">64.7</td><td style = \"text-align: right;\">3.2</td><td style = \"text-align: left;\">550</td></tr><tr><td class = \"rowNumber\" style = \"font-weight: bold; text-align: right;\">3336</td><td style = \"text-align: left;\">2022-11-26T01:59:28.920</td><td style = \"text-align: right;\">45.6475</td><td style = \"text-align: right;\">26.5562</td><td style = \"text-align: right;\">145.1</td><td style = \"text-align: right;\">3.5</td><td style = \"text-align: left;\">5313</td></tr><tr><td class = \"rowNumber\" style = \"font-weight: bold; text-align: right;\">3337</td><td style = \"text-align: left;\">2022-12-04T19:39:42.460</td><td style = \"text-align: right;\">45.8477</td><td style = \"text-align: right;\">26.8074</td><td style = \"text-align: right;\">84.0</td><td style = \"text-align: right;\">3.6</td><td style = \"text-align: left;\">1849</td></tr><tr><td class = \"rowNumber\" style = \"font-weight: bold; text-align: right;\">3338</td><td style = \"text-align: left;\">2022-12-07T01:49:39.300</td><td style = \"text-align: right;\">45.5795</td><td style = \"text-align: right;\">26.4077</td><td style = \"text-align: right;\">143.1</td><td style = \"text-align: right;\">3.3</td><td style = \"text-align: left;\">4988</td></tr><tr><td class = \"rowNumber\" style = \"font-weight: bold; text-align: right;\">3339</td><td style = \"text-align: left;\">2022-12-09T15:36:01.740</td><td style = \"text-align: right;\">45.7038</td><td style = \"text-align: right;\">26.7097</td><td style = \"text-align: right;\">128.8</td><td style = \"text-align: right;\">3.2</td><td style = \"text-align: left;\">4260</td></tr><tr><td class = \"rowNumber\" style = \"font-weight: bold; text-align: right;\">3340</td><td style = \"text-align: left;\">2022-12-15T23:47:13.400</td><td style = \"text-align: right;\">45.735</td><td style = \"text-align: right;\">26.6709</td><td style = \"text-align: right;\">87.7</td><td style = \"text-align: right;\">3.8</td><td style = \"text-align: left;\">2085</td></tr><tr><td class = \"rowNumber\" style = \"font-weight: bold; text-align: right;\">3341</td><td style = \"text-align: left;\">2022-12-17T05:42:58.120</td><td style = \"text-align: right;\">45.641</td><td style = \"text-align: right;\">26.487</td><td style = \"text-align: right;\">143.8</td><td style = \"text-align: right;\">4.1</td><td style = \"text-align: left;\">5023</td></tr><tr><td class = \"rowNumber\" style = \"font-weight: bold; text-align: right;\">3342</td><td style = \"text-align: left;\">2022-12-26T07:47:10.270</td><td style = \"text-align: right;\">45.5403</td><td style = \"text-align: right;\">26.5114</td><td style = \"text-align: right;\">105.9</td><td style = \"text-align: right;\">3.5</td><td style = \"text-align: left;\">3117</td></tr><tr><td class = \"rowNumber\" style = \"font-weight: bold; text-align: right;\">3343</td><td style = \"text-align: left;\">2023-01-01T01:41:21.680</td><td style = \"text-align: right;\">45.7273</td><td style = \"text-align: right;\">26.7234</td><td style = \"text-align: right;\">81.7</td><td style = \"text-align: right;\">3.2</td><td style = \"text-align: left;\">1812</td></tr><tr><td class = \"rowNumber\" style = \"font-weight: bold; text-align: right;\">3344</td><td style = \"text-align: left;\">2023-01-05T11:14:49.200</td><td style = \"text-align: right;\">45.669</td><td style = \"text-align: right;\">26.6056</td><td style = \"text-align: right;\">138.5</td><td style = \"text-align: right;\">3.2</td><td style = \"text-align: left;\">4786</td></tr><tr><td class = \"rowNumber\" style = \"font-weight: bold; text-align: right;\">3345</td><td style = \"text-align: left;\">2023-01-24T05:42:20.140</td><td style = \"text-align: right;\">45.5443</td><td style = \"text-align: right;\">26.4752</td><td style = \"text-align: right;\">116.4</td><td style = \"text-align: right;\">3.5</td><td style = \"text-align: left;\">3644</td></tr></tbody></table></div>"
      ],
      "text/latex": [
       "\\begin{tabular}{r|cccccc}\n",
       "\t& Datetime & Latitude & Longitude & Depth & Magnitude & cubeIndex\\\\\n",
       "\t\\hline\n",
       "\t& DateTime & Float64 & Float64 & Float64 & Float64 & String\\\\\n",
       "\t\\hline\n",
       "\t1 & 1976-09-07T17:38:08.200 & 45.62 & 26.5 & 155.3 & 3.6 & 5839 \\\\\n",
       "\t2 & 1976-10-01T17:50:43.200 & 45.68 & 26.49 & 146.0 & 6.0 & 5296 \\\\\n",
       "\t3 & 1977-03-04T19:21:54.100 & 45.77 & 26.76 & 94.0 & 7.4 & 2374 \\\\\n",
       "\t4 & 1977-03-05T12:08:42 & 45.37 & 26.3 & 124.0 & 3.5 & 3878 \\\\\n",
       "\t5 & 1977-03-12T13:27:13.300 & 45.74 & 26.9 & 99.9 & 3.8 & 2680 \\\\\n",
       "\t6 & 1977-03-12T18:02:15.200 & 45.79 & 26.89 & 100.0 & 3.5 & 2953 \\\\\n",
       "\t7 & 1977-03-22T08:26:52.100 & 45.51 & 26.15 & 167.0 & 3.5 & 6279 \\\\\n",
       "\t8 & 1977-04-04T02:15:49.700 & 45.59 & 26.64 & 115.0 & 3.8 & 3696 \\\\\n",
       "\t9 & 1977-06-16T02:26:10.300 & 45.74 & 26.6 & 151.0 & 4.7 & 5587 \\\\\n",
       "\t10 & 1977-06-16T02:42:00 & 45.7 & 26.6 & 120.0 & 3.2 & 3954 \\\\\n",
       "\t11 & 1977-07-17T17:34:20.900 & 45.6 & 26.65 & 106.0 & 4.2 & 3153 \\\\\n",
       "\t12 & 1977-07-24T05:57:00 & 45.7 & 26.6 & 130.0 & 3.4 & 4498 \\\\\n",
       "\t13 & 1977-07-24T17:07:00 & 45.7 & 26.6 & 130.0 & 3.1 & 4498 \\\\\n",
       "\t14 & 1977-07-28T06:24:45.800 & 45.64 & 26.71 & 139.0 & 3.8 & 4802 \\\\\n",
       "\t15 & 1977-08-04T22:32:02.100 & 45.68 & 26.62 & 146.0 & 4.8 & 5330 \\\\\n",
       "\t16 & 1977-08-26T09:48:23.700 & 45.64 & 26.7 & 96.0 & 4.0 & 2626 \\\\\n",
       "\t17 & 1977-08-28T13:14:15.900 & 45.51 & 26.55 & 125.0 & 3.8 & 4222 \\\\\n",
       "\t18 & 1977-09-13T00:39:00 & 45.7 & 26.6 & 120.0 & 3.6 & 3954 \\\\\n",
       "\t19 & 1977-09-13T04:25:00 & 45.7 & 26.6 & 110.0 & 3.8 & 3410 \\\\\n",
       "\t20 & 1977-09-30T09:11:00 & 45.7 & 26.6 & 125.0 & 3.4 & 4226 \\\\\n",
       "\t21 & 1977-10-02T20:57:00 & 45.7 & 26.6 & 120.0 & 3.4 & 3954 \\\\\n",
       "\t22 & 1977-11-01T14:23:00 & 45.7 & 26.6 & 75.0 & 3.2 & 1506 \\\\\n",
       "\t23 & 1977-11-06T17:11:50.100 & 45.44 & 26.42 & 126.0 & 4.4 & 4186 \\\\\n",
       "\t24 & 1977-11-22T02:17:00 & 45.7 & 26.6 & 120.0 & 3.8 & 3954 \\\\\n",
       "\t$\\dots$ & $\\dots$ & $\\dots$ & $\\dots$ & $\\dots$ & $\\dots$ & $\\dots$ \\\\\n",
       "\\end{tabular}\n"
      ],
      "text/plain": [
       "\u001b[1m3345×6 DataFrame\u001b[0m\n",
       "\u001b[1m  Row \u001b[0m│\u001b[1m Datetime                \u001b[0m\u001b[1m Latitude \u001b[0m\u001b[1m Longitude \u001b[0m\u001b[1m Depth   \u001b[0m\u001b[1m Magnitude \u001b[0m\u001b[1m cube\u001b[0m ⋯\n",
       "      │\u001b[90m DateTime                \u001b[0m\u001b[90m Float64  \u001b[0m\u001b[90m Float64   \u001b[0m\u001b[90m Float64 \u001b[0m\u001b[90m Float64   \u001b[0m\u001b[90m Stri\u001b[0m ⋯\n",
       "──────┼─────────────────────────────────────────────────────────────────────────\n",
       "    1 │ 1976-09-07T17:38:08.200   45.62      26.5       155.3        3.6  5839 ⋯\n",
       "    2 │ 1976-10-01T17:50:43.200   45.68      26.49      146.0        6.0  5296\n",
       "    3 │ 1977-03-04T19:21:54.100   45.77      26.76       94.0        7.4  2374\n",
       "    4 │ 1977-03-05T12:08:42       45.37      26.3       124.0        3.5  3878\n",
       "    5 │ 1977-03-12T13:27:13.300   45.74      26.9        99.9        3.8  2680 ⋯\n",
       "    6 │ 1977-03-12T18:02:15.200   45.79      26.89      100.0        3.5  2953\n",
       "    7 │ 1977-03-22T08:26:52.100   45.51      26.15      167.0        3.5  6279\n",
       "    8 │ 1977-04-04T02:15:49.700   45.59      26.64      115.0        3.8  3696\n",
       "  ⋮   │            ⋮                ⋮          ⋮         ⋮         ⋮           ⋱\n",
       " 3339 │ 2022-12-09T15:36:01.740   45.7038    26.7097    128.8        3.2  4260 ⋯\n",
       " 3340 │ 2022-12-15T23:47:13.400   45.735     26.6709     87.7        3.8  2085\n",
       " 3341 │ 2022-12-17T05:42:58.120   45.641     26.487     143.8        4.1  5023\n",
       " 3342 │ 2022-12-26T07:47:10.270   45.5403    26.5114    105.9        3.5  3117\n",
       " 3343 │ 2023-01-01T01:41:21.680   45.7273    26.7234     81.7        3.2  1812 ⋯\n",
       " 3344 │ 2023-01-05T11:14:49.200   45.669     26.6056    138.5        3.2  4786\n",
       " 3345 │ 2023-01-24T05:42:20.140   45.5443    26.4752    116.4        3.5  3644\n",
       "\u001b[36m                                                  1 column and 3330 rows omitted\u001b[0m"
      ]
     },
     "metadata": {},
     "output_type": "display_data"
    }
   ],
   "source": [
    "vrancea"
   ]
  },
  {
   "cell_type": "code",
   "execution_count": 90,
   "metadata": {},
   "outputs": [
    {
     "data": {
      "text/plain": [
       "31-element Vector{Pair{Any, Int64}}:\n",
       "  2 => 408\n",
       "  4 => 153\n",
       "  6 => 79\n",
       "  8 => 54\n",
       " 10 => 46\n",
       " 12 => 34\n",
       " 14 => 23\n",
       " 16 => 19\n",
       " 17 => 1\n",
       " 18 => 15\n",
       "    ⋮\n",
       " 42 => 5\n",
       " 44 => 2\n",
       " 48 => 2\n",
       " 52 => 1\n",
       " 56 => 1\n",
       " 58 => 1\n",
       " 60 => 1\n",
       " 66 => 1\n",
       " 76 => 1"
      ]
     },
     "metadata": {},
     "output_type": "display_data"
    }
   ],
   "source": [
    "sort(collect(d), by = x->x[1])"
   ]
  },
  {
   "cell_type": "code",
   "execution_count": null,
   "metadata": {},
   "outputs": [],
   "source": []
  },
  {
   "cell_type": "code",
   "execution_count": 65,
   "metadata": {},
   "outputs": [
    {
     "data": {
      "text/plain": [
       "713"
      ]
     },
     "metadata": {},
     "output_type": "display_data"
    }
   ],
   "source": [
    "d[2]"
   ]
  },
  {
   "cell_type": "code",
   "execution_count": 66,
   "metadata": {},
   "outputs": [],
   "source": []
  },
  {
   "cell_type": "code",
   "execution_count": 67,
   "metadata": {},
   "outputs": [
    {
     "data": {
      "text/plain": [
       "Dict{Symbol, Any}()"
      ]
     },
     "metadata": {},
     "output_type": "display_data"
    }
   ],
   "source": [
    "props(MG)"
   ]
  },
  {
   "cell_type": "code",
   "execution_count": 68,
   "metadata": {},
   "outputs": [
    {
     "data": {
      "text/plain": [
       "{1658, 7465} undirected simple Int64 graph"
      ]
     },
     "metadata": {},
     "output_type": "display_data"
    }
   ],
   "source": [
    "G = Graph(MG)"
   ]
  },
  {
   "cell_type": "code",
   "execution_count": 69,
   "metadata": {},
   "outputs": [
    {
     "data": {
      "text/plain": [
       "1658-element Vector{Int64}:\n",
       "  1\n",
       " 29\n",
       " 16\n",
       " 29\n",
       "  2\n",
       "  2\n",
       "  6\n",
       "  2\n",
       "  2\n",
       "  2\n",
       "  ⋮\n",
       "  2\n",
       "  2\n",
       "  2\n",
       "  2\n",
       "  2\n",
       "  2\n",
       "  2\n",
       "  2\n",
       "  2"
      ]
     },
     "metadata": {},
     "output_type": "display_data"
    }
   ],
   "source": [
    "connectivity = degree(MG)"
   ]
  },
  {
   "cell_type": "code",
   "execution_count": 70,
   "metadata": {},
   "outputs": [],
   "source": [
    "using DataStructures, Plots"
   ]
  },
  {
   "cell_type": "code",
   "execution_count": 71,
   "metadata": {},
   "outputs": [
    {
     "data": {
      "image/png": "[encoded data removed]",
      "image/svg+xml": "<?xml version=\"1.0\" encoding=\"utf-8\"?>\n<svg xmlns=\"http://www.w3.org/2000/svg\" xmlns:xlink=\"http://www.w3.org/1999/xlink\" width=\"600\" height=\"400\" viewBox=\"0 0 2400 1600\">\n<defs>\n  <clipPath id=\"clip780\">\n    <rect x=\"0\" y=\"0\" width=\"2400\" height=\"1600\"/>\n  </clipPath>\n</defs>\n<path clip-path=\"url(#clip780)\" d=\"\nM0 1600 L2400 1600 L2400 0 L0 0  Z\n  \" fill=\"#ffffff\" fill-rule=\"evenodd\" fill-opacity=\"1\"/>\n<defs>\n  <clipPath id=\"clip781\">\n    <rect x=\"480\" y=\"0\" width=\"1681\" height=\"1600\"/>\n  </clipPath>\n</defs>\n<path clip-path=\"url(#clip780)\" d=\"\nM172.015 1486.45 L2352.76 1486.45 L2352.76 47.2441 L172.015 47.2441  Z\n  \" fill=\"#ffffff\" fill-rule=\"evenodd\" fill-opacity=\"1\"/>\n<defs>\n  <clipPath id=\"clip782\">\n    <rect x=\"172\" y=\"47\" width=\"2182\" height=\"1440\"/>\n  </clipPath>\n</defs>\n<polyline clip-path=\"url(#clip782)\" style=\"stroke:#000000; stroke-linecap:round; stroke-linejoin:round; stroke-width:2; stroke-opacity:0.1; fill:none\" points=\"\n  210.087,1486.45 210.087,47.2441 \n  \"/>\n<polyline clip-path=\"url(#clip782)\" style=\"stroke:#000000; stroke-linecap:round; stroke-linejoin:round; stroke-width:2; stroke-opacity:0.1; fill:none\" points=\"\n  683.03,1486.45 683.03,47.2441 \n  \"/>\n<polyline clip-path=\"url(#clip782)\" style=\"stroke:#000000; stroke-linecap:round; stroke-linejoin:round; stroke-width:2; stroke-opacity:0.1; fill:none\" points=\"\n  1155.97,1486.45 1155.97,47.2441 \n  \"/>\n<polyline clip-path=\"url(#clip782)\" style=\"stroke:#000000; stroke-linecap:round; stroke-linejoin:round; stroke-width:2; stroke-opacity:0.1; fill:none\" points=\"\n  1628.92,1486.45 1628.92,47.2441 \n  \"/>\n<polyline clip-path=\"url(#clip782)\" style=\"stroke:#000000; stroke-linecap:round; stroke-linejoin:round; stroke-width:2; stroke-opacity:0.1; fill:none\" points=\"\n  2101.86,1486.45 2101.86,47.2441 \n  \"/>\n<polyline clip-path=\"url(#clip780)\" style=\"stroke:#000000; stroke-linecap:round; stroke-linejoin:round; stroke-width:4; stroke-opacity:1; fill:none\" points=\"\n  172.015,1486.45 2352.76,1486.45 \n  \"/>\n<polyline clip-path=\"url(#clip780)\" style=\"stroke:#000000; stroke-linecap:round; stroke-linejoin:round; stroke-width:4; stroke-opacity:1; fill:none\" points=\"\n  210.087,1486.45 210.087,1467.55 \n  \"/>\n<polyline clip-path=\"url(#clip780)\" style=\"stroke:#000000; stroke-linecap:round; stroke-linejoin:round; stroke-width:4; stroke-opacity:1; fill:none\" points=\"\n  683.03,1486.45 683.03,1467.55 \n  \"/>\n<polyline clip-path=\"url(#clip780)\" style=\"stroke:#000000; stroke-linecap:round; stroke-linejoin:round; stroke-width:4; stroke-opacity:1; fill:none\" points=\"\n  1155.97,1486.45 1155.97,1467.55 \n  \"/>\n<polyline clip-path=\"url(#clip780)\" style=\"stroke:#000000; stroke-linecap:round; stroke-linejoin:round; stroke-width:4; stroke-opacity:1; fill:none\" points=\"\n  1628.92,1486.45 1628.92,1467.55 \n  \"/>\n<polyline clip-path=\"url(#clip780)\" style=\"stroke:#000000; stroke-linecap:round; stroke-linejoin:round; stroke-width:4; stroke-opacity:1; fill:none\" points=\"\n  2101.86,1486.45 2101.86,1467.55 \n  \"/>\n<path clip-path=\"url(#clip780)\" d=\"M210.087 1517.37 Q206.476 1517.37 204.647 1520.93 Q202.841 1524.47 202.841 1531.6 Q202.841 1538.71 204.647 1542.27 Q206.476 1545.82 210.087 1545.82 Q213.721 1545.82 215.527 1542.27 Q217.355 1538.71 217.355 1531.6 Q217.355 1524.47 215.527 1520.93 Q213.721 1517.37 210.087 1517.37 M210.087 1513.66 Q215.897 1513.66 218.952 1518.27 Q222.031 1522.85 222.031 1531.6 Q222.031 1540.33 218.952 1544.94 Q215.897 1549.52 210.087 1549.52 Q204.277 1549.52 201.198 1544.94 Q198.142 1540.33 198.142 1531.6 Q198.142 1522.85 201.198 1518.27 Q204.277 1513.66 210.087 1513.66 Z\" fill=\"#000000\" fill-rule=\"evenodd\" fill-opacity=\"1\" /><path clip-path=\"url(#clip780)\" d=\"M661.803 1544.91 L678.123 1544.91 L678.123 1548.85 L656.178 1548.85 L656.178 1544.91 Q658.84 1542.16 663.424 1537.53 Q668.03 1532.88 669.211 1531.53 Q671.456 1529.01 672.336 1527.27 Q673.238 1525.51 673.238 1523.82 Q673.238 1521.07 671.294 1519.33 Q669.373 1517.6 666.271 1517.6 Q664.072 1517.6 661.618 1518.36 Q659.187 1519.13 656.41 1520.68 L656.41 1515.95 Q659.234 1514.82 661.687 1514.24 Q664.141 1513.66 666.178 1513.66 Q671.549 1513.66 674.743 1516.35 Q677.937 1519.03 677.937 1523.52 Q677.937 1525.65 677.127 1527.57 Q676.34 1529.47 674.234 1532.07 Q673.655 1532.74 670.553 1535.95 Q667.451 1539.15 661.803 1544.91 Z\" fill=\"#000000\" fill-rule=\"evenodd\" fill-opacity=\"1\" /><path clip-path=\"url(#clip780)\" d=\"M697.937 1517.37 Q694.326 1517.37 692.497 1520.93 Q690.692 1524.47 690.692 1531.6 Q690.692 1538.71 692.497 1542.27 Q694.326 1545.82 697.937 1545.82 Q701.572 1545.82 703.377 1542.27 Q705.206 1538.71 705.206 1531.6 Q705.206 1524.47 703.377 1520.93 Q701.572 1517.37 697.937 1517.37 M697.937 1513.66 Q703.747 1513.66 706.803 1518.27 Q709.882 1522.85 709.882 1531.6 Q709.882 1540.33 706.803 1544.94 Q703.747 1549.52 697.937 1549.52 Q692.127 1549.52 689.048 1544.94 Q685.993 1540.33 685.993 1531.6 Q685.993 1522.85 689.048 1518.27 Q692.127 1513.66 697.937 1513.66 Z\" fill=\"#000000\" fill-rule=\"evenodd\" fill-opacity=\"1\" /><path clip-path=\"url(#clip780)\" d=\"M1144.14 1518.36 L1132.34 1536.81 L1144.14 1536.81 L1144.14 1518.36 M1142.92 1514.29 L1148.8 1514.29 L1148.8 1536.81 L1153.73 1536.81 L1153.73 1540.7 L1148.8 1540.7 L1148.8 1548.85 L1144.14 1548.85 L1144.14 1540.7 L1128.54 1540.7 L1128.54 1536.19 L1142.92 1514.29 Z\" fill=\"#000000\" fill-rule=\"evenodd\" fill-opacity=\"1\" /><path clip-path=\"url(#clip780)\" d=\"M1171.46 1517.37 Q1167.85 1517.37 1166.02 1520.93 Q1164.21 1524.47 1164.21 1531.6 Q1164.21 1538.71 1166.02 1542.27 Q1167.85 1545.82 1171.46 1545.82 Q1175.09 1545.82 1176.9 1542.27 Q1178.73 1538.71 1178.73 1531.6 Q1178.73 1524.47 1176.9 1520.93 Q1175.09 1517.37 1171.46 1517.37 M1171.46 1513.66 Q1177.27 1513.66 1180.32 1518.27 Q1183.4 1522.85 1183.4 1531.6 Q1183.4 1540.33 1180.32 1544.94 Q1177.27 1549.52 1171.46 1549.52 Q1165.65 1549.52 1162.57 1544.94 Q1159.51 1540.33 1159.51 1531.6 Q1159.51 1522.85 1162.57 1518.27 Q1165.65 1513.66 1171.46 1513.66 Z\" fill=\"#000000\" fill-rule=\"evenodd\" fill-opacity=\"1\" /><path clip-path=\"url(#clip780)\" d=\"M1614.32 1529.7 Q1611.17 1529.7 1609.32 1531.86 Q1607.49 1534.01 1607.49 1537.76 Q1607.49 1541.49 1609.32 1543.66 Q1611.17 1545.82 1614.32 1545.82 Q1617.47 1545.82 1619.3 1543.66 Q1621.15 1541.49 1621.15 1537.76 Q1621.15 1534.01 1619.3 1531.86 Q1617.47 1529.7 1614.32 1529.7 M1623.6 1515.05 L1623.6 1519.31 Q1621.84 1518.48 1620.04 1518.04 Q1618.26 1517.6 1616.5 1517.6 Q1611.87 1517.6 1609.41 1520.72 Q1606.98 1523.85 1606.64 1530.17 Q1608 1528.15 1610.06 1527.09 Q1612.12 1526 1614.6 1526 Q1619.81 1526 1622.82 1529.17 Q1625.85 1532.32 1625.85 1537.76 Q1625.85 1543.08 1622.7 1546.3 Q1619.55 1549.52 1614.32 1549.52 Q1608.33 1549.52 1605.15 1544.94 Q1601.98 1540.33 1601.98 1531.6 Q1601.98 1523.41 1605.87 1518.55 Q1609.76 1513.66 1616.31 1513.66 Q1618.07 1513.66 1619.85 1514.01 Q1621.66 1514.36 1623.6 1515.05 Z\" fill=\"#000000\" fill-rule=\"evenodd\" fill-opacity=\"1\" /><path clip-path=\"url(#clip780)\" d=\"M1643.9 1517.37 Q1640.29 1517.37 1638.46 1520.93 Q1636.66 1524.47 1636.66 1531.6 Q1636.66 1538.71 1638.46 1542.27 Q1640.29 1545.82 1643.9 1545.82 Q1647.54 1545.82 1649.34 1542.27 Q1651.17 1538.71 1651.17 1531.6 Q1651.17 1524.47 1649.34 1520.93 Q1647.54 1517.37 1643.9 1517.37 M1643.9 1513.66 Q1649.71 1513.66 1652.77 1518.27 Q1655.85 1522.85 1655.85 1531.6 Q1655.85 1540.33 1652.77 1544.94 Q1649.71 1549.52 1643.9 1549.52 Q1638.09 1549.52 1635.02 1544.94 Q1631.96 1540.33 1631.96 1531.6 Q1631.96 1522.85 1635.02 1518.27 Q1638.09 1513.66 1643.9 1513.66 Z\" fill=\"#000000\" fill-rule=\"evenodd\" fill-opacity=\"1\" /><path clip-path=\"url(#clip780)\" d=\"M2086.73 1532.44 Q2083.4 1532.44 2081.48 1534.22 Q2079.58 1536 2079.58 1539.13 Q2079.58 1542.25 2081.48 1544.03 Q2083.4 1545.82 2086.73 1545.82 Q2090.07 1545.82 2091.99 1544.03 Q2093.91 1542.23 2093.91 1539.13 Q2093.91 1536 2091.99 1534.22 Q2090.09 1532.44 2086.73 1532.44 M2082.06 1530.45 Q2079.05 1529.7 2077.36 1527.64 Q2075.69 1525.58 2075.69 1522.62 Q2075.69 1518.48 2078.63 1516.07 Q2081.59 1513.66 2086.73 1513.66 Q2091.89 1513.66 2094.83 1516.07 Q2097.77 1518.48 2097.77 1522.62 Q2097.77 1525.58 2096.08 1527.64 Q2094.42 1529.7 2091.43 1530.45 Q2094.81 1531.23 2096.69 1533.52 Q2098.58 1535.82 2098.58 1539.13 Q2098.58 1544.15 2095.51 1546.83 Q2092.45 1549.52 2086.73 1549.52 Q2081.01 1549.52 2077.94 1546.83 Q2074.88 1544.15 2074.88 1539.13 Q2074.88 1535.82 2076.78 1533.52 Q2078.68 1531.23 2082.06 1530.45 M2080.34 1523.06 Q2080.34 1525.75 2082.01 1527.25 Q2083.7 1528.76 2086.73 1528.76 Q2089.74 1528.76 2091.43 1527.25 Q2093.14 1525.75 2093.14 1523.06 Q2093.14 1520.38 2091.43 1518.87 Q2089.74 1517.37 2086.73 1517.37 Q2083.7 1517.37 2082.01 1518.87 Q2080.34 1520.38 2080.34 1523.06 Z\" fill=\"#000000\" fill-rule=\"evenodd\" fill-opacity=\"1\" /><path clip-path=\"url(#clip780)\" d=\"M2116.89 1517.37 Q2113.28 1517.37 2111.45 1520.93 Q2109.65 1524.47 2109.65 1531.6 Q2109.65 1538.71 2111.45 1542.27 Q2113.28 1545.82 2116.89 1545.82 Q2120.53 1545.82 2122.33 1542.27 Q2124.16 1538.71 2124.16 1531.6 Q2124.16 1524.47 2122.33 1520.93 Q2120.53 1517.37 2116.89 1517.37 M2116.89 1513.66 Q2122.7 1513.66 2125.76 1518.27 Q2128.84 1522.85 2128.84 1531.6 Q2128.84 1540.33 2125.76 1544.94 Q2122.7 1549.52 2116.89 1549.52 Q2111.08 1549.52 2108.01 1544.94 Q2104.95 1540.33 2104.95 1531.6 Q2104.95 1522.85 2108.01 1518.27 Q2111.08 1513.66 2116.89 1513.66 Z\" fill=\"#000000\" fill-rule=\"evenodd\" fill-opacity=\"1\" /><polyline clip-path=\"url(#clip782)\" style=\"stroke:#000000; stroke-linecap:round; stroke-linejoin:round; stroke-width:2; stroke-opacity:0.1; fill:none\" points=\"\n  172.015,1447.62 2352.76,1447.62 \n  \"/>\n<polyline clip-path=\"url(#clip782)\" style=\"stroke:#000000; stroke-linecap:round; stroke-linejoin:round; stroke-width:2; stroke-opacity:0.1; fill:none\" points=\"\n  172.015,1066.24 2352.76,1066.24 \n  \"/>\n<polyline clip-path=\"url(#clip782)\" style=\"stroke:#000000; stroke-linecap:round; stroke-linejoin:round; stroke-width:2; stroke-opacity:0.1; fill:none\" points=\"\n  172.015,684.848 2352.76,684.848 \n  \"/>\n<polyline clip-path=\"url(#clip782)\" style=\"stroke:#000000; stroke-linecap:round; stroke-linejoin:round; stroke-width:2; stroke-opacity:0.1; fill:none\" points=\"\n  172.015,303.46 2352.76,303.46 \n  \"/>\n<polyline clip-path=\"url(#clip780)\" style=\"stroke:#000000; stroke-linecap:round; stroke-linejoin:round; stroke-width:4; stroke-opacity:1; fill:none\" points=\"\n  172.015,1486.45 172.015,47.2441 \n  \"/>\n<polyline clip-path=\"url(#clip780)\" style=\"stroke:#000000; stroke-linecap:round; stroke-linejoin:round; stroke-width:4; stroke-opacity:1; fill:none\" points=\"\n  172.015,1447.62 190.912,1447.62 \n  \"/>\n<polyline clip-path=\"url(#clip780)\" style=\"stroke:#000000; stroke-linecap:round; stroke-linejoin:round; stroke-width:4; stroke-opacity:1; fill:none\" points=\"\n  172.015,1066.24 190.912,1066.24 \n  \"/>\n<polyline clip-path=\"url(#clip780)\" style=\"stroke:#000000; stroke-linecap:round; stroke-linejoin:round; stroke-width:4; stroke-opacity:1; fill:none\" points=\"\n  172.015,684.848 190.912,684.848 \n  \"/>\n<polyline clip-path=\"url(#clip780)\" style=\"stroke:#000000; stroke-linecap:round; stroke-linejoin:round; stroke-width:4; stroke-opacity:1; fill:none\" points=\"\n  172.015,303.46 190.912,303.46 \n  \"/>\n<path clip-path=\"url(#clip780)\" d=\"M124.07 1433.42 Q120.459 1433.42 118.631 1436.99 Q116.825 1440.53 116.825 1447.66 Q116.825 1454.76 118.631 1458.33 Q120.459 1461.87 124.07 1461.87 Q127.705 1461.87 129.51 1458.33 Q131.339 1454.76 131.339 1447.66 Q131.339 1440.53 129.51 1436.99 Q127.705 1433.42 124.07 1433.42 M124.07 1429.72 Q129.881 1429.72 132.936 1434.32 Q136.015 1438.91 136.015 1447.66 Q136.015 1456.38 132.936 1460.99 Q129.881 1465.57 124.07 1465.57 Q118.26 1465.57 115.182 1460.99 Q112.126 1456.38 112.126 1447.66 Q112.126 1438.91 115.182 1434.32 Q118.26 1429.72 124.07 1429.72 Z\" fill=\"#000000\" fill-rule=\"evenodd\" fill-opacity=\"1\" /><path clip-path=\"url(#clip780)\" d=\"M57.7745 1079.58 L74.0939 1079.58 L74.0939 1083.52 L52.1495 1083.52 L52.1495 1079.58 Q54.8115 1076.83 59.3949 1072.2 Q64.0013 1067.54 65.1819 1066.2 Q67.4272 1063.68 68.3068 1061.94 Q69.2096 1060.18 69.2096 1058.49 Q69.2096 1055.74 67.2652 1054 Q65.3439 1052.27 62.2421 1052.27 Q60.043 1052.27 57.5893 1053.03 Q55.1588 1053.79 52.381 1055.34 L52.381 1050.62 Q55.2051 1049.49 57.6588 1048.91 Q60.1124 1048.33 62.1495 1048.33 Q67.5198 1048.33 70.7142 1051.02 Q73.9087 1053.7 73.9087 1058.19 Q73.9087 1060.32 73.0985 1062.24 Q72.3115 1064.14 70.205 1066.73 Q69.6263 1067.4 66.5245 1070.62 Q63.4226 1073.82 57.7745 1079.58 Z\" fill=\"#000000\" fill-rule=\"evenodd\" fill-opacity=\"1\" /><path clip-path=\"url(#clip780)\" d=\"M93.9086 1052.03 Q90.2975 1052.03 88.4688 1055.6 Q86.6632 1059.14 86.6632 1066.27 Q86.6632 1073.38 88.4688 1076.94 Q90.2975 1080.48 93.9086 1080.48 Q97.5428 1080.48 99.3483 1076.94 Q101.177 1073.38 101.177 1066.27 Q101.177 1059.14 99.3483 1055.6 Q97.5428 1052.03 93.9086 1052.03 M93.9086 1048.33 Q99.7187 1048.33 102.774 1052.94 Q105.853 1057.52 105.853 1066.27 Q105.853 1075 102.774 1079.6 Q99.7187 1084.19 93.9086 1084.19 Q88.0984 1084.19 85.0197 1079.6 Q81.9642 1075 81.9642 1066.27 Q81.9642 1057.52 85.0197 1052.94 Q88.0984 1048.33 93.9086 1048.33 Z\" fill=\"#000000\" fill-rule=\"evenodd\" fill-opacity=\"1\" /><path clip-path=\"url(#clip780)\" d=\"M124.07 1052.03 Q120.459 1052.03 118.631 1055.6 Q116.825 1059.14 116.825 1066.27 Q116.825 1073.38 118.631 1076.94 Q120.459 1080.48 124.07 1080.48 Q127.705 1080.48 129.51 1076.94 Q131.339 1073.38 131.339 1066.27 Q131.339 1059.14 129.51 1055.6 Q127.705 1052.03 124.07 1052.03 M124.07 1048.33 Q129.881 1048.33 132.936 1052.94 Q136.015 1057.52 136.015 1066.27 Q136.015 1075 132.936 1079.6 Q129.881 1084.19 124.07 1084.19 Q118.26 1084.19 115.182 1079.6 Q112.126 1075 112.126 1066.27 Q112.126 1057.52 115.182 1052.94 Q118.26 1048.33 124.07 1048.33 Z\" fill=\"#000000\" fill-rule=\"evenodd\" fill-opacity=\"1\" /><path clip-path=\"url(#clip780)\" d=\"M66.5939 671.642 L54.7884 690.091 L66.5939 690.091 L66.5939 671.642 M65.367 667.568 L71.2466 667.568 L71.2466 690.091 L76.1772 690.091 L76.1772 693.98 L71.2466 693.98 L71.2466 702.128 L66.5939 702.128 L66.5939 693.98 L50.9921 693.98 L50.9921 689.466 L65.367 667.568 Z\" fill=\"#000000\" fill-rule=\"evenodd\" fill-opacity=\"1\" /><path clip-path=\"url(#clip780)\" d=\"M93.9086 670.646 Q90.2975 670.646 88.4688 674.211 Q86.6632 677.753 86.6632 684.882 Q86.6632 691.989 88.4688 695.554 Q90.2975 699.095 93.9086 699.095 Q97.5428 699.095 99.3483 695.554 Q101.177 691.989 101.177 684.882 Q101.177 677.753 99.3483 674.211 Q97.5428 670.646 93.9086 670.646 M93.9086 666.943 Q99.7187 666.943 102.774 671.549 Q105.853 676.132 105.853 684.882 Q105.853 693.609 102.774 698.216 Q99.7187 702.799 93.9086 702.799 Q88.0984 702.799 85.0197 698.216 Q81.9642 693.609 81.9642 684.882 Q81.9642 676.132 85.0197 671.549 Q88.0984 666.943 93.9086 666.943 Z\" fill=\"#000000\" fill-rule=\"evenodd\" fill-opacity=\"1\" /><path clip-path=\"url(#clip780)\" d=\"M124.07 670.646 Q120.459 670.646 118.631 674.211 Q116.825 677.753 116.825 684.882 Q116.825 691.989 118.631 695.554 Q120.459 699.095 124.07 699.095 Q127.705 699.095 129.51 695.554 Q131.339 691.989 131.339 684.882 Q131.339 677.753 129.51 674.211 Q127.705 670.646 124.07 670.646 M124.07 666.943 Q129.881 666.943 132.936 671.549 Q136.015 676.132 136.015 684.882 Q136.015 693.609 132.936 698.216 Q129.881 702.799 124.07 702.799 Q118.26 702.799 115.182 698.216 Q112.126 693.609 112.126 684.882 Q112.126 676.132 115.182 671.549 Q118.26 666.943 124.07 666.943 Z\" fill=\"#000000\" fill-rule=\"evenodd\" fill-opacity=\"1\" /><path clip-path=\"url(#clip780)\" d=\"M64.3254 301.597 Q61.1773 301.597 59.3254 303.75 Q57.4967 305.902 57.4967 309.652 Q57.4967 313.379 59.3254 315.555 Q61.1773 317.708 64.3254 317.708 Q67.4735 317.708 69.3022 315.555 Q71.1541 313.379 71.1541 309.652 Q71.1541 305.902 69.3022 303.75 Q67.4735 301.597 64.3254 301.597 M73.6077 286.944 L73.6077 291.203 Q71.8485 290.37 70.0429 289.93 Q68.2606 289.49 66.5013 289.49 Q61.8717 289.49 59.418 292.615 Q56.9875 295.74 56.6402 302.06 Q58.006 300.046 60.0662 298.981 Q62.1263 297.893 64.6032 297.893 Q69.8115 297.893 72.8207 301.064 Q75.8531 304.213 75.8531 309.652 Q75.8531 314.976 72.705 318.194 Q69.5568 321.411 64.3254 321.411 Q58.33 321.411 55.1588 316.828 Q51.9875 312.222 51.9875 303.495 Q51.9875 295.301 55.8764 290.439 Q59.7652 285.555 66.3161 285.555 Q68.0754 285.555 69.8578 285.902 Q71.6633 286.25 73.6077 286.944 Z\" fill=\"#000000\" fill-rule=\"evenodd\" fill-opacity=\"1\" /><path clip-path=\"url(#clip780)\" d=\"M93.9086 289.259 Q90.2975 289.259 88.4688 292.824 Q86.6632 296.365 86.6632 303.495 Q86.6632 310.601 88.4688 314.166 Q90.2975 317.708 93.9086 317.708 Q97.5428 317.708 99.3483 314.166 Q101.177 310.601 101.177 303.495 Q101.177 296.365 99.3483 292.824 Q97.5428 289.259 93.9086 289.259 M93.9086 285.555 Q99.7187 285.555 102.774 290.162 Q105.853 294.745 105.853 303.495 Q105.853 312.222 102.774 316.828 Q99.7187 321.411 93.9086 321.411 Q88.0984 321.411 85.0197 316.828 Q81.9642 312.222 81.9642 303.495 Q81.9642 294.745 85.0197 290.162 Q88.0984 285.555 93.9086 285.555 Z\" fill=\"#000000\" fill-rule=\"evenodd\" fill-opacity=\"1\" /><path clip-path=\"url(#clip780)\" d=\"M124.07 289.259 Q120.459 289.259 118.631 292.824 Q116.825 296.365 116.825 303.495 Q116.825 310.601 118.631 314.166 Q120.459 317.708 124.07 317.708 Q127.705 317.708 129.51 314.166 Q131.339 310.601 131.339 303.495 Q131.339 296.365 129.51 292.824 Q127.705 289.259 124.07 289.259 M124.07 285.555 Q129.881 285.555 132.936 290.162 Q136.015 294.745 136.015 303.495 Q136.015 312.222 132.936 316.828 Q129.881 321.411 124.07 321.411 Q118.26 321.411 115.182 316.828 Q112.126 312.222 112.126 303.495 Q112.126 294.745 115.182 290.162 Q118.26 285.555 124.07 285.555 Z\" fill=\"#000000\" fill-rule=\"evenodd\" fill-opacity=\"1\" /><circle clip-path=\"url(#clip782)\" cx=\"1534.33\" cy=\"1443.81\" r=\"14.4\" fill=\"#009af9\" fill-rule=\"evenodd\" fill-opacity=\"1\" stroke=\"#000000\" stroke-opacity=\"1\" stroke-width=\"3.2\"/>\n<circle clip-path=\"url(#clip782)\" cx=\"588.441\" cy=\"1378.97\" r=\"14.4\" fill=\"#009af9\" fill-rule=\"evenodd\" fill-opacity=\"1\" stroke=\"#000000\" stroke-opacity=\"1\" stroke-width=\"3.2\"/>\n<circle clip-path=\"url(#clip782)\" cx=\"683.03\" cy=\"1394.23\" r=\"14.4\" fill=\"#009af9\" fill-rule=\"evenodd\" fill-opacity=\"1\" stroke=\"#000000\" stroke-opacity=\"1\" stroke-width=\"3.2\"/>\n<circle clip-path=\"url(#clip782)\" cx=\"1581.62\" cy=\"1439.99\" r=\"14.4\" fill=\"#009af9\" fill-rule=\"evenodd\" fill-opacity=\"1\" stroke=\"#000000\" stroke-opacity=\"1\" stroke-width=\"3.2\"/>\n<circle clip-path=\"url(#clip782)\" cx=\"1439.74\" cy=\"1445.72\" r=\"14.4\" fill=\"#009af9\" fill-rule=\"evenodd\" fill-opacity=\"1\" stroke=\"#000000\" stroke-opacity=\"1\" stroke-width=\"3.2\"/>\n<circle clip-path=\"url(#clip782)\" cx=\"1628.92\" cy=\"1436.18\" r=\"14.4\" fill=\"#009af9\" fill-rule=\"evenodd\" fill-opacity=\"1\" stroke=\"#000000\" stroke-opacity=\"1\" stroke-width=\"3.2\"/>\n<circle clip-path=\"url(#clip782)\" cx=\"493.853\" cy=\"1342.74\" r=\"14.4\" fill=\"#009af9\" fill-rule=\"evenodd\" fill-opacity=\"1\" stroke=\"#000000\" stroke-opacity=\"1\" stroke-width=\"3.2\"/>\n<circle clip-path=\"url(#clip782)\" cx=\"919.502\" cy=\"1422.83\" r=\"14.4\" fill=\"#009af9\" fill-rule=\"evenodd\" fill-opacity=\"1\" stroke=\"#000000\" stroke-opacity=\"1\" stroke-width=\"3.2\"/>\n<circle clip-path=\"url(#clip782)\" cx=\"777.619\" cy=\"1401.86\" r=\"14.4\" fill=\"#009af9\" fill-rule=\"evenodd\" fill-opacity=\"1\" stroke=\"#000000\" stroke-opacity=\"1\" stroke-width=\"3.2\"/>\n<circle clip-path=\"url(#clip782)\" cx=\"399.264\" cy=\"1289.35\" r=\"14.4\" fill=\"#009af9\" fill-rule=\"evenodd\" fill-opacity=\"1\" stroke=\"#000000\" stroke-opacity=\"1\" stroke-width=\"3.2\"/>\n<circle clip-path=\"url(#clip782)\" cx=\"872.207\" cy=\"1424.74\" r=\"14.4\" fill=\"#009af9\" fill-rule=\"evenodd\" fill-opacity=\"1\" stroke=\"#000000\" stroke-opacity=\"1\" stroke-width=\"3.2\"/>\n<circle clip-path=\"url(#clip782)\" cx=\"233.734\" cy=\"1445.72\" r=\"14.4\" fill=\"#009af9\" fill-rule=\"evenodd\" fill-opacity=\"1\" stroke=\"#000000\" stroke-opacity=\"1\" stroke-width=\"3.2\"/>\n<circle clip-path=\"url(#clip782)\" cx=\"730.324\" cy=\"1398.04\" r=\"14.4\" fill=\"#009af9\" fill-rule=\"evenodd\" fill-opacity=\"1\" stroke=\"#000000\" stroke-opacity=\"1\" stroke-width=\"3.2\"/>\n<circle clip-path=\"url(#clip782)\" cx=\"966.796\" cy=\"1438.09\" r=\"14.4\" fill=\"#009af9\" fill-rule=\"evenodd\" fill-opacity=\"1\" stroke=\"#000000\" stroke-opacity=\"1\" stroke-width=\"3.2\"/>\n<circle clip-path=\"url(#clip782)\" cx=\"351.97\" cy=\"1186.37\" r=\"14.4\" fill=\"#009af9\" fill-rule=\"evenodd\" fill-opacity=\"1\" stroke=\"#000000\" stroke-opacity=\"1\" stroke-width=\"3.2\"/>\n<circle clip-path=\"url(#clip782)\" cx=\"470.206\" cy=\"1445.72\" r=\"14.4\" fill=\"#009af9\" fill-rule=\"evenodd\" fill-opacity=\"1\" stroke=\"#000000\" stroke-opacity=\"1\" stroke-width=\"3.2\"/>\n<circle clip-path=\"url(#clip782)\" cx=\"1061.38\" cy=\"1426.65\" r=\"14.4\" fill=\"#009af9\" fill-rule=\"evenodd\" fill-opacity=\"1\" stroke=\"#000000\" stroke-opacity=\"1\" stroke-width=\"3.2\"/>\n<circle clip-path=\"url(#clip782)\" cx=\"1250.56\" cy=\"1439.99\" r=\"14.4\" fill=\"#009af9\" fill-rule=\"evenodd\" fill-opacity=\"1\" stroke=\"#000000\" stroke-opacity=\"1\" stroke-width=\"3.2\"/>\n<circle clip-path=\"url(#clip782)\" cx=\"1818.09\" cy=\"1443.81\" r=\"14.4\" fill=\"#009af9\" fill-rule=\"evenodd\" fill-opacity=\"1\" stroke=\"#000000\" stroke-opacity=\"1\" stroke-width=\"3.2\"/>\n<circle clip-path=\"url(#clip782)\" cx=\"2149.15\" cy=\"1445.72\" r=\"14.4\" fill=\"#009af9\" fill-rule=\"evenodd\" fill-opacity=\"1\" stroke=\"#000000\" stroke-opacity=\"1\" stroke-width=\"3.2\"/>\n<circle clip-path=\"url(#clip782)\" cx=\"541.147\" cy=\"1361.81\" r=\"14.4\" fill=\"#009af9\" fill-rule=\"evenodd\" fill-opacity=\"1\" stroke=\"#000000\" stroke-opacity=\"1\" stroke-width=\"3.2\"/>\n<circle clip-path=\"url(#clip782)\" cx=\"1959.98\" cy=\"1445.72\" r=\"14.4\" fill=\"#009af9\" fill-rule=\"evenodd\" fill-opacity=\"1\" stroke=\"#000000\" stroke-opacity=\"1\" stroke-width=\"3.2\"/>\n<circle clip-path=\"url(#clip782)\" cx=\"2101.86\" cy=\"1443.81\" r=\"14.4\" fill=\"#009af9\" fill-rule=\"evenodd\" fill-opacity=\"1\" stroke=\"#000000\" stroke-opacity=\"1\" stroke-width=\"3.2\"/>\n<circle clip-path=\"url(#clip782)\" cx=\"1723.5\" cy=\"1443.81\" r=\"14.4\" fill=\"#009af9\" fill-rule=\"evenodd\" fill-opacity=\"1\" stroke=\"#000000\" stroke-opacity=\"1\" stroke-width=\"3.2\"/>\n<circle clip-path=\"url(#clip782)\" cx=\"2196.45\" cy=\"1445.72\" r=\"14.4\" fill=\"#009af9\" fill-rule=\"evenodd\" fill-opacity=\"1\" stroke=\"#000000\" stroke-opacity=\"1\" stroke-width=\"3.2\"/>\n<circle clip-path=\"url(#clip782)\" cx=\"1297.86\" cy=\"1422.83\" r=\"14.4\" fill=\"#009af9\" fill-rule=\"evenodd\" fill-opacity=\"1\" stroke=\"#000000\" stroke-opacity=\"1\" stroke-width=\"3.2\"/>\n<circle clip-path=\"url(#clip782)\" cx=\"1770.8\" cy=\"1445.72\" r=\"14.4\" fill=\"#009af9\" fill-rule=\"evenodd\" fill-opacity=\"1\" stroke=\"#000000\" stroke-opacity=\"1\" stroke-width=\"3.2\"/>\n<circle clip-path=\"url(#clip782)\" cx=\"1155.97\" cy=\"1419.02\" r=\"14.4\" fill=\"#009af9\" fill-rule=\"evenodd\" fill-opacity=\"1\" stroke=\"#000000\" stroke-opacity=\"1\" stroke-width=\"3.2\"/>\n<circle clip-path=\"url(#clip782)\" cx=\"1345.15\" cy=\"1432.37\" r=\"14.4\" fill=\"#009af9\" fill-rule=\"evenodd\" fill-opacity=\"1\" stroke=\"#000000\" stroke-opacity=\"1\" stroke-width=\"3.2\"/>\n<circle clip-path=\"url(#clip782)\" cx=\"1865.39\" cy=\"1443.81\" r=\"14.4\" fill=\"#009af9\" fill-rule=\"evenodd\" fill-opacity=\"1\" stroke=\"#000000\" stroke-opacity=\"1\" stroke-width=\"3.2\"/>\n<circle clip-path=\"url(#clip782)\" cx=\"304.675\" cy=\"993.772\" r=\"14.4\" fill=\"#009af9\" fill-rule=\"evenodd\" fill-opacity=\"1\" stroke=\"#000000\" stroke-opacity=\"1\" stroke-width=\"3.2\"/>\n<circle clip-path=\"url(#clip782)\" cx=\"1392.44\" cy=\"1441.9\" r=\"14.4\" fill=\"#009af9\" fill-rule=\"evenodd\" fill-opacity=\"1\" stroke=\"#000000\" stroke-opacity=\"1\" stroke-width=\"3.2\"/>\n<circle clip-path=\"url(#clip782)\" cx=\"1487.03\" cy=\"1443.81\" r=\"14.4\" fill=\"#009af9\" fill-rule=\"evenodd\" fill-opacity=\"1\" stroke=\"#000000\" stroke-opacity=\"1\" stroke-width=\"3.2\"/>\n<circle clip-path=\"url(#clip782)\" cx=\"257.381\" cy=\"87.9763\" r=\"14.4\" fill=\"#009af9\" fill-rule=\"evenodd\" fill-opacity=\"1\" stroke=\"#000000\" stroke-opacity=\"1\" stroke-width=\"3.2\"/>\n<circle clip-path=\"url(#clip782)\" cx=\"446.558\" cy=\"1291.25\" r=\"14.4\" fill=\"#009af9\" fill-rule=\"evenodd\" fill-opacity=\"1\" stroke=\"#000000\" stroke-opacity=\"1\" stroke-width=\"3.2\"/>\n<circle clip-path=\"url(#clip782)\" cx=\"1108.68\" cy=\"1439.99\" r=\"14.4\" fill=\"#009af9\" fill-rule=\"evenodd\" fill-opacity=\"1\" stroke=\"#000000\" stroke-opacity=\"1\" stroke-width=\"3.2\"/>\n<circle clip-path=\"url(#clip782)\" cx=\"635.736\" cy=\"1380.88\" r=\"14.4\" fill=\"#009af9\" fill-rule=\"evenodd\" fill-opacity=\"1\" stroke=\"#000000\" stroke-opacity=\"1\" stroke-width=\"3.2\"/>\n<circle clip-path=\"url(#clip782)\" cx=\"824.913\" cy=\"1417.11\" r=\"14.4\" fill=\"#009af9\" fill-rule=\"evenodd\" fill-opacity=\"1\" stroke=\"#000000\" stroke-opacity=\"1\" stroke-width=\"3.2\"/>\n<circle clip-path=\"url(#clip782)\" cx=\"1014.09\" cy=\"1430.46\" r=\"14.4\" fill=\"#009af9\" fill-rule=\"evenodd\" fill-opacity=\"1\" stroke=\"#000000\" stroke-opacity=\"1\" stroke-width=\"3.2\"/>\n<circle clip-path=\"url(#clip782)\" cx=\"1203.27\" cy=\"1436.18\" r=\"14.4\" fill=\"#009af9\" fill-rule=\"evenodd\" fill-opacity=\"1\" stroke=\"#000000\" stroke-opacity=\"1\" stroke-width=\"3.2\"/>\n<circle clip-path=\"url(#clip782)\" cx=\"1676.21\" cy=\"1434.27\" r=\"14.4\" fill=\"#009af9\" fill-rule=\"evenodd\" fill-opacity=\"1\" stroke=\"#000000\" stroke-opacity=\"1\" stroke-width=\"3.2\"/>\n<circle clip-path=\"url(#clip782)\" cx=\"2291.04\" cy=\"1445.72\" r=\"14.4\" fill=\"#009af9\" fill-rule=\"evenodd\" fill-opacity=\"1\" stroke=\"#000000\" stroke-opacity=\"1\" stroke-width=\"3.2\"/>\n<circle clip-path=\"url(#clip782)\" cx=\"328.323\" cy=\"1438.09\" r=\"14.4\" fill=\"#e26f46\" fill-rule=\"evenodd\" fill-opacity=\"1\" stroke=\"#000000\" stroke-opacity=\"1\" stroke-width=\"3.2\"/>\n<circle clip-path=\"url(#clip782)\" cx=\"1037.74\" cy=\"1438.09\" r=\"14.4\" fill=\"#e26f46\" fill-rule=\"evenodd\" fill-opacity=\"1\" stroke=\"#000000\" stroke-opacity=\"1\" stroke-width=\"3.2\"/>\n<circle clip-path=\"url(#clip782)\" cx=\"1510.68\" cy=\"1443.81\" r=\"14.4\" fill=\"#e26f46\" fill-rule=\"evenodd\" fill-opacity=\"1\" stroke=\"#000000\" stroke-opacity=\"1\" stroke-width=\"3.2\"/>\n<circle clip-path=\"url(#clip782)\" cx=\"919.502\" cy=\"1439.99\" r=\"14.4\" fill=\"#e26f46\" fill-rule=\"evenodd\" fill-opacity=\"1\" stroke=\"#000000\" stroke-opacity=\"1\" stroke-width=\"3.2\"/>\n<circle clip-path=\"url(#clip782)\" cx=\"966.796\" cy=\"1439.99\" r=\"14.4\" fill=\"#e26f46\" fill-rule=\"evenodd\" fill-opacity=\"1\" stroke=\"#000000\" stroke-opacity=\"1\" stroke-width=\"3.2\"/>\n<circle clip-path=\"url(#clip782)\" cx=\"351.97\" cy=\"1197.81\" r=\"14.4\" fill=\"#e26f46\" fill-rule=\"evenodd\" fill-opacity=\"1\" stroke=\"#000000\" stroke-opacity=\"1\" stroke-width=\"3.2\"/>\n<circle clip-path=\"url(#clip782)\" cx=\"1794.45\" cy=\"1445.72\" r=\"14.4\" fill=\"#e26f46\" fill-rule=\"evenodd\" fill-opacity=\"1\" stroke=\"#000000\" stroke-opacity=\"1\" stroke-width=\"3.2\"/>\n<circle clip-path=\"url(#clip782)\" cx=\"1274.21\" cy=\"1443.81\" r=\"14.4\" fill=\"#e26f46\" fill-rule=\"evenodd\" fill-opacity=\"1\" stroke=\"#000000\" stroke-opacity=\"1\" stroke-width=\"3.2\"/>\n<circle clip-path=\"url(#clip782)\" cx=\"1936.33\" cy=\"1445.72\" r=\"14.4\" fill=\"#e26f46\" fill-rule=\"evenodd\" fill-opacity=\"1\" stroke=\"#000000\" stroke-opacity=\"1\" stroke-width=\"3.2\"/>\n<circle clip-path=\"url(#clip782)\" cx=\"1723.5\" cy=\"1443.81\" r=\"14.4\" fill=\"#e26f46\" fill-rule=\"evenodd\" fill-opacity=\"1\" stroke=\"#000000\" stroke-opacity=\"1\" stroke-width=\"3.2\"/>\n<circle clip-path=\"url(#clip782)\" cx=\"304.675\" cy=\"999.492\" r=\"14.4\" fill=\"#e26f46\" fill-rule=\"evenodd\" fill-opacity=\"1\" stroke=\"#000000\" stroke-opacity=\"1\" stroke-width=\"3.2\"/>\n<circle clip-path=\"url(#clip782)\" cx=\"517.5\" cy=\"1424.74\" r=\"14.4\" fill=\"#e26f46\" fill-rule=\"evenodd\" fill-opacity=\"1\" stroke=\"#000000\" stroke-opacity=\"1\" stroke-width=\"3.2\"/>\n<circle clip-path=\"url(#clip782)\" cx=\"1487.03\" cy=\"1441.9\" r=\"14.4\" fill=\"#e26f46\" fill-rule=\"evenodd\" fill-opacity=\"1\" stroke=\"#000000\" stroke-opacity=\"1\" stroke-width=\"3.2\"/>\n<circle clip-path=\"url(#clip782)\" cx=\"1699.86\" cy=\"1445.72\" r=\"14.4\" fill=\"#e26f46\" fill-rule=\"evenodd\" fill-opacity=\"1\" stroke=\"#000000\" stroke-opacity=\"1\" stroke-width=\"3.2\"/>\n<circle clip-path=\"url(#clip782)\" cx=\"1676.21\" cy=\"1445.72\" r=\"14.4\" fill=\"#e26f46\" fill-rule=\"evenodd\" fill-opacity=\"1\" stroke=\"#000000\" stroke-opacity=\"1\" stroke-width=\"3.2\"/>\n<circle clip-path=\"url(#clip782)\" cx=\"1581.62\" cy=\"1434.27\" r=\"14.4\" fill=\"#e26f46\" fill-rule=\"evenodd\" fill-opacity=\"1\" stroke=\"#000000\" stroke-opacity=\"1\" stroke-width=\"3.2\"/>\n<circle clip-path=\"url(#clip782)\" cx=\"1439.74\" cy=\"1445.72\" r=\"14.4\" fill=\"#e26f46\" fill-rule=\"evenodd\" fill-opacity=\"1\" stroke=\"#000000\" stroke-opacity=\"1\" stroke-width=\"3.2\"/>\n<circle clip-path=\"url(#clip782)\" cx=\"493.853\" cy=\"1361.81\" r=\"14.4\" fill=\"#e26f46\" fill-rule=\"evenodd\" fill-opacity=\"1\" stroke=\"#000000\" stroke-opacity=\"1\" stroke-width=\"3.2\"/>\n<circle clip-path=\"url(#clip782)\" cx=\"872.207\" cy=\"1432.37\" r=\"14.4\" fill=\"#e26f46\" fill-rule=\"evenodd\" fill-opacity=\"1\" stroke=\"#000000\" stroke-opacity=\"1\" stroke-width=\"3.2\"/>\n<circle clip-path=\"url(#clip782)\" cx=\"753.971\" cy=\"1432.37\" r=\"14.4\" fill=\"#e26f46\" fill-rule=\"evenodd\" fill-opacity=\"1\" stroke=\"#000000\" stroke-opacity=\"1\" stroke-width=\"3.2\"/>\n<circle clip-path=\"url(#clip782)\" cx=\"1226.91\" cy=\"1439.99\" r=\"14.4\" fill=\"#e26f46\" fill-rule=\"evenodd\" fill-opacity=\"1\" stroke=\"#000000\" stroke-opacity=\"1\" stroke-width=\"3.2\"/>\n<circle clip-path=\"url(#clip782)\" cx=\"470.206\" cy=\"1426.65\" r=\"14.4\" fill=\"#e26f46\" fill-rule=\"evenodd\" fill-opacity=\"1\" stroke=\"#000000\" stroke-opacity=\"1\" stroke-width=\"3.2\"/>\n<circle clip-path=\"url(#clip782)\" cx=\"1061.38\" cy=\"1441.9\" r=\"14.4\" fill=\"#e26f46\" fill-rule=\"evenodd\" fill-opacity=\"1\" stroke=\"#000000\" stroke-opacity=\"1\" stroke-width=\"3.2\"/>\n<circle clip-path=\"url(#clip782)\" cx=\"1132.33\" cy=\"1436.18\" r=\"14.4\" fill=\"#e26f46\" fill-rule=\"evenodd\" fill-opacity=\"1\" stroke=\"#000000\" stroke-opacity=\"1\" stroke-width=\"3.2\"/>\n<circle clip-path=\"url(#clip782)\" cx=\"375.617\" cy=\"1434.27\" r=\"14.4\" fill=\"#e26f46\" fill-rule=\"evenodd\" fill-opacity=\"1\" stroke=\"#000000\" stroke-opacity=\"1\" stroke-width=\"3.2\"/>\n<circle clip-path=\"url(#clip782)\" cx=\"801.266\" cy=\"1438.09\" r=\"14.4\" fill=\"#e26f46\" fill-rule=\"evenodd\" fill-opacity=\"1\" stroke=\"#000000\" stroke-opacity=\"1\" stroke-width=\"3.2\"/>\n<circle clip-path=\"url(#clip782)\" cx=\"1605.27\" cy=\"1443.81\" r=\"14.4\" fill=\"#e26f46\" fill-rule=\"evenodd\" fill-opacity=\"1\" stroke=\"#000000\" stroke-opacity=\"1\" stroke-width=\"3.2\"/>\n<circle clip-path=\"url(#clip782)\" cx=\"1392.44\" cy=\"1441.9\" r=\"14.4\" fill=\"#e26f46\" fill-rule=\"evenodd\" fill-opacity=\"1\" stroke=\"#000000\" stroke-opacity=\"1\" stroke-width=\"3.2\"/>\n<circle clip-path=\"url(#clip782)\" cx=\"1014.09\" cy=\"1436.18\" r=\"14.4\" fill=\"#e26f46\" fill-rule=\"evenodd\" fill-opacity=\"1\" stroke=\"#000000\" stroke-opacity=\"1\" stroke-width=\"3.2\"/>\n<circle clip-path=\"url(#clip782)\" cx=\"257.381\" cy=\"91.7902\" r=\"14.4\" fill=\"#e26f46\" fill-rule=\"evenodd\" fill-opacity=\"1\" stroke=\"#000000\" stroke-opacity=\"1\" stroke-width=\"3.2\"/>\n<circle clip-path=\"url(#clip782)\" cx=\"446.558\" cy=\"1310.32\" r=\"14.4\" fill=\"#e26f46\" fill-rule=\"evenodd\" fill-opacity=\"1\" stroke=\"#000000\" stroke-opacity=\"1\" stroke-width=\"3.2\"/>\n<circle clip-path=\"url(#clip782)\" cx=\"635.736\" cy=\"1392.32\" r=\"14.4\" fill=\"#e26f46\" fill-rule=\"evenodd\" fill-opacity=\"1\" stroke=\"#000000\" stroke-opacity=\"1\" stroke-width=\"3.2\"/>\n<circle clip-path=\"url(#clip782)\" cx=\"824.913\" cy=\"1424.74\" r=\"14.4\" fill=\"#e26f46\" fill-rule=\"evenodd\" fill-opacity=\"1\" stroke=\"#000000\" stroke-opacity=\"1\" stroke-width=\"3.2\"/>\n<circle clip-path=\"url(#clip782)\" cx=\"848.56\" cy=\"1439.99\" r=\"14.4\" fill=\"#e26f46\" fill-rule=\"evenodd\" fill-opacity=\"1\" stroke=\"#000000\" stroke-opacity=\"1\" stroke-width=\"3.2\"/>\n<circle clip-path=\"url(#clip782)\" cx=\"1203.27\" cy=\"1438.09\" r=\"14.4\" fill=\"#e26f46\" fill-rule=\"evenodd\" fill-opacity=\"1\" stroke=\"#000000\" stroke-opacity=\"1\" stroke-width=\"3.2\"/>\n<circle clip-path=\"url(#clip782)\" cx=\"588.441\" cy=\"1384.69\" r=\"14.4\" fill=\"#e26f46\" fill-rule=\"evenodd\" fill-opacity=\"1\" stroke=\"#000000\" stroke-opacity=\"1\" stroke-width=\"3.2\"/>\n<circle clip-path=\"url(#clip782)\" cx=\"683.03\" cy=\"1409.48\" r=\"14.4\" fill=\"#e26f46\" fill-rule=\"evenodd\" fill-opacity=\"1\" stroke=\"#000000\" stroke-opacity=\"1\" stroke-width=\"3.2\"/>\n<circle clip-path=\"url(#clip782)\" cx=\"2125.51\" cy=\"1445.72\" r=\"14.4\" fill=\"#e26f46\" fill-rule=\"evenodd\" fill-opacity=\"1\" stroke=\"#000000\" stroke-opacity=\"1\" stroke-width=\"3.2\"/>\n<circle clip-path=\"url(#clip782)\" cx=\"659.383\" cy=\"1426.65\" r=\"14.4\" fill=\"#e26f46\" fill-rule=\"evenodd\" fill-opacity=\"1\" stroke=\"#000000\" stroke-opacity=\"1\" stroke-width=\"3.2\"/>\n<circle clip-path=\"url(#clip782)\" cx=\"1250.56\" cy=\"1434.27\" r=\"14.4\" fill=\"#e26f46\" fill-rule=\"evenodd\" fill-opacity=\"1\" stroke=\"#000000\" stroke-opacity=\"1\" stroke-width=\"3.2\"/>\n<circle clip-path=\"url(#clip782)\" cx=\"422.911\" cy=\"1426.65\" r=\"14.4\" fill=\"#e26f46\" fill-rule=\"evenodd\" fill-opacity=\"1\" stroke=\"#000000\" stroke-opacity=\"1\" stroke-width=\"3.2\"/>\n<circle clip-path=\"url(#clip782)\" cx=\"943.149\" cy=\"1443.81\" r=\"14.4\" fill=\"#e26f46\" fill-rule=\"evenodd\" fill-opacity=\"1\" stroke=\"#000000\" stroke-opacity=\"1\" stroke-width=\"3.2\"/>\n<circle clip-path=\"url(#clip782)\" cx=\"895.854\" cy=\"1432.37\" r=\"14.4\" fill=\"#e26f46\" fill-rule=\"evenodd\" fill-opacity=\"1\" stroke=\"#000000\" stroke-opacity=\"1\" stroke-width=\"3.2\"/>\n<circle clip-path=\"url(#clip782)\" cx=\"1297.86\" cy=\"1439.99\" r=\"14.4\" fill=\"#e26f46\" fill-rule=\"evenodd\" fill-opacity=\"1\" stroke=\"#000000\" stroke-opacity=\"1\" stroke-width=\"3.2\"/>\n<circle clip-path=\"url(#clip782)\" cx=\"1557.97\" cy=\"1445.72\" r=\"14.4\" fill=\"#e26f46\" fill-rule=\"evenodd\" fill-opacity=\"1\" stroke=\"#000000\" stroke-opacity=\"1\" stroke-width=\"3.2\"/>\n<circle clip-path=\"url(#clip782)\" cx=\"706.677\" cy=\"1432.37\" r=\"14.4\" fill=\"#e26f46\" fill-rule=\"evenodd\" fill-opacity=\"1\" stroke=\"#000000\" stroke-opacity=\"1\" stroke-width=\"3.2\"/>\n<circle clip-path=\"url(#clip782)\" cx=\"1108.68\" cy=\"1434.27\" r=\"14.4\" fill=\"#e26f46\" fill-rule=\"evenodd\" fill-opacity=\"1\" stroke=\"#000000\" stroke-opacity=\"1\" stroke-width=\"3.2\"/>\n<circle clip-path=\"url(#clip782)\" cx=\"1912.68\" cy=\"1445.72\" r=\"14.4\" fill=\"#e26f46\" fill-rule=\"evenodd\" fill-opacity=\"1\" stroke=\"#000000\" stroke-opacity=\"1\" stroke-width=\"3.2\"/>\n<circle clip-path=\"url(#clip782)\" cx=\"777.619\" cy=\"1413.3\" r=\"14.4\" fill=\"#e26f46\" fill-rule=\"evenodd\" fill-opacity=\"1\" stroke=\"#000000\" stroke-opacity=\"1\" stroke-width=\"3.2\"/>\n<circle clip-path=\"url(#clip782)\" cx=\"399.264\" cy=\"1300.79\" r=\"14.4\" fill=\"#e26f46\" fill-rule=\"evenodd\" fill-opacity=\"1\" stroke=\"#000000\" stroke-opacity=\"1\" stroke-width=\"3.2\"/>\n<circle clip-path=\"url(#clip782)\" cx=\"612.088\" cy=\"1432.37\" r=\"14.4\" fill=\"#e26f46\" fill-rule=\"evenodd\" fill-opacity=\"1\" stroke=\"#000000\" stroke-opacity=\"1\" stroke-width=\"3.2\"/>\n<circle clip-path=\"url(#clip782)\" cx=\"1085.03\" cy=\"1441.9\" r=\"14.4\" fill=\"#e26f46\" fill-rule=\"evenodd\" fill-opacity=\"1\" stroke=\"#000000\" stroke-opacity=\"1\" stroke-width=\"3.2\"/>\n<circle clip-path=\"url(#clip782)\" cx=\"233.734\" cy=\"1441.9\" r=\"14.4\" fill=\"#e26f46\" fill-rule=\"evenodd\" fill-opacity=\"1\" stroke=\"#000000\" stroke-opacity=\"1\" stroke-width=\"3.2\"/>\n<circle clip-path=\"url(#clip782)\" cx=\"1463.39\" cy=\"1445.72\" r=\"14.4\" fill=\"#e26f46\" fill-rule=\"evenodd\" fill-opacity=\"1\" stroke=\"#000000\" stroke-opacity=\"1\" stroke-width=\"3.2\"/>\n<circle clip-path=\"url(#clip782)\" cx=\"730.324\" cy=\"1419.02\" r=\"14.4\" fill=\"#e26f46\" fill-rule=\"evenodd\" fill-opacity=\"1\" stroke=\"#000000\" stroke-opacity=\"1\" stroke-width=\"3.2\"/>\n<circle clip-path=\"url(#clip782)\" cx=\"1321.5\" cy=\"1438.09\" r=\"14.4\" fill=\"#e26f46\" fill-rule=\"evenodd\" fill-opacity=\"1\" stroke=\"#000000\" stroke-opacity=\"1\" stroke-width=\"3.2\"/>\n<circle clip-path=\"url(#clip782)\" cx=\"541.147\" cy=\"1388.51\" r=\"14.4\" fill=\"#e26f46\" fill-rule=\"evenodd\" fill-opacity=\"1\" stroke=\"#000000\" stroke-opacity=\"1\" stroke-width=\"3.2\"/>\n<circle clip-path=\"url(#clip782)\" cx=\"281.028\" cy=\"1439.99\" r=\"14.4\" fill=\"#e26f46\" fill-rule=\"evenodd\" fill-opacity=\"1\" stroke=\"#000000\" stroke-opacity=\"1\" stroke-width=\"3.2\"/>\n<circle clip-path=\"url(#clip782)\" cx=\"2101.86\" cy=\"1445.72\" r=\"14.4\" fill=\"#e26f46\" fill-rule=\"evenodd\" fill-opacity=\"1\" stroke=\"#000000\" stroke-opacity=\"1\" stroke-width=\"3.2\"/>\n<circle clip-path=\"url(#clip782)\" cx=\"1416.09\" cy=\"1443.81\" r=\"14.4\" fill=\"#e26f46\" fill-rule=\"evenodd\" fill-opacity=\"1\" stroke=\"#000000\" stroke-opacity=\"1\" stroke-width=\"3.2\"/>\n<circle clip-path=\"url(#clip782)\" cx=\"990.443\" cy=\"1439.99\" r=\"14.4\" fill=\"#e26f46\" fill-rule=\"evenodd\" fill-opacity=\"1\" stroke=\"#000000\" stroke-opacity=\"1\" stroke-width=\"3.2\"/>\n<circle clip-path=\"url(#clip782)\" cx=\"1155.97\" cy=\"1432.37\" r=\"14.4\" fill=\"#e26f46\" fill-rule=\"evenodd\" fill-opacity=\"1\" stroke=\"#000000\" stroke-opacity=\"1\" stroke-width=\"3.2\"/>\n<circle clip-path=\"url(#clip782)\" cx=\"1345.15\" cy=\"1445.72\" r=\"14.4\" fill=\"#e26f46\" fill-rule=\"evenodd\" fill-opacity=\"1\" stroke=\"#000000\" stroke-opacity=\"1\" stroke-width=\"3.2\"/>\n<circle clip-path=\"url(#clip782)\" cx=\"1747.15\" cy=\"1445.72\" r=\"14.4\" fill=\"#e26f46\" fill-rule=\"evenodd\" fill-opacity=\"1\" stroke=\"#000000\" stroke-opacity=\"1\" stroke-width=\"3.2\"/>\n<circle clip-path=\"url(#clip782)\" cx=\"564.794\" cy=\"1439.99\" r=\"14.4\" fill=\"#e26f46\" fill-rule=\"evenodd\" fill-opacity=\"1\" stroke=\"#000000\" stroke-opacity=\"1\" stroke-width=\"3.2\"/>\n<path clip-path=\"url(#clip780)\" d=\"\nM2009.56 250.738 L2280.06 250.738 L2280.06 95.2176 L2009.56 95.2176  Z\n  \" fill=\"#ffffff\" fill-rule=\"evenodd\" fill-opacity=\"1\"/>\n<polyline clip-path=\"url(#clip780)\" style=\"stroke:#000000; stroke-linecap:round; stroke-linejoin:round; stroke-width:4; stroke-opacity:1; fill:none\" points=\"\n  2009.56,250.738 2280.06,250.738 2280.06,95.2176 2009.56,95.2176 2009.56,250.738 \n  \"/>\n<circle clip-path=\"url(#clip780)\" cx=\"2106.48\" cy=\"147.058\" r=\"23.04\" fill=\"#009af9\" fill-rule=\"evenodd\" fill-opacity=\"1\" stroke=\"#000000\" stroke-opacity=\"1\" stroke-width=\"5.12\"/>\n<path clip-path=\"url(#clip780)\" d=\"M2217.25 166.745 Q2215.44 171.375 2213.73 172.787 Q2212.01 174.199 2209.14 174.199 L2205.74 174.199 L2205.74 170.634 L2208.24 170.634 Q2210 170.634 2210.97 169.8 Q2211.95 168.967 2213.13 165.865 L2213.89 163.921 L2203.4 138.412 L2207.92 138.412 L2216.02 158.689 L2224.12 138.412 L2228.64 138.412 L2217.25 166.745 Z\" fill=\"#000000\" fill-rule=\"evenodd\" fill-opacity=\"1\" /><path clip-path=\"url(#clip780)\" d=\"M2235.93 160.402 L2243.57 160.402 L2243.57 134.037 L2235.26 135.703 L2235.26 131.444 L2243.52 129.778 L2248.2 129.778 L2248.2 160.402 L2255.83 160.402 L2255.83 164.338 L2235.93 164.338 L2235.93 160.402 Z\" fill=\"#000000\" fill-rule=\"evenodd\" fill-opacity=\"1\" /><circle clip-path=\"url(#clip780)\" cx=\"2106.48\" cy=\"198.898\" r=\"23.04\" fill=\"#e26f46\" fill-rule=\"evenodd\" fill-opacity=\"1\" stroke=\"#000000\" stroke-opacity=\"1\" stroke-width=\"5.12\"/>\n<path clip-path=\"url(#clip780)\" d=\"M2217.25 218.585 Q2215.44 223.215 2213.73 224.627 Q2212.01 226.039 2209.14 226.039 L2205.74 226.039 L2205.74 222.474 L2208.24 222.474 Q2210 222.474 2210.97 221.64 Q2211.95 220.807 2213.13 217.705 L2213.89 215.761 L2203.4 190.252 L2207.92 190.252 L2216.02 210.529 L2224.12 190.252 L2228.64 190.252 L2217.25 218.585 Z\" fill=\"#000000\" fill-rule=\"evenodd\" fill-opacity=\"1\" /><path clip-path=\"url(#clip780)\" d=\"M2239.14 212.242 L2255.46 212.242 L2255.46 216.178 L2233.52 216.178 L2233.52 212.242 Q2236.18 209.488 2240.76 204.858 Q2245.37 200.205 2246.55 198.863 Q2248.8 196.34 2249.68 194.604 Q2250.58 192.844 2250.58 191.155 Q2250.58 188.4 2248.64 186.664 Q2246.71 184.928 2243.61 184.928 Q2241.41 184.928 2238.96 185.692 Q2236.53 186.455 2233.75 188.006 L2233.75 183.284 Q2236.57 182.15 2239.03 181.571 Q2241.48 180.993 2243.52 180.993 Q2248.89 180.993 2252.08 183.678 Q2255.28 186.363 2255.28 190.854 Q2255.28 192.983 2254.47 194.905 Q2253.68 196.803 2251.57 199.395 Q2251 200.067 2247.89 203.284 Q2244.79 206.479 2239.14 212.242 Z\" fill=\"#000000\" fill-rule=\"evenodd\" fill-opacity=\"1\" /></svg>\n",
      "text/html": [
       "<?xml version=\"1.0\" encoding=\"utf-8\"?>\n",
       "<svg xmlns=\"http://www.w3.org/2000/svg\" xmlns:xlink=\"http://www.w3.org/1999/xlink\" width=\"600\" height=\"400\" viewBox=\"0 0 2400 1600\">\n",
       "<defs>\n",
       "  <clipPath id=\"clip830\">\n",
       "    <rect x=\"0\" y=\"0\" width=\"2400\" height=\"1600\"/>\n",
       "  </clipPath>\n",
       "</defs>\n",
       "<path clip-path=\"url(#clip830)\" d=\"\n",
       "M0 1600 L2400 1600 L2400 0 L0 0  Z\n",
       "  \" fill=\"#ffffff\" fill-rule=\"evenodd\" fill-opacity=\"1\"/>\n",
       "<defs>\n",
       "  <clipPath id=\"clip831\">\n",
       "    <rect x=\"480\" y=\"0\" width=\"1681\" height=\"1600\"/>\n",
       "  </clipPath>\n",
       "</defs>\n",
       "<path clip-path=\"url(#clip830)\" d=\"\n",
       "M172.015 1486.45 L2352.76 1486.45 L2352.76 47.2441 L172.015 47.2441  Z\n",
       "  \" fill=\"#ffffff\" fill-rule=\"evenodd\" fill-opacity=\"1\"/>\n",
       "<defs>\n",
       "  <clipPath id=\"clip832\">\n",
       "    <rect x=\"172\" y=\"47\" width=\"2182\" height=\"1440\"/>\n",
       "  </clipPath>\n",
       "</defs>\n",
       "<polyline clip-path=\"url(#clip832)\" style=\"stroke:#000000; stroke-linecap:round; stroke-linejoin:round; stroke-width:2; stroke-opacity:0.1; fill:none\" points=\"\n",
       "  210.087,1486.45 210.087,47.2441 \n",
       "  \"/>\n",
       "<polyline clip-path=\"url(#clip832)\" style=\"stroke:#000000; stroke-linecap:round; stroke-linejoin:round; stroke-width:2; stroke-opacity:0.1; fill:none\" points=\"\n",
       "  683.03,1486.45 683.03,47.2441 \n",
       "  \"/>\n",
       "<polyline clip-path=\"url(#clip832)\" style=\"stroke:#000000; stroke-linecap:round; stroke-linejoin:round; stroke-width:2; stroke-opacity:0.1; fill:none\" points=\"\n",
       "  1155.97,1486.45 1155.97,47.2441 \n",
       "  \"/>\n",
       "<polyline clip-path=\"url(#clip832)\" style=\"stroke:#000000; stroke-linecap:round; stroke-linejoin:round; stroke-width:2; stroke-opacity:0.1; fill:none\" points=\"\n",
       "  1628.92,1486.45 1628.92,47.2441 \n",
       "  \"/>\n",
       "<polyline clip-path=\"url(#clip832)\" style=\"stroke:#000000; stroke-linecap:round; stroke-linejoin:round; stroke-width:2; stroke-opacity:0.1; fill:none\" points=\"\n",
       "  2101.86,1486.45 2101.86,47.2441 \n",
       "  \"/>\n",
       "<polyline clip-path=\"url(#clip830)\" style=\"stroke:#000000; stroke-linecap:round; stroke-linejoin:round; stroke-width:4; stroke-opacity:1; fill:none\" points=\"\n",
       "  172.015,1486.45 2352.76,1486.45 \n",
       "  \"/>\n",
       "<polyline clip-path=\"url(#clip830)\" style=\"stroke:#000000; stroke-linecap:round; stroke-linejoin:round; stroke-width:4; stroke-opacity:1; fill:none\" points=\"\n",
       "  210.087,1486.45 210.087,1467.55 \n",
       "  \"/>\n",
       "<polyline clip-path=\"url(#clip830)\" style=\"stroke:#000000; stroke-linecap:round; stroke-linejoin:round; stroke-width:4; stroke-opacity:1; fill:none\" points=\"\n",
       "  683.03,1486.45 683.03,1467.55 \n",
       "  \"/>\n",
       "<polyline clip-path=\"url(#clip830)\" style=\"stroke:#000000; stroke-linecap:round; stroke-linejoin:round; stroke-width:4; stroke-opacity:1; fill:none\" points=\"\n",
       "  1155.97,1486.45 1155.97,1467.55 \n",
       "  \"/>\n",
       "<polyline clip-path=\"url(#clip830)\" style=\"stroke:#000000; stroke-linecap:round; stroke-linejoin:round; stroke-width:4; stroke-opacity:1; fill:none\" points=\"\n",
       "  1628.92,1486.45 1628.92,1467.55 \n",
       "  \"/>\n",
       "<polyline clip-path=\"url(#clip830)\" style=\"stroke:#000000; stroke-linecap:round; stroke-linejoin:round; stroke-width:4; stroke-opacity:1; fill:none\" points=\"\n",
       "  2101.86,1486.45 2101.86,1467.55 \n",
       "  \"/>\n",
       "<path clip-path=\"url(#clip830)\" d=\"M210.087 1517.37 Q206.476 1517.37 204.647 1520.93 Q202.841 1524.47 202.841 1531.6 Q202.841 1538.71 204.647 1542.27 Q206.476 1545.82 210.087 1545.82 Q213.721 1545.82 215.527 1542.27 Q217.355 1538.71 217.355 1531.6 Q217.355 1524.47 215.527 1520.93 Q213.721 1517.37 210.087 1517.37 M210.087 1513.66 Q215.897 1513.66 218.952 1518.27 Q222.031 1522.85 222.031 1531.6 Q222.031 1540.33 218.952 1544.94 Q215.897 1549.52 210.087 1549.52 Q204.277 1549.52 201.198 1544.94 Q198.142 1540.33 198.142 1531.6 Q198.142 1522.85 201.198 1518.27 Q204.277 1513.66 210.087 1513.66 Z\" fill=\"#000000\" fill-rule=\"evenodd\" fill-opacity=\"1\" /><path clip-path=\"url(#clip830)\" d=\"M661.803 1544.91 L678.123 1544.91 L678.123 1548.85 L656.178 1548.85 L656.178 1544.91 Q658.84 1542.16 663.424 1537.53 Q668.03 1532.88 669.211 1531.53 Q671.456 1529.01 672.336 1527.27 Q673.238 1525.51 673.238 1523.82 Q673.238 1521.07 671.294 1519.33 Q669.373 1517.6 666.271 1517.6 Q664.072 1517.6 661.618 1518.36 Q659.187 1519.13 656.41 1520.68 L656.41 1515.95 Q659.234 1514.82 661.687 1514.24 Q664.141 1513.66 666.178 1513.66 Q671.549 1513.66 674.743 1516.35 Q677.937 1519.03 677.937 1523.52 Q677.937 1525.65 677.127 1527.57 Q676.34 1529.47 674.234 1532.07 Q673.655 1532.74 670.553 1535.95 Q667.451 1539.15 661.803 1544.91 Z\" fill=\"#000000\" fill-rule=\"evenodd\" fill-opacity=\"1\" /><path clip-path=\"url(#clip830)\" d=\"M697.937 1517.37 Q694.326 1517.37 692.497 1520.93 Q690.692 1524.47 690.692 1531.6 Q690.692 1538.71 692.497 1542.27 Q694.326 1545.82 697.937 1545.82 Q701.572 1545.82 703.377 1542.27 Q705.206 1538.71 705.206 1531.6 Q705.206 1524.47 703.377 1520.93 Q701.572 1517.37 697.937 1517.37 M697.937 1513.66 Q703.747 1513.66 706.803 1518.27 Q709.882 1522.85 709.882 1531.6 Q709.882 1540.33 706.803 1544.94 Q703.747 1549.52 697.937 1549.52 Q692.127 1549.52 689.048 1544.94 Q685.993 1540.33 685.993 1531.6 Q685.993 1522.85 689.048 1518.27 Q692.127 1513.66 697.937 1513.66 Z\" fill=\"#000000\" fill-rule=\"evenodd\" fill-opacity=\"1\" /><path clip-path=\"url(#clip830)\" d=\"M1144.14 1518.36 L1132.34 1536.81 L1144.14 1536.81 L1144.14 1518.36 M1142.92 1514.29 L1148.8 1514.29 L1148.8 1536.81 L1153.73 1536.81 L1153.73 1540.7 L1148.8 1540.7 L1148.8 1548.85 L1144.14 1548.85 L1144.14 1540.7 L1128.54 1540.7 L1128.54 1536.19 L1142.92 1514.29 Z\" fill=\"#000000\" fill-rule=\"evenodd\" fill-opacity=\"1\" /><path clip-path=\"url(#clip830)\" d=\"M1171.46 1517.37 Q1167.85 1517.37 1166.02 1520.93 Q1164.21 1524.47 1164.21 1531.6 Q1164.21 1538.71 1166.02 1542.27 Q1167.85 1545.82 1171.46 1545.82 Q1175.09 1545.82 1176.9 1542.27 Q1178.73 1538.71 1178.73 1531.6 Q1178.73 1524.47 1176.9 1520.93 Q1175.09 1517.37 1171.46 1517.37 M1171.46 1513.66 Q1177.27 1513.66 1180.32 1518.27 Q1183.4 1522.85 1183.4 1531.6 Q1183.4 1540.33 1180.32 1544.94 Q1177.27 1549.52 1171.46 1549.52 Q1165.65 1549.52 1162.57 1544.94 Q1159.51 1540.33 1159.51 1531.6 Q1159.51 1522.85 1162.57 1518.27 Q1165.65 1513.66 1171.46 1513.66 Z\" fill=\"#000000\" fill-rule=\"evenodd\" fill-opacity=\"1\" /><path clip-path=\"url(#clip830)\" d=\"M1614.32 1529.7 Q1611.17 1529.7 1609.32 1531.86 Q1607.49 1534.01 1607.49 1537.76 Q1607.49 1541.49 1609.32 1543.66 Q1611.17 1545.82 1614.32 1545.82 Q1617.47 1545.82 1619.3 1543.66 Q1621.15 1541.49 1621.15 1537.76 Q1621.15 1534.01 1619.3 1531.86 Q1617.47 1529.7 1614.32 1529.7 M1623.6 1515.05 L1623.6 1519.31 Q1621.84 1518.48 1620.04 1518.04 Q1618.26 1517.6 1616.5 1517.6 Q1611.87 1517.6 1609.41 1520.72 Q1606.98 1523.85 1606.64 1530.17 Q1608 1528.15 1610.06 1527.09 Q1612.12 1526 1614.6 1526 Q1619.81 1526 1622.82 1529.17 Q1625.85 1532.32 1625.85 1537.76 Q1625.85 1543.08 1622.7 1546.3 Q1619.55 1549.52 1614.32 1549.52 Q1608.33 1549.52 1605.15 1544.94 Q1601.98 1540.33 1601.98 1531.6 Q1601.98 1523.41 1605.87 1518.55 Q1609.76 1513.66 1616.31 1513.66 Q1618.07 1513.66 1619.85 1514.01 Q1621.66 1514.36 1623.6 1515.05 Z\" fill=\"#000000\" fill-rule=\"evenodd\" fill-opacity=\"1\" /><path clip-path=\"url(#clip830)\" d=\"M1643.9 1517.37 Q1640.29 1517.37 1638.46 1520.93 Q1636.66 1524.47 1636.66 1531.6 Q1636.66 1538.71 1638.46 1542.27 Q1640.29 1545.82 1643.9 1545.82 Q1647.54 1545.82 1649.34 1542.27 Q1651.17 1538.71 1651.17 1531.6 Q1651.17 1524.47 1649.34 1520.93 Q1647.54 1517.37 1643.9 1517.37 M1643.9 1513.66 Q1649.71 1513.66 1652.77 1518.27 Q1655.85 1522.85 1655.85 1531.6 Q1655.85 1540.33 1652.77 1544.94 Q1649.71 1549.52 1643.9 1549.52 Q1638.09 1549.52 1635.02 1544.94 Q1631.96 1540.33 1631.96 1531.6 Q1631.96 1522.85 1635.02 1518.27 Q1638.09 1513.66 1643.9 1513.66 Z\" fill=\"#000000\" fill-rule=\"evenodd\" fill-opacity=\"1\" /><path clip-path=\"url(#clip830)\" d=\"M2086.73 1532.44 Q2083.4 1532.44 2081.48 1534.22 Q2079.58 1536 2079.58 1539.13 Q2079.58 1542.25 2081.48 1544.03 Q2083.4 1545.82 2086.73 1545.82 Q2090.07 1545.82 2091.99 1544.03 Q2093.91 1542.23 2093.91 1539.13 Q2093.91 1536 2091.99 1534.22 Q2090.09 1532.44 2086.73 1532.44 M2082.06 1530.45 Q2079.05 1529.7 2077.36 1527.64 Q2075.69 1525.58 2075.69 1522.62 Q2075.69 1518.48 2078.63 1516.07 Q2081.59 1513.66 2086.73 1513.66 Q2091.89 1513.66 2094.83 1516.07 Q2097.77 1518.48 2097.77 1522.62 Q2097.77 1525.58 2096.08 1527.64 Q2094.42 1529.7 2091.43 1530.45 Q2094.81 1531.23 2096.69 1533.52 Q2098.58 1535.82 2098.58 1539.13 Q2098.58 1544.15 2095.51 1546.83 Q2092.45 1549.52 2086.73 1549.52 Q2081.01 1549.52 2077.94 1546.83 Q2074.88 1544.15 2074.88 1539.13 Q2074.88 1535.82 2076.78 1533.52 Q2078.68 1531.23 2082.06 1530.45 M2080.34 1523.06 Q2080.34 1525.75 2082.01 1527.25 Q2083.7 1528.76 2086.73 1528.76 Q2089.74 1528.76 2091.43 1527.25 Q2093.14 1525.75 2093.14 1523.06 Q2093.14 1520.38 2091.43 1518.87 Q2089.74 1517.37 2086.73 1517.37 Q2083.7 1517.37 2082.01 1518.87 Q2080.34 1520.38 2080.34 1523.06 Z\" fill=\"#000000\" fill-rule=\"evenodd\" fill-opacity=\"1\" /><path clip-path=\"url(#clip830)\" d=\"M2116.89 1517.37 Q2113.28 1517.37 2111.45 1520.93 Q2109.65 1524.47 2109.65 1531.6 Q2109.65 1538.71 2111.45 1542.27 Q2113.28 1545.82 2116.89 1545.82 Q2120.53 1545.82 2122.33 1542.27 Q2124.16 1538.71 2124.16 1531.6 Q2124.16 1524.47 2122.33 1520.93 Q2120.53 1517.37 2116.89 1517.37 M2116.89 1513.66 Q2122.7 1513.66 2125.76 1518.27 Q2128.84 1522.85 2128.84 1531.6 Q2128.84 1540.33 2125.76 1544.94 Q2122.7 1549.52 2116.89 1549.52 Q2111.08 1549.52 2108.01 1544.94 Q2104.95 1540.33 2104.95 1531.6 Q2104.95 1522.85 2108.01 1518.27 Q2111.08 1513.66 2116.89 1513.66 Z\" fill=\"#000000\" fill-rule=\"evenodd\" fill-opacity=\"1\" /><polyline clip-path=\"url(#clip832)\" style=\"stroke:#000000; stroke-linecap:round; stroke-linejoin:round; stroke-width:2; stroke-opacity:0.1; fill:none\" points=\"\n",
       "  172.015,1447.62 2352.76,1447.62 \n",
       "  \"/>\n",
       "<polyline clip-path=\"url(#clip832)\" style=\"stroke:#000000; stroke-linecap:round; stroke-linejoin:round; stroke-width:2; stroke-opacity:0.1; fill:none\" points=\"\n",
       "  172.015,1066.24 2352.76,1066.24 \n",
       "  \"/>\n",
       "<polyline clip-path=\"url(#clip832)\" style=\"stroke:#000000; stroke-linecap:round; stroke-linejoin:round; stroke-width:2; stroke-opacity:0.1; fill:none\" points=\"\n",
       "  172.015,684.848 2352.76,684.848 \n",
       "  \"/>\n",
       "<polyline clip-path=\"url(#clip832)\" style=\"stroke:#000000; stroke-linecap:round; stroke-linejoin:round; stroke-width:2; stroke-opacity:0.1; fill:none\" points=\"\n",
       "  172.015,303.46 2352.76,303.46 \n",
       "  \"/>\n",
       "<polyline clip-path=\"url(#clip830)\" style=\"stroke:#000000; stroke-linecap:round; stroke-linejoin:round; stroke-width:4; stroke-opacity:1; fill:none\" points=\"\n",
       "  172.015,1486.45 172.015,47.2441 \n",
       "  \"/>\n",
       "<polyline clip-path=\"url(#clip830)\" style=\"stroke:#000000; stroke-linecap:round; stroke-linejoin:round; stroke-width:4; stroke-opacity:1; fill:none\" points=\"\n",
       "  172.015,1447.62 190.912,1447.62 \n",
       "  \"/>\n",
       "<polyline clip-path=\"url(#clip830)\" style=\"stroke:#000000; stroke-linecap:round; stroke-linejoin:round; stroke-width:4; stroke-opacity:1; fill:none\" points=\"\n",
       "  172.015,1066.24 190.912,1066.24 \n",
       "  \"/>\n",
       "<polyline clip-path=\"url(#clip830)\" style=\"stroke:#000000; stroke-linecap:round; stroke-linejoin:round; stroke-width:4; stroke-opacity:1; fill:none\" points=\"\n",
       "  172.015,684.848 190.912,684.848 \n",
       "  \"/>\n",
       "<polyline clip-path=\"url(#clip830)\" style=\"stroke:#000000; stroke-linecap:round; stroke-linejoin:round; stroke-width:4; stroke-opacity:1; fill:none\" points=\"\n",
       "  172.015,303.46 190.912,303.46 \n",
       "  \"/>\n",
       "<path clip-path=\"url(#clip830)\" d=\"M124.07 1433.42 Q120.459 1433.42 118.631 1436.99 Q116.825 1440.53 116.825 1447.66 Q116.825 1454.76 118.631 1458.33 Q120.459 1461.87 124.07 1461.87 Q127.705 1461.87 129.51 1458.33 Q131.339 1454.76 131.339 1447.66 Q131.339 1440.53 129.51 1436.99 Q127.705 1433.42 124.07 1433.42 M124.07 1429.72 Q129.881 1429.72 132.936 1434.32 Q136.015 1438.91 136.015 1447.66 Q136.015 1456.38 132.936 1460.99 Q129.881 1465.57 124.07 1465.57 Q118.26 1465.57 115.182 1460.99 Q112.126 1456.38 112.126 1447.66 Q112.126 1438.91 115.182 1434.32 Q118.26 1429.72 124.07 1429.72 Z\" fill=\"#000000\" fill-rule=\"evenodd\" fill-opacity=\"1\" /><path clip-path=\"url(#clip830)\" d=\"M57.7745 1079.58 L74.0939 1079.58 L74.0939 1083.52 L52.1495 1083.52 L52.1495 1079.58 Q54.8115 1076.83 59.3949 1072.2 Q64.0013 1067.54 65.1819 1066.2 Q67.4272 1063.68 68.3068 1061.94 Q69.2096 1060.18 69.2096 1058.49 Q69.2096 1055.74 67.2652 1054 Q65.3439 1052.27 62.2421 1052.27 Q60.043 1052.27 57.5893 1053.03 Q55.1588 1053.79 52.381 1055.34 L52.381 1050.62 Q55.2051 1049.49 57.6588 1048.91 Q60.1124 1048.33 62.1495 1048.33 Q67.5198 1048.33 70.7142 1051.02 Q73.9087 1053.7 73.9087 1058.19 Q73.9087 1060.32 73.0985 1062.24 Q72.3115 1064.14 70.205 1066.73 Q69.6263 1067.4 66.5245 1070.62 Q63.4226 1073.82 57.7745 1079.58 Z\" fill=\"#000000\" fill-rule=\"evenodd\" fill-opacity=\"1\" /><path clip-path=\"url(#clip830)\" d=\"M93.9086 1052.03 Q90.2975 1052.03 88.4688 1055.6 Q86.6632 1059.14 86.6632 1066.27 Q86.6632 1073.38 88.4688 1076.94 Q90.2975 1080.48 93.9086 1080.48 Q97.5428 1080.48 99.3483 1076.94 Q101.177 1073.38 101.177 1066.27 Q101.177 1059.14 99.3483 1055.6 Q97.5428 1052.03 93.9086 1052.03 M93.9086 1048.33 Q99.7187 1048.33 102.774 1052.94 Q105.853 1057.52 105.853 1066.27 Q105.853 1075 102.774 1079.6 Q99.7187 1084.19 93.9086 1084.19 Q88.0984 1084.19 85.0197 1079.6 Q81.9642 1075 81.9642 1066.27 Q81.9642 1057.52 85.0197 1052.94 Q88.0984 1048.33 93.9086 1048.33 Z\" fill=\"#000000\" fill-rule=\"evenodd\" fill-opacity=\"1\" /><path clip-path=\"url(#clip830)\" d=\"M124.07 1052.03 Q120.459 1052.03 118.631 1055.6 Q116.825 1059.14 116.825 1066.27 Q116.825 1073.38 118.631 1076.94 Q120.459 1080.48 124.07 1080.48 Q127.705 1080.48 129.51 1076.94 Q131.339 1073.38 131.339 1066.27 Q131.339 1059.14 129.51 1055.6 Q127.705 1052.03 124.07 1052.03 M124.07 1048.33 Q129.881 1048.33 132.936 1052.94 Q136.015 1057.52 136.015 1066.27 Q136.015 1075 132.936 1079.6 Q129.881 1084.19 124.07 1084.19 Q118.26 1084.19 115.182 1079.6 Q112.126 1075 112.126 1066.27 Q112.126 1057.52 115.182 1052.94 Q118.26 1048.33 124.07 1048.33 Z\" fill=\"#000000\" fill-rule=\"evenodd\" fill-opacity=\"1\" /><path clip-path=\"url(#clip830)\" d=\"M66.5939 671.642 L54.7884 690.091 L66.5939 690.091 L66.5939 671.642 M65.367 667.568 L71.2466 667.568 L71.2466 690.091 L76.1772 690.091 L76.1772 693.98 L71.2466 693.98 L71.2466 702.128 L66.5939 702.128 L66.5939 693.98 L50.9921 693.98 L50.9921 689.466 L65.367 667.568 Z\" fill=\"#000000\" fill-rule=\"evenodd\" fill-opacity=\"1\" /><path clip-path=\"url(#clip830)\" d=\"M93.9086 670.646 Q90.2975 670.646 88.4688 674.211 Q86.6632 677.753 86.6632 684.882 Q86.6632 691.989 88.4688 695.554 Q90.2975 699.095 93.9086 699.095 Q97.5428 699.095 99.3483 695.554 Q101.177 691.989 101.177 684.882 Q101.177 677.753 99.3483 674.211 Q97.5428 670.646 93.9086 670.646 M93.9086 666.943 Q99.7187 666.943 102.774 671.549 Q105.853 676.132 105.853 684.882 Q105.853 693.609 102.774 698.216 Q99.7187 702.799 93.9086 702.799 Q88.0984 702.799 85.0197 698.216 Q81.9642 693.609 81.9642 684.882 Q81.9642 676.132 85.0197 671.549 Q88.0984 666.943 93.9086 666.943 Z\" fill=\"#000000\" fill-rule=\"evenodd\" fill-opacity=\"1\" /><path clip-path=\"url(#clip830)\" d=\"M124.07 670.646 Q120.459 670.646 118.631 674.211 Q116.825 677.753 116.825 684.882 Q116.825 691.989 118.631 695.554 Q120.459 699.095 124.07 699.095 Q127.705 699.095 129.51 695.554 Q131.339 691.989 131.339 684.882 Q131.339 677.753 129.51 674.211 Q127.705 670.646 124.07 670.646 M124.07 666.943 Q129.881 666.943 132.936 671.549 Q136.015 676.132 136.015 684.882 Q136.015 693.609 132.936 698.216 Q129.881 702.799 124.07 702.799 Q118.26 702.799 115.182 698.216 Q112.126 693.609 112.126 684.882 Q112.126 676.132 115.182 671.549 Q118.26 666.943 124.07 666.943 Z\" fill=\"#000000\" fill-rule=\"evenodd\" fill-opacity=\"1\" /><path clip-path=\"url(#clip830)\" d=\"M64.3254 301.597 Q61.1773 301.597 59.3254 303.75 Q57.4967 305.902 57.4967 309.652 Q57.4967 313.379 59.3254 315.555 Q61.1773 317.708 64.3254 317.708 Q67.4735 317.708 69.3022 315.555 Q71.1541 313.379 71.1541 309.652 Q71.1541 305.902 69.3022 303.75 Q67.4735 301.597 64.3254 301.597 M73.6077 286.944 L73.6077 291.203 Q71.8485 290.37 70.0429 289.93 Q68.2606 289.49 66.5013 289.49 Q61.8717 289.49 59.418 292.615 Q56.9875 295.74 56.6402 302.06 Q58.006 300.046 60.0662 298.981 Q62.1263 297.893 64.6032 297.893 Q69.8115 297.893 72.8207 301.064 Q75.8531 304.213 75.8531 309.652 Q75.8531 314.976 72.705 318.194 Q69.5568 321.411 64.3254 321.411 Q58.33 321.411 55.1588 316.828 Q51.9875 312.222 51.9875 303.495 Q51.9875 295.301 55.8764 290.439 Q59.7652 285.555 66.3161 285.555 Q68.0754 285.555 69.8578 285.902 Q71.6633 286.25 73.6077 286.944 Z\" fill=\"#000000\" fill-rule=\"evenodd\" fill-opacity=\"1\" /><path clip-path=\"url(#clip830)\" d=\"M93.9086 289.259 Q90.2975 289.259 88.4688 292.824 Q86.6632 296.365 86.6632 303.495 Q86.6632 310.601 88.4688 314.166 Q90.2975 317.708 93.9086 317.708 Q97.5428 317.708 99.3483 314.166 Q101.177 310.601 101.177 303.495 Q101.177 296.365 99.3483 292.824 Q97.5428 289.259 93.9086 289.259 M93.9086 285.555 Q99.7187 285.555 102.774 290.162 Q105.853 294.745 105.853 303.495 Q105.853 312.222 102.774 316.828 Q99.7187 321.411 93.9086 321.411 Q88.0984 321.411 85.0197 316.828 Q81.9642 312.222 81.9642 303.495 Q81.9642 294.745 85.0197 290.162 Q88.0984 285.555 93.9086 285.555 Z\" fill=\"#000000\" fill-rule=\"evenodd\" fill-opacity=\"1\" /><path clip-path=\"url(#clip830)\" d=\"M124.07 289.259 Q120.459 289.259 118.631 292.824 Q116.825 296.365 116.825 303.495 Q116.825 310.601 118.631 314.166 Q120.459 317.708 124.07 317.708 Q127.705 317.708 129.51 314.166 Q131.339 310.601 131.339 303.495 Q131.339 296.365 129.51 292.824 Q127.705 289.259 124.07 289.259 M124.07 285.555 Q129.881 285.555 132.936 290.162 Q136.015 294.745 136.015 303.495 Q136.015 312.222 132.936 316.828 Q129.881 321.411 124.07 321.411 Q118.26 321.411 115.182 316.828 Q112.126 312.222 112.126 303.495 Q112.126 294.745 115.182 290.162 Q118.26 285.555 124.07 285.555 Z\" fill=\"#000000\" fill-rule=\"evenodd\" fill-opacity=\"1\" /><circle clip-path=\"url(#clip832)\" cx=\"1534.33\" cy=\"1443.81\" r=\"14.4\" fill=\"#009af9\" fill-rule=\"evenodd\" fill-opacity=\"1\" stroke=\"#000000\" stroke-opacity=\"1\" stroke-width=\"3.2\"/>\n",
       "<circle clip-path=\"url(#clip832)\" cx=\"588.441\" cy=\"1378.97\" r=\"14.4\" fill=\"#009af9\" fill-rule=\"evenodd\" fill-opacity=\"1\" stroke=\"#000000\" stroke-opacity=\"1\" stroke-width=\"3.2\"/>\n",
       "<circle clip-path=\"url(#clip832)\" cx=\"683.03\" cy=\"1394.23\" r=\"14.4\" fill=\"#009af9\" fill-rule=\"evenodd\" fill-opacity=\"1\" stroke=\"#000000\" stroke-opacity=\"1\" stroke-width=\"3.2\"/>\n",
       "<circle clip-path=\"url(#clip832)\" cx=\"1581.62\" cy=\"1439.99\" r=\"14.4\" fill=\"#009af9\" fill-rule=\"evenodd\" fill-opacity=\"1\" stroke=\"#000000\" stroke-opacity=\"1\" stroke-width=\"3.2\"/>\n",
       "<circle clip-path=\"url(#clip832)\" cx=\"1439.74\" cy=\"1445.72\" r=\"14.4\" fill=\"#009af9\" fill-rule=\"evenodd\" fill-opacity=\"1\" stroke=\"#000000\" stroke-opacity=\"1\" stroke-width=\"3.2\"/>\n",
       "<circle clip-path=\"url(#clip832)\" cx=\"1628.92\" cy=\"1436.18\" r=\"14.4\" fill=\"#009af9\" fill-rule=\"evenodd\" fill-opacity=\"1\" stroke=\"#000000\" stroke-opacity=\"1\" stroke-width=\"3.2\"/>\n",
       "<circle clip-path=\"url(#clip832)\" cx=\"493.853\" cy=\"1342.74\" r=\"14.4\" fill=\"#009af9\" fill-rule=\"evenodd\" fill-opacity=\"1\" stroke=\"#000000\" stroke-opacity=\"1\" stroke-width=\"3.2\"/>\n",
       "<circle clip-path=\"url(#clip832)\" cx=\"919.502\" cy=\"1422.83\" r=\"14.4\" fill=\"#009af9\" fill-rule=\"evenodd\" fill-opacity=\"1\" stroke=\"#000000\" stroke-opacity=\"1\" stroke-width=\"3.2\"/>\n",
       "<circle clip-path=\"url(#clip832)\" cx=\"777.619\" cy=\"1401.86\" r=\"14.4\" fill=\"#009af9\" fill-rule=\"evenodd\" fill-opacity=\"1\" stroke=\"#000000\" stroke-opacity=\"1\" stroke-width=\"3.2\"/>\n",
       "<circle clip-path=\"url(#clip832)\" cx=\"399.264\" cy=\"1289.35\" r=\"14.4\" fill=\"#009af9\" fill-rule=\"evenodd\" fill-opacity=\"1\" stroke=\"#000000\" stroke-opacity=\"1\" stroke-width=\"3.2\"/>\n",
       "<circle clip-path=\"url(#clip832)\" cx=\"872.207\" cy=\"1424.74\" r=\"14.4\" fill=\"#009af9\" fill-rule=\"evenodd\" fill-opacity=\"1\" stroke=\"#000000\" stroke-opacity=\"1\" stroke-width=\"3.2\"/>\n",
       "<circle clip-path=\"url(#clip832)\" cx=\"233.734\" cy=\"1445.72\" r=\"14.4\" fill=\"#009af9\" fill-rule=\"evenodd\" fill-opacity=\"1\" stroke=\"#000000\" stroke-opacity=\"1\" stroke-width=\"3.2\"/>\n",
       "<circle clip-path=\"url(#clip832)\" cx=\"730.324\" cy=\"1398.04\" r=\"14.4\" fill=\"#009af9\" fill-rule=\"evenodd\" fill-opacity=\"1\" stroke=\"#000000\" stroke-opacity=\"1\" stroke-width=\"3.2\"/>\n",
       "<circle clip-path=\"url(#clip832)\" cx=\"966.796\" cy=\"1438.09\" r=\"14.4\" fill=\"#009af9\" fill-rule=\"evenodd\" fill-opacity=\"1\" stroke=\"#000000\" stroke-opacity=\"1\" stroke-width=\"3.2\"/>\n",
       "<circle clip-path=\"url(#clip832)\" cx=\"351.97\" cy=\"1186.37\" r=\"14.4\" fill=\"#009af9\" fill-rule=\"evenodd\" fill-opacity=\"1\" stroke=\"#000000\" stroke-opacity=\"1\" stroke-width=\"3.2\"/>\n",
       "<circle clip-path=\"url(#clip832)\" cx=\"470.206\" cy=\"1445.72\" r=\"14.4\" fill=\"#009af9\" fill-rule=\"evenodd\" fill-opacity=\"1\" stroke=\"#000000\" stroke-opacity=\"1\" stroke-width=\"3.2\"/>\n",
       "<circle clip-path=\"url(#clip832)\" cx=\"1061.38\" cy=\"1426.65\" r=\"14.4\" fill=\"#009af9\" fill-rule=\"evenodd\" fill-opacity=\"1\" stroke=\"#000000\" stroke-opacity=\"1\" stroke-width=\"3.2\"/>\n",
       "<circle clip-path=\"url(#clip832)\" cx=\"1250.56\" cy=\"1439.99\" r=\"14.4\" fill=\"#009af9\" fill-rule=\"evenodd\" fill-opacity=\"1\" stroke=\"#000000\" stroke-opacity=\"1\" stroke-width=\"3.2\"/>\n",
       "<circle clip-path=\"url(#clip832)\" cx=\"1818.09\" cy=\"1443.81\" r=\"14.4\" fill=\"#009af9\" fill-rule=\"evenodd\" fill-opacity=\"1\" stroke=\"#000000\" stroke-opacity=\"1\" stroke-width=\"3.2\"/>\n",
       "<circle clip-path=\"url(#clip832)\" cx=\"2149.15\" cy=\"1445.72\" r=\"14.4\" fill=\"#009af9\" fill-rule=\"evenodd\" fill-opacity=\"1\" stroke=\"#000000\" stroke-opacity=\"1\" stroke-width=\"3.2\"/>\n",
       "<circle clip-path=\"url(#clip832)\" cx=\"541.147\" cy=\"1361.81\" r=\"14.4\" fill=\"#009af9\" fill-rule=\"evenodd\" fill-opacity=\"1\" stroke=\"#000000\" stroke-opacity=\"1\" stroke-width=\"3.2\"/>\n",
       "<circle clip-path=\"url(#clip832)\" cx=\"1959.98\" cy=\"1445.72\" r=\"14.4\" fill=\"#009af9\" fill-rule=\"evenodd\" fill-opacity=\"1\" stroke=\"#000000\" stroke-opacity=\"1\" stroke-width=\"3.2\"/>\n",
       "<circle clip-path=\"url(#clip832)\" cx=\"2101.86\" cy=\"1443.81\" r=\"14.4\" fill=\"#009af9\" fill-rule=\"evenodd\" fill-opacity=\"1\" stroke=\"#000000\" stroke-opacity=\"1\" stroke-width=\"3.2\"/>\n",
       "<circle clip-path=\"url(#clip832)\" cx=\"1723.5\" cy=\"1443.81\" r=\"14.4\" fill=\"#009af9\" fill-rule=\"evenodd\" fill-opacity=\"1\" stroke=\"#000000\" stroke-opacity=\"1\" stroke-width=\"3.2\"/>\n",
       "<circle clip-path=\"url(#clip832)\" cx=\"2196.45\" cy=\"1445.72\" r=\"14.4\" fill=\"#009af9\" fill-rule=\"evenodd\" fill-opacity=\"1\" stroke=\"#000000\" stroke-opacity=\"1\" stroke-width=\"3.2\"/>\n",
       "<circle clip-path=\"url(#clip832)\" cx=\"1297.86\" cy=\"1422.83\" r=\"14.4\" fill=\"#009af9\" fill-rule=\"evenodd\" fill-opacity=\"1\" stroke=\"#000000\" stroke-opacity=\"1\" stroke-width=\"3.2\"/>\n",
       "<circle clip-path=\"url(#clip832)\" cx=\"1770.8\" cy=\"1445.72\" r=\"14.4\" fill=\"#009af9\" fill-rule=\"evenodd\" fill-opacity=\"1\" stroke=\"#000000\" stroke-opacity=\"1\" stroke-width=\"3.2\"/>\n",
       "<circle clip-path=\"url(#clip832)\" cx=\"1155.97\" cy=\"1419.02\" r=\"14.4\" fill=\"#009af9\" fill-rule=\"evenodd\" fill-opacity=\"1\" stroke=\"#000000\" stroke-opacity=\"1\" stroke-width=\"3.2\"/>\n",
       "<circle clip-path=\"url(#clip832)\" cx=\"1345.15\" cy=\"1432.37\" r=\"14.4\" fill=\"#009af9\" fill-rule=\"evenodd\" fill-opacity=\"1\" stroke=\"#000000\" stroke-opacity=\"1\" stroke-width=\"3.2\"/>\n",
       "<circle clip-path=\"url(#clip832)\" cx=\"1865.39\" cy=\"1443.81\" r=\"14.4\" fill=\"#009af9\" fill-rule=\"evenodd\" fill-opacity=\"1\" stroke=\"#000000\" stroke-opacity=\"1\" stroke-width=\"3.2\"/>\n",
       "<circle clip-path=\"url(#clip832)\" cx=\"304.675\" cy=\"993.772\" r=\"14.4\" fill=\"#009af9\" fill-rule=\"evenodd\" fill-opacity=\"1\" stroke=\"#000000\" stroke-opacity=\"1\" stroke-width=\"3.2\"/>\n",
       "<circle clip-path=\"url(#clip832)\" cx=\"1392.44\" cy=\"1441.9\" r=\"14.4\" fill=\"#009af9\" fill-rule=\"evenodd\" fill-opacity=\"1\" stroke=\"#000000\" stroke-opacity=\"1\" stroke-width=\"3.2\"/>\n",
       "<circle clip-path=\"url(#clip832)\" cx=\"1487.03\" cy=\"1443.81\" r=\"14.4\" fill=\"#009af9\" fill-rule=\"evenodd\" fill-opacity=\"1\" stroke=\"#000000\" stroke-opacity=\"1\" stroke-width=\"3.2\"/>\n",
       "<circle clip-path=\"url(#clip832)\" cx=\"257.381\" cy=\"87.9763\" r=\"14.4\" fill=\"#009af9\" fill-rule=\"evenodd\" fill-opacity=\"1\" stroke=\"#000000\" stroke-opacity=\"1\" stroke-width=\"3.2\"/>\n",
       "<circle clip-path=\"url(#clip832)\" cx=\"446.558\" cy=\"1291.25\" r=\"14.4\" fill=\"#009af9\" fill-rule=\"evenodd\" fill-opacity=\"1\" stroke=\"#000000\" stroke-opacity=\"1\" stroke-width=\"3.2\"/>\n",
       "<circle clip-path=\"url(#clip832)\" cx=\"1108.68\" cy=\"1439.99\" r=\"14.4\" fill=\"#009af9\" fill-rule=\"evenodd\" fill-opacity=\"1\" stroke=\"#000000\" stroke-opacity=\"1\" stroke-width=\"3.2\"/>\n",
       "<circle clip-path=\"url(#clip832)\" cx=\"635.736\" cy=\"1380.88\" r=\"14.4\" fill=\"#009af9\" fill-rule=\"evenodd\" fill-opacity=\"1\" stroke=\"#000000\" stroke-opacity=\"1\" stroke-width=\"3.2\"/>\n",
       "<circle clip-path=\"url(#clip832)\" cx=\"824.913\" cy=\"1417.11\" r=\"14.4\" fill=\"#009af9\" fill-rule=\"evenodd\" fill-opacity=\"1\" stroke=\"#000000\" stroke-opacity=\"1\" stroke-width=\"3.2\"/>\n",
       "<circle clip-path=\"url(#clip832)\" cx=\"1014.09\" cy=\"1430.46\" r=\"14.4\" fill=\"#009af9\" fill-rule=\"evenodd\" fill-opacity=\"1\" stroke=\"#000000\" stroke-opacity=\"1\" stroke-width=\"3.2\"/>\n",
       "<circle clip-path=\"url(#clip832)\" cx=\"1203.27\" cy=\"1436.18\" r=\"14.4\" fill=\"#009af9\" fill-rule=\"evenodd\" fill-opacity=\"1\" stroke=\"#000000\" stroke-opacity=\"1\" stroke-width=\"3.2\"/>\n",
       "<circle clip-path=\"url(#clip832)\" cx=\"1676.21\" cy=\"1434.27\" r=\"14.4\" fill=\"#009af9\" fill-rule=\"evenodd\" fill-opacity=\"1\" stroke=\"#000000\" stroke-opacity=\"1\" stroke-width=\"3.2\"/>\n",
       "<circle clip-path=\"url(#clip832)\" cx=\"2291.04\" cy=\"1445.72\" r=\"14.4\" fill=\"#009af9\" fill-rule=\"evenodd\" fill-opacity=\"1\" stroke=\"#000000\" stroke-opacity=\"1\" stroke-width=\"3.2\"/>\n",
       "<circle clip-path=\"url(#clip832)\" cx=\"328.323\" cy=\"1438.09\" r=\"14.4\" fill=\"#e26f46\" fill-rule=\"evenodd\" fill-opacity=\"1\" stroke=\"#000000\" stroke-opacity=\"1\" stroke-width=\"3.2\"/>\n",
       "<circle clip-path=\"url(#clip832)\" cx=\"1037.74\" cy=\"1438.09\" r=\"14.4\" fill=\"#e26f46\" fill-rule=\"evenodd\" fill-opacity=\"1\" stroke=\"#000000\" stroke-opacity=\"1\" stroke-width=\"3.2\"/>\n",
       "<circle clip-path=\"url(#clip832)\" cx=\"1510.68\" cy=\"1443.81\" r=\"14.4\" fill=\"#e26f46\" fill-rule=\"evenodd\" fill-opacity=\"1\" stroke=\"#000000\" stroke-opacity=\"1\" stroke-width=\"3.2\"/>\n",
       "<circle clip-path=\"url(#clip832)\" cx=\"919.502\" cy=\"1439.99\" r=\"14.4\" fill=\"#e26f46\" fill-rule=\"evenodd\" fill-opacity=\"1\" stroke=\"#000000\" stroke-opacity=\"1\" stroke-width=\"3.2\"/>\n",
       "<circle clip-path=\"url(#clip832)\" cx=\"966.796\" cy=\"1439.99\" r=\"14.4\" fill=\"#e26f46\" fill-rule=\"evenodd\" fill-opacity=\"1\" stroke=\"#000000\" stroke-opacity=\"1\" stroke-width=\"3.2\"/>\n",
       "<circle clip-path=\"url(#clip832)\" cx=\"351.97\" cy=\"1197.81\" r=\"14.4\" fill=\"#e26f46\" fill-rule=\"evenodd\" fill-opacity=\"1\" stroke=\"#000000\" stroke-opacity=\"1\" stroke-width=\"3.2\"/>\n",
       "<circle clip-path=\"url(#clip832)\" cx=\"1794.45\" cy=\"1445.72\" r=\"14.4\" fill=\"#e26f46\" fill-rule=\"evenodd\" fill-opacity=\"1\" stroke=\"#000000\" stroke-opacity=\"1\" stroke-width=\"3.2\"/>\n",
       "<circle clip-path=\"url(#clip832)\" cx=\"1274.21\" cy=\"1443.81\" r=\"14.4\" fill=\"#e26f46\" fill-rule=\"evenodd\" fill-opacity=\"1\" stroke=\"#000000\" stroke-opacity=\"1\" stroke-width=\"3.2\"/>\n",
       "<circle clip-path=\"url(#clip832)\" cx=\"1936.33\" cy=\"1445.72\" r=\"14.4\" fill=\"#e26f46\" fill-rule=\"evenodd\" fill-opacity=\"1\" stroke=\"#000000\" stroke-opacity=\"1\" stroke-width=\"3.2\"/>\n",
       "<circle clip-path=\"url(#clip832)\" cx=\"1723.5\" cy=\"1443.81\" r=\"14.4\" fill=\"#e26f46\" fill-rule=\"evenodd\" fill-opacity=\"1\" stroke=\"#000000\" stroke-opacity=\"1\" stroke-width=\"3.2\"/>\n",
       "<circle clip-path=\"url(#clip832)\" cx=\"304.675\" cy=\"999.492\" r=\"14.4\" fill=\"#e26f46\" fill-rule=\"evenodd\" fill-opacity=\"1\" stroke=\"#000000\" stroke-opacity=\"1\" stroke-width=\"3.2\"/>\n",
       "<circle clip-path=\"url(#clip832)\" cx=\"517.5\" cy=\"1424.74\" r=\"14.4\" fill=\"#e26f46\" fill-rule=\"evenodd\" fill-opacity=\"1\" stroke=\"#000000\" stroke-opacity=\"1\" stroke-width=\"3.2\"/>\n",
       "<circle clip-path=\"url(#clip832)\" cx=\"1487.03\" cy=\"1441.9\" r=\"14.4\" fill=\"#e26f46\" fill-rule=\"evenodd\" fill-opacity=\"1\" stroke=\"#000000\" stroke-opacity=\"1\" stroke-width=\"3.2\"/>\n",
       "<circle clip-path=\"url(#clip832)\" cx=\"1699.86\" cy=\"1445.72\" r=\"14.4\" fill=\"#e26f46\" fill-rule=\"evenodd\" fill-opacity=\"1\" stroke=\"#000000\" stroke-opacity=\"1\" stroke-width=\"3.2\"/>\n",
       "<circle clip-path=\"url(#clip832)\" cx=\"1676.21\" cy=\"1445.72\" r=\"14.4\" fill=\"#e26f46\" fill-rule=\"evenodd\" fill-opacity=\"1\" stroke=\"#000000\" stroke-opacity=\"1\" stroke-width=\"3.2\"/>\n",
       "<circle clip-path=\"url(#clip832)\" cx=\"1581.62\" cy=\"1434.27\" r=\"14.4\" fill=\"#e26f46\" fill-rule=\"evenodd\" fill-opacity=\"1\" stroke=\"#000000\" stroke-opacity=\"1\" stroke-width=\"3.2\"/>\n",
       "<circle clip-path=\"url(#clip832)\" cx=\"1439.74\" cy=\"1445.72\" r=\"14.4\" fill=\"#e26f46\" fill-rule=\"evenodd\" fill-opacity=\"1\" stroke=\"#000000\" stroke-opacity=\"1\" stroke-width=\"3.2\"/>\n",
       "<circle clip-path=\"url(#clip832)\" cx=\"493.853\" cy=\"1361.81\" r=\"14.4\" fill=\"#e26f46\" fill-rule=\"evenodd\" fill-opacity=\"1\" stroke=\"#000000\" stroke-opacity=\"1\" stroke-width=\"3.2\"/>\n",
       "<circle clip-path=\"url(#clip832)\" cx=\"872.207\" cy=\"1432.37\" r=\"14.4\" fill=\"#e26f46\" fill-rule=\"evenodd\" fill-opacity=\"1\" stroke=\"#000000\" stroke-opacity=\"1\" stroke-width=\"3.2\"/>\n",
       "<circle clip-path=\"url(#clip832)\" cx=\"753.971\" cy=\"1432.37\" r=\"14.4\" fill=\"#e26f46\" fill-rule=\"evenodd\" fill-opacity=\"1\" stroke=\"#000000\" stroke-opacity=\"1\" stroke-width=\"3.2\"/>\n",
       "<circle clip-path=\"url(#clip832)\" cx=\"1226.91\" cy=\"1439.99\" r=\"14.4\" fill=\"#e26f46\" fill-rule=\"evenodd\" fill-opacity=\"1\" stroke=\"#000000\" stroke-opacity=\"1\" stroke-width=\"3.2\"/>\n",
       "<circle clip-path=\"url(#clip832)\" cx=\"470.206\" cy=\"1426.65\" r=\"14.4\" fill=\"#e26f46\" fill-rule=\"evenodd\" fill-opacity=\"1\" stroke=\"#000000\" stroke-opacity=\"1\" stroke-width=\"3.2\"/>\n",
       "<circle clip-path=\"url(#clip832)\" cx=\"1061.38\" cy=\"1441.9\" r=\"14.4\" fill=\"#e26f46\" fill-rule=\"evenodd\" fill-opacity=\"1\" stroke=\"#000000\" stroke-opacity=\"1\" stroke-width=\"3.2\"/>\n",
       "<circle clip-path=\"url(#clip832)\" cx=\"1132.33\" cy=\"1436.18\" r=\"14.4\" fill=\"#e26f46\" fill-rule=\"evenodd\" fill-opacity=\"1\" stroke=\"#000000\" stroke-opacity=\"1\" stroke-width=\"3.2\"/>\n",
       "<circle clip-path=\"url(#clip832)\" cx=\"375.617\" cy=\"1434.27\" r=\"14.4\" fill=\"#e26f46\" fill-rule=\"evenodd\" fill-opacity=\"1\" stroke=\"#000000\" stroke-opacity=\"1\" stroke-width=\"3.2\"/>\n",
       "<circle clip-path=\"url(#clip832)\" cx=\"801.266\" cy=\"1438.09\" r=\"14.4\" fill=\"#e26f46\" fill-rule=\"evenodd\" fill-opacity=\"1\" stroke=\"#000000\" stroke-opacity=\"1\" stroke-width=\"3.2\"/>\n",
       "<circle clip-path=\"url(#clip832)\" cx=\"1605.27\" cy=\"1443.81\" r=\"14.4\" fill=\"#e26f46\" fill-rule=\"evenodd\" fill-opacity=\"1\" stroke=\"#000000\" stroke-opacity=\"1\" stroke-width=\"3.2\"/>\n",
       "<circle clip-path=\"url(#clip832)\" cx=\"1392.44\" cy=\"1441.9\" r=\"14.4\" fill=\"#e26f46\" fill-rule=\"evenodd\" fill-opacity=\"1\" stroke=\"#000000\" stroke-opacity=\"1\" stroke-width=\"3.2\"/>\n",
       "<circle clip-path=\"url(#clip832)\" cx=\"1014.09\" cy=\"1436.18\" r=\"14.4\" fill=\"#e26f46\" fill-rule=\"evenodd\" fill-opacity=\"1\" stroke=\"#000000\" stroke-opacity=\"1\" stroke-width=\"3.2\"/>\n",
       "<circle clip-path=\"url(#clip832)\" cx=\"257.381\" cy=\"91.7902\" r=\"14.4\" fill=\"#e26f46\" fill-rule=\"evenodd\" fill-opacity=\"1\" stroke=\"#000000\" stroke-opacity=\"1\" stroke-width=\"3.2\"/>\n",
       "<circle clip-path=\"url(#clip832)\" cx=\"446.558\" cy=\"1310.32\" r=\"14.4\" fill=\"#e26f46\" fill-rule=\"evenodd\" fill-opacity=\"1\" stroke=\"#000000\" stroke-opacity=\"1\" stroke-width=\"3.2\"/>\n",
       "<circle clip-path=\"url(#clip832)\" cx=\"635.736\" cy=\"1392.32\" r=\"14.4\" fill=\"#e26f46\" fill-rule=\"evenodd\" fill-opacity=\"1\" stroke=\"#000000\" stroke-opacity=\"1\" stroke-width=\"3.2\"/>\n",
       "<circle clip-path=\"url(#clip832)\" cx=\"824.913\" cy=\"1424.74\" r=\"14.4\" fill=\"#e26f46\" fill-rule=\"evenodd\" fill-opacity=\"1\" stroke=\"#000000\" stroke-opacity=\"1\" stroke-width=\"3.2\"/>\n",
       "<circle clip-path=\"url(#clip832)\" cx=\"848.56\" cy=\"1439.99\" r=\"14.4\" fill=\"#e26f46\" fill-rule=\"evenodd\" fill-opacity=\"1\" stroke=\"#000000\" stroke-opacity=\"1\" stroke-width=\"3.2\"/>\n",
       "<circle clip-path=\"url(#clip832)\" cx=\"1203.27\" cy=\"1438.09\" r=\"14.4\" fill=\"#e26f46\" fill-rule=\"evenodd\" fill-opacity=\"1\" stroke=\"#000000\" stroke-opacity=\"1\" stroke-width=\"3.2\"/>\n",
       "<circle clip-path=\"url(#clip832)\" cx=\"588.441\" cy=\"1384.69\" r=\"14.4\" fill=\"#e26f46\" fill-rule=\"evenodd\" fill-opacity=\"1\" stroke=\"#000000\" stroke-opacity=\"1\" stroke-width=\"3.2\"/>\n",
       "<circle clip-path=\"url(#clip832)\" cx=\"683.03\" cy=\"1409.48\" r=\"14.4\" fill=\"#e26f46\" fill-rule=\"evenodd\" fill-opacity=\"1\" stroke=\"#000000\" stroke-opacity=\"1\" stroke-width=\"3.2\"/>\n",
       "<circle clip-path=\"url(#clip832)\" cx=\"2125.51\" cy=\"1445.72\" r=\"14.4\" fill=\"#e26f46\" fill-rule=\"evenodd\" fill-opacity=\"1\" stroke=\"#000000\" stroke-opacity=\"1\" stroke-width=\"3.2\"/>\n",
       "<circle clip-path=\"url(#clip832)\" cx=\"659.383\" cy=\"1426.65\" r=\"14.4\" fill=\"#e26f46\" fill-rule=\"evenodd\" fill-opacity=\"1\" stroke=\"#000000\" stroke-opacity=\"1\" stroke-width=\"3.2\"/>\n",
       "<circle clip-path=\"url(#clip832)\" cx=\"1250.56\" cy=\"1434.27\" r=\"14.4\" fill=\"#e26f46\" fill-rule=\"evenodd\" fill-opacity=\"1\" stroke=\"#000000\" stroke-opacity=\"1\" stroke-width=\"3.2\"/>\n",
       "<circle clip-path=\"url(#clip832)\" cx=\"422.911\" cy=\"1426.65\" r=\"14.4\" fill=\"#e26f46\" fill-rule=\"evenodd\" fill-opacity=\"1\" stroke=\"#000000\" stroke-opacity=\"1\" stroke-width=\"3.2\"/>\n",
       "<circle clip-path=\"url(#clip832)\" cx=\"943.149\" cy=\"1443.81\" r=\"14.4\" fill=\"#e26f46\" fill-rule=\"evenodd\" fill-opacity=\"1\" stroke=\"#000000\" stroke-opacity=\"1\" stroke-width=\"3.2\"/>\n",
       "<circle clip-path=\"url(#clip832)\" cx=\"895.854\" cy=\"1432.37\" r=\"14.4\" fill=\"#e26f46\" fill-rule=\"evenodd\" fill-opacity=\"1\" stroke=\"#000000\" stroke-opacity=\"1\" stroke-width=\"3.2\"/>\n",
       "<circle clip-path=\"url(#clip832)\" cx=\"1297.86\" cy=\"1439.99\" r=\"14.4\" fill=\"#e26f46\" fill-rule=\"evenodd\" fill-opacity=\"1\" stroke=\"#000000\" stroke-opacity=\"1\" stroke-width=\"3.2\"/>\n",
       "<circle clip-path=\"url(#clip832)\" cx=\"1557.97\" cy=\"1445.72\" r=\"14.4\" fill=\"#e26f46\" fill-rule=\"evenodd\" fill-opacity=\"1\" stroke=\"#000000\" stroke-opacity=\"1\" stroke-width=\"3.2\"/>\n",
       "<circle clip-path=\"url(#clip832)\" cx=\"706.677\" cy=\"1432.37\" r=\"14.4\" fill=\"#e26f46\" fill-rule=\"evenodd\" fill-opacity=\"1\" stroke=\"#000000\" stroke-opacity=\"1\" stroke-width=\"3.2\"/>\n",
       "<circle clip-path=\"url(#clip832)\" cx=\"1108.68\" cy=\"1434.27\" r=\"14.4\" fill=\"#e26f46\" fill-rule=\"evenodd\" fill-opacity=\"1\" stroke=\"#000000\" stroke-opacity=\"1\" stroke-width=\"3.2\"/>\n",
       "<circle clip-path=\"url(#clip832)\" cx=\"1912.68\" cy=\"1445.72\" r=\"14.4\" fill=\"#e26f46\" fill-rule=\"evenodd\" fill-opacity=\"1\" stroke=\"#000000\" stroke-opacity=\"1\" stroke-width=\"3.2\"/>\n",
       "<circle clip-path=\"url(#clip832)\" cx=\"777.619\" cy=\"1413.3\" r=\"14.4\" fill=\"#e26f46\" fill-rule=\"evenodd\" fill-opacity=\"1\" stroke=\"#000000\" stroke-opacity=\"1\" stroke-width=\"3.2\"/>\n",
       "<circle clip-path=\"url(#clip832)\" cx=\"399.264\" cy=\"1300.79\" r=\"14.4\" fill=\"#e26f46\" fill-rule=\"evenodd\" fill-opacity=\"1\" stroke=\"#000000\" stroke-opacity=\"1\" stroke-width=\"3.2\"/>\n",
       "<circle clip-path=\"url(#clip832)\" cx=\"612.088\" cy=\"1432.37\" r=\"14.4\" fill=\"#e26f46\" fill-rule=\"evenodd\" fill-opacity=\"1\" stroke=\"#000000\" stroke-opacity=\"1\" stroke-width=\"3.2\"/>\n",
       "<circle clip-path=\"url(#clip832)\" cx=\"1085.03\" cy=\"1441.9\" r=\"14.4\" fill=\"#e26f46\" fill-rule=\"evenodd\" fill-opacity=\"1\" stroke=\"#000000\" stroke-opacity=\"1\" stroke-width=\"3.2\"/>\n",
       "<circle clip-path=\"url(#clip832)\" cx=\"233.734\" cy=\"1441.9\" r=\"14.4\" fill=\"#e26f46\" fill-rule=\"evenodd\" fill-opacity=\"1\" stroke=\"#000000\" stroke-opacity=\"1\" stroke-width=\"3.2\"/>\n",
       "<circle clip-path=\"url(#clip832)\" cx=\"1463.39\" cy=\"1445.72\" r=\"14.4\" fill=\"#e26f46\" fill-rule=\"evenodd\" fill-opacity=\"1\" stroke=\"#000000\" stroke-opacity=\"1\" stroke-width=\"3.2\"/>\n",
       "<circle clip-path=\"url(#clip832)\" cx=\"730.324\" cy=\"1419.02\" r=\"14.4\" fill=\"#e26f46\" fill-rule=\"evenodd\" fill-opacity=\"1\" stroke=\"#000000\" stroke-opacity=\"1\" stroke-width=\"3.2\"/>\n",
       "<circle clip-path=\"url(#clip832)\" cx=\"1321.5\" cy=\"1438.09\" r=\"14.4\" fill=\"#e26f46\" fill-rule=\"evenodd\" fill-opacity=\"1\" stroke=\"#000000\" stroke-opacity=\"1\" stroke-width=\"3.2\"/>\n",
       "<circle clip-path=\"url(#clip832)\" cx=\"541.147\" cy=\"1388.51\" r=\"14.4\" fill=\"#e26f46\" fill-rule=\"evenodd\" fill-opacity=\"1\" stroke=\"#000000\" stroke-opacity=\"1\" stroke-width=\"3.2\"/>\n",
       "<circle clip-path=\"url(#clip832)\" cx=\"281.028\" cy=\"1439.99\" r=\"14.4\" fill=\"#e26f46\" fill-rule=\"evenodd\" fill-opacity=\"1\" stroke=\"#000000\" stroke-opacity=\"1\" stroke-width=\"3.2\"/>\n",
       "<circle clip-path=\"url(#clip832)\" cx=\"2101.86\" cy=\"1445.72\" r=\"14.4\" fill=\"#e26f46\" fill-rule=\"evenodd\" fill-opacity=\"1\" stroke=\"#000000\" stroke-opacity=\"1\" stroke-width=\"3.2\"/>\n",
       "<circle clip-path=\"url(#clip832)\" cx=\"1416.09\" cy=\"1443.81\" r=\"14.4\" fill=\"#e26f46\" fill-rule=\"evenodd\" fill-opacity=\"1\" stroke=\"#000000\" stroke-opacity=\"1\" stroke-width=\"3.2\"/>\n",
       "<circle clip-path=\"url(#clip832)\" cx=\"990.443\" cy=\"1439.99\" r=\"14.4\" fill=\"#e26f46\" fill-rule=\"evenodd\" fill-opacity=\"1\" stroke=\"#000000\" stroke-opacity=\"1\" stroke-width=\"3.2\"/>\n",
       "<circle clip-path=\"url(#clip832)\" cx=\"1155.97\" cy=\"1432.37\" r=\"14.4\" fill=\"#e26f46\" fill-rule=\"evenodd\" fill-opacity=\"1\" stroke=\"#000000\" stroke-opacity=\"1\" stroke-width=\"3.2\"/>\n",
       "<circle clip-path=\"url(#clip832)\" cx=\"1345.15\" cy=\"1445.72\" r=\"14.4\" fill=\"#e26f46\" fill-rule=\"evenodd\" fill-opacity=\"1\" stroke=\"#000000\" stroke-opacity=\"1\" stroke-width=\"3.2\"/>\n",
       "<circle clip-path=\"url(#clip832)\" cx=\"1747.15\" cy=\"1445.72\" r=\"14.4\" fill=\"#e26f46\" fill-rule=\"evenodd\" fill-opacity=\"1\" stroke=\"#000000\" stroke-opacity=\"1\" stroke-width=\"3.2\"/>\n",
       "<circle clip-path=\"url(#clip832)\" cx=\"564.794\" cy=\"1439.99\" r=\"14.4\" fill=\"#e26f46\" fill-rule=\"evenodd\" fill-opacity=\"1\" stroke=\"#000000\" stroke-opacity=\"1\" stroke-width=\"3.2\"/>\n",
       "<path clip-path=\"url(#clip830)\" d=\"\n",
       "M2009.56 250.738 L2280.06 250.738 L2280.06 95.2176 L2009.56 95.2176  Z\n",
       "  \" fill=\"#ffffff\" fill-rule=\"evenodd\" fill-opacity=\"1\"/>\n",
       "<polyline clip-path=\"url(#clip830)\" style=\"stroke:#000000; stroke-linecap:round; stroke-linejoin:round; stroke-width:4; stroke-opacity:1; fill:none\" points=\"\n",
       "  2009.56,250.738 2280.06,250.738 2280.06,95.2176 2009.56,95.2176 2009.56,250.738 \n",
       "  \"/>\n",
       "<circle clip-path=\"url(#clip830)\" cx=\"2106.48\" cy=\"147.058\" r=\"23.04\" fill=\"#009af9\" fill-rule=\"evenodd\" fill-opacity=\"1\" stroke=\"#000000\" stroke-opacity=\"1\" stroke-width=\"5.12\"/>\n",
       "<path clip-path=\"url(#clip830)\" d=\"M2217.25 166.745 Q2215.44 171.375 2213.73 172.787 Q2212.01 174.199 2209.14 174.199 L2205.74 174.199 L2205.74 170.634 L2208.24 170.634 Q2210 170.634 2210.97 169.8 Q2211.95 168.967 2213.13 165.865 L2213.89 163.921 L2203.4 138.412 L2207.92 138.412 L2216.02 158.689 L2224.12 138.412 L2228.64 138.412 L2217.25 166.745 Z\" fill=\"#000000\" fill-rule=\"evenodd\" fill-opacity=\"1\" /><path clip-path=\"url(#clip830)\" d=\"M2235.93 160.402 L2243.57 160.402 L2243.57 134.037 L2235.26 135.703 L2235.26 131.444 L2243.52 129.778 L2248.2 129.778 L2248.2 160.402 L2255.83 160.402 L2255.83 164.338 L2235.93 164.338 L2235.93 160.402 Z\" fill=\"#000000\" fill-rule=\"evenodd\" fill-opacity=\"1\" /><circle clip-path=\"url(#clip830)\" cx=\"2106.48\" cy=\"198.898\" r=\"23.04\" fill=\"#e26f46\" fill-rule=\"evenodd\" fill-opacity=\"1\" stroke=\"#000000\" stroke-opacity=\"1\" stroke-width=\"5.12\"/>\n",
       "<path clip-path=\"url(#clip830)\" d=\"M2217.25 218.585 Q2215.44 223.215 2213.73 224.627 Q2212.01 226.039 2209.14 226.039 L2205.74 226.039 L2205.74 222.474 L2208.24 222.474 Q2210 222.474 2210.97 221.64 Q2211.95 220.807 2213.13 217.705 L2213.89 215.761 L2203.4 190.252 L2207.92 190.252 L2216.02 210.529 L2224.12 190.252 L2228.64 190.252 L2217.25 218.585 Z\" fill=\"#000000\" fill-rule=\"evenodd\" fill-opacity=\"1\" /><path clip-path=\"url(#clip830)\" d=\"M2239.14 212.242 L2255.46 212.242 L2255.46 216.178 L2233.52 216.178 L2233.52 212.242 Q2236.18 209.488 2240.76 204.858 Q2245.37 200.205 2246.55 198.863 Q2248.8 196.34 2249.68 194.604 Q2250.58 192.844 2250.58 191.155 Q2250.58 188.4 2248.64 186.664 Q2246.71 184.928 2243.61 184.928 Q2241.41 184.928 2238.96 185.692 Q2236.53 186.455 2233.75 188.006 L2233.75 183.284 Q2236.57 182.15 2239.03 181.571 Q2241.48 180.993 2243.52 180.993 Q2248.89 180.993 2252.08 183.678 Q2255.28 186.363 2255.28 190.854 Q2255.28 192.983 2254.47 194.905 Q2253.68 196.803 2251.57 199.395 Q2251 200.067 2247.89 203.284 Q2244.79 206.479 2239.14 212.242 Z\" fill=\"#000000\" fill-rule=\"evenodd\" fill-opacity=\"1\" /></svg>\n"
      ]
     },
     "metadata": {},
     "output_type": "display_data"
    }
   ],
   "source": [
    "c = counter(connectivity)\n",
    "Plots.scatter!(collect(keys(c)),collect(values(c)))"
   ]
  },
  {
   "cell_type": "code",
   "execution_count": null,
   "metadata": {},
   "outputs": [],
   "source": []
  },
  {
   "cell_type": "code",
   "execution_count": 235,
   "metadata": {},
   "outputs": [],
   "source": [
    "for i in 1:nv(MG)\n",
    "    set_prop!(MG, i, :xLatitude, vrancea_cubes.xLatitude[i])\n",
    "    set_prop!(MG, i, :yLongitude, vrancea_cubes.yLongitude[i])\n",
    "    set_prop!(MG, i, :zDepth, vrancea_cubes.zDepth[i])\n",
    "end"
   ]
  },
  {
   "cell_type": "code",
   "execution_count": 237,
   "metadata": {},
   "outputs": [
    {
     "data": {
      "text/plain": [
       "Dict{Symbol, Any} with 4 entries:\n",
       "  :zDepth     => 22\n",
       "  :cubeIndex  => \"6183\"\n",
       "  :xLatitude  => 10\n",
       "  :yLongitude => 8"
      ]
     },
     "metadata": {},
     "output_type": "display_data"
    }
   ],
   "source": [
    "props(MG,2)"
   ]
  },
  {
   "cell_type": "code",
   "execution_count": null,
   "metadata": {},
   "outputs": [],
   "source": []
  },
  {
   "cell_type": "code",
   "execution_count": 258,
   "metadata": {},
   "outputs": [],
   "source": [
    "using GraphIO, EzXML"
   ]
  },
  {
   "cell_type": "code",
   "execution_count": 262,
   "metadata": {},
   "outputs": [
    {
     "data": {
      "text/plain": [
       "1"
      ]
     },
     "metadata": {},
     "output_type": "display_data"
    }
   ],
   "source": [
    "savegraph(\"./vrancea_5km.graphml\", MG, GraphMLFormat())"
   ]
  },
  {
   "cell_type": "code",
   "execution_count": 248,
   "metadata": {},
   "outputs": [
    {
     "data": {
      "text/plain": [
       "1"
      ]
     },
     "metadata": {},
     "output_type": "display_data"
    }
   ],
   "source": [
    "savegraph(\"./vrancea_5km.txt\",MG, EdgeListFormat())"
   ]
  },
  {
   "cell_type": "code",
   "execution_count": null,
   "metadata": {},
   "outputs": [],
   "source": []
  },
  {
   "cell_type": "code",
   "execution_count": null,
   "metadata": {},
   "outputs": [],
   "source": []
  },
  {
   "cell_type": "code",
   "execution_count": 43,
   "metadata": {},
   "outputs": [],
   "source": [
    "using Graphs, MetaGraphs"
   ]
  },
  {
   "cell_type": "code",
   "execution_count": 44,
   "metadata": {},
   "outputs": [
    {
     "data": {
      "text/plain": [
       "{5, 0} undirected Int64 metagraph with Float64 weights defined by :weight (default weight 1.0)"
      ]
     },
     "metadata": {},
     "output_type": "display_data"
    }
   ],
   "source": [
    "G = Graphs.Graph(5)\n",
    "MG = MetaGraph(G)"
   ]
  },
  {
   "cell_type": "code",
   "execution_count": 45,
   "metadata": {},
   "outputs": [
    {
     "data": {
      "text/plain": [
       "true"
      ]
     },
     "metadata": {},
     "output_type": "display_data"
    }
   ],
   "source": [
    "add_edge!(MG,1,2)\n",
    "add_edge!(MG,2,3)\n",
    "add_edge!(MG,3,4)\n",
    "add_edge!(MG,4,5)\n"
   ]
  },
  {
   "cell_type": "code",
   "execution_count": 47,
   "metadata": {},
   "outputs": [
    {
     "data": {
      "text/plain": [
       "5-element Vector{Int64}:\n",
       " 1\n",
       " 2\n",
       " 2\n",
       " 2\n",
       " 1"
      ]
     },
     "metadata": {},
     "output_type": "display_data"
    }
   ],
   "source": [
    "connectivity = degree(MG)"
   ]
  },
  {
   "cell_type": "code",
   "execution_count": 48,
   "metadata": {},
   "outputs": [
    {
     "data": {
      "text/plain": [
       "true"
      ]
     },
     "metadata": {},
     "output_type": "display_data"
    }
   ],
   "source": [
    "add_edge!(MG,1,1)"
   ]
  },
  {
   "cell_type": "code",
   "execution_count": 49,
   "metadata": {},
   "outputs": [
    {
     "data": {
      "text/plain": [
       "5-element Vector{Int64}:\n",
       " 2\n",
       " 2\n",
       " 2\n",
       " 2\n",
       " 1"
      ]
     },
     "metadata": {},
     "output_type": "display_data"
    }
   ],
   "source": [
    "connectivity = degree(MG)"
   ]
  },
  {
   "cell_type": "code",
   "execution_count": 50,
   "metadata": {},
   "outputs": [
    {
     "data": {
      "text/plain": [
       "false"
      ]
     },
     "metadata": {},
     "output_type": "display_data"
    }
   ],
   "source": [
    "add_edge!(MG,1,1)"
   ]
  },
  {
   "cell_type": "code",
   "execution_count": 14,
   "metadata": {},
   "outputs": [
    {
     "data": {
      "text/plain": [
       "5-element Vector{Int64}:\n",
       " 1\n",
       " 2\n",
       " 2\n",
       " 2\n",
       " 1"
      ]
     },
     "metadata": {},
     "output_type": "display_data"
    }
   ],
   "source": [
    "connectivity"
   ]
  },
  {
   "cell_type": "code",
   "execution_count": 51,
   "metadata": {},
   "outputs": [
    {
     "data": {
      "text/plain": [
       "true"
      ]
     },
     "metadata": {},
     "output_type": "display_data"
    }
   ],
   "source": [
    "has_self_loops(MG)"
   ]
  },
  {
   "cell_type": "code",
   "execution_count": null,
   "metadata": {},
   "outputs": [],
   "source": []
  },
  {
   "cell_type": "code",
   "execution_count": 16,
   "metadata": {},
   "outputs": [
    {
     "data": {
      "text/plain": [
       "5-element Vector{Int64}:\n",
       " 2\n",
       " 2\n",
       " 3\n",
       " 2\n",
       " 3"
      ]
     },
     "metadata": {},
     "output_type": "display_data"
    }
   ],
   "source": [
    "connectivity = degree(MG)"
   ]
  },
  {
   "cell_type": "code",
   "execution_count": 41,
   "metadata": {},
   "outputs": [
    {
     "data": {
      "text/plain": [
       "true"
      ]
     },
     "metadata": {},
     "output_type": "display_data"
    }
   ],
   "source": [
    "add_edge!(MG,1,1)"
   ]
  },
  {
   "cell_type": "code",
   "execution_count": 55,
   "metadata": {},
   "outputs": [
    {
     "data": {
      "text/plain": [
       "Dict{Int64, Int64} with 2 entries:\n",
       "  2 => 4\n",
       "  1 => 1"
      ]
     },
     "metadata": {},
     "output_type": "display_data"
    }
   ],
   "source": [
    "degree_histogram(MG)"
   ]
  },
  {
   "cell_type": "code",
   "execution_count": 57,
   "metadata": {},
   "outputs": [
    {
     "data": {
      "text/plain": [
       "2-element Vector{Int64}:\n",
       " 2\n",
       " 1"
      ]
     },
     "metadata": {},
     "output_type": "display_data"
    }
   ],
   "source": [
    "collect(keys(degree_histogram(MG)))"
   ]
  },
  {
   "cell_type": "code",
   "execution_count": 58,
   "metadata": {},
   "outputs": [
    {
     "data": {
      "text/plain": [
       "metaweights"
      ]
     },
     "metadata": {},
     "output_type": "display_data"
    }
   ],
   "source": [
    "weights(MG)"
   ]
  },
  {
   "cell_type": "code",
   "execution_count": null,
   "metadata": {},
   "outputs": [],
   "source": []
  }
 ],
 "metadata": {
  "kernelspec": {
   "display_name": "Julia 1.8.5",
   "language": "julia",
   "name": "julia-1.8"
  },
  "language_info": {
   "file_extension": ".jl",
   "mimetype": "application/julia",
   "name": "julia",
   "version": "1.8.5"
  },
  "orig_nbformat": 4,
  "vscode": {
   "interpreter": {
    "hash": "0f70a35dd2b85e0fbdf740964da3dda7ef418e2ba19e1da9e3dbc65ae5d9559a"
   }
  }
 },
 "nbformat": 4,
 "nbformat_minor": 2
}
