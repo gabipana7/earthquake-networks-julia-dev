{
 "cells": [
  {
   "cell_type": "code",
   "execution_count": 5,
   "metadata": {},
   "outputs": [
    {
     "data": {
      "text/plain": [
       "PyObject <module 'scipy.optimize' from 'C:\\\\Users\\\\gabipana\\\\.julia\\\\conda\\\\3\\\\lib\\\\site-packages\\\\scipy\\\\optimize\\\\__init__.py'>"
      ]
     },
     "metadata": {},
     "output_type": "display_data"
    }
   ],
   "source": [
    "using CSV, DataFrames\n",
    "using PyCall\n",
    "using CairoMakie\n",
    "\n",
    "include(\"./src/cubes.jl\")\n",
    "include(\"./src/network.jl\")\n",
    "\n",
    "@pyimport powerlaw as powlaw\n",
    "so = pyimport(\"scipy.optimize\")"
   ]
  },
  {
   "cell_type": "code",
   "execution_count": 6,
   "metadata": {},
   "outputs": [
    {
     "data": {
      "text/plain": [
       "\"california\""
      ]
     },
     "metadata": {},
     "output_type": "display_data"
    }
   ],
   "source": [
    "region = \"california\""
   ]
  },
  {
   "cell_type": "code",
   "execution_count": 7,
   "metadata": {},
   "outputs": [
    {
     "data": {
      "text/plain": [
       "\"./results/california\""
      ]
     },
     "metadata": {},
     "output_type": "display_data"
    }
   ],
   "source": [
    "# Select 3 of the best cell sizes from parameter dependency analysis\n",
    "if region == \"romania\"\n",
    "    cell_sizes = [3.5,  4.5,  5.5];\n",
    "    multiplier = [0.6, 1.0, 1.5]\n",
    "elseif region == \"california\"\n",
    "    cell_sizes = [1.0, 1.5, 2.0];\n",
    "    multiplier = [0.8, 1.0, 2.2]\n",
    "elseif region == \"italy\"\n",
    "    cell_sizes = [4.0, 4.5, 5.0];\n",
    "    multiplier = [0.4, 1.0, 2.5]\n",
    "elseif region == \"japan\"\n",
    "    cell_sizes = [2.5, 3.0, 3.5];\n",
    "    multiplier = [0.3, 1.0, 3.0]\n",
    "end;\n",
    "# Read data\n",
    "path = \"./data/\"\n",
    "filepath = path * region * \".csv\"\n",
    "df = CSV.read(filepath, DataFrame);\n",
    "# magnitude_threshold = 0.0\n",
    "\n",
    "# Make path for results\n",
    "mkpath(\"./results/$region\")"
   ]
  },
  {
   "cell_type": "code",
   "execution_count": 13,
   "metadata": {},
   "outputs": [
    {
     "name": "stderr",
     "output_type": "stream",
     "text": [
      "Calculating best minimal value for power law fit\r\n"
     ]
    },
    {
     "ename": "UndefVarError",
     "evalue": "UndefVarError: ln not defined",
     "output_type": "error",
     "traceback": [
      "UndefVarError: ln not defined\n",
      "\n",
      "Stacktrace:\n",
      " [1] top-level scope\n",
      "   @ d:\\projects\\seismic-networks\\seismic-networks-julia-dev\\networks_connectivity_tsallis_selected_plots.ipynb:58"
     ]
    }
   ],
   "source": [
    "set_theme!(Theme(fonts=(; regular=\"CMU Serif\")))\n",
    "fig = Figure(resolution = (700, 600), font= \"CMU Serif\") \n",
    "ax1 = Axis(fig[1, 1], xlabel = L\"k\\,[\\text{connectivity}]\", ylabel = L\"P_k\", xscale=log10, yscale=log10, ylabelsize = 26,\n",
    "    xlabelsize = 22, xgridstyle = :dash, ygridstyle = :dash, xtickalign = 1,\n",
    "    xticksize = 5, ytickalign = 1, yticksize = 5 , xlabelpadding = 10, ylabelpadding = 10,xticklabelsize=22, yticklabelsize=22)\n",
    "\n",
    "########################################## TRUNCATED\n",
    "ax2 = Axis(fig, bbox = BBox(150,400,106,320), xscale=log10, yscale=log10, xgridvisible = false, ygridvisible = false, xtickalign = 1,\n",
    "xticksize = 4, ytickalign = 1, yticksize = 4, xticklabelsize=16, yticklabelsize=16, backgroundcolor=:white)\n",
    "\n",
    "markers=[:utriangle, :diamond, :circle]\n",
    "colors=[:lightblue, :lightgreen, :lightsalmon]\n",
    "line_colors=[:midnightblue, :green, :darkred]\n",
    "\n",
    "sc1 = Array{Any,1}(undef,3)\n",
    "\n",
    "for i in eachindex(cell_sizes)\n",
    "    df, df_cubes = region_cube_split(df,cell_size=cell_sizes[i])\n",
    "    MG = create_network(df, df_cubes)\n",
    "    degrees=[]\n",
    "    for i in 1:nv(MG)\n",
    "        push!(degrees, get_prop(MG, i, :degree))\n",
    "    end\n",
    "\n",
    "    # CCDF \n",
    "    x_ccdf_original_data, y_ccdf_original_data = powlaw.ccdf(degrees)\n",
    "\n",
    "    # TSALLIST FIT\n",
    "    fit_tsallis = pyeval(\"\"\"lambda fit: lambda a, b, c, d: fit(a, b, c, d)\"\"\")\n",
    "    @. tsallis_ccdf(x, α, λ, c) = c*(1+x/λ)^(-α)\n",
    "    popt_tsallis, pcov_tsallis = so.curve_fit(fit_tsallis((x, α, λ, c)->tsallis_ccdf(x, α, λ, c)), x_ccdf_original_data, y_ccdf_original_data, p0=[1,1,1], bounds=(0, Inf), maxfev=5000)\n",
    "\n",
    "    alpha = round(popt_tsallis[1], digits=2)\n",
    "    lambda = round(popt_tsallis[2], digits=2)\n",
    "    c = round(popt_tsallis[3], digits=2)\n",
    "\n",
    "    # Powerlaw Fit\n",
    "    fit = powlaw.Fit(degrees);\n",
    "    gamma = round(fit.alpha, digits=2)\n",
    "    xmin = Int(round(fit.xmin, digits=2))\n",
    "    KS = round(fit.power_law.KS(data=degrees), digits=3)\n",
    "\n",
    "    # CCDF of truncated data (fitted), x and y values\n",
    "    x_ccdf, y_ccdf = fit.ccdf()\n",
    "\n",
    "    # The fit (from theoretical power_law)\n",
    "    fit_power_law = fit.power_law.plot_ccdf()[:lines][1]\n",
    "    x_powlaw, y_powlaw = fit_power_law[:get_xdata](), fit_power_law[:get_ydata]()\n",
    "\n",
    "    ########################################### ALL\n",
    "    # CCDF of all data scattered \n",
    "    x_ccdf_original_data, y_ccdf_original_data = powlaw.ccdf(degrees)\n",
    "\n",
    "    sc1[i] = scatter!(ax1, multiplier[i] .* x_ccdf_original_data, y_ccdf_original_data,\n",
    "        color=(colors[i], 0.7), strokewidth=0.1, marker=markers[i], markersize=13)\n",
    "\n",
    "    # TSALLIST FIT ALL DATA \n",
    "    ln[i] = lines!(ax1, multiplier[i] .* x_ccdf_original_data, tsallis_ccdf(x_ccdf_original_data, alpha, lambda, c), label= L\"\\alpha=%$(alpha),\\, \\lambda=%$(lambda),\\, c=%$(c)\",\n",
    "    color=(line_colors[i], 0.7), strokewidth=0.1)\n",
    "\n",
    "\n",
    "    ########################################### TRUNCATED\n",
    "    # CCDF of truncated data (fitted), the plot, (re-normed)\n",
    "    scatter!(ax2, multiplier[i] .* x_ccdf, y_ccdf,\n",
    "        color=(colors[i], 0.7), strokewidth=0.1, marker=markers[i], markersize=13)\n",
    "\n",
    "    # Fit through truncated data (re-normed)\n",
    "    lines!(ax2, multiplier[i] .* x_powlaw, y_powlaw,\n",
    "            color=line_colors[i], linewidth=2.5) \n",
    "\n",
    "end\n",
    "\n",
    "\n",
    "text!(ax2, \"only fitted data\\nCCDFs\", space = :relative, position = Point2f(0.03, 0.03))\n",
    "\n",
    "translate!(ax2.elements[:background], 0, 0, 9)\n",
    "translate!(ax2.scene, 0, 0, 10)\n",
    "\n",
    "\n",
    "# Top right, cell size legend\n",
    "axislegend(ax1, [sc1[i] for i in eachindex(cell_sizes)], [L\"L=%$(cell_sizes[i])\" for i in eachindex(cell_sizes)], position = :rt, bgcolor = (:grey90, 0.25), labelsize=16);\n",
    "# Bottom left, results legend\n",
    "axislegend(ax1, position = :rb, bgcolor = (:grey90, 0.25), labelsize=16);\n",
    "\n",
    "\n",
    "\n",
    "if region == \"romania\"\n",
    "    text!(ax1, \"Romania\", space = :relative, position = Point2f(0.84, 0.75), fontsize=22)\n",
    "    ylims!(ax1, 10^(-5.5), 1.5)\n",
    "    ax1.xticks = ([10^(0),10^(1),10^(2),10^(3)],[\"1\", L\"10^{1}\", L\"10^{2}\", L\"10^{3}\"])\n",
    "    ax1.yticks = ([10^(-4), 10^(-3), 10^(-2), 10^(-1), 1 ],[L\"10^{-4}\", L\"10^{-3}\", L\"10^{-2}\", L\"10^{-1}\", \"1\"])\n",
    "\n",
    "    ax2.xticks = ([10^(2), 10^(3)], [L\"10^{2}\", L\"10^{3}\"])\n",
    "    ax2.yticks = ([10^(-3), 10^(-2), 10^(-1), 1 ], [L\"10^{-3}\", L\"10^{-2}\", L\"10^{-1}\", L\"1\"])\n",
    "\n",
    "    # multipliers text\n",
    "    text!(ax1, L\"\\times %$(multiplier[1])\", space = :relative, position = Point2f(0.32, 0.6), fontsize=16)\n",
    "    text!(ax1, L\"\\times %$(multiplier[3])\", space = :relative, position = Point2f(0.6, 0.7), fontsize=16)\n",
    "    \n",
    "    text!(ax2, L\"\\times %$(multiplier[1])\", space = :relative, position = Point2f(0.13, 0.5), fontsize=16)\n",
    "    text!(ax2, L\"\\times %$(multiplier[3])\", space = :relative, position = Point2f(0.57, 0.75), fontsize=16)\n",
    "elseif region == \"california\"\n",
    "    text!(ax1, \"California\", space = :relative, position = Point2f(0.825, 0.75), fontsize=22)\n",
    "    ylims!(ax1, 10^(-7), 1.5)\n",
    "    ax1.xticks = ([10^(0),10^(1),10^(2),10^(3),10^(4)],[\"1\", L\"10^{1}\", L\"10^{2}\", L\"10^{3}\", L\"10^{4}\"])\n",
    "    ax1.yticks = ([10^(-5), 10^(-4), 10^(-3), 10^(-2), 10^(-1), 1 ],[L\"10^{-5}\", L\"10^{-4}\", L\"10^{-3}\", L\"10^{-2}\", L\"10^{-1}\", \"1\"])\n",
    "\n",
    "    ax2.xticks = ([10^(2), 10^(3),10^(4)], [L\"10^{2}\", L\"10^{3}\", L\"10^{4}\"])\n",
    "    ax2.yticks = ([10^(-3), 10^(-2), 10^(-1), 1 ], [L\"10^{-3}\", L\"10^{-2}\", L\"10^{-1}\", L\"1\"])\n",
    "\n",
    "    # multipliers text\n",
    "    text!(ax1, L\"\\times %$(multiplier[1])\", space = :relative, position = Point2f(0.43, 0.6), fontsize=16)\n",
    "    text!(ax1, L\"\\times %$(multiplier[3])\", space = :relative, position = Point2f(0.63, 0.75), fontsize=16)\n",
    "    \n",
    "    text!(ax2, L\"\\times %$(multiplier[1])\", space = :relative, position = Point2f(0.15, 0.5), fontsize=16)\n",
    "    text!(ax2, L\"\\times %$(multiplier[3])\", space = :relative, position = Point2f(0.57, 0.75), fontsize=16)\n",
    "elseif region == \"italy\"\n",
    "    text!(ax1, \"Italy\", space = :relative, position = Point2f(0.87, 0.75), fontsize=22)\n",
    "    ylims!(ax1, 10^(-6), 1.5)\n",
    "    ax1.xticks = ([10^(0),10^(1),10^(2),10^(3),10^(4)],[\"1\", L\"10^{1}\", L\"10^{2}\", L\"10^{3}\", L\"10^{4}\"])\n",
    "    ax1.yticks = ([10^(-4), 10^(-3), 10^(-2), 10^(-1), 1 ],[L\"10^{-4}\", L\"10^{-3}\", L\"10^{-2}\", L\"10^{-1}\", \"1\"])\n",
    "\n",
    "    ax2.xticks = ([10^(1), 10^(2), 10^(3),10^(4)], [L\"10^{1}\", L\"10^{2}\", L\"10^{3}\", L\"10^{4}\"])\n",
    "    ax2.yticks = ([10^(-3), 10^(-2), 10^(-1), 1 ], [L\"10^{-3}\", L\"10^{-2}\", L\"10^{-1}\", L\"1\"])\n",
    "\n",
    "    # multipliers text\n",
    "    text!(ax1, L\"\\times %$(multiplier[1])\", space = :relative, position = Point2f(0.17, 0.75), fontsize=16)\n",
    "    text!(ax1, L\"\\times %$(multiplier[3])\", space = :relative, position = Point2f(0.52, 0.75), fontsize=16)\n",
    "    \n",
    "    text!(ax2, L\"\\times %$(multiplier[1])\", space = :relative, position = Point2f(0.12, 0.65), fontsize=16)\n",
    "    text!(ax2, L\"\\times %$(multiplier[3])\", space = :relative, position = Point2f(0.6, 0.75), fontsize=16)\n",
    "elseif region == \"japan\"\n",
    "    text!(ax1, \"Japan\", space = :relative, position = Point2f(0.865, 0.75), fontsize=22)\n",
    "    ylims!(ax1, 10^(-7.5), 1.5)\n",
    "    ax1.xticks = ([10^(0), 10^(1), 10^(2), 10^(3), 10^(4)],[\"1\", L\"10^{1}\", L\"10^{2}\", L\"10^{3}\", L\"10^{4}\"])\n",
    "    ax1.yticks = ([10^(-6), 10^(-5), 10^(-4), 10^(-3), 10^(-2), 10^(-1), 1 ],[L\"10^{-6}\", L\"10^{-5}\", L\"10^{-4}\", L\"10^{-3}\", L\"10^{-2}\", L\"10^{-1}\", \"1\"])\n",
    "\n",
    "    ax2.xticks = ([10^(1), 10^(2), 10^(3), 10^(4), 10^(5)], [L\"10^{1}\", L\"10^{2}\", L\"10^{3}\", L\"10^{4}\", L\"10^{5}\"])\n",
    "    ax2.yticks = ([10^(-4), 10^(-3), 10^(-2), 10^(-1), 1 ], [L\"10^{-3}\", L\"10^{-3}\", L\"10^{-2}\", L\"10^{-1}\", L\"1\"])\n",
    "\n",
    "    # multipliers text\n",
    "    text!(ax1, L\"\\times %$(multiplier[1])\", space = :relative, position = Point2f(0.18, 0.75), fontsize=16)\n",
    "    text!(ax1, L\"\\times %$(multiplier[3])\", space = :relative, position = Point2f(0.5, 0.8), fontsize=16)\n",
    "    \n",
    "    text!(ax2, L\"\\times %$(multiplier[1])\", space = :relative, position = Point2f(0.1, 0.65), fontsize=16)\n",
    "    text!(ax2, L\"\\times %$(multiplier[3])\", space = :relative, position = Point2f(0.6, 0.75), fontsize=16)\n",
    "end\n",
    "\n",
    "\n",
    "\n",
    "\n",
    "# Save plot\n",
    "save( \"./results/$region/tsallis_$(region)_best_fits_all_data.png\", fig, px_per_unit=5)\n",
    "# save( \"./results/$region/tsallis_$(region)_best_fits_all_data.pdf\", fig)\n",
    "fig\n"
   ]
  },
  {
   "cell_type": "code",
   "execution_count": null,
   "metadata": {},
   "outputs": [],
   "source": []
  }
 ],
 "metadata": {
  "kernelspec": {
   "display_name": "Julia 1.8.5",
   "language": "julia",
   "name": "julia-1.8"
  },
  "language_info": {
   "file_extension": ".jl",
   "mimetype": "application/julia",
   "name": "julia",
   "version": "1.8.5"
  },
  "orig_nbformat": 4
 },
 "nbformat": 4,
 "nbformat_minor": 2
}
